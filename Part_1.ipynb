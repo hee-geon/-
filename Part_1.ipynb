{
  "cells": [
    {
      "cell_type": "markdown",
      "metadata": {
        "id": "EmXwtSiR9QgH"
      },
      "source": [
        "# 파이썬 소개\n",
        "\n",
        "*   **프로그래밍 (programming)**: 우리가 해결해야 할 문제를 컴퓨터가 처리할 수 있도록 문제해결 절차를 체계적으로 서술하는 과정.\n",
        "*   **프로그래밍 언어 (programming language)**: 컴퓨터가 어떤 작업을 수행하기 위한 프로그램을 작성하는 데 사용하는 언어.\n",
        "\n",
        "![프로그래밍_image](https://github.com/UOS-Bigdata/lab_fire_seoul/blob/main/images/programming.png?raw=true)\n",
        "\n",
        "파이썬은 범용 프로그래밍 언어로서 다음과 같은 중요한 특징이 있습니다.\n",
        "\n",
        "**1. 파이썬은 인터프리터(interpreter) 언어입니다.**\n",
        "\n",
        "인터프리터는 말 그대로 해석하면 통역사, 연주자란 의미입니다. 이 의미에 따라서 설명하면 인터프리터는 인간의 언어를 컴퓨터에 번역하여 전달해서 곧바로 반응을 얻을 수 있다는 뜻입니다. 내가 편한 언어로 말하면 통역사가 알아서 번역하고 전달해서 상대방의 반응을 나의 언어로 곧바로 전달해 줍니다. 따라서 인터프리터는 사용하기 편한 언어란 의미입니다.\n",
        "\n",
        "인터프리터가 아닌 언어(에를 들어 FORTRAN 이나 C 언어)들은 결과를 얻기 위해서 사용자가 몇 가지 절차(컴파일과 링크 단계)를 따로 수행해주어야 하는 방식이라서 사용하기 쉽지 않습니다.\n",
        "\n",
        "**2. 파이썬 언어는 대화형으로 사용할 수 있습니다.**\n",
        "\n",
        "파이썬 언어는 대화형 방식으로 사용할 수 있습니다. 즉, 하나의 명령어를 입력하고 그 결과를 얻는 작업을 반복해서 사용할 수 있습니다. 다른 범용 언어들 중에는 대화형 방식을 사용할 수 없고 일련의 명령어들을 묶음으로 모아서 컴퓨터에 전달하는 방식으로만 사용할 수 있습니다. 대화형 방식은 여러분이 휴대용 계산기를 이용하는 방식과 유사하다고 할 수 있습니다. 하지만 대화형 방식이 여러분이 사용하는 문서편집기나 웹브라우저와 같이 메뉴와 버튼 방식은 아닙니다.\n",
        "\n",
        "**3. 파이썬 언어를 가장 쉽게 사용할 수 있는 방법은 주피터 노트북(jupyter notebook)을 사용하는 방법입니다.**\n",
        "\n",
        "앞에서 말한 것과 같이 파이썬 언어는 메뉴와 버튼 방식을 이용하는 GUI(Graphical User Interface) 방식이 아니기 때문에 터미널(terminal) 환경에서 사용할 수 있습니다. 하지만 터미널 환경에서 사용하는 방법보다 훨씬 쉽고 간편하게 파이썬을 사용할 수 있는 방법이 주피터 노트북을 이용하는 것입니다.\n",
        "\n",
        "주피터 노트북을 이용하는 방법은 다양하지만 이 과목에서는 `Google` 에서 제공하는 [colab](https://colab.research.google.com/notebooks/intro.ipynb?utm_source=scs-index) 을 이용할 것입니다. `colab`에 대한 소개는 [여기](https://www.youtube.com/watch?v=inN8seMm7UI&t=62s)에서 볼 수 있습니다.\n",
        "\n",
        "\n",
        "\n"
      ]
    },
    {
      "cell_type": "markdown",
      "metadata": {
        "id": "6z5aryoP3UP9"
      },
      "source": [
        "# 파이썬 표현식의 기초\n",
        "\n",
        "## 표현식\n",
        "\n",
        "- 파이썬 환경에서 표현식(expression)을 사용하는 것은 여러분이 휴대용 계산기를 사용하는 것과 매우 유사합니다. 파이썬 언어를 포함하는 프로그래밍 언어는 인간의 언어보다 휠씬 단순합니다.\n",
        "\n",
        "- 파이썬 언어도 인간의 언어와 같이 정해진 문법이 있는데 표현식은 주어진 자료들를 어떻게 처리할 것인지 컴퓨터에게 전달하는 문장입니다. 프로그래밍 언어의 문장도 인간의 언어와 같이 정해진 규칙, 즉 문법에 맞추어 써야합니다.\n",
        "\n",
        "- 예를 들어 `1 + 2` 은 수학적인 연산을 나타내는 표현식이며 이는 1에 2을 더해서 결과를 계산해 달라는 문장입니다.\n",
        "\n",
        "- 만약 `1 + * 2` 라는 표현식을 사용하면 오류가 날 것입니다. 프로그래밍 언어의 표현식은 인간이 사용하는 언어와 유사한 문법을 사용하게 설계되었기 때문에 대부분의 경우 인간이 이해를 못하면 컴퓨터도 이해를 할 수 없습니다."
      ]
    },
    {
      "cell_type": "markdown",
      "metadata": {
        "id": "mEBLvhqU3o6V"
      },
      "source": [
        "## 수학 연산\n",
        "- 숫자를 이용하는 다양한 연산을 수행하는 표현식을 사용해 보자.\n",
        "- 숫자 1을 입력하면 1을 출력해 준다."
      ]
    },
    {
      "cell_type": "code",
      "execution_count": null,
      "metadata": {
        "colab": {
          "base_uri": "https://localhost:8080/"
        },
        "id": "5ysB8aln3uDd",
        "outputId": "1df37e04-2051-428f-97e4-db4f736a993e"
      },
      "outputs": [
        {
          "output_type": "execute_result",
          "data": {
            "text/plain": [
              "1"
            ]
          },
          "metadata": {},
          "execution_count": 1
        }
      ],
      "source": [
        "1"
      ]
    },
    {
      "cell_type": "markdown",
      "metadata": {
        "id": "-R_vCMlw3u2d"
      },
      "source": [
        "- 사칙 연산은 표현식을 입력하면 연산 후 결과를 보여 준다.\n",
        "\n",
        "- 앞에서 언급했듯이 파이썬은 수식, 즉 표현식을 입력하면 결과를 보여주는 인터프리터 언어이며 대화형 방식으로 사용할 수 있다."
      ]
    },
    {
      "cell_type": "code",
      "execution_count": null,
      "metadata": {
        "colab": {
          "base_uri": "https://localhost:8080/"
        },
        "id": "iXxQGa4m32A1",
        "outputId": "6d0440a9-810e-4d69-e759-a83251128918"
      },
      "outputs": [
        {
          "output_type": "execute_result",
          "data": {
            "text/plain": [
              "4"
            ]
          },
          "metadata": {},
          "execution_count": 2
        }
      ],
      "source": [
        "2+2"
      ]
    },
    {
      "cell_type": "code",
      "execution_count": null,
      "metadata": {
        "colab": {
          "base_uri": "https://localhost:8080/"
        },
        "id": "rXbeEFJF32xF",
        "outputId": "1d511c1f-c66b-4504-94fe-7531301a1b70"
      },
      "outputs": [
        {
          "output_type": "execute_result",
          "data": {
            "text/plain": [
              "-3"
            ]
          },
          "metadata": {},
          "execution_count": 3
        }
      ],
      "source": [
        "2-5"
      ]
    },
    {
      "cell_type": "code",
      "execution_count": null,
      "metadata": {
        "colab": {
          "base_uri": "https://localhost:8080/"
        },
        "id": "WKaN05do33hl",
        "outputId": "9d25980b-4621-4267-ec2f-9964be3f3013"
      },
      "outputs": [
        {
          "output_type": "execute_result",
          "data": {
            "text/plain": [
              "6"
            ]
          },
          "metadata": {},
          "execution_count": 4
        }
      ],
      "source": [
        "2*3"
      ]
    },
    {
      "cell_type": "code",
      "execution_count": null,
      "metadata": {
        "colab": {
          "base_uri": "https://localhost:8080/"
        },
        "id": "w13RLJv934QN",
        "outputId": "7c2d4034-58ef-4ac5-8dca-1d5a0deaee61"
      },
      "outputs": [
        {
          "output_type": "execute_result",
          "data": {
            "text/plain": [
              "2.5"
            ]
          },
          "metadata": {},
          "execution_count": 5
        }
      ],
      "source": [
        "5/2"
      ]
    },
    {
      "cell_type": "markdown",
      "metadata": {
        "id": "6mWk0Czs36sV"
      },
      "source": [
        "- 파이썬은 사칙연산 뿐 아니라 제곱, 나눗셈을 할 때 몫(나머지) 등을 구할 수 있는 여러 가지 다양한 표현식이 가능하다.\n",
        "- 아래는 숫자를 이용하는 표현식에 사용할 수 있는 연산자(operator)들이다.\n",
        "\n",
        "연산자 | 의미 | 예시 | 값\n",
        "--|--|--|--\n",
        "$+$ | 덧셈 | 2+3 | 5\n",
        "$-$| 뺄셈 | 2-1 | 1\n",
        "$*$| 곱셈 |  2*3 | 5\n",
        "$/$| 나눗셈 | 7/3 | 2.66667\n",
        "$\\%$  | 나머지 | 7%3 | 1\n",
        "$//$ | 몫 | 10//3 | 3\n",
        "$**$ | 제곱 | 3**4 | 81"
      ]
    },
    {
      "cell_type": "code",
      "execution_count": null,
      "metadata": {
        "colab": {
          "base_uri": "https://localhost:8080/"
        },
        "id": "GELUjCdr37Y9",
        "outputId": "7671376a-d13f-4b00-822c-c81d44c23144"
      },
      "outputs": [
        {
          "output_type": "execute_result",
          "data": {
            "text/plain": [
              "3"
            ]
          },
          "metadata": {},
          "execution_count": 6
        }
      ],
      "source": [
        "10//3"
      ]
    },
    {
      "cell_type": "code",
      "execution_count": null,
      "metadata": {
        "colab": {
          "base_uri": "https://localhost:8080/"
        },
        "id": "9MVIhEPk389-",
        "outputId": "f02fe439-b251-45b7-9635-73b699e9ce27"
      },
      "outputs": [
        {
          "output_type": "execute_result",
          "data": {
            "text/plain": [
              "8"
            ]
          },
          "metadata": {},
          "execution_count": 7
        }
      ],
      "source": [
        "2**3"
      ]
    },
    {
      "cell_type": "markdown",
      "metadata": {
        "id": "M9agu771397F"
      },
      "source": [
        "- 여러 개의 연산자가 나오는 경우, 연산 순서는 수학에서의 연산 순서와 같다."
      ]
    },
    {
      "cell_type": "code",
      "execution_count": null,
      "metadata": {
        "colab": {
          "base_uri": "https://localhost:8080/"
        },
        "id": "JyxL4fsi4AHt",
        "outputId": "e1fec1e0-af2e-44d7-f7d0-44bb7ccfd5cb"
      },
      "outputs": [
        {
          "output_type": "execute_result",
          "data": {
            "text/plain": [
              "7"
            ]
          },
          "metadata": {},
          "execution_count": 8
        }
      ],
      "source": [
        "3+2*2"
      ]
    },
    {
      "cell_type": "markdown",
      "metadata": {
        "id": "-kAqoIzz4CPl"
      },
      "source": [
        "- 괄호를 사용하여 연산의 순서를 조정할 수 있다."
      ]
    },
    {
      "cell_type": "code",
      "execution_count": null,
      "metadata": {
        "colab": {
          "base_uri": "https://localhost:8080/"
        },
        "id": "4nHa_cwU4DOF",
        "outputId": "71d075db-e2df-4043-f7b9-49b597185005"
      },
      "outputs": [
        {
          "output_type": "execute_result",
          "data": {
            "text/plain": [
              "10"
            ]
          },
          "metadata": {},
          "execution_count": 9
        }
      ],
      "source": [
        "(3 + 2) * 2"
      ]
    },
    {
      "cell_type": "markdown",
      "metadata": {
        "id": "Klrrib-p4Gkd"
      },
      "source": [
        "- 문법에 따르지 않은 잘못된 표현식을 사용하면 파이썬은 오류 메세지(error message)를 출력한다."
      ]
    },
    {
      "cell_type": "code",
      "execution_count": null,
      "metadata": {
        "colab": {
          "base_uri": "https://localhost:8080/",
          "height": 110
        },
        "id": "-O6GN_I_4H3u",
        "outputId": "690a2e58-20a0-4e13-d1f1-15c0d965a3f1"
      },
      "outputs": [
        {
          "output_type": "error",
          "ename": "SyntaxError",
          "evalue": "invalid syntax (<ipython-input-10-11310822abdb>, line 1)",
          "traceback": [
            "\u001b[0;36m  File \u001b[0;32m\"<ipython-input-10-11310822abdb>\"\u001b[0;36m, line \u001b[0;32m1\u001b[0m\n\u001b[0;31m    1+*2\u001b[0m\n\u001b[0m      ^\u001b[0m\n\u001b[0;31mSyntaxError\u001b[0m\u001b[0;31m:\u001b[0m invalid syntax\n"
          ]
        }
      ],
      "source": [
        "1+*2"
      ]
    },
    {
      "cell_type": "markdown",
      "metadata": {
        "id": "ux7CXvbl4L8t"
      },
      "source": [
        "## 비교연산자와 논리연산자\n",
        "- 숫자들의 크기를 비교하는 표현식을 실행하면 참(`True`)과 거짓(`False`)이 생성된다. 이 두개의 값을 `boolean value` 또는 `진리값`이라 부른다.\n",
        "\n",
        "- 여기서 유의할 점은 `True` 와 `False` 는 참과 거짓을 나타내는 미리 지정된 값로서 다른 용도로 사용할 수 없다\n",
        "\n",
        "- 비교연산자는  `<`, `<=`, `>`, `>=`, `!=`, `==` 가 있다."
      ]
    },
    {
      "cell_type": "code",
      "execution_count": null,
      "metadata": {
        "colab": {
          "base_uri": "https://localhost:8080/"
        },
        "id": "1wIKoeVC4Pnm",
        "outputId": "9d0ff28d-ed7f-42c6-f2c3-8479496bb16d"
      },
      "outputs": [
        {
          "output_type": "execute_result",
          "data": {
            "text/plain": [
              "True"
            ]
          },
          "metadata": {},
          "execution_count": 11
        }
      ],
      "source": [
        "1 < 2"
      ]
    },
    {
      "cell_type": "code",
      "execution_count": null,
      "metadata": {
        "colab": {
          "base_uri": "https://localhost:8080/"
        },
        "id": "R_BvRH_H4Rg-",
        "outputId": "c7e8f065-e6bd-4459-c9d9-265a0eb18920"
      },
      "outputs": [
        {
          "output_type": "execute_result",
          "data": {
            "text/plain": [
              "True"
            ]
          },
          "metadata": {},
          "execution_count": 12
        }
      ],
      "source": [
        "1 >= 1"
      ]
    },
    {
      "cell_type": "code",
      "execution_count": null,
      "metadata": {
        "colab": {
          "base_uri": "https://localhost:8080/"
        },
        "id": "74Z9Wy4w4SyW",
        "outputId": "e69ff43d-7e99-44b8-aec8-8bd58105e1cb"
      },
      "outputs": [
        {
          "output_type": "execute_result",
          "data": {
            "text/plain": [
              "False"
            ]
          },
          "metadata": {},
          "execution_count": 13
        }
      ],
      "source": [
        "3 == 2"
      ]
    },
    {
      "cell_type": "code",
      "execution_count": null,
      "metadata": {
        "colab": {
          "base_uri": "https://localhost:8080/"
        },
        "id": "rKXFsc044YoW",
        "outputId": "11f57e85-e52f-4ec6-c343-25e3f4e44d7b"
      },
      "outputs": [
        {
          "output_type": "execute_result",
          "data": {
            "text/plain": [
              "False"
            ]
          },
          "metadata": {},
          "execution_count": 14
        }
      ],
      "source": [
        "3 != 3"
      ]
    },
    {
      "cell_type": "code",
      "execution_count": null,
      "metadata": {
        "colab": {
          "base_uri": "https://localhost:8080/",
          "height": 110
        },
        "id": "LjJtwMCK4bFe",
        "outputId": "762cc4cf-8648-4c5a-85c7-df2c1af6ee9b"
      },
      "outputs": [
        {
          "output_type": "error",
          "ename": "SyntaxError",
          "evalue": "cannot assign to True (<ipython-input-15-cc0f27f3a6b4>, line 1)",
          "traceback": [
            "\u001b[0;36m  File \u001b[0;32m\"<ipython-input-15-cc0f27f3a6b4>\"\u001b[0;36m, line \u001b[0;32m1\u001b[0m\n\u001b[0;31m    True = 123\u001b[0m\n\u001b[0m    ^\u001b[0m\n\u001b[0;31mSyntaxError\u001b[0m\u001b[0;31m:\u001b[0m cannot assign to True\n"
          ]
        }
      ],
      "source": [
        "True = 123"
      ]
    },
    {
      "cell_type": "markdown",
      "metadata": {
        "id": "GY5PoRIH4fiG"
      },
      "source": [
        "- 논리연산자는 `and`, `or`, `not` 으로 구성되어 있으며 논리식을 표현하며, 사칙연산과 같이 기본 연산함수이다.\n",
        "- 그러므로, 연산 이외에 다른 곳에 사용하지 못한다.\n",
        "- 예를 들어 논리 연산자는 뒤에 배울 변수의 이름으로 사용할 수 없다."
      ]
    },
    {
      "cell_type": "code",
      "execution_count": null,
      "metadata": {
        "colab": {
          "base_uri": "https://localhost:8080/"
        },
        "id": "3fe7hs-p4wIu",
        "outputId": "b4a0e8af-8c0f-4bf2-b5fe-121cf2124fd4"
      },
      "outputs": [
        {
          "output_type": "execute_result",
          "data": {
            "text/plain": [
              "True"
            ]
          },
          "metadata": {},
          "execution_count": 16
        }
      ],
      "source": [
        "1 < 2 or 3 <= 1"
      ]
    },
    {
      "cell_type": "code",
      "execution_count": null,
      "metadata": {
        "colab": {
          "base_uri": "https://localhost:8080/"
        },
        "id": "oHZkrjRI4xBg",
        "outputId": "9511ffc2-d3f5-4e8f-93ae-3ddde2ecbb66"
      },
      "outputs": [
        {
          "output_type": "execute_result",
          "data": {
            "text/plain": [
              "False"
            ]
          },
          "metadata": {},
          "execution_count": 17
        }
      ],
      "source": [
        "1 < 2 and 3 <= 1"
      ]
    },
    {
      "cell_type": "code",
      "execution_count": null,
      "metadata": {
        "colab": {
          "base_uri": "https://localhost:8080/"
        },
        "id": "4roPNfW74xxe",
        "outputId": "cad795d7-5606-4f17-97ce-b33e88c77aa4"
      },
      "outputs": [
        {
          "output_type": "execute_result",
          "data": {
            "text/plain": [
              "False"
            ]
          },
          "metadata": {},
          "execution_count": 18
        }
      ],
      "source": [
        "not 1 < 2"
      ]
    },
    {
      "cell_type": "markdown",
      "metadata": {
        "id": "zVWTOrmA4z79"
      },
      "source": [
        "## 변수\n",
        "- 요리를 할 때 그릇을 준비하고 요리한 음식을 담는다. 그릇에 담는 음식은 여러분의 취향에 따라서 바뀔 수 있다. 프로그래밍 언어에서 변수는 자료를 담는 그릇이다.\n",
        "\n",
        "- 변수는 연산자 `=` 을 사용하여 선언할 수 있다. 연산자 `=`의 오른쪽에는 변수에 저장할 자료 또는 표현식이 나타난다. 표현식에는 앞에서 정의된 변수가 사용될 수 있다.\n",
        "\n",
        "- 참고로 파이썬에서는 **변수(variable)** 를 **이름(name)** 이라고 부른다."
      ]
    },
    {
      "cell_type": "code",
      "execution_count": null,
      "metadata": {
        "colab": {
          "base_uri": "https://localhost:8080/"
        },
        "id": "XGHGWVdw421V",
        "outputId": "6181fda8-17c9-41d9-f383-5d247950eabf"
      },
      "outputs": [
        {
          "output_type": "execute_result",
          "data": {
            "text/plain": [
              "100"
            ]
          },
          "metadata": {},
          "execution_count": 19
        }
      ],
      "source": [
        "a = 100\n",
        "a"
      ]
    },
    {
      "cell_type": "code",
      "execution_count": null,
      "metadata": {
        "colab": {
          "base_uri": "https://localhost:8080/"
        },
        "id": "1y70k4be43l2",
        "outputId": "e25007bf-616d-44dd-e573-13aa64b91fd7"
      },
      "outputs": [
        {
          "output_type": "execute_result",
          "data": {
            "text/plain": [
              "600"
            ]
          },
          "metadata": {},
          "execution_count": 20
        }
      ],
      "source": [
        "b = 200 + 300\n",
        "a + b"
      ]
    },
    {
      "cell_type": "markdown",
      "metadata": {
        "id": "2OD7Kesa44NO"
      },
      "source": [
        "- 그릇에 다른 음식을 담듯이, 변수에 저장된 자료를 바꿀 수 있다."
      ]
    },
    {
      "cell_type": "code",
      "execution_count": null,
      "metadata": {
        "colab": {
          "base_uri": "https://localhost:8080/"
        },
        "id": "jf7Dvt7J5IN2",
        "outputId": "76d6f3b5-83b9-4c20-fc8d-ecc0c5d39e2f"
      },
      "outputs": [
        {
          "output_type": "execute_result",
          "data": {
            "text/plain": [
              "-200"
            ]
          },
          "metadata": {},
          "execution_count": 21
        }
      ],
      "source": [
        "a = -200\n",
        "a"
      ]
    },
    {
      "cell_type": "markdown",
      "metadata": {
        "id": "TKZa7oxi5KXW"
      },
      "source": [
        "- 변수를 사용하는 이유는 작업을 수행할 때 특정한 자료에 대한 처리를 편리하고 이해하기 쉽게 하기 위해서이다.\n",
        "\n",
        "- 예를 들어 아르바이트 직원의 월급을 계산하는 일반적인 작업을 고려헤 보자. 먼저 시간당 임금(`hour_rate`)이 정해지고 다음에 일간 근로 시간(`day_working_hours`), 근로 일수(`month_working_days`)가 나오면 세 값을 곱하여 월급이 정해진다.\n",
        "\n",
        "- 아르바이트 직원마다 시간당 임금, 월간 근로 일수와 시간이 달라지기 떄문에 월급이 수시로 변하지만 월급을 계산하는 작업의 절차는 동일하다.\n",
        "\n",
        "- 다음은 시급이 만원이고, 4시간씩 20일을 일한 사람의 월급을 계산하는 방법이다."
      ]
    },
    {
      "cell_type": "code",
      "execution_count": null,
      "metadata": {
        "colab": {
          "base_uri": "https://localhost:8080/"
        },
        "id": "iaU3sYqp5Lru",
        "outputId": "bbae014a-75b4-4eed-ec0f-b8d8163d07b3"
      },
      "outputs": [
        {
          "output_type": "execute_result",
          "data": {
            "text/plain": [
              "800000"
            ]
          },
          "metadata": {},
          "execution_count": 23
        }
      ],
      "source": [
        "hour_rate = 10000\n",
        "day_working_hours = 4\n",
        "month_working_days = 20\n",
        "month_pay = hour_rate * month_working_days * day_working_hours\n",
        "month_pay"
      ]
    },
    {
      "cell_type": "markdown",
      "metadata": {
        "id": "1X7bQmg35M2e"
      },
      "source": [
        "\n",
        "- 다음은 시급이 11000이고, 5시간씩 15일을 일한 사람의 월급을 계산하는 코드이다."
      ]
    },
    {
      "cell_type": "code",
      "execution_count": null,
      "metadata": {
        "colab": {
          "base_uri": "https://localhost:8080/"
        },
        "id": "YLNHcuHk5OA2",
        "outputId": "9f9e3606-dcb4-493d-cac0-862622f1dc2e"
      },
      "outputs": [
        {
          "output_type": "execute_result",
          "data": {
            "text/plain": [
              "825000"
            ]
          },
          "metadata": {},
          "execution_count": 24
        }
      ],
      "source": [
        "hour_rate = 11000\n",
        "day_working_hours = 5\n",
        "month_working_days = 15\n",
        "month_pay = hour_rate * month_working_days * day_working_hours\n",
        "month_pay"
      ]
    },
    {
      "cell_type": "markdown",
      "metadata": {
        "id": "CHujlFPz5Qud"
      },
      "source": [
        "- 변수의 이름을 정할 때는 다음과 같은 규칙을 따른다.\n",
        "  1. 대, 소문자를 구분한다(`myvar` 과 `myVar` 은 다른 변수)\n",
        "  2. 숫자, 언더바(`_`)를 포함할 수 있다. 하지만 숫자로 시작하면 안 된다.\n",
        "\n",
        "- 파이썬의 변수에 저장할 수 있는 것은 숫자뿐만 아니라 문자도 저장할 수 있다.\n",
        "\n",
        "- 문자열의 정의는 아래와 같이 ' ' 와 \" \" 로 모두 정의할 수 있다.\n"
      ]
    },
    {
      "cell_type": "code",
      "execution_count": null,
      "metadata": {
        "colab": {
          "base_uri": "https://localhost:8080/",
          "height": 35
        },
        "id": "tBfELSo55TXO",
        "outputId": "6b34b36c-fc28-44b1-8549-15b6a4e9e7f9"
      },
      "outputs": [
        {
          "output_type": "execute_result",
          "data": {
            "text/plain": [
              "'John Doe'"
            ],
            "application/vnd.google.colaboratory.intrinsic+json": {
              "type": "string"
            }
          },
          "metadata": {},
          "execution_count": 25
        }
      ],
      "source": [
        "name_1 = 'John Doe'\n",
        "name_1"
      ]
    },
    {
      "cell_type": "markdown",
      "metadata": {
        "id": "Gq4xMcL65jR2"
      },
      "source": [
        "## 라이브러리와 함수\n",
        "- 함수(function)는 특정 작업을 하나의 변수처럼 사용할 수 있도록 이미 생성되어 있거나, 생성할 수 있는 것을 의미한다.\n",
        "\n",
        "- 여러분이 수학시간에 배운 기본적인 수학 함수도 파이썬에서 사용할 수 있다. 다른 프로그램이나 계산기에서 흔히 사용되는  사인함수 `sin()` 을 실행해 보자."
      ]
    },
    {
      "cell_type": "code",
      "execution_count": null,
      "metadata": {
        "colab": {
          "base_uri": "https://localhost:8080/",
          "height": 147
        },
        "id": "3Tvmv4435m0m",
        "outputId": "c6400f49-8d74-4d54-9852-ff35f345c783"
      },
      "outputs": [
        {
          "output_type": "error",
          "ename": "NameError",
          "evalue": "name 'sin' is not defined",
          "traceback": [
            "\u001b[0;31m---------------------------------------------------------------------------\u001b[0m",
            "\u001b[0;31mNameError\u001b[0m                                 Traceback (most recent call last)",
            "\u001b[0;32m<ipython-input-26-ce9fefd90f64>\u001b[0m in \u001b[0;36m<cell line: 1>\u001b[0;34m()\u001b[0m\n\u001b[0;32m----> 1\u001b[0;31m \u001b[0msin\u001b[0m\u001b[0;34m(\u001b[0m\u001b[0;36m2\u001b[0m\u001b[0;34m)\u001b[0m\u001b[0;34m\u001b[0m\u001b[0;34m\u001b[0m\u001b[0m\n\u001b[0m",
            "\u001b[0;31mNameError\u001b[0m: name 'sin' is not defined"
          ]
        }
      ],
      "source": [
        "sin(2)"
      ]
    },
    {
      "cell_type": "markdown",
      "metadata": {
        "id": "UBnGGWhx5oMH"
      },
      "source": [
        "- 불행하게도 계산기에서도 쉽게 사용 가능한  사인함수 `sin()`가 정의가 되어 있지 않은 것을 알 수 있다.\n",
        "\n",
        "\n",
        "- 수학 함수를 사용하려면 추가 작업이 필요하다. 필요한 작업은 수학에 관련된 함수들을 모아 놓은 **라이브러리(library)** 를 불러오는 것이다.\n",
        "\n",
        "- 라이브러리는 특정한 주제에 관련된 함수들과 연관된 프로그램을 모아놓은 것이다. 예를 들어 삼각함수나 로그함수와 같은 수학 함수를 사용하기 위해서는\n",
        "수학 라이브러리(`math` library)를 불러와야 한다.\n",
        "\n",
        "- **특정한 라이브러리를 불러오는 명령어는 `import`를 사용한다.**"
      ]
    },
    {
      "cell_type": "code",
      "execution_count": null,
      "metadata": {
        "id": "iC94QpU85qg_"
      },
      "outputs": [],
      "source": [
        "import math"
      ]
    },
    {
      "cell_type": "markdown",
      "metadata": {
        "id": "tRg6LcsS5rtm"
      },
      "source": [
        "- 위와 같이 `math` 라이브러리를 불러오면 이제 사인함수 `sin()` 을 사용할 수 있을까?"
      ]
    },
    {
      "cell_type": "code",
      "execution_count": null,
      "metadata": {
        "colab": {
          "base_uri": "https://localhost:8080/",
          "height": 147
        },
        "id": "ZFN_xrBe5uIA",
        "outputId": "05365fb5-7a27-44a1-dd71-d38e50487090"
      },
      "outputs": [
        {
          "output_type": "error",
          "ename": "NameError",
          "evalue": "name 'sin' is not defined",
          "traceback": [
            "\u001b[0;31m---------------------------------------------------------------------------\u001b[0m",
            "\u001b[0;31mNameError\u001b[0m                                 Traceback (most recent call last)",
            "\u001b[0;32m<ipython-input-28-ce9fefd90f64>\u001b[0m in \u001b[0;36m<cell line: 1>\u001b[0;34m()\u001b[0m\n\u001b[0;32m----> 1\u001b[0;31m \u001b[0msin\u001b[0m\u001b[0;34m(\u001b[0m\u001b[0;36m2\u001b[0m\u001b[0;34m)\u001b[0m\u001b[0;34m\u001b[0m\u001b[0;34m\u001b[0m\u001b[0m\n\u001b[0m",
            "\u001b[0;31mNameError\u001b[0m: name 'sin' is not defined"
          ]
        }
      ],
      "source": [
        "sin(2)"
      ]
    },
    {
      "cell_type": "markdown",
      "metadata": {
        "id": "H1vCg7oP5veO"
      },
      "source": [
        "- 아쉽게도 사인함수 `sin()` 가 아직도 작동하지 않는다.\n",
        "\n",
        "- 특정 라이브러리를 불러오면 사용하고자 하는 함수가 그 라이브러리에 포함된 함수임을 알려주어야 한다.\n",
        "- 아래와 같이 라이브러리 이름 뒤에 마침표 `.`를 쓰고 그 다음에 함수 이름을 붙여야 사용할 수 있다. `math.sin()` 이라는 문장은 컴퓨터에게 `math` 라이브러리 안에 있는 `sin()` 함수를 이용하겠다고 알려주는 것이다."
      ]
    },
    {
      "cell_type": "code",
      "execution_count": null,
      "metadata": {
        "colab": {
          "base_uri": "https://localhost:8080/"
        },
        "id": "nKWUUmqb5whH",
        "outputId": "78a3b6c2-5371-4615-f4f2-36dffb9f127e"
      },
      "outputs": [
        {
          "output_type": "execute_result",
          "data": {
            "text/plain": [
              "0.9092974268256817"
            ]
          },
          "metadata": {},
          "execution_count": 29
        }
      ],
      "source": [
        "math.sin(2)"
      ]
    },
    {
      "cell_type": "code",
      "execution_count": null,
      "metadata": {
        "colab": {
          "base_uri": "https://localhost:8080/"
        },
        "id": "FhEqbBl25xN5",
        "outputId": "7e282cd0-e74b-4daa-8183-3d7d00adcb58"
      },
      "outputs": [
        {
          "output_type": "execute_result",
          "data": {
            "text/plain": [
              "3.091042453358316"
            ]
          },
          "metadata": {},
          "execution_count": 30
        }
      ],
      "source": [
        "math.log(22)"
      ]
    },
    {
      "cell_type": "markdown",
      "metadata": {
        "id": "3RFQkwab5yOh"
      },
      "source": [
        "- 참고로 라이브러리는 모듈(module)이라고도 불리며 기본적으로 같은 의미이다.\n",
        "- `math` 라이브러리에서 정의된 다양한 수학함수들의 사용법은 [파이썬 모듈 매뉴얼](https://docs.python.org/3/library/math.html)에 있다."
      ]
    },
    {
      "cell_type": "markdown",
      "metadata": {
        "id": "_HkgBiFF5zYP"
      },
      "source": [
        "## 리스트\n",
        "- 파이썬에서 리스트(`list`)는 **데이터를 모아놓은 순서가 있는 복합체 또는 집합** 이다.\n",
        "\n",
        "- 리스트를 정의하는 방법은 중괄호 `[]` 안에 데이터 또는 변수를 쉼표 `,` 로 분리하여 놓는다.\n",
        "- 리스트 안에 있는 원소(element)들은 아래에서 정의한 것처럼 정수, 실수, 문자열 등 그 성질이 같을 필요는 없다."
      ]
    },
    {
      "cell_type": "code",
      "execution_count": null,
      "metadata": {
        "colab": {
          "base_uri": "https://localhost:8080/"
        },
        "id": "l5bwEfoU52RH",
        "outputId": "473220bd-9c9c-4f24-9806-166abc6a8971"
      },
      "outputs": [
        {
          "output_type": "execute_result",
          "data": {
            "text/plain": [
              "[1, 2, 0.5, 'chair']"
            ]
          },
          "metadata": {},
          "execution_count": 31
        }
      ],
      "source": [
        "list_1 = [1, 2, 0.5, 'chair']\n",
        "list_1"
      ]
    },
    {
      "cell_type": "markdown",
      "metadata": {
        "id": "emA0lTCc53cX"
      },
      "source": [
        "- 심지어 리스트는 여러 개의 서로 다른 리스트를 원소로 가질 수 있다."
      ]
    },
    {
      "cell_type": "code",
      "execution_count": null,
      "metadata": {
        "colab": {
          "base_uri": "https://localhost:8080/"
        },
        "id": "qhd_SJsa54VO",
        "outputId": "3995988a-743d-4156-e7cd-c15b91a6f34f"
      },
      "outputs": [
        {
          "output_type": "execute_result",
          "data": {
            "text/plain": [
              "[[1, 2, 0.5, 'chair'], 'A', [1, 2, 3]]"
            ]
          },
          "metadata": {},
          "execution_count": 32
        }
      ],
      "source": [
        "list_2 = [ list_1, \"A\", [1,2,3] ]\n",
        "list_2"
      ]
    },
    {
      "cell_type": "markdown",
      "metadata": {
        "id": "jSdrGxFD55bX"
      },
      "source": [
        "- 리스트 안의 각 원소는 위치를 가지고 있으며 이를 **인덱스(index)** 라고 한다.\n",
        "\n",
        "- 인덱스를 이용하여 리스트의 원소를 꺼내 볼 수 있다. 이를 슬라이싱(slicing)이라고 하며, `[]`를 이용한다.\n",
        "\n",
        "-  **!!!! 파이썬의 인덱스는 1이 아닌 0 부터 시작하므로 이를 언제나 유념해야 한다 !!!**."
      ]
    },
    {
      "cell_type": "code",
      "execution_count": null,
      "metadata": {
        "id": "ECrbqSIC58Fw"
      },
      "outputs": [],
      "source": [
        "squares = [1, 4, 9, 16, 25]"
      ]
    },
    {
      "cell_type": "code",
      "execution_count": null,
      "metadata": {
        "colab": {
          "base_uri": "https://localhost:8080/"
        },
        "id": "JuhwiHhY587_",
        "outputId": "356e1a88-8ea0-4ce6-a236-9859a503484b"
      },
      "outputs": [
        {
          "output_type": "execute_result",
          "data": {
            "text/plain": [
              "1"
            ]
          },
          "metadata": {},
          "execution_count": 39
        }
      ],
      "source": [
        "squares[0]"
      ]
    },
    {
      "cell_type": "code",
      "execution_count": null,
      "metadata": {
        "colab": {
          "base_uri": "https://localhost:8080/"
        },
        "id": "xh3yHkoM59qK",
        "outputId": "2373541d-5727-4f32-aae1-c5b8d75c1f39"
      },
      "outputs": [
        {
          "output_type": "execute_result",
          "data": {
            "text/plain": [
              "4"
            ]
          },
          "metadata": {},
          "execution_count": 40
        }
      ],
      "source": [
        "squares[1]"
      ]
    },
    {
      "cell_type": "code",
      "execution_count": null,
      "metadata": {
        "colab": {
          "base_uri": "https://localhost:8080/"
        },
        "id": "VkyJxzTX6VKo",
        "outputId": "7e2f80e3-3ef6-448e-fabc-aab1d73f5c95"
      },
      "outputs": [
        {
          "output_type": "execute_result",
          "data": {
            "text/plain": [
              "9"
            ]
          },
          "metadata": {},
          "execution_count": 41
        }
      ],
      "source": [
        "squares[2]"
      ]
    },
    {
      "cell_type": "code",
      "execution_count": null,
      "metadata": {
        "colab": {
          "base_uri": "https://localhost:8080/"
        },
        "id": "CCiMnfpq6V3n",
        "outputId": "08b5fbfe-fb53-4b0d-b8dd-48ae44450404"
      },
      "outputs": [
        {
          "output_type": "execute_result",
          "data": {
            "text/plain": [
              "25"
            ]
          },
          "metadata": {},
          "execution_count": 42
        }
      ],
      "source": [
        "squares[4]"
      ]
    },
    {
      "cell_type": "markdown",
      "metadata": {
        "id": "iVYdbdgT6WtX"
      },
      "source": [
        "- 위의 결과에서 보았듯이 5개의 원소를 가진 리스트의 인덱스는 0 으로 시작해서 4 로 끝난다.\n",
        "- 만약 리스트의 인덱스 범위를 벗어나서 슬라이싱을 하면 오류가 발생한다."
      ]
    },
    {
      "cell_type": "code",
      "execution_count": null,
      "metadata": {
        "colab": {
          "base_uri": "https://localhost:8080/",
          "height": 147
        },
        "id": "UMi3fbEz6Xkv",
        "outputId": "8a9cefd7-ab23-48ca-a236-dcebfa752ba4"
      },
      "outputs": [
        {
          "output_type": "error",
          "ename": "NameError",
          "evalue": "name 'list_3' is not defined",
          "traceback": [
            "\u001b[0;31m---------------------------------------------------------------------------\u001b[0m",
            "\u001b[0;31mNameError\u001b[0m                                 Traceback (most recent call last)",
            "\u001b[0;32m<ipython-input-43-f03c86e5c67e>\u001b[0m in \u001b[0;36m<cell line: 1>\u001b[0;34m()\u001b[0m\n\u001b[0;32m----> 1\u001b[0;31m \u001b[0mlist_3\u001b[0m\u001b[0;34m[\u001b[0m\u001b[0;36m5\u001b[0m\u001b[0;34m]\u001b[0m\u001b[0;34m\u001b[0m\u001b[0;34m\u001b[0m\u001b[0m\n\u001b[0m",
            "\u001b[0;31mNameError\u001b[0m: name 'list_3' is not defined"
          ]
        }
      ],
      "source": [
        "list_3[5]"
      ]
    },
    {
      "cell_type": "markdown",
      "metadata": {
        "id": "3dokgwBY6ZT3"
      },
      "source": [
        "- 변수나 숫자가 리스트에 포함되는지 알려주는 포함연산자 `in` 이 존재한다."
      ]
    },
    {
      "cell_type": "code",
      "execution_count": null,
      "metadata": {
        "colab": {
          "base_uri": "https://localhost:8080/"
        },
        "id": "UD5fi2tE6aXo",
        "outputId": "77171324-6454-4637-dd25-d453868f660d"
      },
      "outputs": [
        {
          "output_type": "execute_result",
          "data": {
            "text/plain": [
              "True"
            ]
          },
          "metadata": {},
          "execution_count": 45
        }
      ],
      "source": [
        "1 in [1,2,3,4]"
      ]
    },
    {
      "cell_type": "code",
      "execution_count": null,
      "metadata": {
        "colab": {
          "base_uri": "https://localhost:8080/"
        },
        "id": "cnCwkW5v6bNH",
        "outputId": "7a78f776-5361-446b-9094-5438ca3efa09"
      },
      "outputs": [
        {
          "output_type": "execute_result",
          "data": {
            "text/plain": [
              "False"
            ]
          },
          "metadata": {},
          "execution_count": 46
        }
      ],
      "source": [
        "a = 5\n",
        "a in [1,2,3,4]"
      ]
    },
    {
      "cell_type": "markdown",
      "metadata": {
        "id": "RnCdvpBdpFdS"
      },
      "source": [
        "--------------------------------------------------------------------------------"
      ]
    },
    {
      "cell_type": "markdown",
      "metadata": {
        "id": "nPkwd1nu6hG4"
      },
      "source": [
        "# 자료의 형식\n",
        "우리가 컴퓨터에서 다루는 자료는 주로 숫자와 문자입니다.\n",
        "\n",
        "숫자는 정수(integer)와 실수(real number)로 구분할 수 있습니다. 물론 정수도 실수의 범위에 포함되지만 컴퓨터에서는 정수와 실수를 저장하는 방법이 다릅니다. 프로그램 언어에서는 소숫점을 이용하여 표현하는 실수를 특별하게 부동소숫점(floating point number)라고 부릅니다.\n",
        "\n",
        "문자열은 말 그대로 문자형식으로 표현되는 자료입니다. 숫자를 포함한 모든 글자, 특수 문자를 포함하고 있으며 특별한 가능을 가진 특수 문자열도 문자 형식의 자료입니다.\n",
        "\n",
        "이제 파이썬 언어에서 숫자와 문자를 데이터로 사용할 때 저장하는 형식(type)과 그 특징을 알아보도록 하겠습니다."
      ]
    },
    {
      "cell_type": "markdown",
      "metadata": {
        "id": "QupX398z6tRP"
      },
      "source": [
        "## 숫자\n",
        "- 파이썬에서는 숫자를 다음과 같은 두 가지 형식으로 정의할 수 있다.\n",
        "1. `int` : 숫자를 정수(integer)로 나타낼 때 사용하는 형식이다.\n",
        "2. `float` : 소수점이 붙은 형태인 실수를 저장할 때 사용하는 형식이다.\n",
        "\n",
        "- 데이터를 저장하는 **형식(type)** 이 다르다는 것은 숫자를 컴퓨터에 입력할 때 **메모리(memory)에 저장하는 방법**이 다르다는 것을 의미한다. 메모리에 저장하는 방식이 다르면 숫자를 사용할 때 여러 가지 차이점이 나타난다.\n",
        "\n",
        "- 파이썬에서 함수 `type()` 을 이용하면 자료의 형식을 알려준다."
      ]
    },
    {
      "cell_type": "markdown",
      "metadata": {
        "id": "ptyhlXoa62B3"
      },
      "source": [
        "- 다음과 같이 `8` 과 `8.0`은 수학적으로는 같은 숫자이지만 `8`은 정수형(`int`)으로 저장되고  `8.0` 은 부동소수점 형식(`float`)으로 저장된다."
      ]
    },
    {
      "cell_type": "code",
      "execution_count": null,
      "metadata": {
        "colab": {
          "base_uri": "https://localhost:8080/"
        },
        "id": "CpCUEac86-4I",
        "outputId": "5b7a0901-57dc-4ff0-81c5-ece565c56236"
      },
      "outputs": [
        {
          "output_type": "execute_result",
          "data": {
            "text/plain": [
              "True"
            ]
          },
          "metadata": {},
          "execution_count": 47
        }
      ],
      "source": [
        "8 == 8.0"
      ]
    },
    {
      "cell_type": "code",
      "execution_count": null,
      "metadata": {
        "colab": {
          "base_uri": "https://localhost:8080/"
        },
        "id": "5lXaEyb96_Fp",
        "outputId": "4e7e481f-39ca-4164-8650-e0edc53beb61"
      },
      "outputs": [
        {
          "output_type": "execute_result",
          "data": {
            "text/plain": [
              "int"
            ]
          },
          "metadata": {},
          "execution_count": 48
        }
      ],
      "source": [
        "type(8)"
      ]
    },
    {
      "cell_type": "code",
      "execution_count": null,
      "metadata": {
        "colab": {
          "base_uri": "https://localhost:8080/"
        },
        "id": "Z-e3RdpQ7AGI",
        "outputId": "46f4ba9e-8005-4316-8601-d83277af7872"
      },
      "outputs": [
        {
          "output_type": "execute_result",
          "data": {
            "text/plain": [
              "float"
            ]
          },
          "metadata": {},
          "execution_count": 49
        }
      ],
      "source": [
        "type(8.0)"
      ]
    },
    {
      "cell_type": "markdown",
      "metadata": {
        "id": "g0L3Lfjw7CCw"
      },
      "source": [
        "- 정수형 숫자들의 계산에서 실수가 나오면 부동소수점 형식으로 저장된다."
      ]
    },
    {
      "cell_type": "code",
      "execution_count": null,
      "metadata": {
        "id": "etvgIMI67E2A"
      },
      "outputs": [],
      "source": [
        "x = 1"
      ]
    },
    {
      "cell_type": "code",
      "execution_count": null,
      "metadata": {
        "id": "6aLK9l307NRi"
      },
      "outputs": [],
      "source": [
        "y = 3"
      ]
    },
    {
      "cell_type": "code",
      "execution_count": null,
      "metadata": {
        "colab": {
          "base_uri": "https://localhost:8080/"
        },
        "id": "fVL4Ooym7RgR",
        "outputId": "06c2ac8d-4872-41bf-a3bd-a12b8b733922"
      },
      "outputs": [
        {
          "output_type": "execute_result",
          "data": {
            "text/plain": [
              "0.3333333333333333"
            ]
          },
          "metadata": {},
          "execution_count": 52
        }
      ],
      "source": [
        "x/y"
      ]
    },
    {
      "cell_type": "code",
      "execution_count": null,
      "metadata": {
        "colab": {
          "base_uri": "https://localhost:8080/"
        },
        "id": "dmoTTHqT7Sef",
        "outputId": "3e7436c5-233b-4fa8-b869-562711a4fff5"
      },
      "outputs": [
        {
          "output_type": "execute_result",
          "data": {
            "text/plain": [
              "float"
            ]
          },
          "metadata": {},
          "execution_count": 53
        }
      ],
      "source": [
        "type(x/y)"
      ]
    },
    {
      "cell_type": "markdown",
      "metadata": {
        "id": "RGuMKIGa7Vzg"
      },
      "source": [
        "- 파이썬에서 사용하는 정수형은 숫자의 크기에 제한을 받지 않는다."
      ]
    },
    {
      "cell_type": "code",
      "execution_count": null,
      "metadata": {
        "colab": {
          "base_uri": "https://localhost:8080/"
        },
        "id": "YX4Fp0qG7mGq",
        "outputId": "bc440271-50cb-4ef7-c4a4-5a96bcd7ea33"
      },
      "outputs": [
        {
          "output_type": "execute_result",
          "data": {
            "text/plain": [
              "1417315082138567032720255210353519969302563981215290038076973514044236598756327059769035336648132374674324215193204422244594445716341487457694617732238625874314626583491669701284686587855773536717426096092211598174166575328099956875492262010326699346133893700375355315111937233492319262187261209590353793785874777434103656417302563919988176126139015434933601141866086270683340764422105480418576759769165966112295211246642864160246076336957750304736038529329501453440773670860919386637258331504837566880577668021013841189499717194709469762851658008500781229342231867145722511317611139783942910257543607972348001"
            ]
          },
          "metadata": {},
          "execution_count": 54
        }
      ],
      "source": [
        "1234567 ** 100"
      ]
    },
    {
      "cell_type": "markdown",
      "metadata": {
        "id": "CHlfedIB7oDA"
      },
      "source": [
        "- 부동소수점 형식은 크기에 제한이 있다. 너무 작은 수 또는 너무 큰 수에 대해 부동소수점 형식으로 **정확하게** 저장할 수 없다.\n",
        "\n",
        "- 보통 사용하는 컴퓨터에서는 다음과 같이 소수점 17 자리 이상의 아주 작은 실수는 정확하게 숫자의 값을 저장하지 못한다."
      ]
    },
    {
      "cell_type": "code",
      "execution_count": null,
      "metadata": {
        "colab": {
          "base_uri": "https://localhost:8080/"
        },
        "id": "bMrCxfM67sX4",
        "outputId": "fc4dc977-b2a9-4812-990c-79b5aab219fd"
      },
      "outputs": [
        {
          "output_type": "execute_result",
          "data": {
            "text/plain": [
              "0.3333333333333334"
            ]
          },
          "metadata": {},
          "execution_count": 55
        }
      ],
      "source": [
        "1/3 + 0.0000000000000001"
      ]
    },
    {
      "cell_type": "code",
      "execution_count": null,
      "metadata": {
        "colab": {
          "base_uri": "https://localhost:8080/"
        },
        "id": "ZlCU6EJ57tg_",
        "outputId": "c05396c0-23ed-4eba-804b-db18642687d3"
      },
      "outputs": [
        {
          "output_type": "execute_result",
          "data": {
            "text/plain": [
              "False"
            ]
          },
          "metadata": {},
          "execution_count": 56
        }
      ],
      "source": [
        "1/3 == (1/3 + 0.0000000000000001)"
      ]
    },
    {
      "cell_type": "markdown",
      "source": [
        "- 그렇기에 소수점 16자리를 더할 경우, 다른 숫자임을 인지하고, `False`를 반환하는 것을 확인 할 수 있다."
      ],
      "metadata": {
        "id": "3CzFyhPTtSXF"
      }
    },
    {
      "cell_type": "code",
      "execution_count": null,
      "metadata": {
        "colab": {
          "base_uri": "https://localhost:8080/"
        },
        "id": "j3hgkY4U7uUr",
        "outputId": "d6ba355f-288f-4c52-ef52-da941a16c95d"
      },
      "outputs": [
        {
          "output_type": "execute_result",
          "data": {
            "text/plain": [
              "0.3333333333333333"
            ]
          },
          "metadata": {},
          "execution_count": 57
        }
      ],
      "source": [
        "1/3 + 0.00000000000000001"
      ]
    },
    {
      "cell_type": "code",
      "execution_count": null,
      "metadata": {
        "colab": {
          "base_uri": "https://localhost:8080/"
        },
        "id": "Y40wXvPv7vSX",
        "outputId": "7993448d-4899-4c64-a0fb-a8ba4c1f4375"
      },
      "outputs": [
        {
          "output_type": "execute_result",
          "data": {
            "text/plain": [
              "True"
            ]
          },
          "metadata": {},
          "execution_count": 58
        }
      ],
      "source": [
        "1/3 == (1/3 + 0.00000000000000001)"
      ]
    },
    {
      "cell_type": "markdown",
      "source": [
        "- 하지만, 소수점 17자리의 값을 더해주면,숫자의 값을 인지를 못하기 때문에 두 숫자는 같은 값으로 인지하게 된다.\n",
        "\n",
        "- 두 개의 실수의 차이를 계산하는 경우 두 수의 차이 값이 우리가 생각하는 대수적인 결과와 다를 수 있습니다.\n",
        "\n",
        "- 다음 두 표현식은 대수적으로 같은 뜻이지만 컴퓨터 표현식의 결과에 미세한 차이가 있다.\n",
        "\n",
        "$$ \\left ( \\sqrt{3} \\right )^2 \\quad \\sqrt{3^2} $$"
      ],
      "metadata": {
        "id": "ZiOGLCqOtaZ5"
      }
    },
    {
      "cell_type": "code",
      "execution_count": null,
      "metadata": {
        "colab": {
          "base_uri": "https://localhost:8080/"
        },
        "id": "lHsXx1T375Dn",
        "outputId": "2915d91f-459d-484b-fac1-8154fd2c72c3"
      },
      "outputs": [
        {
          "output_type": "execute_result",
          "data": {
            "text/plain": [
              "2.9999999999999996"
            ]
          },
          "metadata": {},
          "execution_count": 59
        }
      ],
      "source": [
        "(3**0.5)**2"
      ]
    },
    {
      "cell_type": "code",
      "execution_count": null,
      "metadata": {
        "colab": {
          "base_uri": "https://localhost:8080/"
        },
        "id": "M9_vhuxd76cI",
        "outputId": "c66638f1-4d83-4d0f-aa0f-ad1050f6388d"
      },
      "outputs": [
        {
          "output_type": "execute_result",
          "data": {
            "text/plain": [
              "3.0"
            ]
          },
          "metadata": {},
          "execution_count": 60
        }
      ],
      "source": [
        "(3**2)**0.5"
      ]
    },
    {
      "cell_type": "code",
      "execution_count": null,
      "metadata": {
        "colab": {
          "base_uri": "https://localhost:8080/"
        },
        "id": "UfOXwwDy7_HA",
        "outputId": "c56962e8-4ec1-41dc-ba71-d8c9a6b8e738"
      },
      "outputs": [
        {
          "output_type": "execute_result",
          "data": {
            "text/plain": [
              "-4.440892098500626e-16"
            ]
          },
          "metadata": {},
          "execution_count": 61
        }
      ],
      "source": [
        "(3**0.5)**2 - (3**2)**0.5"
      ]
    },
    {
      "cell_type": "markdown",
      "metadata": {
        "id": "VRZ21PA78ANl"
      },
      "source": [
        "- 파이썬이 대수적으로 구별할 수 있는 가장 작은 수는 `2.220446049250313e-16` 이다. 이러한 수를 계산 엡실론(Machine epsilon)이라고 부르며 부동소수점 연산에서 반올림을 함으로써 발생하는 오차의 상한이다.\n",
        "\n",
        "- 이 값은 `sys` 패키지에 `float_info.epsilon`으로 알 수 있다.\n",
        "\n",
        "- 계산 엡실론보다 작은 수는 컴퓨터를 이용한 계산에서 차이를 구별할 수 없다.\n"
      ]
    },
    {
      "cell_type": "code",
      "source": [
        "import sys"
      ],
      "metadata": {
        "id": "sM0jkT9Et9tr"
      },
      "execution_count": null,
      "outputs": []
    },
    {
      "cell_type": "code",
      "execution_count": null,
      "metadata": {
        "colab": {
          "base_uri": "https://localhost:8080/"
        },
        "id": "jvANRXI_8BOY",
        "outputId": "272719d2-7528-48d2-f7af-cec0dbcad8cc"
      },
      "outputs": [
        {
          "output_type": "execute_result",
          "data": {
            "text/plain": [
              "2.220446049250313e-16"
            ]
          },
          "metadata": {},
          "execution_count": 64
        }
      ],
      "source": [
        "machine_epsilon = sys.float_info.epsilon\n",
        "machine_epsilon"
      ]
    },
    {
      "cell_type": "code",
      "execution_count": null,
      "metadata": {
        "colab": {
          "base_uri": "https://localhost:8080/"
        },
        "id": "NSTQSjKR8Cdf",
        "outputId": "fc0ddee4-1f2a-47f6-ffd2-bf93c34ba423"
      },
      "outputs": [
        {
          "output_type": "execute_result",
          "data": {
            "text/plain": [
              "False"
            ]
          },
          "metadata": {},
          "execution_count": 65
        }
      ],
      "source": [
        "1.0 + machine_epsilon == 1.0"
      ]
    },
    {
      "cell_type": "markdown",
      "source": [
        "- 1에 인지할수 있는 가장 작은 수 `sys.float_info.epsilon`을 더할 경우, 다른 숫자이기 때문에, `False`를 반환한다."
      ],
      "metadata": {
        "id": "oZ-nCkyouBnM"
      }
    },
    {
      "cell_type": "code",
      "execution_count": null,
      "metadata": {
        "colab": {
          "base_uri": "https://localhost:8080/"
        },
        "id": "OtgAH9GY8DU4",
        "outputId": "2ce6ffe3-5429-4343-9c52-0a80c039cc59"
      },
      "outputs": [
        {
          "output_type": "execute_result",
          "data": {
            "text/plain": [
              "True"
            ]
          },
          "metadata": {},
          "execution_count": 66
        }
      ],
      "source": [
        "1.0 + machine_epsilon/2 == 1.0"
      ]
    },
    {
      "cell_type": "markdown",
      "source": [
        "- 인지 할 수 있는 가장 작은 수에 2를 나누면, 더 작은 수가 된다. 그러므로 이 값을 더해주더라도 인식을 못하는 수이기 때문에 `True`를 반환한다.\n",
        "- 정리하면 실수를 저장하는 `float` 형식은 모든 실수를 정확하게 저장할 수 없고 아주 작은 수는 소수점 16 정도에서 잘려서 **근사값**으로 저장된다.\n",
        "\n",
        "- 무한소수의 대표적인 숫자인 원주율을 나타내는 $\\pi$ 는 `math` 라이브러리에 `pi` 라는 이름으로 사용할 수 있으며 다음과 같이 소수점 16 자리까지 저장한다."
      ],
      "metadata": {
        "id": "aHm7HTAEuLq5"
      }
    },
    {
      "cell_type": "code",
      "source": [
        "import math"
      ],
      "metadata": {
        "id": "QkNe9HVYueHQ"
      },
      "execution_count": null,
      "outputs": []
    },
    {
      "cell_type": "code",
      "execution_count": null,
      "metadata": {
        "colab": {
          "base_uri": "https://localhost:8080/"
        },
        "id": "wf-b7Duq8FfI",
        "outputId": "f1b2621f-1bd9-437b-8ca8-6c3c9087a4d7"
      },
      "outputs": [
        {
          "output_type": "execute_result",
          "data": {
            "text/plain": [
              "3.141592653589793"
            ]
          },
          "metadata": {},
          "execution_count": 69
        }
      ],
      "source": [
        "math.pi"
      ]
    },
    {
      "cell_type": "markdown",
      "metadata": {
        "id": "LULlG6S28Glz"
      },
      "source": [
        "- 부동소수점 형식은 너무 큰 수도 저장할 수 없다. 일반적인 컴퓨터에서 부동소수점 형식으로 저장할 수 있는 최대값은 $1.7976931348623157 \\times 10^{308}$ 이다.\n",
        "- 이보다 큰 수를 지정하면 저장할 수 없는 값이기 때문에, `inf`로 표현한다. 이것의 `무한`을 의미한다.\n",
        "\n",
        "- 파이썬에서 실수를 출력할때, 많은 경우 과학적 표기법(scientific notation)을 사용한다."
      ]
    },
    {
      "cell_type": "code",
      "execution_count": null,
      "metadata": {
        "colab": {
          "base_uri": "https://localhost:8080/"
        },
        "id": "vp9aoSZv8IR4",
        "outputId": "77e2d058-8c27-4b04-ff16-5a3023796c7b"
      },
      "outputs": [
        {
          "output_type": "execute_result",
          "data": {
            "text/plain": [
              "2e+306"
            ]
          },
          "metadata": {},
          "execution_count": 70
        }
      ],
      "source": [
        "2.0e+306"
      ]
    },
    {
      "cell_type": "code",
      "execution_count": null,
      "metadata": {
        "colab": {
          "base_uri": "https://localhost:8080/"
        },
        "id": "PVZpVoGD8JKw",
        "outputId": "1103e209-80c9-4200-8bcd-813c63c5be33"
      },
      "outputs": [
        {
          "output_type": "execute_result",
          "data": {
            "text/plain": [
              "inf"
            ]
          },
          "metadata": {},
          "execution_count": 71
        }
      ],
      "source": [
        "2.0e+306 * 100"
      ]
    },
    {
      "cell_type": "code",
      "execution_count": null,
      "metadata": {
        "colab": {
          "base_uri": "https://localhost:8080/"
        },
        "id": "Y6w-gbsz8Kw_",
        "outputId": "d2e93201-e76f-4cfd-c085-31be87035aac"
      },
      "outputs": [
        {
          "output_type": "execute_result",
          "data": {
            "text/plain": [
              "-inf"
            ]
          },
          "metadata": {},
          "execution_count": 72
        }
      ],
      "source": [
        "-2.0e+306 * 100"
      ]
    },
    {
      "cell_type": "markdown",
      "metadata": {
        "id": "-zXkfeZKpT7Q"
      },
      "source": [
        "--------------------------------------------------------------------------------"
      ]
    },
    {
      "cell_type": "markdown",
      "metadata": {
        "id": "tG-OcBbXqAV3"
      },
      "source": [
        "## 문자\n",
        "\n",
        "앞에서 잠깐 언급했지만, 파이썬에서는 숫자뿐만 아니라 문자를 데이터로 다룰수 있다.\n",
        "\n",
        "- 파이썬에서 문자를 저장하는 형식은 **문자열(`str`)** 이라고 부른다. 문자열은 문자들의 조합이다.\n",
        "\n",
        "- 문자열의 정의는 아래와 같이 ' ' 와 \" \" 로 모두 정의할 수 있다.\n",
        "- 예를 들면 `\"apple\"` 과 `'apple'` 은 똑같이 문자열을 정의한다."
      ]
    },
    {
      "cell_type": "code",
      "execution_count": null,
      "metadata": {
        "colab": {
          "base_uri": "https://localhost:8080/",
          "height": 35
        },
        "id": "ReETSiPzp90J",
        "outputId": "fa2f4807-9658-4903-d132-1d9cba3a4d5f"
      },
      "outputs": [
        {
          "output_type": "execute_result",
          "data": {
            "text/plain": [
              "'철수'"
            ],
            "application/vnd.google.colaboratory.intrinsic+json": {
              "type": "string"
            }
          },
          "metadata": {},
          "execution_count": 73
        }
      ],
      "source": [
        "name_1 = '철수'\n",
        "name_1"
      ]
    },
    {
      "cell_type": "code",
      "execution_count": null,
      "metadata": {
        "colab": {
          "base_uri": "https://localhost:8080/"
        },
        "id": "SmoaITMI2F1p",
        "outputId": "4f7bc1d2-73aa-4450-bdc4-face5398378b"
      },
      "outputs": [
        {
          "output_type": "execute_result",
          "data": {
            "text/plain": [
              "str"
            ]
          },
          "metadata": {},
          "execution_count": 74
        }
      ],
      "source": [
        "type(name_1)"
      ]
    },
    {
      "cell_type": "code",
      "execution_count": null,
      "metadata": {
        "colab": {
          "base_uri": "https://localhost:8080/",
          "height": 35
        },
        "id": "u8cy3GUAp-xL",
        "outputId": "de550ef0-4e09-489e-dbf4-0eb8ab31d8f9"
      },
      "outputs": [
        {
          "output_type": "execute_result",
          "data": {
            "text/plain": [
              "'apple'"
            ],
            "application/vnd.google.colaboratory.intrinsic+json": {
              "type": "string"
            }
          },
          "metadata": {},
          "execution_count": 75
        }
      ],
      "source": [
        "thing_1 = \"apple\"\n",
        "thing_1"
      ]
    },
    {
      "cell_type": "code",
      "execution_count": null,
      "metadata": {
        "colab": {
          "base_uri": "https://localhost:8080/",
          "height": 35
        },
        "id": "IXs6c_rErq3Q",
        "outputId": "fb274d5b-19e0-4842-99ba-ddd9556cea2c"
      },
      "outputs": [
        {
          "output_type": "execute_result",
          "data": {
            "text/plain": [
              "'eat'"
            ],
            "application/vnd.google.colaboratory.intrinsic+json": {
              "type": "string"
            }
          },
          "metadata": {},
          "execution_count": 76
        }
      ],
      "source": [
        "action_1 = \"eat\"\n",
        "action_1"
      ]
    },
    {
      "cell_type": "code",
      "execution_count": null,
      "metadata": {
        "colab": {
          "base_uri": "https://localhost:8080/",
          "height": 35
        },
        "id": "veOfXWl5tUDZ",
        "outputId": "7c5c218b-e23d-4ea7-a143-b02ea7108059"
      },
      "outputs": [
        {
          "output_type": "execute_result",
          "data": {
            "text/plain": [
              "'buy'"
            ],
            "application/vnd.google.colaboratory.intrinsic+json": {
              "type": "string"
            }
          },
          "metadata": {},
          "execution_count": 77
        }
      ],
      "source": [
        "action_2 = 'buy'\n",
        "action_2"
      ]
    },
    {
      "cell_type": "markdown",
      "metadata": {
        "id": "FqnvirmJsAaw"
      },
      "source": [
        "- 문자열로 정의된 변수(이름)을 더하기 `+` 연산자로 조합하여 여러 개의 문자열을 연결할 수 있다."
      ]
    },
    {
      "cell_type": "code",
      "execution_count": null,
      "metadata": {
        "colab": {
          "base_uri": "https://localhost:8080/",
          "height": 35
        },
        "id": "7OhgtyZVr_Lw",
        "outputId": "681cc820-9db7-4313-af4a-6ea768a61fc3"
      },
      "outputs": [
        {
          "output_type": "execute_result",
          "data": {
            "text/plain": [
              "'철수eatapple'"
            ],
            "application/vnd.google.colaboratory.intrinsic+json": {
              "type": "string"
            }
          },
          "metadata": {},
          "execution_count": 78
        }
      ],
      "source": [
        "name_1 + action_1 + thing_1"
      ]
    },
    {
      "cell_type": "code",
      "execution_count": null,
      "metadata": {
        "colab": {
          "base_uri": "https://localhost:8080/",
          "height": 35
        },
        "id": "cxVpetpusWQx",
        "outputId": "04a767c6-63e8-4479-90b9-c272a91cc034"
      },
      "outputs": [
        {
          "output_type": "execute_result",
          "data": {
            "text/plain": [
              "'철수 eats apple'"
            ],
            "application/vnd.google.colaboratory.intrinsic+json": {
              "type": "string"
            }
          },
          "metadata": {},
          "execution_count": 79
        }
      ],
      "source": [
        "name_1 + ' ' + action_1 + 's ' + thing_1"
      ]
    },
    {
      "cell_type": "markdown",
      "metadata": {
        "id": "3CIdLtpguUpN"
      },
      "source": [
        "- 곱하기 `*` 연산자를 이용하면 문자열을 반복할 수 있다."
      ]
    },
    {
      "cell_type": "code",
      "execution_count": null,
      "metadata": {
        "colab": {
          "base_uri": "https://localhost:8080/",
          "height": 35
        },
        "id": "pmysiSUxsgL1",
        "outputId": "dd543437-a1f5-4f78-b295-2370c7434a7c"
      },
      "outputs": [
        {
          "output_type": "execute_result",
          "data": {
            "text/plain": [
              "'철수철수철수'"
            ],
            "application/vnd.google.colaboratory.intrinsic+json": {
              "type": "string"
            }
          },
          "metadata": {},
          "execution_count": 80
        }
      ],
      "source": [
        "name_1*3"
      ]
    },
    {
      "cell_type": "markdown",
      "metadata": {
        "id": "AclE1A-nzMvL"
      },
      "source": [
        "- 문자를 다룰때, 한글이나 알파벳만 다루지 않고, 특수 기호들을 다루는 경우가 많다. 대표적인 특수기호는 `'` 또는 `_` 등등이 존재한다.\n",
        "\n",
        "- 이런 특수기호를 인식시켜주는 문자는 `\\`를 이용한다.\n",
        "\n",
        "- 예를들어, 문자열 안에 작은 따옴표 `'` 가 있는 경우 큰 따옴표 `\"` 로 정의하면 문제가 없지만 작은 따옴표로 정의하는 경우 문자열의 시작과 끝이 구별이 되지 않기 때문에 역슬래쉬 `\\`를 적용한다.\n",
        "\n"
      ]
    },
    {
      "cell_type": "code",
      "execution_count": null,
      "metadata": {
        "colab": {
          "base_uri": "https://localhost:8080/",
          "height": 35
        },
        "id": "G7ZzC-xquf3T",
        "outputId": "8e16338b-9633-40bc-de6d-15fca9f82401"
      },
      "outputs": [
        {
          "output_type": "execute_result",
          "data": {
            "text/plain": [
              "\"I can't go\""
            ],
            "application/vnd.google.colaboratory.intrinsic+json": {
              "type": "string"
            }
          },
          "metadata": {},
          "execution_count": 89
        }
      ],
      "source": [
        "text_1 = \"I can't go\"\n",
        "text_1"
      ]
    },
    {
      "cell_type": "code",
      "execution_count": null,
      "metadata": {
        "colab": {
          "base_uri": "https://localhost:8080/",
          "height": 35
        },
        "id": "QrNI_JfszZXN",
        "outputId": "ad9ed7c2-d01d-44cb-c8b5-1ad2978064d5"
      },
      "outputs": [
        {
          "data": {
            "application/vnd.google.colaboratory.intrinsic+json": {
              "type": "string"
            },
            "text/plain": [
              "\"you can't come\""
            ]
          },
          "execution_count": 85,
          "metadata": {},
          "output_type": "execute_result"
        }
      ],
      "source": [
        "text_2 ='you can\\'t come'\n",
        "text_2"
      ]
    },
    {
      "cell_type": "markdown",
      "metadata": {
        "id": "janF5m4Ezwdg"
      },
      "source": [
        "- 물론 큰 따옴표가 문자열에 있는 경우도 역슬래쉬 `\\` 로 보호해주어야 한다."
      ]
    },
    {
      "cell_type": "code",
      "execution_count": null,
      "metadata": {
        "colab": {
          "base_uri": "https://localhost:8080/",
          "height": 35
        },
        "id": "3kJpxUjKzf6n",
        "outputId": "088aee08-dd91-46b8-c5f3-e954a7c3a323"
      },
      "outputs": [
        {
          "data": {
            "application/vnd.google.colaboratory.intrinsic+json": {
              "type": "string"
            },
            "text/plain": [
              "'He said \"yes\"'"
            ]
          },
          "execution_count": 86,
          "metadata": {},
          "output_type": "execute_result"
        }
      ],
      "source": [
        "text_3 = \"He said \\\"yes\\\"\"\n",
        "text_3"
      ]
    },
    {
      "cell_type": "markdown",
      "metadata": {
        "id": "WrUz1epNzmVw"
      },
      "source": [
        "- 주의할 점은 역슬래쉬 `\\`로 시작하는 특별한 문자열은 특수한 기능을 가진다. 이러한 특수한 기능을 가진 특수 문자열(escape sequence)라고 부른다. 가장 대표적인 특수 문자열은 `\\n`이 있다.\n",
        "\n",
        "- 문자열 안에 `\\n` 이 나타나면 줄을 바꾸는 기능한다.\n",
        "- 이 문자의 문제는 컴퓨터에서 파일의 위치를 지정해줄때, 디렉토리를 지정하는 문자열은 `\\n`을 포함한다. 그렇기에, 이를 출력하면 다음줄로 넘어가는 문제가 발생한다.\n",
        "\n",
        "- 그렇기에, 파일 위치를 지정할때는 `\\\\`를 사용하거나, `/`를 사용하여 지정한다.\n",
        "\n"
      ]
    },
    {
      "cell_type": "code",
      "source": [
        "\"C:\\\\some\\\\name\""
      ],
      "metadata": {
        "colab": {
          "base_uri": "https://localhost:8080/",
          "height": 35
        },
        "id": "5Prfpx6zv5HG",
        "outputId": "3d579c53-7054-43e3-fed6-b33302a486cf"
      },
      "execution_count": null,
      "outputs": [
        {
          "output_type": "execute_result",
          "data": {
            "text/plain": [
              "'C:\\\\some\\\\name'"
            ],
            "application/vnd.google.colaboratory.intrinsic+json": {
              "type": "string"
            }
          },
          "metadata": {},
          "execution_count": 90
        }
      ]
    },
    {
      "cell_type": "markdown",
      "metadata": {
        "id": "Rx0k5JqCDkRj"
      },
      "source": [
        "- 문자열도 숫자와 마찬가지로 비교 연산자를 적용하여 순서를 비교할 수 있습니다."
      ]
    },
    {
      "cell_type": "code",
      "execution_count": null,
      "metadata": {
        "colab": {
          "base_uri": "https://localhost:8080/"
        },
        "id": "1xc6uGrMDuj-",
        "outputId": "866a6df8-f366-4f8c-b2f2-1f882dbdfa14"
      },
      "outputs": [
        {
          "output_type": "execute_result",
          "data": {
            "text/plain": [
              "True"
            ]
          },
          "metadata": {},
          "execution_count": 91
        }
      ],
      "source": [
        "'A' < 'B'"
      ]
    },
    {
      "cell_type": "code",
      "execution_count": null,
      "metadata": {
        "colab": {
          "base_uri": "https://localhost:8080/"
        },
        "id": "wr37zeBpDuoN",
        "outputId": "b50c0056-c66b-4ab0-be02-2c136cc3d62f"
      },
      "outputs": [
        {
          "output_type": "execute_result",
          "data": {
            "text/plain": [
              "False"
            ]
          },
          "metadata": {},
          "execution_count": 92
        }
      ],
      "source": [
        "'김철수' > '이영희'"
      ]
    },
    {
      "cell_type": "code",
      "execution_count": null,
      "metadata": {
        "colab": {
          "base_uri": "https://localhost:8080/"
        },
        "id": "sB6kN97UD40Z",
        "outputId": "b225da5b-9bc3-4203-c0af-8dacfe0c5e4d"
      },
      "outputs": [
        {
          "output_type": "execute_result",
          "data": {
            "text/plain": [
              "True"
            ]
          },
          "metadata": {},
          "execution_count": 93
        }
      ],
      "source": [
        "'Apple' < 'apple'"
      ]
    },
    {
      "cell_type": "markdown",
      "metadata": {
        "id": "lX7jmNTk124L"
      },
      "source": [
        "## 부분 문자열과 메소드\n",
        "\n",
        "- 문자열을 다루다 보면 주어진 문자열을 이용하여 다른 문자열을 만들어야 하는 경우가 있다.\n",
        "- 리스트와 같은 방법으로 전체 문자열에서 원하는 문자열의 위치를 슬라이싱하여 문자열의 일부분만 추출할 수 있다.\n",
        "\n",
        "- 이 경우 주의해야할 점은 다음과 같다.\n",
        "  1. 파이썬에서는 시작의 위치가 0 이다.\n",
        "  2. `start`는 문자에서 시작 위치를 나타내지만, `end`는 문자에서 위치가 `end-1` 이라는 의미이다.\n",
        "\n",
        "- `이철수` 에서 첫 번째 문자를 지정하는 형식은 문자열 이름 뒤에 `[0]`을 붙인다."
      ]
    },
    {
      "cell_type": "code",
      "execution_count": null,
      "metadata": {
        "id": "6DwucChW0Uin"
      },
      "outputs": [],
      "source": [
        "name_3 = '이철수'"
      ]
    },
    {
      "cell_type": "code",
      "execution_count": null,
      "metadata": {
        "colab": {
          "base_uri": "https://localhost:8080/",
          "height": 35
        },
        "id": "Qu2MrSE78X9D",
        "outputId": "507fa065-f102-4381-ae10-c9b9f29d9673"
      },
      "outputs": [
        {
          "output_type": "execute_result",
          "data": {
            "text/plain": [
              "'이'"
            ],
            "application/vnd.google.colaboratory.intrinsic+json": {
              "type": "string"
            }
          },
          "metadata": {},
          "execution_count": 95
        }
      ],
      "source": [
        "name_3[0]"
      ]
    },
    {
      "cell_type": "markdown",
      "source": [
        "\n",
        "- 이름을 나타내는 `철수` 문자열은 위치를 지정할 때 `start` 은 1, `end`은 3 으로 지정해야 한다.즉 문자열 뒤에 `[1:3]` 을 붙여준다.  "
      ],
      "metadata": {
        "id": "BAPtOYGg1wTt"
      }
    },
    {
      "cell_type": "code",
      "execution_count": null,
      "metadata": {
        "colab": {
          "base_uri": "https://localhost:8080/",
          "height": 35
        },
        "id": "Q8hcMUmn8apK",
        "outputId": "8b2e9c39-d3e1-4175-ba84-acd5f69ba87f"
      },
      "outputs": [
        {
          "output_type": "execute_result",
          "data": {
            "text/plain": [
              "'철수'"
            ],
            "application/vnd.google.colaboratory.intrinsic+json": {
              "type": "string"
            }
          },
          "metadata": {},
          "execution_count": 96
        }
      ],
      "source": [
        "name_3[1:3]"
      ]
    },
    {
      "cell_type": "code",
      "execution_count": null,
      "metadata": {
        "id": "LGE6mCTr8inc"
      },
      "outputs": [],
      "source": [
        "name_4 = 'John Smith'"
      ]
    },
    {
      "cell_type": "code",
      "execution_count": null,
      "metadata": {
        "colab": {
          "base_uri": "https://localhost:8080/",
          "height": 35
        },
        "id": "6p2dRvVu_Nh9",
        "outputId": "860653a4-d0eb-4082-e655-7dc52633d5a6"
      },
      "outputs": [
        {
          "output_type": "execute_result",
          "data": {
            "text/plain": [
              "'John'"
            ],
            "application/vnd.google.colaboratory.intrinsic+json": {
              "type": "string"
            }
          },
          "metadata": {},
          "execution_count": 98
        }
      ],
      "source": [
        "name_4[0:4]"
      ]
    },
    {
      "cell_type": "code",
      "execution_count": null,
      "metadata": {
        "colab": {
          "base_uri": "https://localhost:8080/",
          "height": 35
        },
        "id": "pnPAMzqR_QN6",
        "outputId": "e61f6d51-e4b7-4eee-aa34-5970e62fa643"
      },
      "outputs": [
        {
          "output_type": "execute_result",
          "data": {
            "text/plain": [
              "'Smith'"
            ],
            "application/vnd.google.colaboratory.intrinsic+json": {
              "type": "string"
            }
          },
          "metadata": {},
          "execution_count": 99
        }
      ],
      "source": [
        "name_4[5:10]"
      ]
    },
    {
      "cell_type": "markdown",
      "metadata": {
        "id": "7jsWGQsl_df_"
      },
      "source": [
        "- 문자열을 다루는 경우 문자열 안에 있는 특정한 문자를 다른 문자로 대치할 경우가 있다. 이 경우 사용하는 방법이 문자열의 `replace` 메소드이다.\n",
        "\n",
        "- 메소드(method)는 특정한 형식을 가진 자료에 적용되는 기능을 의미한다. 메소드는 변수명 뒤에 따옴표 `.` 를 붙이고 특정한 이름 또는 함수를 붙여서 사용한다. 앞의 `math.sin`도 유사한 형태다.\n",
        "\n",
        "- 아래 표현식은 문자열에 있는 `is` 를 `was` 로 바꾸어 준다."
      ]
    },
    {
      "cell_type": "code",
      "execution_count": null,
      "metadata": {
        "colab": {
          "base_uri": "https://localhost:8080/",
          "height": 35
        },
        "id": "Z98qW7p8_XNQ",
        "outputId": "4ebac01b-cc6a-437a-fbe3-e1274cdd9296"
      },
      "outputs": [
        {
          "output_type": "execute_result",
          "data": {
            "text/plain": [
              "'There is a desk'"
            ],
            "application/vnd.google.colaboratory.intrinsic+json": {
              "type": "string"
            }
          },
          "metadata": {},
          "execution_count": 100
        }
      ],
      "source": [
        "text_5 = 'There is a desk'\n",
        "text_5"
      ]
    },
    {
      "cell_type": "code",
      "execution_count": null,
      "metadata": {
        "colab": {
          "base_uri": "https://localhost:8080/",
          "height": 35
        },
        "id": "yuphOX4uAnm3",
        "outputId": "e983b8dc-8e4f-4775-985a-04acab697a0c"
      },
      "outputs": [
        {
          "output_type": "execute_result",
          "data": {
            "text/plain": [
              "'There was a desk'"
            ],
            "application/vnd.google.colaboratory.intrinsic+json": {
              "type": "string"
            }
          },
          "metadata": {},
          "execution_count": 101
        }
      ],
      "source": [
        "text_5.replace('is', 'was')"
      ]
    },
    {
      "cell_type": "markdown",
      "metadata": {
        "id": "u8qPf7I5AxxT"
      },
      "source": [
        "- 메소드는 데이터에 특정한 기능을 적용한 후, 저장하는 역활을 하지 않는다."
      ]
    },
    {
      "cell_type": "code",
      "execution_count": null,
      "metadata": {
        "colab": {
          "base_uri": "https://localhost:8080/",
          "height": 35
        },
        "id": "qzJWGgnYArgS",
        "outputId": "d9543cb6-6034-49b1-a71e-b7674abc5991"
      },
      "outputs": [
        {
          "output_type": "execute_result",
          "data": {
            "text/plain": [
              "'There is a desk'"
            ],
            "application/vnd.google.colaboratory.intrinsic+json": {
              "type": "string"
            }
          },
          "metadata": {},
          "execution_count": 102
        }
      ],
      "source": [
        "text_5"
      ]
    },
    {
      "cell_type": "markdown",
      "metadata": {
        "id": "rhYrzmQABPiV"
      },
      "source": [
        "- 메소드를 적용해서 데이터의 내용을 바꾸고 저장하려면 다른 변수로 저장해야 한다."
      ]
    },
    {
      "cell_type": "code",
      "execution_count": null,
      "metadata": {
        "colab": {
          "base_uri": "https://localhost:8080/",
          "height": 35
        },
        "id": "_DXffHmMBoIK",
        "outputId": "eb6308cd-391d-491e-d7bb-194d73b609bc"
      },
      "outputs": [
        {
          "output_type": "execute_result",
          "data": {
            "text/plain": [
              "'There was a desk'"
            ],
            "application/vnd.google.colaboratory.intrinsic+json": {
              "type": "string"
            }
          },
          "metadata": {},
          "execution_count": 103
        }
      ],
      "source": [
        "text_6 = text_5.replace('is', 'was')\n",
        "text_6"
      ]
    },
    {
      "cell_type": "markdown",
      "metadata": {
        "id": "fosxRhYlCC1R"
      },
      "source": [
        "- 이제 문자열에 적용할 수 있는 다양한 메소드들 중에 유용한 몇 가지 메소드을 배워보자.  \n",
        "\n",
        "- upper method : 문자열을 모두 대문자로 바꿔준다."
      ]
    },
    {
      "cell_type": "code",
      "execution_count": null,
      "metadata": {
        "colab": {
          "base_uri": "https://localhost:8080/",
          "height": 35
        },
        "id": "8zF9tV1vCSFG",
        "outputId": "c72fcf74-0486-4d9d-c19b-0e546d4ec2c9"
      },
      "outputs": [
        {
          "output_type": "execute_result",
          "data": {
            "text/plain": [
              "'THERE IS A DESK'"
            ],
            "application/vnd.google.colaboratory.intrinsic+json": {
              "type": "string"
            }
          },
          "metadata": {},
          "execution_count": 104
        }
      ],
      "source": [
        "text_5.upper()"
      ]
    },
    {
      "cell_type": "markdown",
      "source": [
        "- count method : 괄호안에 주어진 문자열이 몇 번 나타나는지 알려준다."
      ],
      "metadata": {
        "id": "McHycrtk2Jvm"
      }
    },
    {
      "cell_type": "code",
      "execution_count": null,
      "metadata": {
        "colab": {
          "base_uri": "https://localhost:8080/"
        },
        "id": "B40HQQKcCsGH",
        "outputId": "dfb57946-fd96-4603-d864-6960e67c660a"
      },
      "outputs": [
        {
          "output_type": "execute_result",
          "data": {
            "text/plain": [
              "3"
            ]
          },
          "metadata": {},
          "execution_count": 105
        }
      ],
      "source": [
        "text_5.count('e')"
      ]
    },
    {
      "cell_type": "markdown",
      "source": [
        "- sep method : 지정된 문자열을 기준으로 분할하여 리스트로 저장한다."
      ],
      "metadata": {
        "id": "5jZGLPTZ2PNa"
      }
    },
    {
      "cell_type": "code",
      "execution_count": null,
      "metadata": {
        "colab": {
          "base_uri": "https://localhost:8080/"
        },
        "id": "IhADwww1CXXe",
        "outputId": "3158ddb4-3000-4d3e-e1cc-a7d1d4c16a79"
      },
      "outputs": [
        {
          "output_type": "execute_result",
          "data": {
            "text/plain": [
              "['There', 'is', 'a', 'desk']"
            ]
          },
          "metadata": {},
          "execution_count": 106
        }
      ],
      "source": [
        "text_5.split(sep = ' ')"
      ]
    },
    {
      "cell_type": "markdown",
      "metadata": {
        "id": "_Ibf9qed8hTq"
      },
      "source": [
        "--------------------------------------------------------------------------------"
      ]
    },
    {
      "cell_type": "markdown",
      "metadata": {
        "id": "5rBkuvW_9aUO"
      },
      "source": [
        "# 데이터프레임\n",
        "\n",
        "컴퓨터를 이용해서 자료를 처리하고 분석할 때 가장 많이 사용하는 형식은 MS EXCEL 의 스프레드 시트와 유사한 `dataframe` 형식이다.\n",
        "\n",
        "`dataframe` 형식은 아래와 같은 특징을 가지고 있다.\n",
        "\n",
        "\n",
        "- 행(row, 로우)은 전체 자료에서 하나의 구성 요소(entry, recored, unit)에 대한 데이터들로 이루어 진다.\n",
        "- 열(column, 컬럼)로  전체 자료에서 하나의 특성을 나타내는 데이터로 이루어 진다. 열은 같은 형식의 자료들로서 구성된다.\n",
        "- 각 행과 열은 이를 지칭하는 **인덱스(index)** 을 가지고 있으며 인덱스는 숫자 또는 문자로 정의된다.\n",
        "- 열을 나타내는 문자로 된 인덱스는 보통 **열이름(column name)** 이라고 부른다.\n",
        "\n",
        "\n",
        "![dataframe](https://pandas.pydata.org/docs/_images/01_table_dataframe.svg)\n",
        "\n",
        "데이터프레임은 `pandas` 라이브러리를 통해서 사용할 수 있다. 데이터프레임을 사용하는 경우 초기에 다음과 같이 `pandas` 라이브러리를 불러 주어야 한다.\n",
        "\n",
        "```\n",
        "import pandas as pd\n",
        "```\n",
        "\n",
        "`pandas` 라이브러리의 `dataframe`에 대한 기초적인 내용은 `pandas` 홈페이지의\n",
        "[데이터프레임 시작하기](https://pandas.pydata.org/docs/getting_started/intro_tutorials/index.html) 에 있으니 참고하자.\n",
        "\n",
        "\n"
      ]
    },
    {
      "cell_type": "markdown",
      "metadata": {
        "id": "3lVYjvy0fX64"
      },
      "source": [
        "## 데이터프레임의 정의와 구성요소"
      ]
    },
    {
      "cell_type": "code",
      "source": [
        "import pandas as pd"
      ],
      "metadata": {
        "id": "GajwaL6W29P5"
      },
      "execution_count": null,
      "outputs": []
    },
    {
      "cell_type": "markdown",
      "metadata": {
        "id": "TclbAxdgK7z3"
      },
      "source": [
        "- 데이터프레임을 정의해 보자. 다음은 5명의 이름, 성별, 나이, 키가 저장된 데이터프레임을 직접 만드는 코드이다.  "
      ]
    },
    {
      "cell_type": "code",
      "execution_count": null,
      "metadata": {
        "id": "9_bBF_a5Kqu7"
      },
      "outputs": [],
      "source": [
        "df = pd.DataFrame(\n",
        "    { 'name' : ['이철수', '김영희', '홍길동', 'John Smith', 'Mary Doe'],\n",
        "      'sex'  : ['M', 'F', 'M', 'M', 'F'],\n",
        "      'age'  : [ 23, 25, 21, 33, 45],\n",
        "      'height' : [153.5, 175.3, 163.4, 180.0, 165.7]\n",
        "    } )"
      ]
    },
    {
      "cell_type": "markdown",
      "source": [
        "- 위의 코드는 5명의 학생의 이름(name), 성별(sex), 나이(age), 키(height)로 구성된 5개의 행과 4개 열을 가진 데이터프레임 `df` 이다. `pd.DataFrame()` 는 `pd` 로 지정된 `pandas` 라이브러리의 함수 `DataFrame()` 을 사용하겠다는 의미이다. 라이브러리의 함수 `DataFrame`의 괄호 안에 인자는 괄호 `{` 로 시작하여 괄호 `}` 로 끝나는 표현식이 들어 간다.\n",
        "\n",
        "- 괄호 `{}` 안에 있는 첫 번째 요소는 이름을 나타내는 열을 만드는 표현식이며 열이름은 `name` 이고 원소들은 문자열(`str`)로 구성된 리스트이다.\n",
        "\n",
        "```\n",
        "'name' : ['이철수', '김영희', '홍길동', 'John Smith', 'Mary Doe']\n",
        "```\n",
        "\n",
        "-  괄호 `{}` 안에 있는 두 번째 요소는 성별을 나타내는 열을 만드는 표현식이며 열이름은 `sex` 이고 원소들은 문자열 `M` 과 `F` 로 구성된 리스트이다.\n",
        "\n",
        "```\n",
        "'sex'  : ['M', 'F', 'M', 'M', 'F']\n",
        "```\n",
        "\n",
        "- 괄호 `{}` 안에 있는 세 번째 요소는 나이을 나타내는 열을 만드는 표현식이며 열이름은 `age` 이고 원소들은 정수(`int`)로 구성된 리스트이다.\n",
        "\n",
        "```\n",
        "'age'  : [ 23, 25, 21, 33, 45]\n",
        "```\n",
        "\n",
        "- 괄호 `{}` 안에 있는 네 번째 요소는 키를 나타내는 열을 만드는 표현식이며 열이름은 `height` 이고 원소들은 부동소수점(`float`)로 구성된 리스트이다.\n",
        "\n",
        "```\n",
        "'height' : [153.5, 175.3, 163.4, 180.0, 165.7]\n",
        "```\n",
        "\n",
        "- 각 열을 나타내는 4개의 요소는 쉼표 `,` 로 분리한다.\n"
      ],
      "metadata": {
        "id": "uQmG5_6v3lXK"
      }
    },
    {
      "cell_type": "code",
      "execution_count": null,
      "metadata": {
        "colab": {
          "base_uri": "https://localhost:8080/",
          "height": 206
        },
        "id": "3jPaBoqNNTQw",
        "outputId": "b051d426-4a0d-4dae-debd-452741fc6129"
      },
      "outputs": [
        {
          "output_type": "execute_result",
          "data": {
            "text/plain": [
              "         name sex  age  height\n",
              "0         이철수   M   23   153.5\n",
              "1         김영희   F   25   175.3\n",
              "2         홍길동   M   21   163.4\n",
              "3  John Smith   M   33   180.0\n",
              "4    Mary Doe   F   45   165.7"
            ],
            "text/html": [
              "\n",
              "  <div id=\"df-2ea52e5f-09ac-410f-baf8-36e60089102a\" class=\"colab-df-container\">\n",
              "    <div>\n",
              "<style scoped>\n",
              "    .dataframe tbody tr th:only-of-type {\n",
              "        vertical-align: middle;\n",
              "    }\n",
              "\n",
              "    .dataframe tbody tr th {\n",
              "        vertical-align: top;\n",
              "    }\n",
              "\n",
              "    .dataframe thead th {\n",
              "        text-align: right;\n",
              "    }\n",
              "</style>\n",
              "<table border=\"1\" class=\"dataframe\">\n",
              "  <thead>\n",
              "    <tr style=\"text-align: right;\">\n",
              "      <th></th>\n",
              "      <th>name</th>\n",
              "      <th>sex</th>\n",
              "      <th>age</th>\n",
              "      <th>height</th>\n",
              "    </tr>\n",
              "  </thead>\n",
              "  <tbody>\n",
              "    <tr>\n",
              "      <th>0</th>\n",
              "      <td>이철수</td>\n",
              "      <td>M</td>\n",
              "      <td>23</td>\n",
              "      <td>153.5</td>\n",
              "    </tr>\n",
              "    <tr>\n",
              "      <th>1</th>\n",
              "      <td>김영희</td>\n",
              "      <td>F</td>\n",
              "      <td>25</td>\n",
              "      <td>175.3</td>\n",
              "    </tr>\n",
              "    <tr>\n",
              "      <th>2</th>\n",
              "      <td>홍길동</td>\n",
              "      <td>M</td>\n",
              "      <td>21</td>\n",
              "      <td>163.4</td>\n",
              "    </tr>\n",
              "    <tr>\n",
              "      <th>3</th>\n",
              "      <td>John Smith</td>\n",
              "      <td>M</td>\n",
              "      <td>33</td>\n",
              "      <td>180.0</td>\n",
              "    </tr>\n",
              "    <tr>\n",
              "      <th>4</th>\n",
              "      <td>Mary Doe</td>\n",
              "      <td>F</td>\n",
              "      <td>45</td>\n",
              "      <td>165.7</td>\n",
              "    </tr>\n",
              "  </tbody>\n",
              "</table>\n",
              "</div>\n",
              "    <div class=\"colab-df-buttons\">\n",
              "\n",
              "  <div class=\"colab-df-container\">\n",
              "    <button class=\"colab-df-convert\" onclick=\"convertToInteractive('df-2ea52e5f-09ac-410f-baf8-36e60089102a')\"\n",
              "            title=\"Convert this dataframe to an interactive table.\"\n",
              "            style=\"display:none;\">\n",
              "\n",
              "  <svg xmlns=\"http://www.w3.org/2000/svg\" height=\"24px\" viewBox=\"0 -960 960 960\">\n",
              "    <path d=\"M120-120v-720h720v720H120Zm60-500h600v-160H180v160Zm220 220h160v-160H400v160Zm0 220h160v-160H400v160ZM180-400h160v-160H180v160Zm440 0h160v-160H620v160ZM180-180h160v-160H180v160Zm440 0h160v-160H620v160Z\"/>\n",
              "  </svg>\n",
              "    </button>\n",
              "\n",
              "  <style>\n",
              "    .colab-df-container {\n",
              "      display:flex;\n",
              "      gap: 12px;\n",
              "    }\n",
              "\n",
              "    .colab-df-convert {\n",
              "      background-color: #E8F0FE;\n",
              "      border: none;\n",
              "      border-radius: 50%;\n",
              "      cursor: pointer;\n",
              "      display: none;\n",
              "      fill: #1967D2;\n",
              "      height: 32px;\n",
              "      padding: 0 0 0 0;\n",
              "      width: 32px;\n",
              "    }\n",
              "\n",
              "    .colab-df-convert:hover {\n",
              "      background-color: #E2EBFA;\n",
              "      box-shadow: 0px 1px 2px rgba(60, 64, 67, 0.3), 0px 1px 3px 1px rgba(60, 64, 67, 0.15);\n",
              "      fill: #174EA6;\n",
              "    }\n",
              "\n",
              "    .colab-df-buttons div {\n",
              "      margin-bottom: 4px;\n",
              "    }\n",
              "\n",
              "    [theme=dark] .colab-df-convert {\n",
              "      background-color: #3B4455;\n",
              "      fill: #D2E3FC;\n",
              "    }\n",
              "\n",
              "    [theme=dark] .colab-df-convert:hover {\n",
              "      background-color: #434B5C;\n",
              "      box-shadow: 0px 1px 3px 1px rgba(0, 0, 0, 0.15);\n",
              "      filter: drop-shadow(0px 1px 2px rgba(0, 0, 0, 0.3));\n",
              "      fill: #FFFFFF;\n",
              "    }\n",
              "  </style>\n",
              "\n",
              "    <script>\n",
              "      const buttonEl =\n",
              "        document.querySelector('#df-2ea52e5f-09ac-410f-baf8-36e60089102a button.colab-df-convert');\n",
              "      buttonEl.style.display =\n",
              "        google.colab.kernel.accessAllowed ? 'block' : 'none';\n",
              "\n",
              "      async function convertToInteractive(key) {\n",
              "        const element = document.querySelector('#df-2ea52e5f-09ac-410f-baf8-36e60089102a');\n",
              "        const dataTable =\n",
              "          await google.colab.kernel.invokeFunction('convertToInteractive',\n",
              "                                                    [key], {});\n",
              "        if (!dataTable) return;\n",
              "\n",
              "        const docLinkHtml = 'Like what you see? Visit the ' +\n",
              "          '<a target=\"_blank\" href=https://colab.research.google.com/notebooks/data_table.ipynb>data table notebook</a>'\n",
              "          + ' to learn more about interactive tables.';\n",
              "        element.innerHTML = '';\n",
              "        dataTable['output_type'] = 'display_data';\n",
              "        await google.colab.output.renderOutput(dataTable, element);\n",
              "        const docLink = document.createElement('div');\n",
              "        docLink.innerHTML = docLinkHtml;\n",
              "        element.appendChild(docLink);\n",
              "      }\n",
              "    </script>\n",
              "  </div>\n",
              "\n",
              "\n",
              "<div id=\"df-8763cce4-b9b7-444c-a94a-6965729e0082\">\n",
              "  <button class=\"colab-df-quickchart\" onclick=\"quickchart('df-8763cce4-b9b7-444c-a94a-6965729e0082')\"\n",
              "            title=\"Suggest charts\"\n",
              "            style=\"display:none;\">\n",
              "\n",
              "<svg xmlns=\"http://www.w3.org/2000/svg\" height=\"24px\"viewBox=\"0 0 24 24\"\n",
              "     width=\"24px\">\n",
              "    <g>\n",
              "        <path d=\"M19 3H5c-1.1 0-2 .9-2 2v14c0 1.1.9 2 2 2h14c1.1 0 2-.9 2-2V5c0-1.1-.9-2-2-2zM9 17H7v-7h2v7zm4 0h-2V7h2v10zm4 0h-2v-4h2v4z\"/>\n",
              "    </g>\n",
              "</svg>\n",
              "  </button>\n",
              "\n",
              "<style>\n",
              "  .colab-df-quickchart {\n",
              "      --bg-color: #E8F0FE;\n",
              "      --fill-color: #1967D2;\n",
              "      --hover-bg-color: #E2EBFA;\n",
              "      --hover-fill-color: #174EA6;\n",
              "      --disabled-fill-color: #AAA;\n",
              "      --disabled-bg-color: #DDD;\n",
              "  }\n",
              "\n",
              "  [theme=dark] .colab-df-quickchart {\n",
              "      --bg-color: #3B4455;\n",
              "      --fill-color: #D2E3FC;\n",
              "      --hover-bg-color: #434B5C;\n",
              "      --hover-fill-color: #FFFFFF;\n",
              "      --disabled-bg-color: #3B4455;\n",
              "      --disabled-fill-color: #666;\n",
              "  }\n",
              "\n",
              "  .colab-df-quickchart {\n",
              "    background-color: var(--bg-color);\n",
              "    border: none;\n",
              "    border-radius: 50%;\n",
              "    cursor: pointer;\n",
              "    display: none;\n",
              "    fill: var(--fill-color);\n",
              "    height: 32px;\n",
              "    padding: 0;\n",
              "    width: 32px;\n",
              "  }\n",
              "\n",
              "  .colab-df-quickchart:hover {\n",
              "    background-color: var(--hover-bg-color);\n",
              "    box-shadow: 0 1px 2px rgba(60, 64, 67, 0.3), 0 1px 3px 1px rgba(60, 64, 67, 0.15);\n",
              "    fill: var(--button-hover-fill-color);\n",
              "  }\n",
              "\n",
              "  .colab-df-quickchart-complete:disabled,\n",
              "  .colab-df-quickchart-complete:disabled:hover {\n",
              "    background-color: var(--disabled-bg-color);\n",
              "    fill: var(--disabled-fill-color);\n",
              "    box-shadow: none;\n",
              "  }\n",
              "\n",
              "  .colab-df-spinner {\n",
              "    border: 2px solid var(--fill-color);\n",
              "    border-color: transparent;\n",
              "    border-bottom-color: var(--fill-color);\n",
              "    animation:\n",
              "      spin 1s steps(1) infinite;\n",
              "  }\n",
              "\n",
              "  @keyframes spin {\n",
              "    0% {\n",
              "      border-color: transparent;\n",
              "      border-bottom-color: var(--fill-color);\n",
              "      border-left-color: var(--fill-color);\n",
              "    }\n",
              "    20% {\n",
              "      border-color: transparent;\n",
              "      border-left-color: var(--fill-color);\n",
              "      border-top-color: var(--fill-color);\n",
              "    }\n",
              "    30% {\n",
              "      border-color: transparent;\n",
              "      border-left-color: var(--fill-color);\n",
              "      border-top-color: var(--fill-color);\n",
              "      border-right-color: var(--fill-color);\n",
              "    }\n",
              "    40% {\n",
              "      border-color: transparent;\n",
              "      border-right-color: var(--fill-color);\n",
              "      border-top-color: var(--fill-color);\n",
              "    }\n",
              "    60% {\n",
              "      border-color: transparent;\n",
              "      border-right-color: var(--fill-color);\n",
              "    }\n",
              "    80% {\n",
              "      border-color: transparent;\n",
              "      border-right-color: var(--fill-color);\n",
              "      border-bottom-color: var(--fill-color);\n",
              "    }\n",
              "    90% {\n",
              "      border-color: transparent;\n",
              "      border-bottom-color: var(--fill-color);\n",
              "    }\n",
              "  }\n",
              "</style>\n",
              "\n",
              "  <script>\n",
              "    async function quickchart(key) {\n",
              "      const quickchartButtonEl =\n",
              "        document.querySelector('#' + key + ' button');\n",
              "      quickchartButtonEl.disabled = true;  // To prevent multiple clicks.\n",
              "      quickchartButtonEl.classList.add('colab-df-spinner');\n",
              "      try {\n",
              "        const charts = await google.colab.kernel.invokeFunction(\n",
              "            'suggestCharts', [key], {});\n",
              "      } catch (error) {\n",
              "        console.error('Error during call to suggestCharts:', error);\n",
              "      }\n",
              "      quickchartButtonEl.classList.remove('colab-df-spinner');\n",
              "      quickchartButtonEl.classList.add('colab-df-quickchart-complete');\n",
              "    }\n",
              "    (() => {\n",
              "      let quickchartButtonEl =\n",
              "        document.querySelector('#df-8763cce4-b9b7-444c-a94a-6965729e0082 button');\n",
              "      quickchartButtonEl.style.display =\n",
              "        google.colab.kernel.accessAllowed ? 'block' : 'none';\n",
              "    })();\n",
              "  </script>\n",
              "</div>\n",
              "\n",
              "  <div id=\"id_ccdcc5e2-9ec6-4596-bf5a-a231793e6b76\">\n",
              "    <style>\n",
              "      .colab-df-generate {\n",
              "        background-color: #E8F0FE;\n",
              "        border: none;\n",
              "        border-radius: 50%;\n",
              "        cursor: pointer;\n",
              "        display: none;\n",
              "        fill: #1967D2;\n",
              "        height: 32px;\n",
              "        padding: 0 0 0 0;\n",
              "        width: 32px;\n",
              "      }\n",
              "\n",
              "      .colab-df-generate:hover {\n",
              "        background-color: #E2EBFA;\n",
              "        box-shadow: 0px 1px 2px rgba(60, 64, 67, 0.3), 0px 1px 3px 1px rgba(60, 64, 67, 0.15);\n",
              "        fill: #174EA6;\n",
              "      }\n",
              "\n",
              "      [theme=dark] .colab-df-generate {\n",
              "        background-color: #3B4455;\n",
              "        fill: #D2E3FC;\n",
              "      }\n",
              "\n",
              "      [theme=dark] .colab-df-generate:hover {\n",
              "        background-color: #434B5C;\n",
              "        box-shadow: 0px 1px 3px 1px rgba(0, 0, 0, 0.15);\n",
              "        filter: drop-shadow(0px 1px 2px rgba(0, 0, 0, 0.3));\n",
              "        fill: #FFFFFF;\n",
              "      }\n",
              "    </style>\n",
              "    <button class=\"colab-df-generate\" onclick=\"generateWithVariable('df')\"\n",
              "            title=\"Generate code using this dataframe.\"\n",
              "            style=\"display:none;\">\n",
              "\n",
              "  <svg xmlns=\"http://www.w3.org/2000/svg\" height=\"24px\"viewBox=\"0 0 24 24\"\n",
              "       width=\"24px\">\n",
              "    <path d=\"M7,19H8.4L18.45,9,17,7.55,7,17.6ZM5,21V16.75L18.45,3.32a2,2,0,0,1,2.83,0l1.4,1.43a1.91,1.91,0,0,1,.58,1.4,1.91,1.91,0,0,1-.58,1.4L9.25,21ZM18.45,9,17,7.55Zm-12,3A5.31,5.31,0,0,0,4.9,8.1,5.31,5.31,0,0,0,1,6.5,5.31,5.31,0,0,0,4.9,4.9,5.31,5.31,0,0,0,6.5,1,5.31,5.31,0,0,0,8.1,4.9,5.31,5.31,0,0,0,12,6.5,5.46,5.46,0,0,0,6.5,12Z\"/>\n",
              "  </svg>\n",
              "    </button>\n",
              "    <script>\n",
              "      (() => {\n",
              "      const buttonEl =\n",
              "        document.querySelector('#id_ccdcc5e2-9ec6-4596-bf5a-a231793e6b76 button.colab-df-generate');\n",
              "      buttonEl.style.display =\n",
              "        google.colab.kernel.accessAllowed ? 'block' : 'none';\n",
              "\n",
              "      buttonEl.onclick = () => {\n",
              "        google.colab.notebook.generateWithVariable('df');\n",
              "      }\n",
              "      })();\n",
              "    </script>\n",
              "  </div>\n",
              "\n",
              "    </div>\n",
              "  </div>\n"
            ],
            "application/vnd.google.colaboratory.intrinsic+json": {
              "type": "dataframe",
              "variable_name": "df",
              "summary": "{\n  \"name\": \"df\",\n  \"rows\": 5,\n  \"fields\": [\n    {\n      \"column\": \"name\",\n      \"properties\": {\n        \"dtype\": \"string\",\n        \"num_unique_values\": 5,\n        \"samples\": [\n          \"\\uae40\\uc601\\ud76c\",\n          \"Mary Doe\",\n          \"\\ud64d\\uae38\\ub3d9\"\n        ],\n        \"semantic_type\": \"\",\n        \"description\": \"\"\n      }\n    },\n    {\n      \"column\": \"sex\",\n      \"properties\": {\n        \"dtype\": \"category\",\n        \"num_unique_values\": 2,\n        \"samples\": [\n          \"F\",\n          \"M\"\n        ],\n        \"semantic_type\": \"\",\n        \"description\": \"\"\n      }\n    },\n    {\n      \"column\": \"age\",\n      \"properties\": {\n        \"dtype\": \"number\",\n        \"std\": 9,\n        \"min\": 21,\n        \"max\": 45,\n        \"num_unique_values\": 5,\n        \"samples\": [\n          25,\n          45\n        ],\n        \"semantic_type\": \"\",\n        \"description\": \"\"\n      }\n    },\n    {\n      \"column\": \"height\",\n      \"properties\": {\n        \"dtype\": \"number\",\n        \"std\": 10.405623479638308,\n        \"min\": 153.5,\n        \"max\": 180.0,\n        \"num_unique_values\": 5,\n        \"samples\": [\n          175.3,\n          165.7\n        ],\n        \"semantic_type\": \"\",\n        \"description\": \"\"\n      }\n    }\n  ]\n}"
            }
          },
          "metadata": {},
          "execution_count": 3
        }
      ],
      "source": [
        "df"
      ]
    },
    {
      "cell_type": "markdown",
      "source": [
        "- 각 행을 나타내는 인덱스는 0으로 시작하는 정수 0,1,2,3,4 로 나타나고 각 열을 나타내는 인덱스(열이름)는\n",
        "문자열로 나타나며 `name`,\t`sex`,\t`age`,\t`height` 로 나타난다.\n",
        "- 이러한 자료의 구조를 보는 메소드는 `info`가 있다."
      ],
      "metadata": {
        "id": "r68CCo993DKz"
      }
    },
    {
      "cell_type": "code",
      "source": [
        "df.info()"
      ],
      "metadata": {
        "colab": {
          "base_uri": "https://localhost:8080/"
        },
        "id": "olaYV2alfRSv",
        "outputId": "4a3c378f-5740-4e42-db2c-d9a76a9c3100"
      },
      "execution_count": null,
      "outputs": [
        {
          "output_type": "stream",
          "name": "stdout",
          "text": [
            "<class 'pandas.core.frame.DataFrame'>\n",
            "RangeIndex: 5 entries, 0 to 4\n",
            "Data columns (total 4 columns):\n",
            " #   Column  Non-Null Count  Dtype  \n",
            "---  ------  --------------  -----  \n",
            " 0   name    5 non-null      object \n",
            " 1   sex     5 non-null      object \n",
            " 2   age     5 non-null      int64  \n",
            " 3   height  5 non-null      float64\n",
            "dtypes: float64(1), int64(1), object(2)\n",
            "memory usage: 288.0+ bytes\n"
          ]
        }
      ]
    },
    {
      "cell_type": "markdown",
      "metadata": {
        "id": "DAi24beGfdJv"
      },
      "source": [
        "## 열 선택\n",
        "- 데이터프레임에서 열 (column)을 선택할때, 괄호 `[]` 안에 열이름 또는 열이름으로 구성된 리스트를 넣어서 일부의 열을 선택할 수 있다.\n",
        "\n",
        "- 데이터프레임에서 열 또는 행의 일부를 선택하여 추출하는 작업을 **슬라이싱(slicing)** 이라고 한다.\n",
        "\n"
      ]
    },
    {
      "cell_type": "code",
      "execution_count": null,
      "metadata": {
        "colab": {
          "base_uri": "https://localhost:8080/",
          "height": 241
        },
        "id": "-pK-jjn3NUEr",
        "outputId": "dbbc84c1-d157-46c0-b780-9b9dea9296d5"
      },
      "outputs": [
        {
          "output_type": "execute_result",
          "data": {
            "text/plain": [
              "0           이철수\n",
              "1           김영희\n",
              "2           홍길동\n",
              "3    John Smith\n",
              "4      Mary Doe\n",
              "Name: name, dtype: object"
            ],
            "text/html": [
              "<div>\n",
              "<style scoped>\n",
              "    .dataframe tbody tr th:only-of-type {\n",
              "        vertical-align: middle;\n",
              "    }\n",
              "\n",
              "    .dataframe tbody tr th {\n",
              "        vertical-align: top;\n",
              "    }\n",
              "\n",
              "    .dataframe thead th {\n",
              "        text-align: right;\n",
              "    }\n",
              "</style>\n",
              "<table border=\"1\" class=\"dataframe\">\n",
              "  <thead>\n",
              "    <tr style=\"text-align: right;\">\n",
              "      <th></th>\n",
              "      <th>name</th>\n",
              "    </tr>\n",
              "  </thead>\n",
              "  <tbody>\n",
              "    <tr>\n",
              "      <th>0</th>\n",
              "      <td>이철수</td>\n",
              "    </tr>\n",
              "    <tr>\n",
              "      <th>1</th>\n",
              "      <td>김영희</td>\n",
              "    </tr>\n",
              "    <tr>\n",
              "      <th>2</th>\n",
              "      <td>홍길동</td>\n",
              "    </tr>\n",
              "    <tr>\n",
              "      <th>3</th>\n",
              "      <td>John Smith</td>\n",
              "    </tr>\n",
              "    <tr>\n",
              "      <th>4</th>\n",
              "      <td>Mary Doe</td>\n",
              "    </tr>\n",
              "  </tbody>\n",
              "</table>\n",
              "</div><br><label><b>dtype:</b> object</label>"
            ]
          },
          "metadata": {},
          "execution_count": 112
        }
      ],
      "source": [
        "df['name']"
      ]
    },
    {
      "cell_type": "code",
      "execution_count": null,
      "metadata": {
        "colab": {
          "base_uri": "https://localhost:8080/",
          "height": 206
        },
        "id": "6iPSIFL3OgSR",
        "outputId": "eff531b0-88ba-4a12-c63a-8df624a67dc2"
      },
      "outputs": [
        {
          "output_type": "execute_result",
          "data": {
            "text/plain": [
              "   age  height\n",
              "0   23   153.5\n",
              "1   25   175.3\n",
              "2   21   163.4\n",
              "3   33   180.0\n",
              "4   45   165.7"
            ],
            "text/html": [
              "\n",
              "  <div id=\"df-60b42209-943c-478f-a3d3-4435fb76c146\" class=\"colab-df-container\">\n",
              "    <div>\n",
              "<style scoped>\n",
              "    .dataframe tbody tr th:only-of-type {\n",
              "        vertical-align: middle;\n",
              "    }\n",
              "\n",
              "    .dataframe tbody tr th {\n",
              "        vertical-align: top;\n",
              "    }\n",
              "\n",
              "    .dataframe thead th {\n",
              "        text-align: right;\n",
              "    }\n",
              "</style>\n",
              "<table border=\"1\" class=\"dataframe\">\n",
              "  <thead>\n",
              "    <tr style=\"text-align: right;\">\n",
              "      <th></th>\n",
              "      <th>age</th>\n",
              "      <th>height</th>\n",
              "    </tr>\n",
              "  </thead>\n",
              "  <tbody>\n",
              "    <tr>\n",
              "      <th>0</th>\n",
              "      <td>23</td>\n",
              "      <td>153.5</td>\n",
              "    </tr>\n",
              "    <tr>\n",
              "      <th>1</th>\n",
              "      <td>25</td>\n",
              "      <td>175.3</td>\n",
              "    </tr>\n",
              "    <tr>\n",
              "      <th>2</th>\n",
              "      <td>21</td>\n",
              "      <td>163.4</td>\n",
              "    </tr>\n",
              "    <tr>\n",
              "      <th>3</th>\n",
              "      <td>33</td>\n",
              "      <td>180.0</td>\n",
              "    </tr>\n",
              "    <tr>\n",
              "      <th>4</th>\n",
              "      <td>45</td>\n",
              "      <td>165.7</td>\n",
              "    </tr>\n",
              "  </tbody>\n",
              "</table>\n",
              "</div>\n",
              "    <div class=\"colab-df-buttons\">\n",
              "\n",
              "  <div class=\"colab-df-container\">\n",
              "    <button class=\"colab-df-convert\" onclick=\"convertToInteractive('df-60b42209-943c-478f-a3d3-4435fb76c146')\"\n",
              "            title=\"Convert this dataframe to an interactive table.\"\n",
              "            style=\"display:none;\">\n",
              "\n",
              "  <svg xmlns=\"http://www.w3.org/2000/svg\" height=\"24px\" viewBox=\"0 -960 960 960\">\n",
              "    <path d=\"M120-120v-720h720v720H120Zm60-500h600v-160H180v160Zm220 220h160v-160H400v160Zm0 220h160v-160H400v160ZM180-400h160v-160H180v160Zm440 0h160v-160H620v160ZM180-180h160v-160H180v160Zm440 0h160v-160H620v160Z\"/>\n",
              "  </svg>\n",
              "    </button>\n",
              "\n",
              "  <style>\n",
              "    .colab-df-container {\n",
              "      display:flex;\n",
              "      gap: 12px;\n",
              "    }\n",
              "\n",
              "    .colab-df-convert {\n",
              "      background-color: #E8F0FE;\n",
              "      border: none;\n",
              "      border-radius: 50%;\n",
              "      cursor: pointer;\n",
              "      display: none;\n",
              "      fill: #1967D2;\n",
              "      height: 32px;\n",
              "      padding: 0 0 0 0;\n",
              "      width: 32px;\n",
              "    }\n",
              "\n",
              "    .colab-df-convert:hover {\n",
              "      background-color: #E2EBFA;\n",
              "      box-shadow: 0px 1px 2px rgba(60, 64, 67, 0.3), 0px 1px 3px 1px rgba(60, 64, 67, 0.15);\n",
              "      fill: #174EA6;\n",
              "    }\n",
              "\n",
              "    .colab-df-buttons div {\n",
              "      margin-bottom: 4px;\n",
              "    }\n",
              "\n",
              "    [theme=dark] .colab-df-convert {\n",
              "      background-color: #3B4455;\n",
              "      fill: #D2E3FC;\n",
              "    }\n",
              "\n",
              "    [theme=dark] .colab-df-convert:hover {\n",
              "      background-color: #434B5C;\n",
              "      box-shadow: 0px 1px 3px 1px rgba(0, 0, 0, 0.15);\n",
              "      filter: drop-shadow(0px 1px 2px rgba(0, 0, 0, 0.3));\n",
              "      fill: #FFFFFF;\n",
              "    }\n",
              "  </style>\n",
              "\n",
              "    <script>\n",
              "      const buttonEl =\n",
              "        document.querySelector('#df-60b42209-943c-478f-a3d3-4435fb76c146 button.colab-df-convert');\n",
              "      buttonEl.style.display =\n",
              "        google.colab.kernel.accessAllowed ? 'block' : 'none';\n",
              "\n",
              "      async function convertToInteractive(key) {\n",
              "        const element = document.querySelector('#df-60b42209-943c-478f-a3d3-4435fb76c146');\n",
              "        const dataTable =\n",
              "          await google.colab.kernel.invokeFunction('convertToInteractive',\n",
              "                                                    [key], {});\n",
              "        if (!dataTable) return;\n",
              "\n",
              "        const docLinkHtml = 'Like what you see? Visit the ' +\n",
              "          '<a target=\"_blank\" href=https://colab.research.google.com/notebooks/data_table.ipynb>data table notebook</a>'\n",
              "          + ' to learn more about interactive tables.';\n",
              "        element.innerHTML = '';\n",
              "        dataTable['output_type'] = 'display_data';\n",
              "        await google.colab.output.renderOutput(dataTable, element);\n",
              "        const docLink = document.createElement('div');\n",
              "        docLink.innerHTML = docLinkHtml;\n",
              "        element.appendChild(docLink);\n",
              "      }\n",
              "    </script>\n",
              "  </div>\n",
              "\n",
              "\n",
              "<div id=\"df-37c37c97-b6cd-4dca-a18b-ddcd110ac09d\">\n",
              "  <button class=\"colab-df-quickchart\" onclick=\"quickchart('df-37c37c97-b6cd-4dca-a18b-ddcd110ac09d')\"\n",
              "            title=\"Suggest charts\"\n",
              "            style=\"display:none;\">\n",
              "\n",
              "<svg xmlns=\"http://www.w3.org/2000/svg\" height=\"24px\"viewBox=\"0 0 24 24\"\n",
              "     width=\"24px\">\n",
              "    <g>\n",
              "        <path d=\"M19 3H5c-1.1 0-2 .9-2 2v14c0 1.1.9 2 2 2h14c1.1 0 2-.9 2-2V5c0-1.1-.9-2-2-2zM9 17H7v-7h2v7zm4 0h-2V7h2v10zm4 0h-2v-4h2v4z\"/>\n",
              "    </g>\n",
              "</svg>\n",
              "  </button>\n",
              "\n",
              "<style>\n",
              "  .colab-df-quickchart {\n",
              "      --bg-color: #E8F0FE;\n",
              "      --fill-color: #1967D2;\n",
              "      --hover-bg-color: #E2EBFA;\n",
              "      --hover-fill-color: #174EA6;\n",
              "      --disabled-fill-color: #AAA;\n",
              "      --disabled-bg-color: #DDD;\n",
              "  }\n",
              "\n",
              "  [theme=dark] .colab-df-quickchart {\n",
              "      --bg-color: #3B4455;\n",
              "      --fill-color: #D2E3FC;\n",
              "      --hover-bg-color: #434B5C;\n",
              "      --hover-fill-color: #FFFFFF;\n",
              "      --disabled-bg-color: #3B4455;\n",
              "      --disabled-fill-color: #666;\n",
              "  }\n",
              "\n",
              "  .colab-df-quickchart {\n",
              "    background-color: var(--bg-color);\n",
              "    border: none;\n",
              "    border-radius: 50%;\n",
              "    cursor: pointer;\n",
              "    display: none;\n",
              "    fill: var(--fill-color);\n",
              "    height: 32px;\n",
              "    padding: 0;\n",
              "    width: 32px;\n",
              "  }\n",
              "\n",
              "  .colab-df-quickchart:hover {\n",
              "    background-color: var(--hover-bg-color);\n",
              "    box-shadow: 0 1px 2px rgba(60, 64, 67, 0.3), 0 1px 3px 1px rgba(60, 64, 67, 0.15);\n",
              "    fill: var(--button-hover-fill-color);\n",
              "  }\n",
              "\n",
              "  .colab-df-quickchart-complete:disabled,\n",
              "  .colab-df-quickchart-complete:disabled:hover {\n",
              "    background-color: var(--disabled-bg-color);\n",
              "    fill: var(--disabled-fill-color);\n",
              "    box-shadow: none;\n",
              "  }\n",
              "\n",
              "  .colab-df-spinner {\n",
              "    border: 2px solid var(--fill-color);\n",
              "    border-color: transparent;\n",
              "    border-bottom-color: var(--fill-color);\n",
              "    animation:\n",
              "      spin 1s steps(1) infinite;\n",
              "  }\n",
              "\n",
              "  @keyframes spin {\n",
              "    0% {\n",
              "      border-color: transparent;\n",
              "      border-bottom-color: var(--fill-color);\n",
              "      border-left-color: var(--fill-color);\n",
              "    }\n",
              "    20% {\n",
              "      border-color: transparent;\n",
              "      border-left-color: var(--fill-color);\n",
              "      border-top-color: var(--fill-color);\n",
              "    }\n",
              "    30% {\n",
              "      border-color: transparent;\n",
              "      border-left-color: var(--fill-color);\n",
              "      border-top-color: var(--fill-color);\n",
              "      border-right-color: var(--fill-color);\n",
              "    }\n",
              "    40% {\n",
              "      border-color: transparent;\n",
              "      border-right-color: var(--fill-color);\n",
              "      border-top-color: var(--fill-color);\n",
              "    }\n",
              "    60% {\n",
              "      border-color: transparent;\n",
              "      border-right-color: var(--fill-color);\n",
              "    }\n",
              "    80% {\n",
              "      border-color: transparent;\n",
              "      border-right-color: var(--fill-color);\n",
              "      border-bottom-color: var(--fill-color);\n",
              "    }\n",
              "    90% {\n",
              "      border-color: transparent;\n",
              "      border-bottom-color: var(--fill-color);\n",
              "    }\n",
              "  }\n",
              "</style>\n",
              "\n",
              "  <script>\n",
              "    async function quickchart(key) {\n",
              "      const quickchartButtonEl =\n",
              "        document.querySelector('#' + key + ' button');\n",
              "      quickchartButtonEl.disabled = true;  // To prevent multiple clicks.\n",
              "      quickchartButtonEl.classList.add('colab-df-spinner');\n",
              "      try {\n",
              "        const charts = await google.colab.kernel.invokeFunction(\n",
              "            'suggestCharts', [key], {});\n",
              "      } catch (error) {\n",
              "        console.error('Error during call to suggestCharts:', error);\n",
              "      }\n",
              "      quickchartButtonEl.classList.remove('colab-df-spinner');\n",
              "      quickchartButtonEl.classList.add('colab-df-quickchart-complete');\n",
              "    }\n",
              "    (() => {\n",
              "      let quickchartButtonEl =\n",
              "        document.querySelector('#df-37c37c97-b6cd-4dca-a18b-ddcd110ac09d button');\n",
              "      quickchartButtonEl.style.display =\n",
              "        google.colab.kernel.accessAllowed ? 'block' : 'none';\n",
              "    })();\n",
              "  </script>\n",
              "</div>\n",
              "\n",
              "    </div>\n",
              "  </div>\n"
            ],
            "application/vnd.google.colaboratory.intrinsic+json": {
              "type": "dataframe",
              "summary": "{\n  \"name\": \"df[['age', 'height']]\",\n  \"rows\": 5,\n  \"fields\": [\n    {\n      \"column\": \"age\",\n      \"properties\": {\n        \"dtype\": \"number\",\n        \"std\": 9,\n        \"min\": 21,\n        \"max\": 45,\n        \"num_unique_values\": 5,\n        \"samples\": [\n          25,\n          45,\n          21\n        ],\n        \"semantic_type\": \"\",\n        \"description\": \"\"\n      }\n    },\n    {\n      \"column\": \"height\",\n      \"properties\": {\n        \"dtype\": \"number\",\n        \"std\": 10.405623479638308,\n        \"min\": 153.5,\n        \"max\": 180.0,\n        \"num_unique_values\": 5,\n        \"samples\": [\n          175.3,\n          165.7,\n          163.4\n        ],\n        \"semantic_type\": \"\",\n        \"description\": \"\"\n      }\n    }\n  ]\n}"
            }
          },
          "metadata": {},
          "execution_count": 113
        }
      ],
      "source": [
        "df[['age', 'height']]"
      ]
    },
    {
      "cell_type": "markdown",
      "metadata": {
        "id": "X8wOYUH6SWta"
      },
      "source": [
        "- 하나의 열만 슬라이싱하는 경우는 데이터프레임 이름 뒤에 `.열이름`형태로 가져올 수 있다."
      ]
    },
    {
      "cell_type": "code",
      "execution_count": null,
      "metadata": {
        "colab": {
          "base_uri": "https://localhost:8080/",
          "height": 241
        },
        "id": "u3yWecAXSWOf",
        "outputId": "f34c1351-7dba-4dcb-81cf-db5d06736caa"
      },
      "outputs": [
        {
          "output_type": "execute_result",
          "data": {
            "text/plain": [
              "0    M\n",
              "1    F\n",
              "2    M\n",
              "3    M\n",
              "4    F\n",
              "Name: sex, dtype: object"
            ],
            "text/html": [
              "<div>\n",
              "<style scoped>\n",
              "    .dataframe tbody tr th:only-of-type {\n",
              "        vertical-align: middle;\n",
              "    }\n",
              "\n",
              "    .dataframe tbody tr th {\n",
              "        vertical-align: top;\n",
              "    }\n",
              "\n",
              "    .dataframe thead th {\n",
              "        text-align: right;\n",
              "    }\n",
              "</style>\n",
              "<table border=\"1\" class=\"dataframe\">\n",
              "  <thead>\n",
              "    <tr style=\"text-align: right;\">\n",
              "      <th></th>\n",
              "      <th>sex</th>\n",
              "    </tr>\n",
              "  </thead>\n",
              "  <tbody>\n",
              "    <tr>\n",
              "      <th>0</th>\n",
              "      <td>M</td>\n",
              "    </tr>\n",
              "    <tr>\n",
              "      <th>1</th>\n",
              "      <td>F</td>\n",
              "    </tr>\n",
              "    <tr>\n",
              "      <th>2</th>\n",
              "      <td>M</td>\n",
              "    </tr>\n",
              "    <tr>\n",
              "      <th>3</th>\n",
              "      <td>M</td>\n",
              "    </tr>\n",
              "    <tr>\n",
              "      <th>4</th>\n",
              "      <td>F</td>\n",
              "    </tr>\n",
              "  </tbody>\n",
              "</table>\n",
              "</div><br><label><b>dtype:</b> object</label>"
            ]
          },
          "metadata": {},
          "execution_count": 115
        }
      ],
      "source": [
        "df.sex"
      ]
    },
    {
      "cell_type": "markdown",
      "metadata": {
        "id": "3y2mvOuCfhAK"
      },
      "source": [
        "## 행 선택\n",
        "- 행 선택은 특정행의 숫자를 지정해 가져오거나, 특정 조건을 만족하는 행을 가져오는 작업을 한다.\n",
        "\n",
        "- 두번째 작업의 진행은 데이터프레임 뒤 괄호 `[]` 안에 비교연산자를 이용한 조건 표현식을 넣어주면 조건이 만족하는 행만 추출된다.\n",
        "\n",
        "- 다른 말로, 데이터프레임에서 행을 조건에 따라서 슬라이싱 할 때 `진리값`을 적용합니다. 그렇기에, 여러 조건을 이용할 경우, 진리값에 대한 연산을 이용한다.\n",
        "\n",
        "- 이때 사용되는 연산자는 논리 연산자이며, 여러 표현식을 연결할 경우 **또는(OR)** 은 `|` 을 사용하고 **그리고(AND)** 는 `&` 를 사용한다.\n",
        "\n",
        "- 참고로 두 개 이상의 비교 표현식을 연결할 경우 사용하는 연산자 `|` 와 `&` 는 비트단위연산자(bit-wise operator) 라고 부른다. 데이터프레임에 조건식을 사용하여 슬라이싱 할 경우 논리연산자 `or` 와 `and` 는 사용할 수 없다.\n",
        "\n",
        "- 예를 들어 남자 구성원을 다음과 같이 슬라이싱할 수 있다."
      ]
    },
    {
      "cell_type": "code",
      "execution_count": null,
      "metadata": {
        "colab": {
          "base_uri": "https://localhost:8080/",
          "height": 143
        },
        "id": "y7cDjwtgSU2p",
        "outputId": "8eef3284-cc4f-4f3a-fef0-b61ad91db0fa"
      },
      "outputs": [
        {
          "output_type": "execute_result",
          "data": {
            "text/plain": [
              "         name sex  age  height\n",
              "0         이철수   M   23   153.5\n",
              "2         홍길동   M   21   163.4\n",
              "3  John Smith   M   33   180.0"
            ],
            "text/html": [
              "\n",
              "  <div id=\"df-18fe392b-34fa-4af8-b9a2-7cd2c0b7797c\" class=\"colab-df-container\">\n",
              "    <div>\n",
              "<style scoped>\n",
              "    .dataframe tbody tr th:only-of-type {\n",
              "        vertical-align: middle;\n",
              "    }\n",
              "\n",
              "    .dataframe tbody tr th {\n",
              "        vertical-align: top;\n",
              "    }\n",
              "\n",
              "    .dataframe thead th {\n",
              "        text-align: right;\n",
              "    }\n",
              "</style>\n",
              "<table border=\"1\" class=\"dataframe\">\n",
              "  <thead>\n",
              "    <tr style=\"text-align: right;\">\n",
              "      <th></th>\n",
              "      <th>name</th>\n",
              "      <th>sex</th>\n",
              "      <th>age</th>\n",
              "      <th>height</th>\n",
              "    </tr>\n",
              "  </thead>\n",
              "  <tbody>\n",
              "    <tr>\n",
              "      <th>0</th>\n",
              "      <td>이철수</td>\n",
              "      <td>M</td>\n",
              "      <td>23</td>\n",
              "      <td>153.5</td>\n",
              "    </tr>\n",
              "    <tr>\n",
              "      <th>2</th>\n",
              "      <td>홍길동</td>\n",
              "      <td>M</td>\n",
              "      <td>21</td>\n",
              "      <td>163.4</td>\n",
              "    </tr>\n",
              "    <tr>\n",
              "      <th>3</th>\n",
              "      <td>John Smith</td>\n",
              "      <td>M</td>\n",
              "      <td>33</td>\n",
              "      <td>180.0</td>\n",
              "    </tr>\n",
              "  </tbody>\n",
              "</table>\n",
              "</div>\n",
              "    <div class=\"colab-df-buttons\">\n",
              "\n",
              "  <div class=\"colab-df-container\">\n",
              "    <button class=\"colab-df-convert\" onclick=\"convertToInteractive('df-18fe392b-34fa-4af8-b9a2-7cd2c0b7797c')\"\n",
              "            title=\"Convert this dataframe to an interactive table.\"\n",
              "            style=\"display:none;\">\n",
              "\n",
              "  <svg xmlns=\"http://www.w3.org/2000/svg\" height=\"24px\" viewBox=\"0 -960 960 960\">\n",
              "    <path d=\"M120-120v-720h720v720H120Zm60-500h600v-160H180v160Zm220 220h160v-160H400v160Zm0 220h160v-160H400v160ZM180-400h160v-160H180v160Zm440 0h160v-160H620v160ZM180-180h160v-160H180v160Zm440 0h160v-160H620v160Z\"/>\n",
              "  </svg>\n",
              "    </button>\n",
              "\n",
              "  <style>\n",
              "    .colab-df-container {\n",
              "      display:flex;\n",
              "      gap: 12px;\n",
              "    }\n",
              "\n",
              "    .colab-df-convert {\n",
              "      background-color: #E8F0FE;\n",
              "      border: none;\n",
              "      border-radius: 50%;\n",
              "      cursor: pointer;\n",
              "      display: none;\n",
              "      fill: #1967D2;\n",
              "      height: 32px;\n",
              "      padding: 0 0 0 0;\n",
              "      width: 32px;\n",
              "    }\n",
              "\n",
              "    .colab-df-convert:hover {\n",
              "      background-color: #E2EBFA;\n",
              "      box-shadow: 0px 1px 2px rgba(60, 64, 67, 0.3), 0px 1px 3px 1px rgba(60, 64, 67, 0.15);\n",
              "      fill: #174EA6;\n",
              "    }\n",
              "\n",
              "    .colab-df-buttons div {\n",
              "      margin-bottom: 4px;\n",
              "    }\n",
              "\n",
              "    [theme=dark] .colab-df-convert {\n",
              "      background-color: #3B4455;\n",
              "      fill: #D2E3FC;\n",
              "    }\n",
              "\n",
              "    [theme=dark] .colab-df-convert:hover {\n",
              "      background-color: #434B5C;\n",
              "      box-shadow: 0px 1px 3px 1px rgba(0, 0, 0, 0.15);\n",
              "      filter: drop-shadow(0px 1px 2px rgba(0, 0, 0, 0.3));\n",
              "      fill: #FFFFFF;\n",
              "    }\n",
              "  </style>\n",
              "\n",
              "    <script>\n",
              "      const buttonEl =\n",
              "        document.querySelector('#df-18fe392b-34fa-4af8-b9a2-7cd2c0b7797c button.colab-df-convert');\n",
              "      buttonEl.style.display =\n",
              "        google.colab.kernel.accessAllowed ? 'block' : 'none';\n",
              "\n",
              "      async function convertToInteractive(key) {\n",
              "        const element = document.querySelector('#df-18fe392b-34fa-4af8-b9a2-7cd2c0b7797c');\n",
              "        const dataTable =\n",
              "          await google.colab.kernel.invokeFunction('convertToInteractive',\n",
              "                                                    [key], {});\n",
              "        if (!dataTable) return;\n",
              "\n",
              "        const docLinkHtml = 'Like what you see? Visit the ' +\n",
              "          '<a target=\"_blank\" href=https://colab.research.google.com/notebooks/data_table.ipynb>data table notebook</a>'\n",
              "          + ' to learn more about interactive tables.';\n",
              "        element.innerHTML = '';\n",
              "        dataTable['output_type'] = 'display_data';\n",
              "        await google.colab.output.renderOutput(dataTable, element);\n",
              "        const docLink = document.createElement('div');\n",
              "        docLink.innerHTML = docLinkHtml;\n",
              "        element.appendChild(docLink);\n",
              "      }\n",
              "    </script>\n",
              "  </div>\n",
              "\n",
              "\n",
              "<div id=\"df-5ca6b94f-cd41-4c20-9085-eb73a1104ec2\">\n",
              "  <button class=\"colab-df-quickchart\" onclick=\"quickchart('df-5ca6b94f-cd41-4c20-9085-eb73a1104ec2')\"\n",
              "            title=\"Suggest charts\"\n",
              "            style=\"display:none;\">\n",
              "\n",
              "<svg xmlns=\"http://www.w3.org/2000/svg\" height=\"24px\"viewBox=\"0 0 24 24\"\n",
              "     width=\"24px\">\n",
              "    <g>\n",
              "        <path d=\"M19 3H5c-1.1 0-2 .9-2 2v14c0 1.1.9 2 2 2h14c1.1 0 2-.9 2-2V5c0-1.1-.9-2-2-2zM9 17H7v-7h2v7zm4 0h-2V7h2v10zm4 0h-2v-4h2v4z\"/>\n",
              "    </g>\n",
              "</svg>\n",
              "  </button>\n",
              "\n",
              "<style>\n",
              "  .colab-df-quickchart {\n",
              "      --bg-color: #E8F0FE;\n",
              "      --fill-color: #1967D2;\n",
              "      --hover-bg-color: #E2EBFA;\n",
              "      --hover-fill-color: #174EA6;\n",
              "      --disabled-fill-color: #AAA;\n",
              "      --disabled-bg-color: #DDD;\n",
              "  }\n",
              "\n",
              "  [theme=dark] .colab-df-quickchart {\n",
              "      --bg-color: #3B4455;\n",
              "      --fill-color: #D2E3FC;\n",
              "      --hover-bg-color: #434B5C;\n",
              "      --hover-fill-color: #FFFFFF;\n",
              "      --disabled-bg-color: #3B4455;\n",
              "      --disabled-fill-color: #666;\n",
              "  }\n",
              "\n",
              "  .colab-df-quickchart {\n",
              "    background-color: var(--bg-color);\n",
              "    border: none;\n",
              "    border-radius: 50%;\n",
              "    cursor: pointer;\n",
              "    display: none;\n",
              "    fill: var(--fill-color);\n",
              "    height: 32px;\n",
              "    padding: 0;\n",
              "    width: 32px;\n",
              "  }\n",
              "\n",
              "  .colab-df-quickchart:hover {\n",
              "    background-color: var(--hover-bg-color);\n",
              "    box-shadow: 0 1px 2px rgba(60, 64, 67, 0.3), 0 1px 3px 1px rgba(60, 64, 67, 0.15);\n",
              "    fill: var(--button-hover-fill-color);\n",
              "  }\n",
              "\n",
              "  .colab-df-quickchart-complete:disabled,\n",
              "  .colab-df-quickchart-complete:disabled:hover {\n",
              "    background-color: var(--disabled-bg-color);\n",
              "    fill: var(--disabled-fill-color);\n",
              "    box-shadow: none;\n",
              "  }\n",
              "\n",
              "  .colab-df-spinner {\n",
              "    border: 2px solid var(--fill-color);\n",
              "    border-color: transparent;\n",
              "    border-bottom-color: var(--fill-color);\n",
              "    animation:\n",
              "      spin 1s steps(1) infinite;\n",
              "  }\n",
              "\n",
              "  @keyframes spin {\n",
              "    0% {\n",
              "      border-color: transparent;\n",
              "      border-bottom-color: var(--fill-color);\n",
              "      border-left-color: var(--fill-color);\n",
              "    }\n",
              "    20% {\n",
              "      border-color: transparent;\n",
              "      border-left-color: var(--fill-color);\n",
              "      border-top-color: var(--fill-color);\n",
              "    }\n",
              "    30% {\n",
              "      border-color: transparent;\n",
              "      border-left-color: var(--fill-color);\n",
              "      border-top-color: var(--fill-color);\n",
              "      border-right-color: var(--fill-color);\n",
              "    }\n",
              "    40% {\n",
              "      border-color: transparent;\n",
              "      border-right-color: var(--fill-color);\n",
              "      border-top-color: var(--fill-color);\n",
              "    }\n",
              "    60% {\n",
              "      border-color: transparent;\n",
              "      border-right-color: var(--fill-color);\n",
              "    }\n",
              "    80% {\n",
              "      border-color: transparent;\n",
              "      border-right-color: var(--fill-color);\n",
              "      border-bottom-color: var(--fill-color);\n",
              "    }\n",
              "    90% {\n",
              "      border-color: transparent;\n",
              "      border-bottom-color: var(--fill-color);\n",
              "    }\n",
              "  }\n",
              "</style>\n",
              "\n",
              "  <script>\n",
              "    async function quickchart(key) {\n",
              "      const quickchartButtonEl =\n",
              "        document.querySelector('#' + key + ' button');\n",
              "      quickchartButtonEl.disabled = true;  // To prevent multiple clicks.\n",
              "      quickchartButtonEl.classList.add('colab-df-spinner');\n",
              "      try {\n",
              "        const charts = await google.colab.kernel.invokeFunction(\n",
              "            'suggestCharts', [key], {});\n",
              "      } catch (error) {\n",
              "        console.error('Error during call to suggestCharts:', error);\n",
              "      }\n",
              "      quickchartButtonEl.classList.remove('colab-df-spinner');\n",
              "      quickchartButtonEl.classList.add('colab-df-quickchart-complete');\n",
              "    }\n",
              "    (() => {\n",
              "      let quickchartButtonEl =\n",
              "        document.querySelector('#df-5ca6b94f-cd41-4c20-9085-eb73a1104ec2 button');\n",
              "      quickchartButtonEl.style.display =\n",
              "        google.colab.kernel.accessAllowed ? 'block' : 'none';\n",
              "    })();\n",
              "  </script>\n",
              "</div>\n",
              "\n",
              "    </div>\n",
              "  </div>\n"
            ],
            "application/vnd.google.colaboratory.intrinsic+json": {
              "type": "dataframe",
              "summary": "{\n  \"name\": \"df[ df['sex'] == 'M' ]\",\n  \"rows\": 3,\n  \"fields\": [\n    {\n      \"column\": \"name\",\n      \"properties\": {\n        \"dtype\": \"string\",\n        \"num_unique_values\": 3,\n        \"samples\": [\n          \"\\uc774\\ucca0\\uc218\",\n          \"\\ud64d\\uae38\\ub3d9\",\n          \"John Smith\"\n        ],\n        \"semantic_type\": \"\",\n        \"description\": \"\"\n      }\n    },\n    {\n      \"column\": \"sex\",\n      \"properties\": {\n        \"dtype\": \"category\",\n        \"num_unique_values\": 1,\n        \"samples\": [\n          \"M\"\n        ],\n        \"semantic_type\": \"\",\n        \"description\": \"\"\n      }\n    },\n    {\n      \"column\": \"age\",\n      \"properties\": {\n        \"dtype\": \"number\",\n        \"std\": 6,\n        \"min\": 21,\n        \"max\": 33,\n        \"num_unique_values\": 3,\n        \"samples\": [\n          23\n        ],\n        \"semantic_type\": \"\",\n        \"description\": \"\"\n      }\n    },\n    {\n      \"column\": \"height\",\n      \"properties\": {\n        \"dtype\": \"number\",\n        \"std\": 13.390419460694028,\n        \"min\": 153.5,\n        \"max\": 180.0,\n        \"num_unique_values\": 3,\n        \"samples\": [\n          153.5\n        ],\n        \"semantic_type\": \"\",\n        \"description\": \"\"\n      }\n    }\n  ]\n}"
            }
          },
          "metadata": {},
          "execution_count": 116
        }
      ],
      "source": [
        "df[ df['sex'] == 'M' ]"
      ]
    },
    {
      "cell_type": "markdown",
      "metadata": {
        "id": "cWWIoQMxUN48"
      },
      "source": [
        "- 위에서 사용한 조건식은 `df['sex'] == 'M'` 로서 `df['sex']` 의 자료를 각각 문자열 `M` 과 비교하여 참이면 `True`, 거짓이면 `False` 로 결과를 생성하고 `True` 인 행만 슬라이싱 해준다."
      ]
    },
    {
      "cell_type": "code",
      "execution_count": null,
      "metadata": {
        "colab": {
          "base_uri": "https://localhost:8080/",
          "height": 241
        },
        "id": "GpkxCz4sTwZg",
        "outputId": "1df616a1-c400-4bf5-e7d5-3642f301512d"
      },
      "outputs": [
        {
          "output_type": "execute_result",
          "data": {
            "text/plain": [
              "0     True\n",
              "1    False\n",
              "2     True\n",
              "3     True\n",
              "4    False\n",
              "Name: sex, dtype: bool"
            ],
            "text/html": [
              "<div>\n",
              "<style scoped>\n",
              "    .dataframe tbody tr th:only-of-type {\n",
              "        vertical-align: middle;\n",
              "    }\n",
              "\n",
              "    .dataframe tbody tr th {\n",
              "        vertical-align: top;\n",
              "    }\n",
              "\n",
              "    .dataframe thead th {\n",
              "        text-align: right;\n",
              "    }\n",
              "</style>\n",
              "<table border=\"1\" class=\"dataframe\">\n",
              "  <thead>\n",
              "    <tr style=\"text-align: right;\">\n",
              "      <th></th>\n",
              "      <th>sex</th>\n",
              "    </tr>\n",
              "  </thead>\n",
              "  <tbody>\n",
              "    <tr>\n",
              "      <th>0</th>\n",
              "      <td>True</td>\n",
              "    </tr>\n",
              "    <tr>\n",
              "      <th>1</th>\n",
              "      <td>False</td>\n",
              "    </tr>\n",
              "    <tr>\n",
              "      <th>2</th>\n",
              "      <td>True</td>\n",
              "    </tr>\n",
              "    <tr>\n",
              "      <th>3</th>\n",
              "      <td>True</td>\n",
              "    </tr>\n",
              "    <tr>\n",
              "      <th>4</th>\n",
              "      <td>False</td>\n",
              "    </tr>\n",
              "  </tbody>\n",
              "</table>\n",
              "</div><br><label><b>dtype:</b> bool</label>"
            ]
          },
          "metadata": {},
          "execution_count": 117
        }
      ],
      "source": [
        "df['sex'] == 'M'"
      ]
    },
    {
      "cell_type": "markdown",
      "metadata": {
        "id": "etKpxTzKUvU2"
      },
      "source": [
        "- 만약 키가 160 이상인 남자 구성원만 슬라이싱 하려면 다음과 같은 명령어를 사용한다."
      ]
    },
    {
      "cell_type": "code",
      "execution_count": null,
      "metadata": {
        "colab": {
          "base_uri": "https://localhost:8080/",
          "height": 112
        },
        "id": "xUVV09kWUMFl",
        "outputId": "9c5e7913-29c8-4c92-8e5b-bad8b3bbf0ed"
      },
      "outputs": [
        {
          "output_type": "execute_result",
          "data": {
            "text/plain": [
              "         name sex  age  height\n",
              "2         홍길동   M   21   163.4\n",
              "3  John Smith   M   33   180.0"
            ],
            "text/html": [
              "\n",
              "  <div id=\"df-ee82711c-e7ec-4307-959c-80d451924805\" class=\"colab-df-container\">\n",
              "    <div>\n",
              "<style scoped>\n",
              "    .dataframe tbody tr th:only-of-type {\n",
              "        vertical-align: middle;\n",
              "    }\n",
              "\n",
              "    .dataframe tbody tr th {\n",
              "        vertical-align: top;\n",
              "    }\n",
              "\n",
              "    .dataframe thead th {\n",
              "        text-align: right;\n",
              "    }\n",
              "</style>\n",
              "<table border=\"1\" class=\"dataframe\">\n",
              "  <thead>\n",
              "    <tr style=\"text-align: right;\">\n",
              "      <th></th>\n",
              "      <th>name</th>\n",
              "      <th>sex</th>\n",
              "      <th>age</th>\n",
              "      <th>height</th>\n",
              "    </tr>\n",
              "  </thead>\n",
              "  <tbody>\n",
              "    <tr>\n",
              "      <th>2</th>\n",
              "      <td>홍길동</td>\n",
              "      <td>M</td>\n",
              "      <td>21</td>\n",
              "      <td>163.4</td>\n",
              "    </tr>\n",
              "    <tr>\n",
              "      <th>3</th>\n",
              "      <td>John Smith</td>\n",
              "      <td>M</td>\n",
              "      <td>33</td>\n",
              "      <td>180.0</td>\n",
              "    </tr>\n",
              "  </tbody>\n",
              "</table>\n",
              "</div>\n",
              "    <div class=\"colab-df-buttons\">\n",
              "\n",
              "  <div class=\"colab-df-container\">\n",
              "    <button class=\"colab-df-convert\" onclick=\"convertToInteractive('df-ee82711c-e7ec-4307-959c-80d451924805')\"\n",
              "            title=\"Convert this dataframe to an interactive table.\"\n",
              "            style=\"display:none;\">\n",
              "\n",
              "  <svg xmlns=\"http://www.w3.org/2000/svg\" height=\"24px\" viewBox=\"0 -960 960 960\">\n",
              "    <path d=\"M120-120v-720h720v720H120Zm60-500h600v-160H180v160Zm220 220h160v-160H400v160Zm0 220h160v-160H400v160ZM180-400h160v-160H180v160Zm440 0h160v-160H620v160ZM180-180h160v-160H180v160Zm440 0h160v-160H620v160Z\"/>\n",
              "  </svg>\n",
              "    </button>\n",
              "\n",
              "  <style>\n",
              "    .colab-df-container {\n",
              "      display:flex;\n",
              "      gap: 12px;\n",
              "    }\n",
              "\n",
              "    .colab-df-convert {\n",
              "      background-color: #E8F0FE;\n",
              "      border: none;\n",
              "      border-radius: 50%;\n",
              "      cursor: pointer;\n",
              "      display: none;\n",
              "      fill: #1967D2;\n",
              "      height: 32px;\n",
              "      padding: 0 0 0 0;\n",
              "      width: 32px;\n",
              "    }\n",
              "\n",
              "    .colab-df-convert:hover {\n",
              "      background-color: #E2EBFA;\n",
              "      box-shadow: 0px 1px 2px rgba(60, 64, 67, 0.3), 0px 1px 3px 1px rgba(60, 64, 67, 0.15);\n",
              "      fill: #174EA6;\n",
              "    }\n",
              "\n",
              "    .colab-df-buttons div {\n",
              "      margin-bottom: 4px;\n",
              "    }\n",
              "\n",
              "    [theme=dark] .colab-df-convert {\n",
              "      background-color: #3B4455;\n",
              "      fill: #D2E3FC;\n",
              "    }\n",
              "\n",
              "    [theme=dark] .colab-df-convert:hover {\n",
              "      background-color: #434B5C;\n",
              "      box-shadow: 0px 1px 3px 1px rgba(0, 0, 0, 0.15);\n",
              "      filter: drop-shadow(0px 1px 2px rgba(0, 0, 0, 0.3));\n",
              "      fill: #FFFFFF;\n",
              "    }\n",
              "  </style>\n",
              "\n",
              "    <script>\n",
              "      const buttonEl =\n",
              "        document.querySelector('#df-ee82711c-e7ec-4307-959c-80d451924805 button.colab-df-convert');\n",
              "      buttonEl.style.display =\n",
              "        google.colab.kernel.accessAllowed ? 'block' : 'none';\n",
              "\n",
              "      async function convertToInteractive(key) {\n",
              "        const element = document.querySelector('#df-ee82711c-e7ec-4307-959c-80d451924805');\n",
              "        const dataTable =\n",
              "          await google.colab.kernel.invokeFunction('convertToInteractive',\n",
              "                                                    [key], {});\n",
              "        if (!dataTable) return;\n",
              "\n",
              "        const docLinkHtml = 'Like what you see? Visit the ' +\n",
              "          '<a target=\"_blank\" href=https://colab.research.google.com/notebooks/data_table.ipynb>data table notebook</a>'\n",
              "          + ' to learn more about interactive tables.';\n",
              "        element.innerHTML = '';\n",
              "        dataTable['output_type'] = 'display_data';\n",
              "        await google.colab.output.renderOutput(dataTable, element);\n",
              "        const docLink = document.createElement('div');\n",
              "        docLink.innerHTML = docLinkHtml;\n",
              "        element.appendChild(docLink);\n",
              "      }\n",
              "    </script>\n",
              "  </div>\n",
              "\n",
              "\n",
              "<div id=\"df-d8563910-982a-4b7b-b9df-d1566ddca40f\">\n",
              "  <button class=\"colab-df-quickchart\" onclick=\"quickchart('df-d8563910-982a-4b7b-b9df-d1566ddca40f')\"\n",
              "            title=\"Suggest charts\"\n",
              "            style=\"display:none;\">\n",
              "\n",
              "<svg xmlns=\"http://www.w3.org/2000/svg\" height=\"24px\"viewBox=\"0 0 24 24\"\n",
              "     width=\"24px\">\n",
              "    <g>\n",
              "        <path d=\"M19 3H5c-1.1 0-2 .9-2 2v14c0 1.1.9 2 2 2h14c1.1 0 2-.9 2-2V5c0-1.1-.9-2-2-2zM9 17H7v-7h2v7zm4 0h-2V7h2v10zm4 0h-2v-4h2v4z\"/>\n",
              "    </g>\n",
              "</svg>\n",
              "  </button>\n",
              "\n",
              "<style>\n",
              "  .colab-df-quickchart {\n",
              "      --bg-color: #E8F0FE;\n",
              "      --fill-color: #1967D2;\n",
              "      --hover-bg-color: #E2EBFA;\n",
              "      --hover-fill-color: #174EA6;\n",
              "      --disabled-fill-color: #AAA;\n",
              "      --disabled-bg-color: #DDD;\n",
              "  }\n",
              "\n",
              "  [theme=dark] .colab-df-quickchart {\n",
              "      --bg-color: #3B4455;\n",
              "      --fill-color: #D2E3FC;\n",
              "      --hover-bg-color: #434B5C;\n",
              "      --hover-fill-color: #FFFFFF;\n",
              "      --disabled-bg-color: #3B4455;\n",
              "      --disabled-fill-color: #666;\n",
              "  }\n",
              "\n",
              "  .colab-df-quickchart {\n",
              "    background-color: var(--bg-color);\n",
              "    border: none;\n",
              "    border-radius: 50%;\n",
              "    cursor: pointer;\n",
              "    display: none;\n",
              "    fill: var(--fill-color);\n",
              "    height: 32px;\n",
              "    padding: 0;\n",
              "    width: 32px;\n",
              "  }\n",
              "\n",
              "  .colab-df-quickchart:hover {\n",
              "    background-color: var(--hover-bg-color);\n",
              "    box-shadow: 0 1px 2px rgba(60, 64, 67, 0.3), 0 1px 3px 1px rgba(60, 64, 67, 0.15);\n",
              "    fill: var(--button-hover-fill-color);\n",
              "  }\n",
              "\n",
              "  .colab-df-quickchart-complete:disabled,\n",
              "  .colab-df-quickchart-complete:disabled:hover {\n",
              "    background-color: var(--disabled-bg-color);\n",
              "    fill: var(--disabled-fill-color);\n",
              "    box-shadow: none;\n",
              "  }\n",
              "\n",
              "  .colab-df-spinner {\n",
              "    border: 2px solid var(--fill-color);\n",
              "    border-color: transparent;\n",
              "    border-bottom-color: var(--fill-color);\n",
              "    animation:\n",
              "      spin 1s steps(1) infinite;\n",
              "  }\n",
              "\n",
              "  @keyframes spin {\n",
              "    0% {\n",
              "      border-color: transparent;\n",
              "      border-bottom-color: var(--fill-color);\n",
              "      border-left-color: var(--fill-color);\n",
              "    }\n",
              "    20% {\n",
              "      border-color: transparent;\n",
              "      border-left-color: var(--fill-color);\n",
              "      border-top-color: var(--fill-color);\n",
              "    }\n",
              "    30% {\n",
              "      border-color: transparent;\n",
              "      border-left-color: var(--fill-color);\n",
              "      border-top-color: var(--fill-color);\n",
              "      border-right-color: var(--fill-color);\n",
              "    }\n",
              "    40% {\n",
              "      border-color: transparent;\n",
              "      border-right-color: var(--fill-color);\n",
              "      border-top-color: var(--fill-color);\n",
              "    }\n",
              "    60% {\n",
              "      border-color: transparent;\n",
              "      border-right-color: var(--fill-color);\n",
              "    }\n",
              "    80% {\n",
              "      border-color: transparent;\n",
              "      border-right-color: var(--fill-color);\n",
              "      border-bottom-color: var(--fill-color);\n",
              "    }\n",
              "    90% {\n",
              "      border-color: transparent;\n",
              "      border-bottom-color: var(--fill-color);\n",
              "    }\n",
              "  }\n",
              "</style>\n",
              "\n",
              "  <script>\n",
              "    async function quickchart(key) {\n",
              "      const quickchartButtonEl =\n",
              "        document.querySelector('#' + key + ' button');\n",
              "      quickchartButtonEl.disabled = true;  // To prevent multiple clicks.\n",
              "      quickchartButtonEl.classList.add('colab-df-spinner');\n",
              "      try {\n",
              "        const charts = await google.colab.kernel.invokeFunction(\n",
              "            'suggestCharts', [key], {});\n",
              "      } catch (error) {\n",
              "        console.error('Error during call to suggestCharts:', error);\n",
              "      }\n",
              "      quickchartButtonEl.classList.remove('colab-df-spinner');\n",
              "      quickchartButtonEl.classList.add('colab-df-quickchart-complete');\n",
              "    }\n",
              "    (() => {\n",
              "      let quickchartButtonEl =\n",
              "        document.querySelector('#df-d8563910-982a-4b7b-b9df-d1566ddca40f button');\n",
              "      quickchartButtonEl.style.display =\n",
              "        google.colab.kernel.accessAllowed ? 'block' : 'none';\n",
              "    })();\n",
              "  </script>\n",
              "</div>\n",
              "\n",
              "    </div>\n",
              "  </div>\n"
            ],
            "application/vnd.google.colaboratory.intrinsic+json": {
              "type": "dataframe",
              "summary": "{\n  \"name\": \"df[ (df['sex'] == 'M') & (df['height'] >= 160\",\n  \"rows\": 2,\n  \"fields\": [\n    {\n      \"column\": \"name\",\n      \"properties\": {\n        \"dtype\": \"string\",\n        \"num_unique_values\": 2,\n        \"samples\": [\n          \"John Smith\",\n          \"\\ud64d\\uae38\\ub3d9\"\n        ],\n        \"semantic_type\": \"\",\n        \"description\": \"\"\n      }\n    },\n    {\n      \"column\": \"sex\",\n      \"properties\": {\n        \"dtype\": \"string\",\n        \"num_unique_values\": 1,\n        \"samples\": [\n          \"M\"\n        ],\n        \"semantic_type\": \"\",\n        \"description\": \"\"\n      }\n    },\n    {\n      \"column\": \"age\",\n      \"properties\": {\n        \"dtype\": \"number\",\n        \"std\": 8,\n        \"min\": 21,\n        \"max\": 33,\n        \"num_unique_values\": 2,\n        \"samples\": [\n          33\n        ],\n        \"semantic_type\": \"\",\n        \"description\": \"\"\n      }\n    },\n    {\n      \"column\": \"height\",\n      \"properties\": {\n        \"dtype\": \"number\",\n        \"std\": 11.737972567696685,\n        \"min\": 163.4,\n        \"max\": 180.0,\n        \"num_unique_values\": 2,\n        \"samples\": [\n          180.0\n        ],\n        \"semantic_type\": \"\",\n        \"description\": \"\"\n      }\n    }\n  ]\n}"
            }
          },
          "metadata": {},
          "execution_count": 118
        }
      ],
      "source": [
        "df[ (df['sex'] == 'M') & (df['height'] >= 160.0) ]"
      ]
    },
    {
      "cell_type": "markdown",
      "metadata": {
        "id": "uOeVV8eWVSqO"
      },
      "source": [
        "- 만약 나이가 30세 이하 또는 키가 160 미만인 행만 슬라이싱 하려면 다음과 같은 명령어를 사용한다."
      ]
    },
    {
      "cell_type": "code",
      "execution_count": null,
      "metadata": {
        "colab": {
          "base_uri": "https://localhost:8080/",
          "height": 143
        },
        "id": "Gl10fzVBVCVh",
        "outputId": "3fbf6496-43de-4e0f-e372-cede197a117d"
      },
      "outputs": [
        {
          "output_type": "execute_result",
          "data": {
            "text/plain": [
              "  name sex  age  height\n",
              "0  이철수   M   23   153.5\n",
              "1  김영희   F   25   175.3\n",
              "2  홍길동   M   21   163.4"
            ],
            "text/html": [
              "\n",
              "  <div id=\"df-8479b702-d359-4740-8869-d35678fbd77e\" class=\"colab-df-container\">\n",
              "    <div>\n",
              "<style scoped>\n",
              "    .dataframe tbody tr th:only-of-type {\n",
              "        vertical-align: middle;\n",
              "    }\n",
              "\n",
              "    .dataframe tbody tr th {\n",
              "        vertical-align: top;\n",
              "    }\n",
              "\n",
              "    .dataframe thead th {\n",
              "        text-align: right;\n",
              "    }\n",
              "</style>\n",
              "<table border=\"1\" class=\"dataframe\">\n",
              "  <thead>\n",
              "    <tr style=\"text-align: right;\">\n",
              "      <th></th>\n",
              "      <th>name</th>\n",
              "      <th>sex</th>\n",
              "      <th>age</th>\n",
              "      <th>height</th>\n",
              "    </tr>\n",
              "  </thead>\n",
              "  <tbody>\n",
              "    <tr>\n",
              "      <th>0</th>\n",
              "      <td>이철수</td>\n",
              "      <td>M</td>\n",
              "      <td>23</td>\n",
              "      <td>153.5</td>\n",
              "    </tr>\n",
              "    <tr>\n",
              "      <th>1</th>\n",
              "      <td>김영희</td>\n",
              "      <td>F</td>\n",
              "      <td>25</td>\n",
              "      <td>175.3</td>\n",
              "    </tr>\n",
              "    <tr>\n",
              "      <th>2</th>\n",
              "      <td>홍길동</td>\n",
              "      <td>M</td>\n",
              "      <td>21</td>\n",
              "      <td>163.4</td>\n",
              "    </tr>\n",
              "  </tbody>\n",
              "</table>\n",
              "</div>\n",
              "    <div class=\"colab-df-buttons\">\n",
              "\n",
              "  <div class=\"colab-df-container\">\n",
              "    <button class=\"colab-df-convert\" onclick=\"convertToInteractive('df-8479b702-d359-4740-8869-d35678fbd77e')\"\n",
              "            title=\"Convert this dataframe to an interactive table.\"\n",
              "            style=\"display:none;\">\n",
              "\n",
              "  <svg xmlns=\"http://www.w3.org/2000/svg\" height=\"24px\" viewBox=\"0 -960 960 960\">\n",
              "    <path d=\"M120-120v-720h720v720H120Zm60-500h600v-160H180v160Zm220 220h160v-160H400v160Zm0 220h160v-160H400v160ZM180-400h160v-160H180v160Zm440 0h160v-160H620v160ZM180-180h160v-160H180v160Zm440 0h160v-160H620v160Z\"/>\n",
              "  </svg>\n",
              "    </button>\n",
              "\n",
              "  <style>\n",
              "    .colab-df-container {\n",
              "      display:flex;\n",
              "      gap: 12px;\n",
              "    }\n",
              "\n",
              "    .colab-df-convert {\n",
              "      background-color: #E8F0FE;\n",
              "      border: none;\n",
              "      border-radius: 50%;\n",
              "      cursor: pointer;\n",
              "      display: none;\n",
              "      fill: #1967D2;\n",
              "      height: 32px;\n",
              "      padding: 0 0 0 0;\n",
              "      width: 32px;\n",
              "    }\n",
              "\n",
              "    .colab-df-convert:hover {\n",
              "      background-color: #E2EBFA;\n",
              "      box-shadow: 0px 1px 2px rgba(60, 64, 67, 0.3), 0px 1px 3px 1px rgba(60, 64, 67, 0.15);\n",
              "      fill: #174EA6;\n",
              "    }\n",
              "\n",
              "    .colab-df-buttons div {\n",
              "      margin-bottom: 4px;\n",
              "    }\n",
              "\n",
              "    [theme=dark] .colab-df-convert {\n",
              "      background-color: #3B4455;\n",
              "      fill: #D2E3FC;\n",
              "    }\n",
              "\n",
              "    [theme=dark] .colab-df-convert:hover {\n",
              "      background-color: #434B5C;\n",
              "      box-shadow: 0px 1px 3px 1px rgba(0, 0, 0, 0.15);\n",
              "      filter: drop-shadow(0px 1px 2px rgba(0, 0, 0, 0.3));\n",
              "      fill: #FFFFFF;\n",
              "    }\n",
              "  </style>\n",
              "\n",
              "    <script>\n",
              "      const buttonEl =\n",
              "        document.querySelector('#df-8479b702-d359-4740-8869-d35678fbd77e button.colab-df-convert');\n",
              "      buttonEl.style.display =\n",
              "        google.colab.kernel.accessAllowed ? 'block' : 'none';\n",
              "\n",
              "      async function convertToInteractive(key) {\n",
              "        const element = document.querySelector('#df-8479b702-d359-4740-8869-d35678fbd77e');\n",
              "        const dataTable =\n",
              "          await google.colab.kernel.invokeFunction('convertToInteractive',\n",
              "                                                    [key], {});\n",
              "        if (!dataTable) return;\n",
              "\n",
              "        const docLinkHtml = 'Like what you see? Visit the ' +\n",
              "          '<a target=\"_blank\" href=https://colab.research.google.com/notebooks/data_table.ipynb>data table notebook</a>'\n",
              "          + ' to learn more about interactive tables.';\n",
              "        element.innerHTML = '';\n",
              "        dataTable['output_type'] = 'display_data';\n",
              "        await google.colab.output.renderOutput(dataTable, element);\n",
              "        const docLink = document.createElement('div');\n",
              "        docLink.innerHTML = docLinkHtml;\n",
              "        element.appendChild(docLink);\n",
              "      }\n",
              "    </script>\n",
              "  </div>\n",
              "\n",
              "\n",
              "<div id=\"df-eab71bca-c63f-47e5-a829-313203e236dc\">\n",
              "  <button class=\"colab-df-quickchart\" onclick=\"quickchart('df-eab71bca-c63f-47e5-a829-313203e236dc')\"\n",
              "            title=\"Suggest charts\"\n",
              "            style=\"display:none;\">\n",
              "\n",
              "<svg xmlns=\"http://www.w3.org/2000/svg\" height=\"24px\"viewBox=\"0 0 24 24\"\n",
              "     width=\"24px\">\n",
              "    <g>\n",
              "        <path d=\"M19 3H5c-1.1 0-2 .9-2 2v14c0 1.1.9 2 2 2h14c1.1 0 2-.9 2-2V5c0-1.1-.9-2-2-2zM9 17H7v-7h2v7zm4 0h-2V7h2v10zm4 0h-2v-4h2v4z\"/>\n",
              "    </g>\n",
              "</svg>\n",
              "  </button>\n",
              "\n",
              "<style>\n",
              "  .colab-df-quickchart {\n",
              "      --bg-color: #E8F0FE;\n",
              "      --fill-color: #1967D2;\n",
              "      --hover-bg-color: #E2EBFA;\n",
              "      --hover-fill-color: #174EA6;\n",
              "      --disabled-fill-color: #AAA;\n",
              "      --disabled-bg-color: #DDD;\n",
              "  }\n",
              "\n",
              "  [theme=dark] .colab-df-quickchart {\n",
              "      --bg-color: #3B4455;\n",
              "      --fill-color: #D2E3FC;\n",
              "      --hover-bg-color: #434B5C;\n",
              "      --hover-fill-color: #FFFFFF;\n",
              "      --disabled-bg-color: #3B4455;\n",
              "      --disabled-fill-color: #666;\n",
              "  }\n",
              "\n",
              "  .colab-df-quickchart {\n",
              "    background-color: var(--bg-color);\n",
              "    border: none;\n",
              "    border-radius: 50%;\n",
              "    cursor: pointer;\n",
              "    display: none;\n",
              "    fill: var(--fill-color);\n",
              "    height: 32px;\n",
              "    padding: 0;\n",
              "    width: 32px;\n",
              "  }\n",
              "\n",
              "  .colab-df-quickchart:hover {\n",
              "    background-color: var(--hover-bg-color);\n",
              "    box-shadow: 0 1px 2px rgba(60, 64, 67, 0.3), 0 1px 3px 1px rgba(60, 64, 67, 0.15);\n",
              "    fill: var(--button-hover-fill-color);\n",
              "  }\n",
              "\n",
              "  .colab-df-quickchart-complete:disabled,\n",
              "  .colab-df-quickchart-complete:disabled:hover {\n",
              "    background-color: var(--disabled-bg-color);\n",
              "    fill: var(--disabled-fill-color);\n",
              "    box-shadow: none;\n",
              "  }\n",
              "\n",
              "  .colab-df-spinner {\n",
              "    border: 2px solid var(--fill-color);\n",
              "    border-color: transparent;\n",
              "    border-bottom-color: var(--fill-color);\n",
              "    animation:\n",
              "      spin 1s steps(1) infinite;\n",
              "  }\n",
              "\n",
              "  @keyframes spin {\n",
              "    0% {\n",
              "      border-color: transparent;\n",
              "      border-bottom-color: var(--fill-color);\n",
              "      border-left-color: var(--fill-color);\n",
              "    }\n",
              "    20% {\n",
              "      border-color: transparent;\n",
              "      border-left-color: var(--fill-color);\n",
              "      border-top-color: var(--fill-color);\n",
              "    }\n",
              "    30% {\n",
              "      border-color: transparent;\n",
              "      border-left-color: var(--fill-color);\n",
              "      border-top-color: var(--fill-color);\n",
              "      border-right-color: var(--fill-color);\n",
              "    }\n",
              "    40% {\n",
              "      border-color: transparent;\n",
              "      border-right-color: var(--fill-color);\n",
              "      border-top-color: var(--fill-color);\n",
              "    }\n",
              "    60% {\n",
              "      border-color: transparent;\n",
              "      border-right-color: var(--fill-color);\n",
              "    }\n",
              "    80% {\n",
              "      border-color: transparent;\n",
              "      border-right-color: var(--fill-color);\n",
              "      border-bottom-color: var(--fill-color);\n",
              "    }\n",
              "    90% {\n",
              "      border-color: transparent;\n",
              "      border-bottom-color: var(--fill-color);\n",
              "    }\n",
              "  }\n",
              "</style>\n",
              "\n",
              "  <script>\n",
              "    async function quickchart(key) {\n",
              "      const quickchartButtonEl =\n",
              "        document.querySelector('#' + key + ' button');\n",
              "      quickchartButtonEl.disabled = true;  // To prevent multiple clicks.\n",
              "      quickchartButtonEl.classList.add('colab-df-spinner');\n",
              "      try {\n",
              "        const charts = await google.colab.kernel.invokeFunction(\n",
              "            'suggestCharts', [key], {});\n",
              "      } catch (error) {\n",
              "        console.error('Error during call to suggestCharts:', error);\n",
              "      }\n",
              "      quickchartButtonEl.classList.remove('colab-df-spinner');\n",
              "      quickchartButtonEl.classList.add('colab-df-quickchart-complete');\n",
              "    }\n",
              "    (() => {\n",
              "      let quickchartButtonEl =\n",
              "        document.querySelector('#df-eab71bca-c63f-47e5-a829-313203e236dc button');\n",
              "      quickchartButtonEl.style.display =\n",
              "        google.colab.kernel.accessAllowed ? 'block' : 'none';\n",
              "    })();\n",
              "  </script>\n",
              "</div>\n",
              "\n",
              "    </div>\n",
              "  </div>\n"
            ],
            "application/vnd.google.colaboratory.intrinsic+json": {
              "type": "dataframe",
              "summary": "{\n  \"name\": \"df[ (df['age'] <= 30) | (df['height'] < 160\",\n  \"rows\": 3,\n  \"fields\": [\n    {\n      \"column\": \"name\",\n      \"properties\": {\n        \"dtype\": \"string\",\n        \"num_unique_values\": 3,\n        \"samples\": [\n          \"\\uc774\\ucca0\\uc218\",\n          \"\\uae40\\uc601\\ud76c\",\n          \"\\ud64d\\uae38\\ub3d9\"\n        ],\n        \"semantic_type\": \"\",\n        \"description\": \"\"\n      }\n    },\n    {\n      \"column\": \"sex\",\n      \"properties\": {\n        \"dtype\": \"string\",\n        \"num_unique_values\": 2,\n        \"samples\": [\n          \"F\",\n          \"M\"\n        ],\n        \"semantic_type\": \"\",\n        \"description\": \"\"\n      }\n    },\n    {\n      \"column\": \"age\",\n      \"properties\": {\n        \"dtype\": \"number\",\n        \"std\": 2,\n        \"min\": 21,\n        \"max\": 25,\n        \"num_unique_values\": 3,\n        \"samples\": [\n          23,\n          25\n        ],\n        \"semantic_type\": \"\",\n        \"description\": \"\"\n      }\n    },\n    {\n      \"column\": \"height\",\n      \"properties\": {\n        \"dtype\": \"number\",\n        \"std\": 10.915279810125504,\n        \"min\": 153.5,\n        \"max\": 175.3,\n        \"num_unique_values\": 3,\n        \"samples\": [\n          153.5,\n          175.3\n        ],\n        \"semantic_type\": \"\",\n        \"description\": \"\"\n      }\n    }\n  ]\n}"
            }
          },
          "metadata": {},
          "execution_count": 119
        }
      ],
      "source": [
        "df[ (df['age'] <= 30) | (df['height'] < 160.0) ]"
      ]
    },
    {
      "cell_type": "markdown",
      "source": [
        "- 자료에서 선택해야할 경우의 수가 많은 경우 `isin()` 메소드를 사용할 수 있다. `isin` 함수는 선택할 문자 또는 숫자를 리스트 형태로 넣어준다.\n",
        "\n",
        "- 예를 들어 나이가 25세와 33세인 사람만 슬라이싱 해보자."
      ],
      "metadata": {
        "id": "jCnQGOrY4zLf"
      }
    },
    {
      "cell_type": "code",
      "source": [
        "df[ df['age'].isin([25, 33]) ]"
      ],
      "metadata": {
        "colab": {
          "base_uri": "https://localhost:8080/",
          "height": 112
        },
        "id": "Uzf7yGOY4066",
        "outputId": "0a9a614d-2836-47e2-8f21-26cb5ed0e0d1"
      },
      "execution_count": null,
      "outputs": [
        {
          "output_type": "execute_result",
          "data": {
            "text/plain": [
              "         name sex  age  height\n",
              "1         김영희   F   25   175.3\n",
              "3  John Smith   M   33   180.0"
            ],
            "text/html": [
              "\n",
              "  <div id=\"df-94e0ff3e-a086-4c70-8c69-c7de9b7d60c3\" class=\"colab-df-container\">\n",
              "    <div>\n",
              "<style scoped>\n",
              "    .dataframe tbody tr th:only-of-type {\n",
              "        vertical-align: middle;\n",
              "    }\n",
              "\n",
              "    .dataframe tbody tr th {\n",
              "        vertical-align: top;\n",
              "    }\n",
              "\n",
              "    .dataframe thead th {\n",
              "        text-align: right;\n",
              "    }\n",
              "</style>\n",
              "<table border=\"1\" class=\"dataframe\">\n",
              "  <thead>\n",
              "    <tr style=\"text-align: right;\">\n",
              "      <th></th>\n",
              "      <th>name</th>\n",
              "      <th>sex</th>\n",
              "      <th>age</th>\n",
              "      <th>height</th>\n",
              "    </tr>\n",
              "  </thead>\n",
              "  <tbody>\n",
              "    <tr>\n",
              "      <th>1</th>\n",
              "      <td>김영희</td>\n",
              "      <td>F</td>\n",
              "      <td>25</td>\n",
              "      <td>175.3</td>\n",
              "    </tr>\n",
              "    <tr>\n",
              "      <th>3</th>\n",
              "      <td>John Smith</td>\n",
              "      <td>M</td>\n",
              "      <td>33</td>\n",
              "      <td>180.0</td>\n",
              "    </tr>\n",
              "  </tbody>\n",
              "</table>\n",
              "</div>\n",
              "    <div class=\"colab-df-buttons\">\n",
              "\n",
              "  <div class=\"colab-df-container\">\n",
              "    <button class=\"colab-df-convert\" onclick=\"convertToInteractive('df-94e0ff3e-a086-4c70-8c69-c7de9b7d60c3')\"\n",
              "            title=\"Convert this dataframe to an interactive table.\"\n",
              "            style=\"display:none;\">\n",
              "\n",
              "  <svg xmlns=\"http://www.w3.org/2000/svg\" height=\"24px\" viewBox=\"0 -960 960 960\">\n",
              "    <path d=\"M120-120v-720h720v720H120Zm60-500h600v-160H180v160Zm220 220h160v-160H400v160Zm0 220h160v-160H400v160ZM180-400h160v-160H180v160Zm440 0h160v-160H620v160ZM180-180h160v-160H180v160Zm440 0h160v-160H620v160Z\"/>\n",
              "  </svg>\n",
              "    </button>\n",
              "\n",
              "  <style>\n",
              "    .colab-df-container {\n",
              "      display:flex;\n",
              "      gap: 12px;\n",
              "    }\n",
              "\n",
              "    .colab-df-convert {\n",
              "      background-color: #E8F0FE;\n",
              "      border: none;\n",
              "      border-radius: 50%;\n",
              "      cursor: pointer;\n",
              "      display: none;\n",
              "      fill: #1967D2;\n",
              "      height: 32px;\n",
              "      padding: 0 0 0 0;\n",
              "      width: 32px;\n",
              "    }\n",
              "\n",
              "    .colab-df-convert:hover {\n",
              "      background-color: #E2EBFA;\n",
              "      box-shadow: 0px 1px 2px rgba(60, 64, 67, 0.3), 0px 1px 3px 1px rgba(60, 64, 67, 0.15);\n",
              "      fill: #174EA6;\n",
              "    }\n",
              "\n",
              "    .colab-df-buttons div {\n",
              "      margin-bottom: 4px;\n",
              "    }\n",
              "\n",
              "    [theme=dark] .colab-df-convert {\n",
              "      background-color: #3B4455;\n",
              "      fill: #D2E3FC;\n",
              "    }\n",
              "\n",
              "    [theme=dark] .colab-df-convert:hover {\n",
              "      background-color: #434B5C;\n",
              "      box-shadow: 0px 1px 3px 1px rgba(0, 0, 0, 0.15);\n",
              "      filter: drop-shadow(0px 1px 2px rgba(0, 0, 0, 0.3));\n",
              "      fill: #FFFFFF;\n",
              "    }\n",
              "  </style>\n",
              "\n",
              "    <script>\n",
              "      const buttonEl =\n",
              "        document.querySelector('#df-94e0ff3e-a086-4c70-8c69-c7de9b7d60c3 button.colab-df-convert');\n",
              "      buttonEl.style.display =\n",
              "        google.colab.kernel.accessAllowed ? 'block' : 'none';\n",
              "\n",
              "      async function convertToInteractive(key) {\n",
              "        const element = document.querySelector('#df-94e0ff3e-a086-4c70-8c69-c7de9b7d60c3');\n",
              "        const dataTable =\n",
              "          await google.colab.kernel.invokeFunction('convertToInteractive',\n",
              "                                                    [key], {});\n",
              "        if (!dataTable) return;\n",
              "\n",
              "        const docLinkHtml = 'Like what you see? Visit the ' +\n",
              "          '<a target=\"_blank\" href=https://colab.research.google.com/notebooks/data_table.ipynb>data table notebook</a>'\n",
              "          + ' to learn more about interactive tables.';\n",
              "        element.innerHTML = '';\n",
              "        dataTable['output_type'] = 'display_data';\n",
              "        await google.colab.output.renderOutput(dataTable, element);\n",
              "        const docLink = document.createElement('div');\n",
              "        docLink.innerHTML = docLinkHtml;\n",
              "        element.appendChild(docLink);\n",
              "      }\n",
              "    </script>\n",
              "  </div>\n",
              "\n",
              "\n",
              "<div id=\"df-25a17b10-77b5-4afa-aa98-696d8adcea5e\">\n",
              "  <button class=\"colab-df-quickchart\" onclick=\"quickchart('df-25a17b10-77b5-4afa-aa98-696d8adcea5e')\"\n",
              "            title=\"Suggest charts\"\n",
              "            style=\"display:none;\">\n",
              "\n",
              "<svg xmlns=\"http://www.w3.org/2000/svg\" height=\"24px\"viewBox=\"0 0 24 24\"\n",
              "     width=\"24px\">\n",
              "    <g>\n",
              "        <path d=\"M19 3H5c-1.1 0-2 .9-2 2v14c0 1.1.9 2 2 2h14c1.1 0 2-.9 2-2V5c0-1.1-.9-2-2-2zM9 17H7v-7h2v7zm4 0h-2V7h2v10zm4 0h-2v-4h2v4z\"/>\n",
              "    </g>\n",
              "</svg>\n",
              "  </button>\n",
              "\n",
              "<style>\n",
              "  .colab-df-quickchart {\n",
              "      --bg-color: #E8F0FE;\n",
              "      --fill-color: #1967D2;\n",
              "      --hover-bg-color: #E2EBFA;\n",
              "      --hover-fill-color: #174EA6;\n",
              "      --disabled-fill-color: #AAA;\n",
              "      --disabled-bg-color: #DDD;\n",
              "  }\n",
              "\n",
              "  [theme=dark] .colab-df-quickchart {\n",
              "      --bg-color: #3B4455;\n",
              "      --fill-color: #D2E3FC;\n",
              "      --hover-bg-color: #434B5C;\n",
              "      --hover-fill-color: #FFFFFF;\n",
              "      --disabled-bg-color: #3B4455;\n",
              "      --disabled-fill-color: #666;\n",
              "  }\n",
              "\n",
              "  .colab-df-quickchart {\n",
              "    background-color: var(--bg-color);\n",
              "    border: none;\n",
              "    border-radius: 50%;\n",
              "    cursor: pointer;\n",
              "    display: none;\n",
              "    fill: var(--fill-color);\n",
              "    height: 32px;\n",
              "    padding: 0;\n",
              "    width: 32px;\n",
              "  }\n",
              "\n",
              "  .colab-df-quickchart:hover {\n",
              "    background-color: var(--hover-bg-color);\n",
              "    box-shadow: 0 1px 2px rgba(60, 64, 67, 0.3), 0 1px 3px 1px rgba(60, 64, 67, 0.15);\n",
              "    fill: var(--button-hover-fill-color);\n",
              "  }\n",
              "\n",
              "  .colab-df-quickchart-complete:disabled,\n",
              "  .colab-df-quickchart-complete:disabled:hover {\n",
              "    background-color: var(--disabled-bg-color);\n",
              "    fill: var(--disabled-fill-color);\n",
              "    box-shadow: none;\n",
              "  }\n",
              "\n",
              "  .colab-df-spinner {\n",
              "    border: 2px solid var(--fill-color);\n",
              "    border-color: transparent;\n",
              "    border-bottom-color: var(--fill-color);\n",
              "    animation:\n",
              "      spin 1s steps(1) infinite;\n",
              "  }\n",
              "\n",
              "  @keyframes spin {\n",
              "    0% {\n",
              "      border-color: transparent;\n",
              "      border-bottom-color: var(--fill-color);\n",
              "      border-left-color: var(--fill-color);\n",
              "    }\n",
              "    20% {\n",
              "      border-color: transparent;\n",
              "      border-left-color: var(--fill-color);\n",
              "      border-top-color: var(--fill-color);\n",
              "    }\n",
              "    30% {\n",
              "      border-color: transparent;\n",
              "      border-left-color: var(--fill-color);\n",
              "      border-top-color: var(--fill-color);\n",
              "      border-right-color: var(--fill-color);\n",
              "    }\n",
              "    40% {\n",
              "      border-color: transparent;\n",
              "      border-right-color: var(--fill-color);\n",
              "      border-top-color: var(--fill-color);\n",
              "    }\n",
              "    60% {\n",
              "      border-color: transparent;\n",
              "      border-right-color: var(--fill-color);\n",
              "    }\n",
              "    80% {\n",
              "      border-color: transparent;\n",
              "      border-right-color: var(--fill-color);\n",
              "      border-bottom-color: var(--fill-color);\n",
              "    }\n",
              "    90% {\n",
              "      border-color: transparent;\n",
              "      border-bottom-color: var(--fill-color);\n",
              "    }\n",
              "  }\n",
              "</style>\n",
              "\n",
              "  <script>\n",
              "    async function quickchart(key) {\n",
              "      const quickchartButtonEl =\n",
              "        document.querySelector('#' + key + ' button');\n",
              "      quickchartButtonEl.disabled = true;  // To prevent multiple clicks.\n",
              "      quickchartButtonEl.classList.add('colab-df-spinner');\n",
              "      try {\n",
              "        const charts = await google.colab.kernel.invokeFunction(\n",
              "            'suggestCharts', [key], {});\n",
              "      } catch (error) {\n",
              "        console.error('Error during call to suggestCharts:', error);\n",
              "      }\n",
              "      quickchartButtonEl.classList.remove('colab-df-spinner');\n",
              "      quickchartButtonEl.classList.add('colab-df-quickchart-complete');\n",
              "    }\n",
              "    (() => {\n",
              "      let quickchartButtonEl =\n",
              "        document.querySelector('#df-25a17b10-77b5-4afa-aa98-696d8adcea5e button');\n",
              "      quickchartButtonEl.style.display =\n",
              "        google.colab.kernel.accessAllowed ? 'block' : 'none';\n",
              "    })();\n",
              "  </script>\n",
              "</div>\n",
              "\n",
              "    </div>\n",
              "  </div>\n"
            ],
            "application/vnd.google.colaboratory.intrinsic+json": {
              "type": "dataframe",
              "summary": "{\n  \"name\": \"df[ df['age']\",\n  \"rows\": 2,\n  \"fields\": [\n    {\n      \"column\": \"name\",\n      \"properties\": {\n        \"dtype\": \"string\",\n        \"num_unique_values\": 2,\n        \"samples\": [\n          \"John Smith\",\n          \"\\uae40\\uc601\\ud76c\"\n        ],\n        \"semantic_type\": \"\",\n        \"description\": \"\"\n      }\n    },\n    {\n      \"column\": \"sex\",\n      \"properties\": {\n        \"dtype\": \"string\",\n        \"num_unique_values\": 2,\n        \"samples\": [\n          \"M\",\n          \"F\"\n        ],\n        \"semantic_type\": \"\",\n        \"description\": \"\"\n      }\n    },\n    {\n      \"column\": \"age\",\n      \"properties\": {\n        \"dtype\": \"number\",\n        \"std\": 5,\n        \"min\": 25,\n        \"max\": 33,\n        \"num_unique_values\": 2,\n        \"samples\": [\n          33,\n          25\n        ],\n        \"semantic_type\": \"\",\n        \"description\": \"\"\n      }\n    },\n    {\n      \"column\": \"height\",\n      \"properties\": {\n        \"dtype\": \"number\",\n        \"std\": 3.3234018715767655,\n        \"min\": 175.3,\n        \"max\": 180.0,\n        \"num_unique_values\": 2,\n        \"samples\": [\n          180.0,\n          175.3\n        ],\n        \"semantic_type\": \"\",\n        \"description\": \"\"\n      }\n    }\n  ]\n}"
            }
          },
          "metadata": {},
          "execution_count": 120
        }
      ]
    },
    {
      "cell_type": "markdown",
      "metadata": {
        "id": "hJDILVuIfn4f"
      },
      "source": [
        "## 행과 열 선택\n",
        "- 이제 특정한 열과 행을 동시에 슬라이싱 해보자.\n",
        "\n",
        "- 이때, `loc` method를 사용하며, 행과 열에 대한 조건은 `,`로 구분하여 할당한다.\n",
        "\n",
        "- 만약 키가 170 이상인 사람들의 이름이 필요하면 다음과 같이 구현한다."
      ]
    },
    {
      "cell_type": "code",
      "execution_count": null,
      "metadata": {
        "colab": {
          "base_uri": "https://localhost:8080/",
          "height": 147
        },
        "id": "7wBN3MNgV1ee",
        "outputId": "36c7ff45-60d4-4ca6-e2f9-e440089db768"
      },
      "outputs": [
        {
          "output_type": "execute_result",
          "data": {
            "text/plain": [
              "1           김영희\n",
              "3    John Smith\n",
              "Name: name, dtype: object"
            ],
            "text/html": [
              "<div>\n",
              "<style scoped>\n",
              "    .dataframe tbody tr th:only-of-type {\n",
              "        vertical-align: middle;\n",
              "    }\n",
              "\n",
              "    .dataframe tbody tr th {\n",
              "        vertical-align: top;\n",
              "    }\n",
              "\n",
              "    .dataframe thead th {\n",
              "        text-align: right;\n",
              "    }\n",
              "</style>\n",
              "<table border=\"1\" class=\"dataframe\">\n",
              "  <thead>\n",
              "    <tr style=\"text-align: right;\">\n",
              "      <th></th>\n",
              "      <th>name</th>\n",
              "    </tr>\n",
              "  </thead>\n",
              "  <tbody>\n",
              "    <tr>\n",
              "      <th>1</th>\n",
              "      <td>김영희</td>\n",
              "    </tr>\n",
              "    <tr>\n",
              "      <th>3</th>\n",
              "      <td>John Smith</td>\n",
              "    </tr>\n",
              "  </tbody>\n",
              "</table>\n",
              "</div><br><label><b>dtype:</b> object</label>"
            ]
          },
          "metadata": {},
          "execution_count": 121
        }
      ],
      "source": [
        "df_1 = df.loc[ (df['height'] >= 170.0) , 'name']\n",
        "df_1"
      ]
    },
    {
      "cell_type": "markdown",
      "source": [
        "- 성별이 `M`인 사람 중, 이름과 키에 대해 추출하는 방법은 다음과 같다."
      ],
      "metadata": {
        "id": "9o37DMne7e_1"
      }
    },
    {
      "cell_type": "code",
      "execution_count": null,
      "metadata": {
        "colab": {
          "base_uri": "https://localhost:8080/",
          "height": 143
        },
        "id": "gWX1M0VQY4SV",
        "outputId": "6df2601e-1fe3-4dc5-a325-6e1db4bbd076"
      },
      "outputs": [
        {
          "output_type": "execute_result",
          "data": {
            "text/plain": [
              "         name  height\n",
              "0         이철수   153.5\n",
              "2         홍길동   163.4\n",
              "3  John Smith   180.0"
            ],
            "text/html": [
              "\n",
              "  <div id=\"df-bab5cae1-eb61-4062-b4a8-05872dee5fd9\" class=\"colab-df-container\">\n",
              "    <div>\n",
              "<style scoped>\n",
              "    .dataframe tbody tr th:only-of-type {\n",
              "        vertical-align: middle;\n",
              "    }\n",
              "\n",
              "    .dataframe tbody tr th {\n",
              "        vertical-align: top;\n",
              "    }\n",
              "\n",
              "    .dataframe thead th {\n",
              "        text-align: right;\n",
              "    }\n",
              "</style>\n",
              "<table border=\"1\" class=\"dataframe\">\n",
              "  <thead>\n",
              "    <tr style=\"text-align: right;\">\n",
              "      <th></th>\n",
              "      <th>name</th>\n",
              "      <th>height</th>\n",
              "    </tr>\n",
              "  </thead>\n",
              "  <tbody>\n",
              "    <tr>\n",
              "      <th>0</th>\n",
              "      <td>이철수</td>\n",
              "      <td>153.5</td>\n",
              "    </tr>\n",
              "    <tr>\n",
              "      <th>2</th>\n",
              "      <td>홍길동</td>\n",
              "      <td>163.4</td>\n",
              "    </tr>\n",
              "    <tr>\n",
              "      <th>3</th>\n",
              "      <td>John Smith</td>\n",
              "      <td>180.0</td>\n",
              "    </tr>\n",
              "  </tbody>\n",
              "</table>\n",
              "</div>\n",
              "    <div class=\"colab-df-buttons\">\n",
              "\n",
              "  <div class=\"colab-df-container\">\n",
              "    <button class=\"colab-df-convert\" onclick=\"convertToInteractive('df-bab5cae1-eb61-4062-b4a8-05872dee5fd9')\"\n",
              "            title=\"Convert this dataframe to an interactive table.\"\n",
              "            style=\"display:none;\">\n",
              "\n",
              "  <svg xmlns=\"http://www.w3.org/2000/svg\" height=\"24px\" viewBox=\"0 -960 960 960\">\n",
              "    <path d=\"M120-120v-720h720v720H120Zm60-500h600v-160H180v160Zm220 220h160v-160H400v160Zm0 220h160v-160H400v160ZM180-400h160v-160H180v160Zm440 0h160v-160H620v160ZM180-180h160v-160H180v160Zm440 0h160v-160H620v160Z\"/>\n",
              "  </svg>\n",
              "    </button>\n",
              "\n",
              "  <style>\n",
              "    .colab-df-container {\n",
              "      display:flex;\n",
              "      gap: 12px;\n",
              "    }\n",
              "\n",
              "    .colab-df-convert {\n",
              "      background-color: #E8F0FE;\n",
              "      border: none;\n",
              "      border-radius: 50%;\n",
              "      cursor: pointer;\n",
              "      display: none;\n",
              "      fill: #1967D2;\n",
              "      height: 32px;\n",
              "      padding: 0 0 0 0;\n",
              "      width: 32px;\n",
              "    }\n",
              "\n",
              "    .colab-df-convert:hover {\n",
              "      background-color: #E2EBFA;\n",
              "      box-shadow: 0px 1px 2px rgba(60, 64, 67, 0.3), 0px 1px 3px 1px rgba(60, 64, 67, 0.15);\n",
              "      fill: #174EA6;\n",
              "    }\n",
              "\n",
              "    .colab-df-buttons div {\n",
              "      margin-bottom: 4px;\n",
              "    }\n",
              "\n",
              "    [theme=dark] .colab-df-convert {\n",
              "      background-color: #3B4455;\n",
              "      fill: #D2E3FC;\n",
              "    }\n",
              "\n",
              "    [theme=dark] .colab-df-convert:hover {\n",
              "      background-color: #434B5C;\n",
              "      box-shadow: 0px 1px 3px 1px rgba(0, 0, 0, 0.15);\n",
              "      filter: drop-shadow(0px 1px 2px rgba(0, 0, 0, 0.3));\n",
              "      fill: #FFFFFF;\n",
              "    }\n",
              "  </style>\n",
              "\n",
              "    <script>\n",
              "      const buttonEl =\n",
              "        document.querySelector('#df-bab5cae1-eb61-4062-b4a8-05872dee5fd9 button.colab-df-convert');\n",
              "      buttonEl.style.display =\n",
              "        google.colab.kernel.accessAllowed ? 'block' : 'none';\n",
              "\n",
              "      async function convertToInteractive(key) {\n",
              "        const element = document.querySelector('#df-bab5cae1-eb61-4062-b4a8-05872dee5fd9');\n",
              "        const dataTable =\n",
              "          await google.colab.kernel.invokeFunction('convertToInteractive',\n",
              "                                                    [key], {});\n",
              "        if (!dataTable) return;\n",
              "\n",
              "        const docLinkHtml = 'Like what you see? Visit the ' +\n",
              "          '<a target=\"_blank\" href=https://colab.research.google.com/notebooks/data_table.ipynb>data table notebook</a>'\n",
              "          + ' to learn more about interactive tables.';\n",
              "        element.innerHTML = '';\n",
              "        dataTable['output_type'] = 'display_data';\n",
              "        await google.colab.output.renderOutput(dataTable, element);\n",
              "        const docLink = document.createElement('div');\n",
              "        docLink.innerHTML = docLinkHtml;\n",
              "        element.appendChild(docLink);\n",
              "      }\n",
              "    </script>\n",
              "  </div>\n",
              "\n",
              "\n",
              "<div id=\"df-ba46a6fe-417b-4fe1-8f05-c99673973890\">\n",
              "  <button class=\"colab-df-quickchart\" onclick=\"quickchart('df-ba46a6fe-417b-4fe1-8f05-c99673973890')\"\n",
              "            title=\"Suggest charts\"\n",
              "            style=\"display:none;\">\n",
              "\n",
              "<svg xmlns=\"http://www.w3.org/2000/svg\" height=\"24px\"viewBox=\"0 0 24 24\"\n",
              "     width=\"24px\">\n",
              "    <g>\n",
              "        <path d=\"M19 3H5c-1.1 0-2 .9-2 2v14c0 1.1.9 2 2 2h14c1.1 0 2-.9 2-2V5c0-1.1-.9-2-2-2zM9 17H7v-7h2v7zm4 0h-2V7h2v10zm4 0h-2v-4h2v4z\"/>\n",
              "    </g>\n",
              "</svg>\n",
              "  </button>\n",
              "\n",
              "<style>\n",
              "  .colab-df-quickchart {\n",
              "      --bg-color: #E8F0FE;\n",
              "      --fill-color: #1967D2;\n",
              "      --hover-bg-color: #E2EBFA;\n",
              "      --hover-fill-color: #174EA6;\n",
              "      --disabled-fill-color: #AAA;\n",
              "      --disabled-bg-color: #DDD;\n",
              "  }\n",
              "\n",
              "  [theme=dark] .colab-df-quickchart {\n",
              "      --bg-color: #3B4455;\n",
              "      --fill-color: #D2E3FC;\n",
              "      --hover-bg-color: #434B5C;\n",
              "      --hover-fill-color: #FFFFFF;\n",
              "      --disabled-bg-color: #3B4455;\n",
              "      --disabled-fill-color: #666;\n",
              "  }\n",
              "\n",
              "  .colab-df-quickchart {\n",
              "    background-color: var(--bg-color);\n",
              "    border: none;\n",
              "    border-radius: 50%;\n",
              "    cursor: pointer;\n",
              "    display: none;\n",
              "    fill: var(--fill-color);\n",
              "    height: 32px;\n",
              "    padding: 0;\n",
              "    width: 32px;\n",
              "  }\n",
              "\n",
              "  .colab-df-quickchart:hover {\n",
              "    background-color: var(--hover-bg-color);\n",
              "    box-shadow: 0 1px 2px rgba(60, 64, 67, 0.3), 0 1px 3px 1px rgba(60, 64, 67, 0.15);\n",
              "    fill: var(--button-hover-fill-color);\n",
              "  }\n",
              "\n",
              "  .colab-df-quickchart-complete:disabled,\n",
              "  .colab-df-quickchart-complete:disabled:hover {\n",
              "    background-color: var(--disabled-bg-color);\n",
              "    fill: var(--disabled-fill-color);\n",
              "    box-shadow: none;\n",
              "  }\n",
              "\n",
              "  .colab-df-spinner {\n",
              "    border: 2px solid var(--fill-color);\n",
              "    border-color: transparent;\n",
              "    border-bottom-color: var(--fill-color);\n",
              "    animation:\n",
              "      spin 1s steps(1) infinite;\n",
              "  }\n",
              "\n",
              "  @keyframes spin {\n",
              "    0% {\n",
              "      border-color: transparent;\n",
              "      border-bottom-color: var(--fill-color);\n",
              "      border-left-color: var(--fill-color);\n",
              "    }\n",
              "    20% {\n",
              "      border-color: transparent;\n",
              "      border-left-color: var(--fill-color);\n",
              "      border-top-color: var(--fill-color);\n",
              "    }\n",
              "    30% {\n",
              "      border-color: transparent;\n",
              "      border-left-color: var(--fill-color);\n",
              "      border-top-color: var(--fill-color);\n",
              "      border-right-color: var(--fill-color);\n",
              "    }\n",
              "    40% {\n",
              "      border-color: transparent;\n",
              "      border-right-color: var(--fill-color);\n",
              "      border-top-color: var(--fill-color);\n",
              "    }\n",
              "    60% {\n",
              "      border-color: transparent;\n",
              "      border-right-color: var(--fill-color);\n",
              "    }\n",
              "    80% {\n",
              "      border-color: transparent;\n",
              "      border-right-color: var(--fill-color);\n",
              "      border-bottom-color: var(--fill-color);\n",
              "    }\n",
              "    90% {\n",
              "      border-color: transparent;\n",
              "      border-bottom-color: var(--fill-color);\n",
              "    }\n",
              "  }\n",
              "</style>\n",
              "\n",
              "  <script>\n",
              "    async function quickchart(key) {\n",
              "      const quickchartButtonEl =\n",
              "        document.querySelector('#' + key + ' button');\n",
              "      quickchartButtonEl.disabled = true;  // To prevent multiple clicks.\n",
              "      quickchartButtonEl.classList.add('colab-df-spinner');\n",
              "      try {\n",
              "        const charts = await google.colab.kernel.invokeFunction(\n",
              "            'suggestCharts', [key], {});\n",
              "      } catch (error) {\n",
              "        console.error('Error during call to suggestCharts:', error);\n",
              "      }\n",
              "      quickchartButtonEl.classList.remove('colab-df-spinner');\n",
              "      quickchartButtonEl.classList.add('colab-df-quickchart-complete');\n",
              "    }\n",
              "    (() => {\n",
              "      let quickchartButtonEl =\n",
              "        document.querySelector('#df-ba46a6fe-417b-4fe1-8f05-c99673973890 button');\n",
              "      quickchartButtonEl.style.display =\n",
              "        google.colab.kernel.accessAllowed ? 'block' : 'none';\n",
              "    })();\n",
              "  </script>\n",
              "</div>\n",
              "\n",
              "    </div>\n",
              "  </div>\n"
            ],
            "application/vnd.google.colaboratory.intrinsic+json": {
              "type": "dataframe",
              "summary": "{\n  \"name\": \"df\",\n  \"rows\": 3,\n  \"fields\": [\n    {\n      \"column\": \"name\",\n      \"properties\": {\n        \"dtype\": \"string\",\n        \"num_unique_values\": 3,\n        \"samples\": [\n          \"\\uc774\\ucca0\\uc218\",\n          \"\\ud64d\\uae38\\ub3d9\",\n          \"John Smith\"\n        ],\n        \"semantic_type\": \"\",\n        \"description\": \"\"\n      }\n    },\n    {\n      \"column\": \"height\",\n      \"properties\": {\n        \"dtype\": \"number\",\n        \"std\": 13.390419460694028,\n        \"min\": 153.5,\n        \"max\": 180.0,\n        \"num_unique_values\": 3,\n        \"samples\": [\n          153.5,\n          163.4,\n          180.0\n        ],\n        \"semantic_type\": \"\",\n        \"description\": \"\"\n      }\n    }\n  ]\n}"
            }
          },
          "metadata": {},
          "execution_count": 122
        }
      ],
      "source": [
        "df.loc[ (df['sex'] == 'M') , ['name', 'height']]"
      ]
    },
    {
      "cell_type": "markdown",
      "metadata": {
        "id": "p4fjUNIZZqde"
      },
      "source": [
        "- 데이터프레임의 행과 열에 대해 숫자를 이용하여 슬라이싱하려면 `iloc` method를 이용한다.\n",
        "\n",
        "- 하나의 위치가 아닌 연속적인 위치를 지정할 경우, `x:y`형태로 지정하며, 모든 열과 행을 지칭하는 경우 공란으로 넣거나 `:`을 사용한다.\n",
        "\n",
        "\n",
        "- 항상 유의할 점은, 슬라이싱의 시작은 `0`이며, `x:y`의 형태로 지정하면 `x`부터 `y - 1`이라는 점이다.\n"
      ]
    },
    {
      "cell_type": "code",
      "execution_count": null,
      "metadata": {
        "colab": {
          "base_uri": "https://localhost:8080/",
          "height": 35
        },
        "id": "zBXWUl1vZjVU",
        "outputId": "2147e31d-ff80-4e23-847c-f06033a8eb21"
      },
      "outputs": [
        {
          "output_type": "execute_result",
          "data": {
            "text/plain": [
              "'이철수'"
            ],
            "application/vnd.google.colaboratory.intrinsic+json": {
              "type": "string"
            }
          },
          "metadata": {},
          "execution_count": 123
        }
      ],
      "source": [
        "df.iloc[0,0]"
      ]
    },
    {
      "cell_type": "code",
      "execution_count": null,
      "metadata": {
        "colab": {
          "base_uri": "https://localhost:8080/"
        },
        "id": "EbhKwF5BaVAq",
        "outputId": "cffd3936-83e4-4773-e7af-0ccf3d4ddfbd"
      },
      "outputs": [
        {
          "output_type": "execute_result",
          "data": {
            "text/plain": [
              "165.7"
            ]
          },
          "metadata": {},
          "execution_count": 124
        }
      ],
      "source": [
        "df.iloc[4,3]"
      ]
    },
    {
      "cell_type": "code",
      "execution_count": null,
      "metadata": {
        "colab": {
          "base_uri": "https://localhost:8080/",
          "height": 147
        },
        "id": "WMmP613xbtS9",
        "outputId": "a26558a6-7013-4bc2-9665-85fb5d53d888"
      },
      "outputs": [
        {
          "output_type": "execute_result",
          "data": {
            "text/plain": [
              "sex     M\n",
              "age    33\n",
              "Name: 3, dtype: object"
            ],
            "text/html": [
              "<div>\n",
              "<style scoped>\n",
              "    .dataframe tbody tr th:only-of-type {\n",
              "        vertical-align: middle;\n",
              "    }\n",
              "\n",
              "    .dataframe tbody tr th {\n",
              "        vertical-align: top;\n",
              "    }\n",
              "\n",
              "    .dataframe thead th {\n",
              "        text-align: right;\n",
              "    }\n",
              "</style>\n",
              "<table border=\"1\" class=\"dataframe\">\n",
              "  <thead>\n",
              "    <tr style=\"text-align: right;\">\n",
              "      <th></th>\n",
              "      <th>3</th>\n",
              "    </tr>\n",
              "  </thead>\n",
              "  <tbody>\n",
              "    <tr>\n",
              "      <th>sex</th>\n",
              "      <td>M</td>\n",
              "    </tr>\n",
              "    <tr>\n",
              "      <th>age</th>\n",
              "      <td>33</td>\n",
              "    </tr>\n",
              "  </tbody>\n",
              "</table>\n",
              "</div><br><label><b>dtype:</b> object</label>"
            ]
          },
          "metadata": {},
          "execution_count": 125
        }
      ],
      "source": [
        "df.iloc[3,1:3]"
      ]
    },
    {
      "cell_type": "code",
      "execution_count": null,
      "metadata": {
        "colab": {
          "base_uri": "https://localhost:8080/",
          "height": 241
        },
        "id": "K85B-I4OaYPX",
        "outputId": "83cc9b56-fbe3-4b75-b516-2ec43130d345"
      },
      "outputs": [
        {
          "output_type": "execute_result",
          "data": {
            "text/plain": [
              "0    23\n",
              "1    25\n",
              "2    21\n",
              "3    33\n",
              "4    45\n",
              "Name: age, dtype: int64"
            ],
            "text/html": [
              "<div>\n",
              "<style scoped>\n",
              "    .dataframe tbody tr th:only-of-type {\n",
              "        vertical-align: middle;\n",
              "    }\n",
              "\n",
              "    .dataframe tbody tr th {\n",
              "        vertical-align: top;\n",
              "    }\n",
              "\n",
              "    .dataframe thead th {\n",
              "        text-align: right;\n",
              "    }\n",
              "</style>\n",
              "<table border=\"1\" class=\"dataframe\">\n",
              "  <thead>\n",
              "    <tr style=\"text-align: right;\">\n",
              "      <th></th>\n",
              "      <th>age</th>\n",
              "    </tr>\n",
              "  </thead>\n",
              "  <tbody>\n",
              "    <tr>\n",
              "      <th>0</th>\n",
              "      <td>23</td>\n",
              "    </tr>\n",
              "    <tr>\n",
              "      <th>1</th>\n",
              "      <td>25</td>\n",
              "    </tr>\n",
              "    <tr>\n",
              "      <th>2</th>\n",
              "      <td>21</td>\n",
              "    </tr>\n",
              "    <tr>\n",
              "      <th>3</th>\n",
              "      <td>33</td>\n",
              "    </tr>\n",
              "    <tr>\n",
              "      <th>4</th>\n",
              "      <td>45</td>\n",
              "    </tr>\n",
              "  </tbody>\n",
              "</table>\n",
              "</div><br><label><b>dtype:</b> int64</label>"
            ]
          },
          "metadata": {},
          "execution_count": 126
        }
      ],
      "source": [
        "df.iloc[:,2]"
      ]
    },
    {
      "cell_type": "code",
      "execution_count": null,
      "metadata": {
        "colab": {
          "base_uri": "https://localhost:8080/",
          "height": 210
        },
        "id": "JXtdJfVVgyOS",
        "outputId": "7fbc8fb9-be31-480a-af9f-ce5796859979"
      },
      "outputs": [
        {
          "output_type": "execute_result",
          "data": {
            "text/plain": [
              "name        이철수\n",
              "sex           M\n",
              "age          23\n",
              "height    153.5\n",
              "Name: 0, dtype: object"
            ],
            "text/html": [
              "<div>\n",
              "<style scoped>\n",
              "    .dataframe tbody tr th:only-of-type {\n",
              "        vertical-align: middle;\n",
              "    }\n",
              "\n",
              "    .dataframe tbody tr th {\n",
              "        vertical-align: top;\n",
              "    }\n",
              "\n",
              "    .dataframe thead th {\n",
              "        text-align: right;\n",
              "    }\n",
              "</style>\n",
              "<table border=\"1\" class=\"dataframe\">\n",
              "  <thead>\n",
              "    <tr style=\"text-align: right;\">\n",
              "      <th></th>\n",
              "      <th>0</th>\n",
              "    </tr>\n",
              "  </thead>\n",
              "  <tbody>\n",
              "    <tr>\n",
              "      <th>name</th>\n",
              "      <td>이철수</td>\n",
              "    </tr>\n",
              "    <tr>\n",
              "      <th>sex</th>\n",
              "      <td>M</td>\n",
              "    </tr>\n",
              "    <tr>\n",
              "      <th>age</th>\n",
              "      <td>23</td>\n",
              "    </tr>\n",
              "    <tr>\n",
              "      <th>height</th>\n",
              "      <td>153.5</td>\n",
              "    </tr>\n",
              "  </tbody>\n",
              "</table>\n",
              "</div><br><label><b>dtype:</b> object</label>"
            ]
          },
          "metadata": {},
          "execution_count": 127
        }
      ],
      "source": [
        "df.iloc[0,:]"
      ]
    },
    {
      "cell_type": "markdown",
      "source": [
        "- **데이터프레임의 인덱스는 행과 열을 지칭할 때 사용한다. 데이터프레임을 슬라이싱할 때 인덱스는 다음과 같은 두 종류의 형식을 사용할 수 있다.**\n",
        "\n",
        "- 라벨(label, 이름)에 기반한 인덱스\n",
        "  + 데이터프레임의 열이름(column name)으로 지칭하거나 또는 행을 조건식을 이용한 `True`, `False` 로 선택할 때 사용한다.\n",
        "  + 행과 열을 모두 슬라이싱 하는 경우 `.loc[]`을 사용한다.\n",
        "\n",
        "- 위치(integer position)에 기반한 인덱스\n",
        "  + 행과 열 순서의 위치를 나타내는 정수를 사용하여 슬라이싱한다.\n",
        "  + 모든 위치는 0으로 시작한다.\n",
        "  + `.iloc[]` 을 사용한다."
      ],
      "metadata": {
        "id": "Ws9gSNyO84-d"
      }
    },
    {
      "cell_type": "markdown",
      "metadata": {
        "id": "Y3DWpBe4hR3x"
      },
      "source": [
        "## 참고\n",
        "\n",
        "- 데이터프레임을 구성하는 **하나의 행 또는 열은 시리즈(`Series`)** 란 형식으로 저장된다.\n"
      ]
    },
    {
      "cell_type": "code",
      "execution_count": null,
      "metadata": {
        "colab": {
          "base_uri": "https://localhost:8080/",
          "height": 241
        },
        "id": "MTTbUlhj7rlX",
        "outputId": "677fff0f-4be7-47a7-cd6e-735f80cf1ccc"
      },
      "outputs": [
        {
          "output_type": "execute_result",
          "data": {
            "text/plain": [
              "0    M\n",
              "1    F\n",
              "2    M\n",
              "3    M\n",
              "4    F\n",
              "Name: sex, dtype: object"
            ],
            "text/html": [
              "<div>\n",
              "<style scoped>\n",
              "    .dataframe tbody tr th:only-of-type {\n",
              "        vertical-align: middle;\n",
              "    }\n",
              "\n",
              "    .dataframe tbody tr th {\n",
              "        vertical-align: top;\n",
              "    }\n",
              "\n",
              "    .dataframe thead th {\n",
              "        text-align: right;\n",
              "    }\n",
              "</style>\n",
              "<table border=\"1\" class=\"dataframe\">\n",
              "  <thead>\n",
              "    <tr style=\"text-align: right;\">\n",
              "      <th></th>\n",
              "      <th>sex</th>\n",
              "    </tr>\n",
              "  </thead>\n",
              "  <tbody>\n",
              "    <tr>\n",
              "      <th>0</th>\n",
              "      <td>M</td>\n",
              "    </tr>\n",
              "    <tr>\n",
              "      <th>1</th>\n",
              "      <td>F</td>\n",
              "    </tr>\n",
              "    <tr>\n",
              "      <th>2</th>\n",
              "      <td>M</td>\n",
              "    </tr>\n",
              "    <tr>\n",
              "      <th>3</th>\n",
              "      <td>M</td>\n",
              "    </tr>\n",
              "    <tr>\n",
              "      <th>4</th>\n",
              "      <td>F</td>\n",
              "    </tr>\n",
              "  </tbody>\n",
              "</table>\n",
              "</div><br><label><b>dtype:</b> object</label>"
            ]
          },
          "metadata": {},
          "execution_count": 128
        }
      ],
      "source": [
        "df['sex']"
      ]
    },
    {
      "cell_type": "code",
      "execution_count": null,
      "metadata": {
        "colab": {
          "base_uri": "https://localhost:8080/"
        },
        "id": "UvKpwnxHggEE",
        "outputId": "e67f7aee-8c57-41ab-9f13-318fd4007329"
      },
      "outputs": [
        {
          "output_type": "stream",
          "name": "stdout",
          "text": [
            "<class 'pandas.core.series.Series'>\n",
            "RangeIndex: 5 entries, 0 to 4\n",
            "Series name: sex\n",
            "Non-Null Count  Dtype \n",
            "--------------  ----- \n",
            "5 non-null      object\n",
            "dtypes: object(1)\n",
            "memory usage: 168.0+ bytes\n"
          ]
        }
      ],
      "source": [
        "df['sex'].info()"
      ]
    },
    {
      "cell_type": "code",
      "execution_count": null,
      "metadata": {
        "colab": {
          "base_uri": "https://localhost:8080/",
          "height": 210
        },
        "id": "cOmUCOzl7wg3",
        "outputId": "e672179b-cd35-4e5e-8278-e68eaef9f420"
      },
      "outputs": [
        {
          "output_type": "execute_result",
          "data": {
            "text/plain": [
              "name        이철수\n",
              "sex           M\n",
              "age          23\n",
              "height    153.5\n",
              "Name: 0, dtype: object"
            ],
            "text/html": [
              "<div>\n",
              "<style scoped>\n",
              "    .dataframe tbody tr th:only-of-type {\n",
              "        vertical-align: middle;\n",
              "    }\n",
              "\n",
              "    .dataframe tbody tr th {\n",
              "        vertical-align: top;\n",
              "    }\n",
              "\n",
              "    .dataframe thead th {\n",
              "        text-align: right;\n",
              "    }\n",
              "</style>\n",
              "<table border=\"1\" class=\"dataframe\">\n",
              "  <thead>\n",
              "    <tr style=\"text-align: right;\">\n",
              "      <th></th>\n",
              "      <th>0</th>\n",
              "    </tr>\n",
              "  </thead>\n",
              "  <tbody>\n",
              "    <tr>\n",
              "      <th>name</th>\n",
              "      <td>이철수</td>\n",
              "    </tr>\n",
              "    <tr>\n",
              "      <th>sex</th>\n",
              "      <td>M</td>\n",
              "    </tr>\n",
              "    <tr>\n",
              "      <th>age</th>\n",
              "      <td>23</td>\n",
              "    </tr>\n",
              "    <tr>\n",
              "      <th>height</th>\n",
              "      <td>153.5</td>\n",
              "    </tr>\n",
              "  </tbody>\n",
              "</table>\n",
              "</div><br><label><b>dtype:</b> object</label>"
            ]
          },
          "metadata": {},
          "execution_count": 130
        }
      ],
      "source": [
        "df.iloc[0,:]"
      ]
    },
    {
      "cell_type": "code",
      "execution_count": null,
      "metadata": {
        "colab": {
          "base_uri": "https://localhost:8080/"
        },
        "id": "HmfZtGJYg4PP",
        "outputId": "45afc1e7-1792-44ac-e731-31913c9de8f8"
      },
      "outputs": [
        {
          "output_type": "stream",
          "name": "stdout",
          "text": [
            "<class 'pandas.core.series.Series'>\n",
            "Index: 4 entries, name to height\n",
            "Series name: 0\n",
            "Non-Null Count  Dtype \n",
            "--------------  ----- \n",
            "4 non-null      object\n",
            "dtypes: object(1)\n",
            "memory usage: 236.0+ bytes\n"
          ]
        }
      ],
      "source": [
        "df.iloc[0,:].info()"
      ]
    },
    {
      "cell_type": "markdown",
      "metadata": {
        "id": "UxVCL6QeapKZ"
      },
      "source": [
        "- 이는 `list`와 다른 데이터 타입이며, 이는 서로 적용되는 함수(function, method)가 다르다는 것을 의미한다."
      ]
    },
    {
      "cell_type": "markdown",
      "metadata": {
        "id": "yvrkp2n5p2zY"
      },
      "source": [
        "--------------------------------------------------------------------------------"
      ]
    },
    {
      "cell_type": "markdown",
      "metadata": {
        "id": "76de4211"
      },
      "source": [
        "# 데이터프레임의 요약\n",
        "\n",
        "- 데이터프레임으로 저장된 데이터로부터 나열된 값을 요약하여 새로운 정보를 생성하는 방법을 배운다. 진행할 내용은 다음과 같다.\n",
        "\n",
        "1. 열에 대한 요약 통계\n",
        "    + 해당 연도 요약 통계\n",
        "    + 해당 시군구 요약 통계\n",
        "2. 외부 파일로 저장\n",
        "\n",
        "- 자료의 형태에 대해 알아보자.\n",
        "- 자료는 크게 '범주형 자료'와 '수치형 자료'로 분류할 수 있다.\n",
        "![datatypes.png](data:image/png;base64,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)"
      ]
    },
    {
      "cell_type": "markdown",
      "metadata": {
        "id": "5e4b114b"
      },
      "source": [
        "## 화재출동 데이터\n",
        "\n",
        "- 먼저 실습할 데이터를 불러오자. 실습 데이터는 화재출동 데이터(`fire_calling_summary.csv`)이다. 화재출동 데이터는 2017년부터 2021년의 5년간 서울시 5개 구별 (강동구, 강서구, 강남구, 강북구, 관악구) 자료를 담고 있다."
      ]
    },
    {
      "cell_type": "code",
      "execution_count": 1,
      "metadata": {
        "id": "9e5ffd5c"
      },
      "outputs": [],
      "source": [
        "import pandas as pd"
      ]
    },
    {
      "cell_type": "code",
      "execution_count": 2,
      "metadata": {
        "colab": {
          "base_uri": "https://localhost:8080/",
          "height": 833
        },
        "id": "5eb41a3f",
        "outputId": "6a4832f8-60c0-44c6-9b41-6f6669f17697"
      },
      "outputs": [
        {
          "output_type": "execute_result",
          "data": {
            "text/plain": [
              "    화재발생연도  시군구  사망자수   재산피해금액  출동횟수\n",
              "0     2017  강남구   0.0  1565258   502\n",
              "1     2017  강동구   0.0   418593   269\n",
              "2     2017  강북구   0.0   339146   186\n",
              "3     2017  강서구   3.0   706871   364\n",
              "4     2017  관악구   3.0   654690   286\n",
              "5     2018  강남구   0.0  1624983   436\n",
              "6     2018  강동구   4.0   540625   324\n",
              "7     2018  강북구   4.0   216838   203\n",
              "8     2018  강서구   2.0   393401   383\n",
              "9     2018  관악구   1.0   816562   337\n",
              "10    2019  강남구   1.0  1677681   456\n",
              "11    2019  강동구   1.0   533359   254\n",
              "12    2019  강북구   1.0   217805   167\n",
              "13    2019  강서구   0.0   666297   331\n",
              "14    2019  관악구   3.0   654586   311\n",
              "15    2020  강남구   1.0  1451556   387\n",
              "16    2020  강동구   3.0   363839   221\n",
              "17    2020  강북구   1.0   208380   186\n",
              "18    2020  강서구   3.0   200966   212\n",
              "19    2020  관악구   2.0   646149   219\n",
              "20    2021  강남구   2.0  1354949   391\n",
              "21    2021  강동구   1.0   346741   211\n",
              "22    2021  강북구   5.0   410205   146\n",
              "23    2021  강서구   2.0   559614   223\n",
              "24    2021  관악구   2.0   562294   259"
            ],
            "text/html": [
              "\n",
              "  <div id=\"df-11d5c87d-4998-4eef-8b3c-f8ce4d423469\" class=\"colab-df-container\">\n",
              "    <div>\n",
              "<style scoped>\n",
              "    .dataframe tbody tr th:only-of-type {\n",
              "        vertical-align: middle;\n",
              "    }\n",
              "\n",
              "    .dataframe tbody tr th {\n",
              "        vertical-align: top;\n",
              "    }\n",
              "\n",
              "    .dataframe thead th {\n",
              "        text-align: right;\n",
              "    }\n",
              "</style>\n",
              "<table border=\"1\" class=\"dataframe\">\n",
              "  <thead>\n",
              "    <tr style=\"text-align: right;\">\n",
              "      <th></th>\n",
              "      <th>화재발생연도</th>\n",
              "      <th>시군구</th>\n",
              "      <th>사망자수</th>\n",
              "      <th>재산피해금액</th>\n",
              "      <th>출동횟수</th>\n",
              "    </tr>\n",
              "  </thead>\n",
              "  <tbody>\n",
              "    <tr>\n",
              "      <th>0</th>\n",
              "      <td>2017</td>\n",
              "      <td>강남구</td>\n",
              "      <td>0.0</td>\n",
              "      <td>1565258</td>\n",
              "      <td>502</td>\n",
              "    </tr>\n",
              "    <tr>\n",
              "      <th>1</th>\n",
              "      <td>2017</td>\n",
              "      <td>강동구</td>\n",
              "      <td>0.0</td>\n",
              "      <td>418593</td>\n",
              "      <td>269</td>\n",
              "    </tr>\n",
              "    <tr>\n",
              "      <th>2</th>\n",
              "      <td>2017</td>\n",
              "      <td>강북구</td>\n",
              "      <td>0.0</td>\n",
              "      <td>339146</td>\n",
              "      <td>186</td>\n",
              "    </tr>\n",
              "    <tr>\n",
              "      <th>3</th>\n",
              "      <td>2017</td>\n",
              "      <td>강서구</td>\n",
              "      <td>3.0</td>\n",
              "      <td>706871</td>\n",
              "      <td>364</td>\n",
              "    </tr>\n",
              "    <tr>\n",
              "      <th>4</th>\n",
              "      <td>2017</td>\n",
              "      <td>관악구</td>\n",
              "      <td>3.0</td>\n",
              "      <td>654690</td>\n",
              "      <td>286</td>\n",
              "    </tr>\n",
              "    <tr>\n",
              "      <th>5</th>\n",
              "      <td>2018</td>\n",
              "      <td>강남구</td>\n",
              "      <td>0.0</td>\n",
              "      <td>1624983</td>\n",
              "      <td>436</td>\n",
              "    </tr>\n",
              "    <tr>\n",
              "      <th>6</th>\n",
              "      <td>2018</td>\n",
              "      <td>강동구</td>\n",
              "      <td>4.0</td>\n",
              "      <td>540625</td>\n",
              "      <td>324</td>\n",
              "    </tr>\n",
              "    <tr>\n",
              "      <th>7</th>\n",
              "      <td>2018</td>\n",
              "      <td>강북구</td>\n",
              "      <td>4.0</td>\n",
              "      <td>216838</td>\n",
              "      <td>203</td>\n",
              "    </tr>\n",
              "    <tr>\n",
              "      <th>8</th>\n",
              "      <td>2018</td>\n",
              "      <td>강서구</td>\n",
              "      <td>2.0</td>\n",
              "      <td>393401</td>\n",
              "      <td>383</td>\n",
              "    </tr>\n",
              "    <tr>\n",
              "      <th>9</th>\n",
              "      <td>2018</td>\n",
              "      <td>관악구</td>\n",
              "      <td>1.0</td>\n",
              "      <td>816562</td>\n",
              "      <td>337</td>\n",
              "    </tr>\n",
              "    <tr>\n",
              "      <th>10</th>\n",
              "      <td>2019</td>\n",
              "      <td>강남구</td>\n",
              "      <td>1.0</td>\n",
              "      <td>1677681</td>\n",
              "      <td>456</td>\n",
              "    </tr>\n",
              "    <tr>\n",
              "      <th>11</th>\n",
              "      <td>2019</td>\n",
              "      <td>강동구</td>\n",
              "      <td>1.0</td>\n",
              "      <td>533359</td>\n",
              "      <td>254</td>\n",
              "    </tr>\n",
              "    <tr>\n",
              "      <th>12</th>\n",
              "      <td>2019</td>\n",
              "      <td>강북구</td>\n",
              "      <td>1.0</td>\n",
              "      <td>217805</td>\n",
              "      <td>167</td>\n",
              "    </tr>\n",
              "    <tr>\n",
              "      <th>13</th>\n",
              "      <td>2019</td>\n",
              "      <td>강서구</td>\n",
              "      <td>0.0</td>\n",
              "      <td>666297</td>\n",
              "      <td>331</td>\n",
              "    </tr>\n",
              "    <tr>\n",
              "      <th>14</th>\n",
              "      <td>2019</td>\n",
              "      <td>관악구</td>\n",
              "      <td>3.0</td>\n",
              "      <td>654586</td>\n",
              "      <td>311</td>\n",
              "    </tr>\n",
              "    <tr>\n",
              "      <th>15</th>\n",
              "      <td>2020</td>\n",
              "      <td>강남구</td>\n",
              "      <td>1.0</td>\n",
              "      <td>1451556</td>\n",
              "      <td>387</td>\n",
              "    </tr>\n",
              "    <tr>\n",
              "      <th>16</th>\n",
              "      <td>2020</td>\n",
              "      <td>강동구</td>\n",
              "      <td>3.0</td>\n",
              "      <td>363839</td>\n",
              "      <td>221</td>\n",
              "    </tr>\n",
              "    <tr>\n",
              "      <th>17</th>\n",
              "      <td>2020</td>\n",
              "      <td>강북구</td>\n",
              "      <td>1.0</td>\n",
              "      <td>208380</td>\n",
              "      <td>186</td>\n",
              "    </tr>\n",
              "    <tr>\n",
              "      <th>18</th>\n",
              "      <td>2020</td>\n",
              "      <td>강서구</td>\n",
              "      <td>3.0</td>\n",
              "      <td>200966</td>\n",
              "      <td>212</td>\n",
              "    </tr>\n",
              "    <tr>\n",
              "      <th>19</th>\n",
              "      <td>2020</td>\n",
              "      <td>관악구</td>\n",
              "      <td>2.0</td>\n",
              "      <td>646149</td>\n",
              "      <td>219</td>\n",
              "    </tr>\n",
              "    <tr>\n",
              "      <th>20</th>\n",
              "      <td>2021</td>\n",
              "      <td>강남구</td>\n",
              "      <td>2.0</td>\n",
              "      <td>1354949</td>\n",
              "      <td>391</td>\n",
              "    </tr>\n",
              "    <tr>\n",
              "      <th>21</th>\n",
              "      <td>2021</td>\n",
              "      <td>강동구</td>\n",
              "      <td>1.0</td>\n",
              "      <td>346741</td>\n",
              "      <td>211</td>\n",
              "    </tr>\n",
              "    <tr>\n",
              "      <th>22</th>\n",
              "      <td>2021</td>\n",
              "      <td>강북구</td>\n",
              "      <td>5.0</td>\n",
              "      <td>410205</td>\n",
              "      <td>146</td>\n",
              "    </tr>\n",
              "    <tr>\n",
              "      <th>23</th>\n",
              "      <td>2021</td>\n",
              "      <td>강서구</td>\n",
              "      <td>2.0</td>\n",
              "      <td>559614</td>\n",
              "      <td>223</td>\n",
              "    </tr>\n",
              "    <tr>\n",
              "      <th>24</th>\n",
              "      <td>2021</td>\n",
              "      <td>관악구</td>\n",
              "      <td>2.0</td>\n",
              "      <td>562294</td>\n",
              "      <td>259</td>\n",
              "    </tr>\n",
              "  </tbody>\n",
              "</table>\n",
              "</div>\n",
              "    <div class=\"colab-df-buttons\">\n",
              "\n",
              "  <div class=\"colab-df-container\">\n",
              "    <button class=\"colab-df-convert\" onclick=\"convertToInteractive('df-11d5c87d-4998-4eef-8b3c-f8ce4d423469')\"\n",
              "            title=\"Convert this dataframe to an interactive table.\"\n",
              "            style=\"display:none;\">\n",
              "\n",
              "  <svg xmlns=\"http://www.w3.org/2000/svg\" height=\"24px\" viewBox=\"0 -960 960 960\">\n",
              "    <path d=\"M120-120v-720h720v720H120Zm60-500h600v-160H180v160Zm220 220h160v-160H400v160Zm0 220h160v-160H400v160ZM180-400h160v-160H180v160Zm440 0h160v-160H620v160ZM180-180h160v-160H180v160Zm440 0h160v-160H620v160Z\"/>\n",
              "  </svg>\n",
              "    </button>\n",
              "\n",
              "  <style>\n",
              "    .colab-df-container {\n",
              "      display:flex;\n",
              "      gap: 12px;\n",
              "    }\n",
              "\n",
              "    .colab-df-convert {\n",
              "      background-color: #E8F0FE;\n",
              "      border: none;\n",
              "      border-radius: 50%;\n",
              "      cursor: pointer;\n",
              "      display: none;\n",
              "      fill: #1967D2;\n",
              "      height: 32px;\n",
              "      padding: 0 0 0 0;\n",
              "      width: 32px;\n",
              "    }\n",
              "\n",
              "    .colab-df-convert:hover {\n",
              "      background-color: #E2EBFA;\n",
              "      box-shadow: 0px 1px 2px rgba(60, 64, 67, 0.3), 0px 1px 3px 1px rgba(60, 64, 67, 0.15);\n",
              "      fill: #174EA6;\n",
              "    }\n",
              "\n",
              "    .colab-df-buttons div {\n",
              "      margin-bottom: 4px;\n",
              "    }\n",
              "\n",
              "    [theme=dark] .colab-df-convert {\n",
              "      background-color: #3B4455;\n",
              "      fill: #D2E3FC;\n",
              "    }\n",
              "\n",
              "    [theme=dark] .colab-df-convert:hover {\n",
              "      background-color: #434B5C;\n",
              "      box-shadow: 0px 1px 3px 1px rgba(0, 0, 0, 0.15);\n",
              "      filter: drop-shadow(0px 1px 2px rgba(0, 0, 0, 0.3));\n",
              "      fill: #FFFFFF;\n",
              "    }\n",
              "  </style>\n",
              "\n",
              "    <script>\n",
              "      const buttonEl =\n",
              "        document.querySelector('#df-11d5c87d-4998-4eef-8b3c-f8ce4d423469 button.colab-df-convert');\n",
              "      buttonEl.style.display =\n",
              "        google.colab.kernel.accessAllowed ? 'block' : 'none';\n",
              "\n",
              "      async function convertToInteractive(key) {\n",
              "        const element = document.querySelector('#df-11d5c87d-4998-4eef-8b3c-f8ce4d423469');\n",
              "        const dataTable =\n",
              "          await google.colab.kernel.invokeFunction('convertToInteractive',\n",
              "                                                    [key], {});\n",
              "        if (!dataTable) return;\n",
              "\n",
              "        const docLinkHtml = 'Like what you see? Visit the ' +\n",
              "          '<a target=\"_blank\" href=https://colab.research.google.com/notebooks/data_table.ipynb>data table notebook</a>'\n",
              "          + ' to learn more about interactive tables.';\n",
              "        element.innerHTML = '';\n",
              "        dataTable['output_type'] = 'display_data';\n",
              "        await google.colab.output.renderOutput(dataTable, element);\n",
              "        const docLink = document.createElement('div');\n",
              "        docLink.innerHTML = docLinkHtml;\n",
              "        element.appendChild(docLink);\n",
              "      }\n",
              "    </script>\n",
              "  </div>\n",
              "\n",
              "\n",
              "<div id=\"df-d58b825e-93f4-46fb-be11-392248808994\">\n",
              "  <button class=\"colab-df-quickchart\" onclick=\"quickchart('df-d58b825e-93f4-46fb-be11-392248808994')\"\n",
              "            title=\"Suggest charts\"\n",
              "            style=\"display:none;\">\n",
              "\n",
              "<svg xmlns=\"http://www.w3.org/2000/svg\" height=\"24px\"viewBox=\"0 0 24 24\"\n",
              "     width=\"24px\">\n",
              "    <g>\n",
              "        <path d=\"M19 3H5c-1.1 0-2 .9-2 2v14c0 1.1.9 2 2 2h14c1.1 0 2-.9 2-2V5c0-1.1-.9-2-2-2zM9 17H7v-7h2v7zm4 0h-2V7h2v10zm4 0h-2v-4h2v4z\"/>\n",
              "    </g>\n",
              "</svg>\n",
              "  </button>\n",
              "\n",
              "<style>\n",
              "  .colab-df-quickchart {\n",
              "      --bg-color: #E8F0FE;\n",
              "      --fill-color: #1967D2;\n",
              "      --hover-bg-color: #E2EBFA;\n",
              "      --hover-fill-color: #174EA6;\n",
              "      --disabled-fill-color: #AAA;\n",
              "      --disabled-bg-color: #DDD;\n",
              "  }\n",
              "\n",
              "  [theme=dark] .colab-df-quickchart {\n",
              "      --bg-color: #3B4455;\n",
              "      --fill-color: #D2E3FC;\n",
              "      --hover-bg-color: #434B5C;\n",
              "      --hover-fill-color: #FFFFFF;\n",
              "      --disabled-bg-color: #3B4455;\n",
              "      --disabled-fill-color: #666;\n",
              "  }\n",
              "\n",
              "  .colab-df-quickchart {\n",
              "    background-color: var(--bg-color);\n",
              "    border: none;\n",
              "    border-radius: 50%;\n",
              "    cursor: pointer;\n",
              "    display: none;\n",
              "    fill: var(--fill-color);\n",
              "    height: 32px;\n",
              "    padding: 0;\n",
              "    width: 32px;\n",
              "  }\n",
              "\n",
              "  .colab-df-quickchart:hover {\n",
              "    background-color: var(--hover-bg-color);\n",
              "    box-shadow: 0 1px 2px rgba(60, 64, 67, 0.3), 0 1px 3px 1px rgba(60, 64, 67, 0.15);\n",
              "    fill: var(--button-hover-fill-color);\n",
              "  }\n",
              "\n",
              "  .colab-df-quickchart-complete:disabled,\n",
              "  .colab-df-quickchart-complete:disabled:hover {\n",
              "    background-color: var(--disabled-bg-color);\n",
              "    fill: var(--disabled-fill-color);\n",
              "    box-shadow: none;\n",
              "  }\n",
              "\n",
              "  .colab-df-spinner {\n",
              "    border: 2px solid var(--fill-color);\n",
              "    border-color: transparent;\n",
              "    border-bottom-color: var(--fill-color);\n",
              "    animation:\n",
              "      spin 1s steps(1) infinite;\n",
              "  }\n",
              "\n",
              "  @keyframes spin {\n",
              "    0% {\n",
              "      border-color: transparent;\n",
              "      border-bottom-color: var(--fill-color);\n",
              "      border-left-color: var(--fill-color);\n",
              "    }\n",
              "    20% {\n",
              "      border-color: transparent;\n",
              "      border-left-color: var(--fill-color);\n",
              "      border-top-color: var(--fill-color);\n",
              "    }\n",
              "    30% {\n",
              "      border-color: transparent;\n",
              "      border-left-color: var(--fill-color);\n",
              "      border-top-color: var(--fill-color);\n",
              "      border-right-color: var(--fill-color);\n",
              "    }\n",
              "    40% {\n",
              "      border-color: transparent;\n",
              "      border-right-color: var(--fill-color);\n",
              "      border-top-color: var(--fill-color);\n",
              "    }\n",
              "    60% {\n",
              "      border-color: transparent;\n",
              "      border-right-color: var(--fill-color);\n",
              "    }\n",
              "    80% {\n",
              "      border-color: transparent;\n",
              "      border-right-color: var(--fill-color);\n",
              "      border-bottom-color: var(--fill-color);\n",
              "    }\n",
              "    90% {\n",
              "      border-color: transparent;\n",
              "      border-bottom-color: var(--fill-color);\n",
              "    }\n",
              "  }\n",
              "</style>\n",
              "\n",
              "  <script>\n",
              "    async function quickchart(key) {\n",
              "      const quickchartButtonEl =\n",
              "        document.querySelector('#' + key + ' button');\n",
              "      quickchartButtonEl.disabled = true;  // To prevent multiple clicks.\n",
              "      quickchartButtonEl.classList.add('colab-df-spinner');\n",
              "      try {\n",
              "        const charts = await google.colab.kernel.invokeFunction(\n",
              "            'suggestCharts', [key], {});\n",
              "      } catch (error) {\n",
              "        console.error('Error during call to suggestCharts:', error);\n",
              "      }\n",
              "      quickchartButtonEl.classList.remove('colab-df-spinner');\n",
              "      quickchartButtonEl.classList.add('colab-df-quickchart-complete');\n",
              "    }\n",
              "    (() => {\n",
              "      let quickchartButtonEl =\n",
              "        document.querySelector('#df-d58b825e-93f4-46fb-be11-392248808994 button');\n",
              "      quickchartButtonEl.style.display =\n",
              "        google.colab.kernel.accessAllowed ? 'block' : 'none';\n",
              "    })();\n",
              "  </script>\n",
              "</div>\n",
              "\n",
              "  <div id=\"id_9b6a7a49-9794-4f15-80e1-7a81e8f68670\">\n",
              "    <style>\n",
              "      .colab-df-generate {\n",
              "        background-color: #E8F0FE;\n",
              "        border: none;\n",
              "        border-radius: 50%;\n",
              "        cursor: pointer;\n",
              "        display: none;\n",
              "        fill: #1967D2;\n",
              "        height: 32px;\n",
              "        padding: 0 0 0 0;\n",
              "        width: 32px;\n",
              "      }\n",
              "\n",
              "      .colab-df-generate:hover {\n",
              "        background-color: #E2EBFA;\n",
              "        box-shadow: 0px 1px 2px rgba(60, 64, 67, 0.3), 0px 1px 3px 1px rgba(60, 64, 67, 0.15);\n",
              "        fill: #174EA6;\n",
              "      }\n",
              "\n",
              "      [theme=dark] .colab-df-generate {\n",
              "        background-color: #3B4455;\n",
              "        fill: #D2E3FC;\n",
              "      }\n",
              "\n",
              "      [theme=dark] .colab-df-generate:hover {\n",
              "        background-color: #434B5C;\n",
              "        box-shadow: 0px 1px 3px 1px rgba(0, 0, 0, 0.15);\n",
              "        filter: drop-shadow(0px 1px 2px rgba(0, 0, 0, 0.3));\n",
              "        fill: #FFFFFF;\n",
              "      }\n",
              "    </style>\n",
              "    <button class=\"colab-df-generate\" onclick=\"generateWithVariable('df')\"\n",
              "            title=\"Generate code using this dataframe.\"\n",
              "            style=\"display:none;\">\n",
              "\n",
              "  <svg xmlns=\"http://www.w3.org/2000/svg\" height=\"24px\"viewBox=\"0 0 24 24\"\n",
              "       width=\"24px\">\n",
              "    <path d=\"M7,19H8.4L18.45,9,17,7.55,7,17.6ZM5,21V16.75L18.45,3.32a2,2,0,0,1,2.83,0l1.4,1.43a1.91,1.91,0,0,1,.58,1.4,1.91,1.91,0,0,1-.58,1.4L9.25,21ZM18.45,9,17,7.55Zm-12,3A5.31,5.31,0,0,0,4.9,8.1,5.31,5.31,0,0,0,1,6.5,5.31,5.31,0,0,0,4.9,4.9,5.31,5.31,0,0,0,6.5,1,5.31,5.31,0,0,0,8.1,4.9,5.31,5.31,0,0,0,12,6.5,5.46,5.46,0,0,0,6.5,12Z\"/>\n",
              "  </svg>\n",
              "    </button>\n",
              "    <script>\n",
              "      (() => {\n",
              "      const buttonEl =\n",
              "        document.querySelector('#id_9b6a7a49-9794-4f15-80e1-7a81e8f68670 button.colab-df-generate');\n",
              "      buttonEl.style.display =\n",
              "        google.colab.kernel.accessAllowed ? 'block' : 'none';\n",
              "\n",
              "      buttonEl.onclick = () => {\n",
              "        google.colab.notebook.generateWithVariable('df');\n",
              "      }\n",
              "      })();\n",
              "    </script>\n",
              "  </div>\n",
              "\n",
              "    </div>\n",
              "  </div>\n"
            ],
            "application/vnd.google.colaboratory.intrinsic+json": {
              "type": "dataframe",
              "variable_name": "df",
              "summary": "{\n  \"name\": \"df\",\n  \"rows\": 25,\n  \"fields\": [\n    {\n      \"column\": \"\\ud654\\uc7ac\\ubc1c\\uc0dd\\uc5f0\\ub3c4\",\n      \"properties\": {\n        \"dtype\": \"number\",\n        \"std\": 1,\n        \"min\": 2017,\n        \"max\": 2021,\n        \"num_unique_values\": 5,\n        \"samples\": [\n          2018,\n          2021,\n          2019\n        ],\n        \"semantic_type\": \"\",\n        \"description\": \"\"\n      }\n    },\n    {\n      \"column\": \"\\uc2dc\\uad70\\uad6c\",\n      \"properties\": {\n        \"dtype\": \"category\",\n        \"num_unique_values\": 5,\n        \"samples\": [\n          \"\\uac15\\ub3d9\\uad6c\",\n          \"\\uad00\\uc545\\uad6c\",\n          \"\\uac15\\ubd81\\uad6c\"\n        ],\n        \"semantic_type\": \"\",\n        \"description\": \"\"\n      }\n    },\n    {\n      \"column\": \"\\uc0ac\\ub9dd\\uc790\\uc218\",\n      \"properties\": {\n        \"dtype\": \"number\",\n        \"std\": 1.4142135623730951,\n        \"min\": 0.0,\n        \"max\": 5.0,\n        \"num_unique_values\": 6,\n        \"samples\": [\n          0.0,\n          3.0,\n          5.0\n        ],\n        \"semantic_type\": \"\",\n        \"description\": \"\"\n      }\n    },\n    {\n      \"column\": \"\\uc7ac\\uc0b0\\ud53c\\ud574\\uae08\\uc561\",\n      \"properties\": {\n        \"dtype\": \"number\",\n        \"std\": 467438,\n        \"min\": 200966,\n        \"max\": 1677681,\n        \"num_unique_values\": 25,\n        \"samples\": [\n          393401,\n          363839,\n          1565258\n        ],\n        \"semantic_type\": \"\",\n        \"description\": \"\"\n      }\n    },\n    {\n      \"column\": \"\\ucd9c\\ub3d9\\ud69f\\uc218\",\n      \"properties\": {\n        \"dtype\": \"number\",\n        \"std\": 97,\n        \"min\": 146,\n        \"max\": 502,\n        \"num_unique_values\": 24,\n        \"samples\": [\n          383,\n          221,\n          502\n        ],\n        \"semantic_type\": \"\",\n        \"description\": \"\"\n      }\n    }\n  ]\n}"
            }
          },
          "metadata": {},
          "execution_count": 2
        }
      ],
      "source": [
        "df = pd.read_csv(\"https://raw.githubusercontent.com/UOS-Bigdata/lab_fire_seoul/main/data/fire_calling_summary.csv\", encoding = 'cp949')\n",
        "df"
      ]
    },
    {
      "cell_type": "markdown",
      "source": [
        "- 화재출동 데이터를 위의 기준에 따라 분류하면 다음과 같다.\n",
        "  - 명목형 자료: 시군구\n",
        "\n",
        "  - 순서형 자료: 화재발생연도\n",
        "\n",
        "  - 이산형 자료: 사망자수, 출동횟수\n",
        "\n",
        "  - 연속형 자료: 재산피해금액"
      ],
      "metadata": {
        "id": "NsobTgd-9g3D"
      }
    },
    {
      "cell_type": "markdown",
      "metadata": {
        "id": "252014fa"
      },
      "source": [
        "## 열의 요약 통계\n",
        "- 데이터 프레임은 행(row)과 열(column)로 이루어져 있다. 행은 관측치라고도 부르며, 각 관측치의 측정된 정보가 해당 열 위치에 기술되어 있다.\n",
        "- 따라서 데이터는 각 열을 기준으로 요약하며, 여기서 열(column)의  `평균, 표준편차, 최댓값/최솟값, 분위수` 등 요약된 수치들을 출력한다. 이러한 요약된 수치들을 `통계량`이라고도 부른다.\n",
        "\n",
        "- 전체 데이터를 요약하는 메소드는 `describe`이다."
      ]
    },
    {
      "cell_type": "code",
      "execution_count": null,
      "metadata": {
        "colab": {
          "base_uri": "https://localhost:8080/",
          "height": 300
        },
        "id": "6003eee8",
        "outputId": "600b0bc5-0686-48c7-f34b-f5297869a61a"
      },
      "outputs": [
        {
          "output_type": "execute_result",
          "data": {
            "text/plain": [
              "            화재발생연도       사망자수        재산피해금액       출동횟수\n",
              "count    25.000000  25.000000  2.500000e+01   25.00000\n",
              "mean   2019.000000   1.800000  6.852555e+05  290.56000\n",
              "std       1.443376   1.414214  4.674389e+05   97.34521\n",
              "min    2017.000000   0.000000  2.009660e+05  146.00000\n",
              "25%    2018.000000   1.000000  3.638390e+05  212.00000\n",
              "50%    2019.000000   2.000000  5.596140e+05  269.00000\n",
              "75%    2020.000000   3.000000  7.068710e+05  364.00000\n",
              "max    2021.000000   5.000000  1.677681e+06  502.00000"
            ],
            "text/html": [
              "\n",
              "  <div id=\"df-89c25311-cf20-49aa-9557-046141dce3e4\" class=\"colab-df-container\">\n",
              "    <div>\n",
              "<style scoped>\n",
              "    .dataframe tbody tr th:only-of-type {\n",
              "        vertical-align: middle;\n",
              "    }\n",
              "\n",
              "    .dataframe tbody tr th {\n",
              "        vertical-align: top;\n",
              "    }\n",
              "\n",
              "    .dataframe thead th {\n",
              "        text-align: right;\n",
              "    }\n",
              "</style>\n",
              "<table border=\"1\" class=\"dataframe\">\n",
              "  <thead>\n",
              "    <tr style=\"text-align: right;\">\n",
              "      <th></th>\n",
              "      <th>화재발생연도</th>\n",
              "      <th>사망자수</th>\n",
              "      <th>재산피해금액</th>\n",
              "      <th>출동횟수</th>\n",
              "    </tr>\n",
              "  </thead>\n",
              "  <tbody>\n",
              "    <tr>\n",
              "      <th>count</th>\n",
              "      <td>25.000000</td>\n",
              "      <td>25.000000</td>\n",
              "      <td>2.500000e+01</td>\n",
              "      <td>25.00000</td>\n",
              "    </tr>\n",
              "    <tr>\n",
              "      <th>mean</th>\n",
              "      <td>2019.000000</td>\n",
              "      <td>1.800000</td>\n",
              "      <td>6.852555e+05</td>\n",
              "      <td>290.56000</td>\n",
              "    </tr>\n",
              "    <tr>\n",
              "      <th>std</th>\n",
              "      <td>1.443376</td>\n",
              "      <td>1.414214</td>\n",
              "      <td>4.674389e+05</td>\n",
              "      <td>97.34521</td>\n",
              "    </tr>\n",
              "    <tr>\n",
              "      <th>min</th>\n",
              "      <td>2017.000000</td>\n",
              "      <td>0.000000</td>\n",
              "      <td>2.009660e+05</td>\n",
              "      <td>146.00000</td>\n",
              "    </tr>\n",
              "    <tr>\n",
              "      <th>25%</th>\n",
              "      <td>2018.000000</td>\n",
              "      <td>1.000000</td>\n",
              "      <td>3.638390e+05</td>\n",
              "      <td>212.00000</td>\n",
              "    </tr>\n",
              "    <tr>\n",
              "      <th>50%</th>\n",
              "      <td>2019.000000</td>\n",
              "      <td>2.000000</td>\n",
              "      <td>5.596140e+05</td>\n",
              "      <td>269.00000</td>\n",
              "    </tr>\n",
              "    <tr>\n",
              "      <th>75%</th>\n",
              "      <td>2020.000000</td>\n",
              "      <td>3.000000</td>\n",
              "      <td>7.068710e+05</td>\n",
              "      <td>364.00000</td>\n",
              "    </tr>\n",
              "    <tr>\n",
              "      <th>max</th>\n",
              "      <td>2021.000000</td>\n",
              "      <td>5.000000</td>\n",
              "      <td>1.677681e+06</td>\n",
              "      <td>502.00000</td>\n",
              "    </tr>\n",
              "  </tbody>\n",
              "</table>\n",
              "</div>\n",
              "    <div class=\"colab-df-buttons\">\n",
              "\n",
              "  <div class=\"colab-df-container\">\n",
              "    <button class=\"colab-df-convert\" onclick=\"convertToInteractive('df-89c25311-cf20-49aa-9557-046141dce3e4')\"\n",
              "            title=\"Convert this dataframe to an interactive table.\"\n",
              "            style=\"display:none;\">\n",
              "\n",
              "  <svg xmlns=\"http://www.w3.org/2000/svg\" height=\"24px\" viewBox=\"0 -960 960 960\">\n",
              "    <path d=\"M120-120v-720h720v720H120Zm60-500h600v-160H180v160Zm220 220h160v-160H400v160Zm0 220h160v-160H400v160ZM180-400h160v-160H180v160Zm440 0h160v-160H620v160ZM180-180h160v-160H180v160Zm440 0h160v-160H620v160Z\"/>\n",
              "  </svg>\n",
              "    </button>\n",
              "\n",
              "  <style>\n",
              "    .colab-df-container {\n",
              "      display:flex;\n",
              "      gap: 12px;\n",
              "    }\n",
              "\n",
              "    .colab-df-convert {\n",
              "      background-color: #E8F0FE;\n",
              "      border: none;\n",
              "      border-radius: 50%;\n",
              "      cursor: pointer;\n",
              "      display: none;\n",
              "      fill: #1967D2;\n",
              "      height: 32px;\n",
              "      padding: 0 0 0 0;\n",
              "      width: 32px;\n",
              "    }\n",
              "\n",
              "    .colab-df-convert:hover {\n",
              "      background-color: #E2EBFA;\n",
              "      box-shadow: 0px 1px 2px rgba(60, 64, 67, 0.3), 0px 1px 3px 1px rgba(60, 64, 67, 0.15);\n",
              "      fill: #174EA6;\n",
              "    }\n",
              "\n",
              "    .colab-df-buttons div {\n",
              "      margin-bottom: 4px;\n",
              "    }\n",
              "\n",
              "    [theme=dark] .colab-df-convert {\n",
              "      background-color: #3B4455;\n",
              "      fill: #D2E3FC;\n",
              "    }\n",
              "\n",
              "    [theme=dark] .colab-df-convert:hover {\n",
              "      background-color: #434B5C;\n",
              "      box-shadow: 0px 1px 3px 1px rgba(0, 0, 0, 0.15);\n",
              "      filter: drop-shadow(0px 1px 2px rgba(0, 0, 0, 0.3));\n",
              "      fill: #FFFFFF;\n",
              "    }\n",
              "  </style>\n",
              "\n",
              "    <script>\n",
              "      const buttonEl =\n",
              "        document.querySelector('#df-89c25311-cf20-49aa-9557-046141dce3e4 button.colab-df-convert');\n",
              "      buttonEl.style.display =\n",
              "        google.colab.kernel.accessAllowed ? 'block' : 'none';\n",
              "\n",
              "      async function convertToInteractive(key) {\n",
              "        const element = document.querySelector('#df-89c25311-cf20-49aa-9557-046141dce3e4');\n",
              "        const dataTable =\n",
              "          await google.colab.kernel.invokeFunction('convertToInteractive',\n",
              "                                                    [key], {});\n",
              "        if (!dataTable) return;\n",
              "\n",
              "        const docLinkHtml = 'Like what you see? Visit the ' +\n",
              "          '<a target=\"_blank\" href=https://colab.research.google.com/notebooks/data_table.ipynb>data table notebook</a>'\n",
              "          + ' to learn more about interactive tables.';\n",
              "        element.innerHTML = '';\n",
              "        dataTable['output_type'] = 'display_data';\n",
              "        await google.colab.output.renderOutput(dataTable, element);\n",
              "        const docLink = document.createElement('div');\n",
              "        docLink.innerHTML = docLinkHtml;\n",
              "        element.appendChild(docLink);\n",
              "      }\n",
              "    </script>\n",
              "  </div>\n",
              "\n",
              "\n",
              "<div id=\"df-f7291bb2-fa7f-4e27-946e-579a1dafc7ea\">\n",
              "  <button class=\"colab-df-quickchart\" onclick=\"quickchart('df-f7291bb2-fa7f-4e27-946e-579a1dafc7ea')\"\n",
              "            title=\"Suggest charts\"\n",
              "            style=\"display:none;\">\n",
              "\n",
              "<svg xmlns=\"http://www.w3.org/2000/svg\" height=\"24px\"viewBox=\"0 0 24 24\"\n",
              "     width=\"24px\">\n",
              "    <g>\n",
              "        <path d=\"M19 3H5c-1.1 0-2 .9-2 2v14c0 1.1.9 2 2 2h14c1.1 0 2-.9 2-2V5c0-1.1-.9-2-2-2zM9 17H7v-7h2v7zm4 0h-2V7h2v10zm4 0h-2v-4h2v4z\"/>\n",
              "    </g>\n",
              "</svg>\n",
              "  </button>\n",
              "\n",
              "<style>\n",
              "  .colab-df-quickchart {\n",
              "      --bg-color: #E8F0FE;\n",
              "      --fill-color: #1967D2;\n",
              "      --hover-bg-color: #E2EBFA;\n",
              "      --hover-fill-color: #174EA6;\n",
              "      --disabled-fill-color: #AAA;\n",
              "      --disabled-bg-color: #DDD;\n",
              "  }\n",
              "\n",
              "  [theme=dark] .colab-df-quickchart {\n",
              "      --bg-color: #3B4455;\n",
              "      --fill-color: #D2E3FC;\n",
              "      --hover-bg-color: #434B5C;\n",
              "      --hover-fill-color: #FFFFFF;\n",
              "      --disabled-bg-color: #3B4455;\n",
              "      --disabled-fill-color: #666;\n",
              "  }\n",
              "\n",
              "  .colab-df-quickchart {\n",
              "    background-color: var(--bg-color);\n",
              "    border: none;\n",
              "    border-radius: 50%;\n",
              "    cursor: pointer;\n",
              "    display: none;\n",
              "    fill: var(--fill-color);\n",
              "    height: 32px;\n",
              "    padding: 0;\n",
              "    width: 32px;\n",
              "  }\n",
              "\n",
              "  .colab-df-quickchart:hover {\n",
              "    background-color: var(--hover-bg-color);\n",
              "    box-shadow: 0 1px 2px rgba(60, 64, 67, 0.3), 0 1px 3px 1px rgba(60, 64, 67, 0.15);\n",
              "    fill: var(--button-hover-fill-color);\n",
              "  }\n",
              "\n",
              "  .colab-df-quickchart-complete:disabled,\n",
              "  .colab-df-quickchart-complete:disabled:hover {\n",
              "    background-color: var(--disabled-bg-color);\n",
              "    fill: var(--disabled-fill-color);\n",
              "    box-shadow: none;\n",
              "  }\n",
              "\n",
              "  .colab-df-spinner {\n",
              "    border: 2px solid var(--fill-color);\n",
              "    border-color: transparent;\n",
              "    border-bottom-color: var(--fill-color);\n",
              "    animation:\n",
              "      spin 1s steps(1) infinite;\n",
              "  }\n",
              "\n",
              "  @keyframes spin {\n",
              "    0% {\n",
              "      border-color: transparent;\n",
              "      border-bottom-color: var(--fill-color);\n",
              "      border-left-color: var(--fill-color);\n",
              "    }\n",
              "    20% {\n",
              "      border-color: transparent;\n",
              "      border-left-color: var(--fill-color);\n",
              "      border-top-color: var(--fill-color);\n",
              "    }\n",
              "    30% {\n",
              "      border-color: transparent;\n",
              "      border-left-color: var(--fill-color);\n",
              "      border-top-color: var(--fill-color);\n",
              "      border-right-color: var(--fill-color);\n",
              "    }\n",
              "    40% {\n",
              "      border-color: transparent;\n",
              "      border-right-color: var(--fill-color);\n",
              "      border-top-color: var(--fill-color);\n",
              "    }\n",
              "    60% {\n",
              "      border-color: transparent;\n",
              "      border-right-color: var(--fill-color);\n",
              "    }\n",
              "    80% {\n",
              "      border-color: transparent;\n",
              "      border-right-color: var(--fill-color);\n",
              "      border-bottom-color: var(--fill-color);\n",
              "    }\n",
              "    90% {\n",
              "      border-color: transparent;\n",
              "      border-bottom-color: var(--fill-color);\n",
              "    }\n",
              "  }\n",
              "</style>\n",
              "\n",
              "  <script>\n",
              "    async function quickchart(key) {\n",
              "      const quickchartButtonEl =\n",
              "        document.querySelector('#' + key + ' button');\n",
              "      quickchartButtonEl.disabled = true;  // To prevent multiple clicks.\n",
              "      quickchartButtonEl.classList.add('colab-df-spinner');\n",
              "      try {\n",
              "        const charts = await google.colab.kernel.invokeFunction(\n",
              "            'suggestCharts', [key], {});\n",
              "      } catch (error) {\n",
              "        console.error('Error during call to suggestCharts:', error);\n",
              "      }\n",
              "      quickchartButtonEl.classList.remove('colab-df-spinner');\n",
              "      quickchartButtonEl.classList.add('colab-df-quickchart-complete');\n",
              "    }\n",
              "    (() => {\n",
              "      let quickchartButtonEl =\n",
              "        document.querySelector('#df-f7291bb2-fa7f-4e27-946e-579a1dafc7ea button');\n",
              "      quickchartButtonEl.style.display =\n",
              "        google.colab.kernel.accessAllowed ? 'block' : 'none';\n",
              "    })();\n",
              "  </script>\n",
              "</div>\n",
              "\n",
              "    </div>\n",
              "  </div>\n"
            ],
            "application/vnd.google.colaboratory.intrinsic+json": {
              "type": "dataframe",
              "summary": "{\n  \"name\": \"df\",\n  \"rows\": 8,\n  \"fields\": [\n    {\n      \"column\": \"\\ud654\\uc7ac\\ubc1c\\uc0dd\\uc5f0\\ub3c4\",\n      \"properties\": {\n        \"dtype\": \"number\",\n        \"std\": 928.5170522007589,\n        \"min\": 1.4433756729740645,\n        \"max\": 2021.0,\n        \"num_unique_values\": 7,\n        \"samples\": [\n          25.0,\n          2019.0,\n          2020.0\n        ],\n        \"semantic_type\": \"\",\n        \"description\": \"\"\n      }\n    },\n    {\n      \"column\": \"\\uc0ac\\ub9dd\\uc790\\uc218\",\n      \"properties\": {\n        \"dtype\": \"number\",\n        \"std\": 8.255047649214166,\n        \"min\": 0.0,\n        \"max\": 25.0,\n        \"num_unique_values\": 8,\n        \"samples\": [\n          1.8,\n          2.0,\n          25.0\n        ],\n        \"semantic_type\": \"\",\n        \"description\": \"\"\n      }\n    },\n    {\n      \"column\": \"\\uc7ac\\uc0b0\\ud53c\\ud574\\uae08\\uc561\",\n      \"properties\": {\n        \"dtype\": \"number\",\n        \"std\": 503114.39832954924,\n        \"min\": 25.0,\n        \"max\": 1677681.0,\n        \"num_unique_values\": 8,\n        \"samples\": [\n          685255.52,\n          559614.0,\n          25.0\n        ],\n        \"semantic_type\": \"\",\n        \"description\": \"\"\n      }\n    },\n    {\n      \"column\": \"\\ucd9c\\ub3d9\\ud69f\\uc218\",\n      \"properties\": {\n        \"dtype\": \"number\",\n        \"std\": 152.8715005166376,\n        \"min\": 25.0,\n        \"max\": 502.0,\n        \"num_unique_values\": 8,\n        \"samples\": [\n          290.56,\n          269.0,\n          25.0\n        ],\n        \"semantic_type\": \"\",\n        \"description\": \"\"\n      }\n    }\n  ]\n}"
            }
          },
          "metadata": {},
          "execution_count": 135
        }
      ],
      "source": [
        "df.describe()"
      ]
    },
    {
      "cell_type": "markdown",
      "metadata": {
        "id": "ce1f7e7b"
      },
      "source": [
        "- 요약 통계량을 보고, 다음을 생각해 볼수 있다.\n",
        "  1. `화재발생연도`는 요약이 필요없다.\n",
        "  2. `사망자수`와 `출동횟수`는 불필요한 소숫점으로 과도하게 표현되어있다.\n",
        "  3. `재산피해금액`은 숫자가 너무 커서 보기가 힘들다.\n",
        "\n",
        "- 위에서 언급한 문제들에 대하여 다음과 같이 해결 할 수 있다.\n",
        "  1. `화재발생연도`: 요약 대상에서 제외한다.\n",
        "  2. `사망자수`와 `출동횟수`는 요약 후 결과를 소숫점 둘 째 자리에서 반올림하여 표현한다.\n",
        "  3. `재산피해금액`은 만 원 단위로 표현한다.\n",
        "\n",
        "- 먼저 요약한 데이터를 `df_summ`으로 저장하자."
      ]
    },
    {
      "cell_type": "code",
      "execution_count": null,
      "metadata": {
        "id": "be9c1c0a",
        "colab": {
          "base_uri": "https://localhost:8080/",
          "height": 300
        },
        "outputId": "7ce4c476-a66f-4f90-d904-d858dc1e73fa"
      },
      "outputs": [
        {
          "output_type": "execute_result",
          "data": {
            "text/plain": [
              "            화재발생연도       사망자수        재산피해금액       출동횟수\n",
              "count    25.000000  25.000000  2.500000e+01   25.00000\n",
              "mean   2019.000000   1.800000  6.852555e+05  290.56000\n",
              "std       1.443376   1.414214  4.674389e+05   97.34521\n",
              "min    2017.000000   0.000000  2.009660e+05  146.00000\n",
              "25%    2018.000000   1.000000  3.638390e+05  212.00000\n",
              "50%    2019.000000   2.000000  5.596140e+05  269.00000\n",
              "75%    2020.000000   3.000000  7.068710e+05  364.00000\n",
              "max    2021.000000   5.000000  1.677681e+06  502.00000"
            ],
            "text/html": [
              "\n",
              "  <div id=\"df-ca8c8092-ccb6-4c10-9f32-75abfd3ff153\" class=\"colab-df-container\">\n",
              "    <div>\n",
              "<style scoped>\n",
              "    .dataframe tbody tr th:only-of-type {\n",
              "        vertical-align: middle;\n",
              "    }\n",
              "\n",
              "    .dataframe tbody tr th {\n",
              "        vertical-align: top;\n",
              "    }\n",
              "\n",
              "    .dataframe thead th {\n",
              "        text-align: right;\n",
              "    }\n",
              "</style>\n",
              "<table border=\"1\" class=\"dataframe\">\n",
              "  <thead>\n",
              "    <tr style=\"text-align: right;\">\n",
              "      <th></th>\n",
              "      <th>화재발생연도</th>\n",
              "      <th>사망자수</th>\n",
              "      <th>재산피해금액</th>\n",
              "      <th>출동횟수</th>\n",
              "    </tr>\n",
              "  </thead>\n",
              "  <tbody>\n",
              "    <tr>\n",
              "      <th>count</th>\n",
              "      <td>25.000000</td>\n",
              "      <td>25.000000</td>\n",
              "      <td>2.500000e+01</td>\n",
              "      <td>25.00000</td>\n",
              "    </tr>\n",
              "    <tr>\n",
              "      <th>mean</th>\n",
              "      <td>2019.000000</td>\n",
              "      <td>1.800000</td>\n",
              "      <td>6.852555e+05</td>\n",
              "      <td>290.56000</td>\n",
              "    </tr>\n",
              "    <tr>\n",
              "      <th>std</th>\n",
              "      <td>1.443376</td>\n",
              "      <td>1.414214</td>\n",
              "      <td>4.674389e+05</td>\n",
              "      <td>97.34521</td>\n",
              "    </tr>\n",
              "    <tr>\n",
              "      <th>min</th>\n",
              "      <td>2017.000000</td>\n",
              "      <td>0.000000</td>\n",
              "      <td>2.009660e+05</td>\n",
              "      <td>146.00000</td>\n",
              "    </tr>\n",
              "    <tr>\n",
              "      <th>25%</th>\n",
              "      <td>2018.000000</td>\n",
              "      <td>1.000000</td>\n",
              "      <td>3.638390e+05</td>\n",
              "      <td>212.00000</td>\n",
              "    </tr>\n",
              "    <tr>\n",
              "      <th>50%</th>\n",
              "      <td>2019.000000</td>\n",
              "      <td>2.000000</td>\n",
              "      <td>5.596140e+05</td>\n",
              "      <td>269.00000</td>\n",
              "    </tr>\n",
              "    <tr>\n",
              "      <th>75%</th>\n",
              "      <td>2020.000000</td>\n",
              "      <td>3.000000</td>\n",
              "      <td>7.068710e+05</td>\n",
              "      <td>364.00000</td>\n",
              "    </tr>\n",
              "    <tr>\n",
              "      <th>max</th>\n",
              "      <td>2021.000000</td>\n",
              "      <td>5.000000</td>\n",
              "      <td>1.677681e+06</td>\n",
              "      <td>502.00000</td>\n",
              "    </tr>\n",
              "  </tbody>\n",
              "</table>\n",
              "</div>\n",
              "    <div class=\"colab-df-buttons\">\n",
              "\n",
              "  <div class=\"colab-df-container\">\n",
              "    <button class=\"colab-df-convert\" onclick=\"convertToInteractive('df-ca8c8092-ccb6-4c10-9f32-75abfd3ff153')\"\n",
              "            title=\"Convert this dataframe to an interactive table.\"\n",
              "            style=\"display:none;\">\n",
              "\n",
              "  <svg xmlns=\"http://www.w3.org/2000/svg\" height=\"24px\" viewBox=\"0 -960 960 960\">\n",
              "    <path d=\"M120-120v-720h720v720H120Zm60-500h600v-160H180v160Zm220 220h160v-160H400v160Zm0 220h160v-160H400v160ZM180-400h160v-160H180v160Zm440 0h160v-160H620v160ZM180-180h160v-160H180v160Zm440 0h160v-160H620v160Z\"/>\n",
              "  </svg>\n",
              "    </button>\n",
              "\n",
              "  <style>\n",
              "    .colab-df-container {\n",
              "      display:flex;\n",
              "      gap: 12px;\n",
              "    }\n",
              "\n",
              "    .colab-df-convert {\n",
              "      background-color: #E8F0FE;\n",
              "      border: none;\n",
              "      border-radius: 50%;\n",
              "      cursor: pointer;\n",
              "      display: none;\n",
              "      fill: #1967D2;\n",
              "      height: 32px;\n",
              "      padding: 0 0 0 0;\n",
              "      width: 32px;\n",
              "    }\n",
              "\n",
              "    .colab-df-convert:hover {\n",
              "      background-color: #E2EBFA;\n",
              "      box-shadow: 0px 1px 2px rgba(60, 64, 67, 0.3), 0px 1px 3px 1px rgba(60, 64, 67, 0.15);\n",
              "      fill: #174EA6;\n",
              "    }\n",
              "\n",
              "    .colab-df-buttons div {\n",
              "      margin-bottom: 4px;\n",
              "    }\n",
              "\n",
              "    [theme=dark] .colab-df-convert {\n",
              "      background-color: #3B4455;\n",
              "      fill: #D2E3FC;\n",
              "    }\n",
              "\n",
              "    [theme=dark] .colab-df-convert:hover {\n",
              "      background-color: #434B5C;\n",
              "      box-shadow: 0px 1px 3px 1px rgba(0, 0, 0, 0.15);\n",
              "      filter: drop-shadow(0px 1px 2px rgba(0, 0, 0, 0.3));\n",
              "      fill: #FFFFFF;\n",
              "    }\n",
              "  </style>\n",
              "\n",
              "    <script>\n",
              "      const buttonEl =\n",
              "        document.querySelector('#df-ca8c8092-ccb6-4c10-9f32-75abfd3ff153 button.colab-df-convert');\n",
              "      buttonEl.style.display =\n",
              "        google.colab.kernel.accessAllowed ? 'block' : 'none';\n",
              "\n",
              "      async function convertToInteractive(key) {\n",
              "        const element = document.querySelector('#df-ca8c8092-ccb6-4c10-9f32-75abfd3ff153');\n",
              "        const dataTable =\n",
              "          await google.colab.kernel.invokeFunction('convertToInteractive',\n",
              "                                                    [key], {});\n",
              "        if (!dataTable) return;\n",
              "\n",
              "        const docLinkHtml = 'Like what you see? Visit the ' +\n",
              "          '<a target=\"_blank\" href=https://colab.research.google.com/notebooks/data_table.ipynb>data table notebook</a>'\n",
              "          + ' to learn more about interactive tables.';\n",
              "        element.innerHTML = '';\n",
              "        dataTable['output_type'] = 'display_data';\n",
              "        await google.colab.output.renderOutput(dataTable, element);\n",
              "        const docLink = document.createElement('div');\n",
              "        docLink.innerHTML = docLinkHtml;\n",
              "        element.appendChild(docLink);\n",
              "      }\n",
              "    </script>\n",
              "  </div>\n",
              "\n",
              "\n",
              "<div id=\"df-c09d8734-bb70-473d-a464-fe8e659b9c25\">\n",
              "  <button class=\"colab-df-quickchart\" onclick=\"quickchart('df-c09d8734-bb70-473d-a464-fe8e659b9c25')\"\n",
              "            title=\"Suggest charts\"\n",
              "            style=\"display:none;\">\n",
              "\n",
              "<svg xmlns=\"http://www.w3.org/2000/svg\" height=\"24px\"viewBox=\"0 0 24 24\"\n",
              "     width=\"24px\">\n",
              "    <g>\n",
              "        <path d=\"M19 3H5c-1.1 0-2 .9-2 2v14c0 1.1.9 2 2 2h14c1.1 0 2-.9 2-2V5c0-1.1-.9-2-2-2zM9 17H7v-7h2v7zm4 0h-2V7h2v10zm4 0h-2v-4h2v4z\"/>\n",
              "    </g>\n",
              "</svg>\n",
              "  </button>\n",
              "\n",
              "<style>\n",
              "  .colab-df-quickchart {\n",
              "      --bg-color: #E8F0FE;\n",
              "      --fill-color: #1967D2;\n",
              "      --hover-bg-color: #E2EBFA;\n",
              "      --hover-fill-color: #174EA6;\n",
              "      --disabled-fill-color: #AAA;\n",
              "      --disabled-bg-color: #DDD;\n",
              "  }\n",
              "\n",
              "  [theme=dark] .colab-df-quickchart {\n",
              "      --bg-color: #3B4455;\n",
              "      --fill-color: #D2E3FC;\n",
              "      --hover-bg-color: #434B5C;\n",
              "      --hover-fill-color: #FFFFFF;\n",
              "      --disabled-bg-color: #3B4455;\n",
              "      --disabled-fill-color: #666;\n",
              "  }\n",
              "\n",
              "  .colab-df-quickchart {\n",
              "    background-color: var(--bg-color);\n",
              "    border: none;\n",
              "    border-radius: 50%;\n",
              "    cursor: pointer;\n",
              "    display: none;\n",
              "    fill: var(--fill-color);\n",
              "    height: 32px;\n",
              "    padding: 0;\n",
              "    width: 32px;\n",
              "  }\n",
              "\n",
              "  .colab-df-quickchart:hover {\n",
              "    background-color: var(--hover-bg-color);\n",
              "    box-shadow: 0 1px 2px rgba(60, 64, 67, 0.3), 0 1px 3px 1px rgba(60, 64, 67, 0.15);\n",
              "    fill: var(--button-hover-fill-color);\n",
              "  }\n",
              "\n",
              "  .colab-df-quickchart-complete:disabled,\n",
              "  .colab-df-quickchart-complete:disabled:hover {\n",
              "    background-color: var(--disabled-bg-color);\n",
              "    fill: var(--disabled-fill-color);\n",
              "    box-shadow: none;\n",
              "  }\n",
              "\n",
              "  .colab-df-spinner {\n",
              "    border: 2px solid var(--fill-color);\n",
              "    border-color: transparent;\n",
              "    border-bottom-color: var(--fill-color);\n",
              "    animation:\n",
              "      spin 1s steps(1) infinite;\n",
              "  }\n",
              "\n",
              "  @keyframes spin {\n",
              "    0% {\n",
              "      border-color: transparent;\n",
              "      border-bottom-color: var(--fill-color);\n",
              "      border-left-color: var(--fill-color);\n",
              "    }\n",
              "    20% {\n",
              "      border-color: transparent;\n",
              "      border-left-color: var(--fill-color);\n",
              "      border-top-color: var(--fill-color);\n",
              "    }\n",
              "    30% {\n",
              "      border-color: transparent;\n",
              "      border-left-color: var(--fill-color);\n",
              "      border-top-color: var(--fill-color);\n",
              "      border-right-color: var(--fill-color);\n",
              "    }\n",
              "    40% {\n",
              "      border-color: transparent;\n",
              "      border-right-color: var(--fill-color);\n",
              "      border-top-color: var(--fill-color);\n",
              "    }\n",
              "    60% {\n",
              "      border-color: transparent;\n",
              "      border-right-color: var(--fill-color);\n",
              "    }\n",
              "    80% {\n",
              "      border-color: transparent;\n",
              "      border-right-color: var(--fill-color);\n",
              "      border-bottom-color: var(--fill-color);\n",
              "    }\n",
              "    90% {\n",
              "      border-color: transparent;\n",
              "      border-bottom-color: var(--fill-color);\n",
              "    }\n",
              "  }\n",
              "</style>\n",
              "\n",
              "  <script>\n",
              "    async function quickchart(key) {\n",
              "      const quickchartButtonEl =\n",
              "        document.querySelector('#' + key + ' button');\n",
              "      quickchartButtonEl.disabled = true;  // To prevent multiple clicks.\n",
              "      quickchartButtonEl.classList.add('colab-df-spinner');\n",
              "      try {\n",
              "        const charts = await google.colab.kernel.invokeFunction(\n",
              "            'suggestCharts', [key], {});\n",
              "      } catch (error) {\n",
              "        console.error('Error during call to suggestCharts:', error);\n",
              "      }\n",
              "      quickchartButtonEl.classList.remove('colab-df-spinner');\n",
              "      quickchartButtonEl.classList.add('colab-df-quickchart-complete');\n",
              "    }\n",
              "    (() => {\n",
              "      let quickchartButtonEl =\n",
              "        document.querySelector('#df-c09d8734-bb70-473d-a464-fe8e659b9c25 button');\n",
              "      quickchartButtonEl.style.display =\n",
              "        google.colab.kernel.accessAllowed ? 'block' : 'none';\n",
              "    })();\n",
              "  </script>\n",
              "</div>\n",
              "\n",
              "  <div id=\"id_9500ad4f-502a-4f53-a2b4-1b79e9678d8c\">\n",
              "    <style>\n",
              "      .colab-df-generate {\n",
              "        background-color: #E8F0FE;\n",
              "        border: none;\n",
              "        border-radius: 50%;\n",
              "        cursor: pointer;\n",
              "        display: none;\n",
              "        fill: #1967D2;\n",
              "        height: 32px;\n",
              "        padding: 0 0 0 0;\n",
              "        width: 32px;\n",
              "      }\n",
              "\n",
              "      .colab-df-generate:hover {\n",
              "        background-color: #E2EBFA;\n",
              "        box-shadow: 0px 1px 2px rgba(60, 64, 67, 0.3), 0px 1px 3px 1px rgba(60, 64, 67, 0.15);\n",
              "        fill: #174EA6;\n",
              "      }\n",
              "\n",
              "      [theme=dark] .colab-df-generate {\n",
              "        background-color: #3B4455;\n",
              "        fill: #D2E3FC;\n",
              "      }\n",
              "\n",
              "      [theme=dark] .colab-df-generate:hover {\n",
              "        background-color: #434B5C;\n",
              "        box-shadow: 0px 1px 3px 1px rgba(0, 0, 0, 0.15);\n",
              "        filter: drop-shadow(0px 1px 2px rgba(0, 0, 0, 0.3));\n",
              "        fill: #FFFFFF;\n",
              "      }\n",
              "    </style>\n",
              "    <button class=\"colab-df-generate\" onclick=\"generateWithVariable('df_summ')\"\n",
              "            title=\"Generate code using this dataframe.\"\n",
              "            style=\"display:none;\">\n",
              "\n",
              "  <svg xmlns=\"http://www.w3.org/2000/svg\" height=\"24px\"viewBox=\"0 0 24 24\"\n",
              "       width=\"24px\">\n",
              "    <path d=\"M7,19H8.4L18.45,9,17,7.55,7,17.6ZM5,21V16.75L18.45,3.32a2,2,0,0,1,2.83,0l1.4,1.43a1.91,1.91,0,0,1,.58,1.4,1.91,1.91,0,0,1-.58,1.4L9.25,21ZM18.45,9,17,7.55Zm-12,3A5.31,5.31,0,0,0,4.9,8.1,5.31,5.31,0,0,0,1,6.5,5.31,5.31,0,0,0,4.9,4.9,5.31,5.31,0,0,0,6.5,1,5.31,5.31,0,0,0,8.1,4.9,5.31,5.31,0,0,0,12,6.5,5.46,5.46,0,0,0,6.5,12Z\"/>\n",
              "  </svg>\n",
              "    </button>\n",
              "    <script>\n",
              "      (() => {\n",
              "      const buttonEl =\n",
              "        document.querySelector('#id_9500ad4f-502a-4f53-a2b4-1b79e9678d8c button.colab-df-generate');\n",
              "      buttonEl.style.display =\n",
              "        google.colab.kernel.accessAllowed ? 'block' : 'none';\n",
              "\n",
              "      buttonEl.onclick = () => {\n",
              "        google.colab.notebook.generateWithVariable('df_summ');\n",
              "      }\n",
              "      })();\n",
              "    </script>\n",
              "  </div>\n",
              "\n",
              "    </div>\n",
              "  </div>\n"
            ],
            "application/vnd.google.colaboratory.intrinsic+json": {
              "type": "dataframe",
              "variable_name": "df_summ",
              "summary": "{\n  \"name\": \"df_summ\",\n  \"rows\": 8,\n  \"fields\": [\n    {\n      \"column\": \"\\ud654\\uc7ac\\ubc1c\\uc0dd\\uc5f0\\ub3c4\",\n      \"properties\": {\n        \"dtype\": \"number\",\n        \"std\": 928.5170522007589,\n        \"min\": 1.4433756729740645,\n        \"max\": 2021.0,\n        \"num_unique_values\": 7,\n        \"samples\": [\n          25.0,\n          2019.0,\n          2020.0\n        ],\n        \"semantic_type\": \"\",\n        \"description\": \"\"\n      }\n    },\n    {\n      \"column\": \"\\uc0ac\\ub9dd\\uc790\\uc218\",\n      \"properties\": {\n        \"dtype\": \"number\",\n        \"std\": 8.255047649214166,\n        \"min\": 0.0,\n        \"max\": 25.0,\n        \"num_unique_values\": 8,\n        \"samples\": [\n          1.8,\n          2.0,\n          25.0\n        ],\n        \"semantic_type\": \"\",\n        \"description\": \"\"\n      }\n    },\n    {\n      \"column\": \"\\uc7ac\\uc0b0\\ud53c\\ud574\\uae08\\uc561\",\n      \"properties\": {\n        \"dtype\": \"number\",\n        \"std\": 503114.39832954924,\n        \"min\": 25.0,\n        \"max\": 1677681.0,\n        \"num_unique_values\": 8,\n        \"samples\": [\n          685255.52,\n          559614.0,\n          25.0\n        ],\n        \"semantic_type\": \"\",\n        \"description\": \"\"\n      }\n    },\n    {\n      \"column\": \"\\ucd9c\\ub3d9\\ud69f\\uc218\",\n      \"properties\": {\n        \"dtype\": \"number\",\n        \"std\": 152.8715005166376,\n        \"min\": 25.0,\n        \"max\": 502.0,\n        \"num_unique_values\": 8,\n        \"samples\": [\n          290.56,\n          269.0,\n          25.0\n        ],\n        \"semantic_type\": \"\",\n        \"description\": \"\"\n      }\n    }\n  ]\n}"
            }
          },
          "metadata": {},
          "execution_count": 136
        }
      ],
      "source": [
        "df_summ = df.describe()\n",
        "df_summ"
      ]
    },
    {
      "cell_type": "markdown",
      "metadata": {
        "id": "2647873e"
      },
      "source": [
        "- `사망자수`와 `출동횟수`의 소수점을 조정한다."
      ]
    },
    {
      "cell_type": "code",
      "execution_count": null,
      "metadata": {
        "colab": {
          "base_uri": "https://localhost:8080/",
          "height": 300
        },
        "id": "64cdbcd3",
        "outputId": "5492be3b-ad82-4925-a9ef-d851bca3ca68"
      },
      "outputs": [
        {
          "output_type": "execute_result",
          "data": {
            "text/plain": [
              "            화재발생연도   사망자수        재산피해금액    출동횟수\n",
              "count    25.000000  25.00  2.500000e+01   25.00\n",
              "mean   2019.000000   1.80  6.852555e+05  290.56\n",
              "std       1.443376   1.41  4.674389e+05   97.35\n",
              "min    2017.000000   0.00  2.009660e+05  146.00\n",
              "25%    2018.000000   1.00  3.638390e+05  212.00\n",
              "50%    2019.000000   2.00  5.596140e+05  269.00\n",
              "75%    2020.000000   3.00  7.068710e+05  364.00\n",
              "max    2021.000000   5.00  1.677681e+06  502.00"
            ],
            "text/html": [
              "\n",
              "  <div id=\"df-7e7099d3-8a64-4c87-ac07-f3535d5af947\" class=\"colab-df-container\">\n",
              "    <div>\n",
              "<style scoped>\n",
              "    .dataframe tbody tr th:only-of-type {\n",
              "        vertical-align: middle;\n",
              "    }\n",
              "\n",
              "    .dataframe tbody tr th {\n",
              "        vertical-align: top;\n",
              "    }\n",
              "\n",
              "    .dataframe thead th {\n",
              "        text-align: right;\n",
              "    }\n",
              "</style>\n",
              "<table border=\"1\" class=\"dataframe\">\n",
              "  <thead>\n",
              "    <tr style=\"text-align: right;\">\n",
              "      <th></th>\n",
              "      <th>화재발생연도</th>\n",
              "      <th>사망자수</th>\n",
              "      <th>재산피해금액</th>\n",
              "      <th>출동횟수</th>\n",
              "    </tr>\n",
              "  </thead>\n",
              "  <tbody>\n",
              "    <tr>\n",
              "      <th>count</th>\n",
              "      <td>25.000000</td>\n",
              "      <td>25.00</td>\n",
              "      <td>2.500000e+01</td>\n",
              "      <td>25.00</td>\n",
              "    </tr>\n",
              "    <tr>\n",
              "      <th>mean</th>\n",
              "      <td>2019.000000</td>\n",
              "      <td>1.80</td>\n",
              "      <td>6.852555e+05</td>\n",
              "      <td>290.56</td>\n",
              "    </tr>\n",
              "    <tr>\n",
              "      <th>std</th>\n",
              "      <td>1.443376</td>\n",
              "      <td>1.41</td>\n",
              "      <td>4.674389e+05</td>\n",
              "      <td>97.35</td>\n",
              "    </tr>\n",
              "    <tr>\n",
              "      <th>min</th>\n",
              "      <td>2017.000000</td>\n",
              "      <td>0.00</td>\n",
              "      <td>2.009660e+05</td>\n",
              "      <td>146.00</td>\n",
              "    </tr>\n",
              "    <tr>\n",
              "      <th>25%</th>\n",
              "      <td>2018.000000</td>\n",
              "      <td>1.00</td>\n",
              "      <td>3.638390e+05</td>\n",
              "      <td>212.00</td>\n",
              "    </tr>\n",
              "    <tr>\n",
              "      <th>50%</th>\n",
              "      <td>2019.000000</td>\n",
              "      <td>2.00</td>\n",
              "      <td>5.596140e+05</td>\n",
              "      <td>269.00</td>\n",
              "    </tr>\n",
              "    <tr>\n",
              "      <th>75%</th>\n",
              "      <td>2020.000000</td>\n",
              "      <td>3.00</td>\n",
              "      <td>7.068710e+05</td>\n",
              "      <td>364.00</td>\n",
              "    </tr>\n",
              "    <tr>\n",
              "      <th>max</th>\n",
              "      <td>2021.000000</td>\n",
              "      <td>5.00</td>\n",
              "      <td>1.677681e+06</td>\n",
              "      <td>502.00</td>\n",
              "    </tr>\n",
              "  </tbody>\n",
              "</table>\n",
              "</div>\n",
              "    <div class=\"colab-df-buttons\">\n",
              "\n",
              "  <div class=\"colab-df-container\">\n",
              "    <button class=\"colab-df-convert\" onclick=\"convertToInteractive('df-7e7099d3-8a64-4c87-ac07-f3535d5af947')\"\n",
              "            title=\"Convert this dataframe to an interactive table.\"\n",
              "            style=\"display:none;\">\n",
              "\n",
              "  <svg xmlns=\"http://www.w3.org/2000/svg\" height=\"24px\" viewBox=\"0 -960 960 960\">\n",
              "    <path d=\"M120-120v-720h720v720H120Zm60-500h600v-160H180v160Zm220 220h160v-160H400v160Zm0 220h160v-160H400v160ZM180-400h160v-160H180v160Zm440 0h160v-160H620v160ZM180-180h160v-160H180v160Zm440 0h160v-160H620v160Z\"/>\n",
              "  </svg>\n",
              "    </button>\n",
              "\n",
              "  <style>\n",
              "    .colab-df-container {\n",
              "      display:flex;\n",
              "      gap: 12px;\n",
              "    }\n",
              "\n",
              "    .colab-df-convert {\n",
              "      background-color: #E8F0FE;\n",
              "      border: none;\n",
              "      border-radius: 50%;\n",
              "      cursor: pointer;\n",
              "      display: none;\n",
              "      fill: #1967D2;\n",
              "      height: 32px;\n",
              "      padding: 0 0 0 0;\n",
              "      width: 32px;\n",
              "    }\n",
              "\n",
              "    .colab-df-convert:hover {\n",
              "      background-color: #E2EBFA;\n",
              "      box-shadow: 0px 1px 2px rgba(60, 64, 67, 0.3), 0px 1px 3px 1px rgba(60, 64, 67, 0.15);\n",
              "      fill: #174EA6;\n",
              "    }\n",
              "\n",
              "    .colab-df-buttons div {\n",
              "      margin-bottom: 4px;\n",
              "    }\n",
              "\n",
              "    [theme=dark] .colab-df-convert {\n",
              "      background-color: #3B4455;\n",
              "      fill: #D2E3FC;\n",
              "    }\n",
              "\n",
              "    [theme=dark] .colab-df-convert:hover {\n",
              "      background-color: #434B5C;\n",
              "      box-shadow: 0px 1px 3px 1px rgba(0, 0, 0, 0.15);\n",
              "      filter: drop-shadow(0px 1px 2px rgba(0, 0, 0, 0.3));\n",
              "      fill: #FFFFFF;\n",
              "    }\n",
              "  </style>\n",
              "\n",
              "    <script>\n",
              "      const buttonEl =\n",
              "        document.querySelector('#df-7e7099d3-8a64-4c87-ac07-f3535d5af947 button.colab-df-convert');\n",
              "      buttonEl.style.display =\n",
              "        google.colab.kernel.accessAllowed ? 'block' : 'none';\n",
              "\n",
              "      async function convertToInteractive(key) {\n",
              "        const element = document.querySelector('#df-7e7099d3-8a64-4c87-ac07-f3535d5af947');\n",
              "        const dataTable =\n",
              "          await google.colab.kernel.invokeFunction('convertToInteractive',\n",
              "                                                    [key], {});\n",
              "        if (!dataTable) return;\n",
              "\n",
              "        const docLinkHtml = 'Like what you see? Visit the ' +\n",
              "          '<a target=\"_blank\" href=https://colab.research.google.com/notebooks/data_table.ipynb>data table notebook</a>'\n",
              "          + ' to learn more about interactive tables.';\n",
              "        element.innerHTML = '';\n",
              "        dataTable['output_type'] = 'display_data';\n",
              "        await google.colab.output.renderOutput(dataTable, element);\n",
              "        const docLink = document.createElement('div');\n",
              "        docLink.innerHTML = docLinkHtml;\n",
              "        element.appendChild(docLink);\n",
              "      }\n",
              "    </script>\n",
              "  </div>\n",
              "\n",
              "\n",
              "<div id=\"df-8e3af16b-9ae2-4710-9aeb-e6a65dc4f913\">\n",
              "  <button class=\"colab-df-quickchart\" onclick=\"quickchart('df-8e3af16b-9ae2-4710-9aeb-e6a65dc4f913')\"\n",
              "            title=\"Suggest charts\"\n",
              "            style=\"display:none;\">\n",
              "\n",
              "<svg xmlns=\"http://www.w3.org/2000/svg\" height=\"24px\"viewBox=\"0 0 24 24\"\n",
              "     width=\"24px\">\n",
              "    <g>\n",
              "        <path d=\"M19 3H5c-1.1 0-2 .9-2 2v14c0 1.1.9 2 2 2h14c1.1 0 2-.9 2-2V5c0-1.1-.9-2-2-2zM9 17H7v-7h2v7zm4 0h-2V7h2v10zm4 0h-2v-4h2v4z\"/>\n",
              "    </g>\n",
              "</svg>\n",
              "  </button>\n",
              "\n",
              "<style>\n",
              "  .colab-df-quickchart {\n",
              "      --bg-color: #E8F0FE;\n",
              "      --fill-color: #1967D2;\n",
              "      --hover-bg-color: #E2EBFA;\n",
              "      --hover-fill-color: #174EA6;\n",
              "      --disabled-fill-color: #AAA;\n",
              "      --disabled-bg-color: #DDD;\n",
              "  }\n",
              "\n",
              "  [theme=dark] .colab-df-quickchart {\n",
              "      --bg-color: #3B4455;\n",
              "      --fill-color: #D2E3FC;\n",
              "      --hover-bg-color: #434B5C;\n",
              "      --hover-fill-color: #FFFFFF;\n",
              "      --disabled-bg-color: #3B4455;\n",
              "      --disabled-fill-color: #666;\n",
              "  }\n",
              "\n",
              "  .colab-df-quickchart {\n",
              "    background-color: var(--bg-color);\n",
              "    border: none;\n",
              "    border-radius: 50%;\n",
              "    cursor: pointer;\n",
              "    display: none;\n",
              "    fill: var(--fill-color);\n",
              "    height: 32px;\n",
              "    padding: 0;\n",
              "    width: 32px;\n",
              "  }\n",
              "\n",
              "  .colab-df-quickchart:hover {\n",
              "    background-color: var(--hover-bg-color);\n",
              "    box-shadow: 0 1px 2px rgba(60, 64, 67, 0.3), 0 1px 3px 1px rgba(60, 64, 67, 0.15);\n",
              "    fill: var(--button-hover-fill-color);\n",
              "  }\n",
              "\n",
              "  .colab-df-quickchart-complete:disabled,\n",
              "  .colab-df-quickchart-complete:disabled:hover {\n",
              "    background-color: var(--disabled-bg-color);\n",
              "    fill: var(--disabled-fill-color);\n",
              "    box-shadow: none;\n",
              "  }\n",
              "\n",
              "  .colab-df-spinner {\n",
              "    border: 2px solid var(--fill-color);\n",
              "    border-color: transparent;\n",
              "    border-bottom-color: var(--fill-color);\n",
              "    animation:\n",
              "      spin 1s steps(1) infinite;\n",
              "  }\n",
              "\n",
              "  @keyframes spin {\n",
              "    0% {\n",
              "      border-color: transparent;\n",
              "      border-bottom-color: var(--fill-color);\n",
              "      border-left-color: var(--fill-color);\n",
              "    }\n",
              "    20% {\n",
              "      border-color: transparent;\n",
              "      border-left-color: var(--fill-color);\n",
              "      border-top-color: var(--fill-color);\n",
              "    }\n",
              "    30% {\n",
              "      border-color: transparent;\n",
              "      border-left-color: var(--fill-color);\n",
              "      border-top-color: var(--fill-color);\n",
              "      border-right-color: var(--fill-color);\n",
              "    }\n",
              "    40% {\n",
              "      border-color: transparent;\n",
              "      border-right-color: var(--fill-color);\n",
              "      border-top-color: var(--fill-color);\n",
              "    }\n",
              "    60% {\n",
              "      border-color: transparent;\n",
              "      border-right-color: var(--fill-color);\n",
              "    }\n",
              "    80% {\n",
              "      border-color: transparent;\n",
              "      border-right-color: var(--fill-color);\n",
              "      border-bottom-color: var(--fill-color);\n",
              "    }\n",
              "    90% {\n",
              "      border-color: transparent;\n",
              "      border-bottom-color: var(--fill-color);\n",
              "    }\n",
              "  }\n",
              "</style>\n",
              "\n",
              "  <script>\n",
              "    async function quickchart(key) {\n",
              "      const quickchartButtonEl =\n",
              "        document.querySelector('#' + key + ' button');\n",
              "      quickchartButtonEl.disabled = true;  // To prevent multiple clicks.\n",
              "      quickchartButtonEl.classList.add('colab-df-spinner');\n",
              "      try {\n",
              "        const charts = await google.colab.kernel.invokeFunction(\n",
              "            'suggestCharts', [key], {});\n",
              "      } catch (error) {\n",
              "        console.error('Error during call to suggestCharts:', error);\n",
              "      }\n",
              "      quickchartButtonEl.classList.remove('colab-df-spinner');\n",
              "      quickchartButtonEl.classList.add('colab-df-quickchart-complete');\n",
              "    }\n",
              "    (() => {\n",
              "      let quickchartButtonEl =\n",
              "        document.querySelector('#df-8e3af16b-9ae2-4710-9aeb-e6a65dc4f913 button');\n",
              "      quickchartButtonEl.style.display =\n",
              "        google.colab.kernel.accessAllowed ? 'block' : 'none';\n",
              "    })();\n",
              "  </script>\n",
              "</div>\n",
              "\n",
              "  <div id=\"id_01f8e9f5-0365-46ec-8654-62c6a31c6ccd\">\n",
              "    <style>\n",
              "      .colab-df-generate {\n",
              "        background-color: #E8F0FE;\n",
              "        border: none;\n",
              "        border-radius: 50%;\n",
              "        cursor: pointer;\n",
              "        display: none;\n",
              "        fill: #1967D2;\n",
              "        height: 32px;\n",
              "        padding: 0 0 0 0;\n",
              "        width: 32px;\n",
              "      }\n",
              "\n",
              "      .colab-df-generate:hover {\n",
              "        background-color: #E2EBFA;\n",
              "        box-shadow: 0px 1px 2px rgba(60, 64, 67, 0.3), 0px 1px 3px 1px rgba(60, 64, 67, 0.15);\n",
              "        fill: #174EA6;\n",
              "      }\n",
              "\n",
              "      [theme=dark] .colab-df-generate {\n",
              "        background-color: #3B4455;\n",
              "        fill: #D2E3FC;\n",
              "      }\n",
              "\n",
              "      [theme=dark] .colab-df-generate:hover {\n",
              "        background-color: #434B5C;\n",
              "        box-shadow: 0px 1px 3px 1px rgba(0, 0, 0, 0.15);\n",
              "        filter: drop-shadow(0px 1px 2px rgba(0, 0, 0, 0.3));\n",
              "        fill: #FFFFFF;\n",
              "      }\n",
              "    </style>\n",
              "    <button class=\"colab-df-generate\" onclick=\"generateWithVariable('df_summ')\"\n",
              "            title=\"Generate code using this dataframe.\"\n",
              "            style=\"display:none;\">\n",
              "\n",
              "  <svg xmlns=\"http://www.w3.org/2000/svg\" height=\"24px\"viewBox=\"0 0 24 24\"\n",
              "       width=\"24px\">\n",
              "    <path d=\"M7,19H8.4L18.45,9,17,7.55,7,17.6ZM5,21V16.75L18.45,3.32a2,2,0,0,1,2.83,0l1.4,1.43a1.91,1.91,0,0,1,.58,1.4,1.91,1.91,0,0,1-.58,1.4L9.25,21ZM18.45,9,17,7.55Zm-12,3A5.31,5.31,0,0,0,4.9,8.1,5.31,5.31,0,0,0,1,6.5,5.31,5.31,0,0,0,4.9,4.9,5.31,5.31,0,0,0,6.5,1,5.31,5.31,0,0,0,8.1,4.9,5.31,5.31,0,0,0,12,6.5,5.46,5.46,0,0,0,6.5,12Z\"/>\n",
              "  </svg>\n",
              "    </button>\n",
              "    <script>\n",
              "      (() => {\n",
              "      const buttonEl =\n",
              "        document.querySelector('#id_01f8e9f5-0365-46ec-8654-62c6a31c6ccd button.colab-df-generate');\n",
              "      buttonEl.style.display =\n",
              "        google.colab.kernel.accessAllowed ? 'block' : 'none';\n",
              "\n",
              "      buttonEl.onclick = () => {\n",
              "        google.colab.notebook.generateWithVariable('df_summ');\n",
              "      }\n",
              "      })();\n",
              "    </script>\n",
              "  </div>\n",
              "\n",
              "    </div>\n",
              "  </div>\n"
            ],
            "application/vnd.google.colaboratory.intrinsic+json": {
              "type": "dataframe",
              "variable_name": "df_summ",
              "summary": "{\n  \"name\": \"df_summ\",\n  \"rows\": 8,\n  \"fields\": [\n    {\n      \"column\": \"\\ud654\\uc7ac\\ubc1c\\uc0dd\\uc5f0\\ub3c4\",\n      \"properties\": {\n        \"dtype\": \"number\",\n        \"std\": 928.5170522007589,\n        \"min\": 1.4433756729740645,\n        \"max\": 2021.0,\n        \"num_unique_values\": 7,\n        \"samples\": [\n          25.0,\n          2019.0,\n          2020.0\n        ],\n        \"semantic_type\": \"\",\n        \"description\": \"\"\n      }\n    },\n    {\n      \"column\": \"\\uc0ac\\ub9dd\\uc790\\uc218\",\n      \"properties\": {\n        \"dtype\": \"number\",\n        \"std\": 8.255302084115396,\n        \"min\": 0.0,\n        \"max\": 25.0,\n        \"num_unique_values\": 8,\n        \"samples\": [\n          1.8,\n          2.0,\n          25.0\n        ],\n        \"semantic_type\": \"\",\n        \"description\": \"\"\n      }\n    },\n    {\n      \"column\": \"\\uc7ac\\uc0b0\\ud53c\\ud574\\uae08\\uc561\",\n      \"properties\": {\n        \"dtype\": \"number\",\n        \"std\": 503114.39832954924,\n        \"min\": 25.0,\n        \"max\": 1677681.0,\n        \"num_unique_values\": 8,\n        \"samples\": [\n          685255.52,\n          559614.0,\n          25.0\n        ],\n        \"semantic_type\": \"\",\n        \"description\": \"\"\n      }\n    },\n    {\n      \"column\": \"\\ucd9c\\ub3d9\\ud69f\\uc218\",\n      \"properties\": {\n        \"dtype\": \"number\",\n        \"std\": 152.8708699185128,\n        \"min\": 25.0,\n        \"max\": 502.0,\n        \"num_unique_values\": 8,\n        \"samples\": [\n          290.56,\n          269.0,\n          25.0\n        ],\n        \"semantic_type\": \"\",\n        \"description\": \"\"\n      }\n    }\n  ]\n}"
            }
          },
          "metadata": {},
          "execution_count": 137
        }
      ],
      "source": [
        "df_summ['사망자수'] = df_summ['사망자수'].round(2)\n",
        "df_summ['출동횟수'] = df_summ['출동횟수'].round(2)\n",
        "df_summ"
      ]
    },
    {
      "cell_type": "markdown",
      "metadata": {
        "id": "cd63f257"
      },
      "source": [
        "- `재산피해금액`의 단위를 바꿔준다."
      ]
    },
    {
      "cell_type": "code",
      "execution_count": null,
      "metadata": {
        "colab": {
          "base_uri": "https://localhost:8080/",
          "height": 300
        },
        "id": "c8e67b18",
        "outputId": "239e0913-3f89-4c2d-c3bb-5cd04f699298"
      },
      "outputs": [
        {
          "output_type": "execute_result",
          "data": {
            "text/plain": [
              "            화재발생연도   사망자수      재산피해금액    출동횟수\n",
              "count    25.000000  25.00    0.002500   25.00\n",
              "mean   2019.000000   1.80   68.525552  290.56\n",
              "std       1.443376   1.41   46.743890   97.35\n",
              "min    2017.000000   0.00   20.096600  146.00\n",
              "25%    2018.000000   1.00   36.383900  212.00\n",
              "50%    2019.000000   2.00   55.961400  269.00\n",
              "75%    2020.000000   3.00   70.687100  364.00\n",
              "max    2021.000000   5.00  167.768100  502.00"
            ],
            "text/html": [
              "\n",
              "  <div id=\"df-4ac7d720-6dcf-4c21-bf50-a0814c613f33\" class=\"colab-df-container\">\n",
              "    <div>\n",
              "<style scoped>\n",
              "    .dataframe tbody tr th:only-of-type {\n",
              "        vertical-align: middle;\n",
              "    }\n",
              "\n",
              "    .dataframe tbody tr th {\n",
              "        vertical-align: top;\n",
              "    }\n",
              "\n",
              "    .dataframe thead th {\n",
              "        text-align: right;\n",
              "    }\n",
              "</style>\n",
              "<table border=\"1\" class=\"dataframe\">\n",
              "  <thead>\n",
              "    <tr style=\"text-align: right;\">\n",
              "      <th></th>\n",
              "      <th>화재발생연도</th>\n",
              "      <th>사망자수</th>\n",
              "      <th>재산피해금액</th>\n",
              "      <th>출동횟수</th>\n",
              "    </tr>\n",
              "  </thead>\n",
              "  <tbody>\n",
              "    <tr>\n",
              "      <th>count</th>\n",
              "      <td>25.000000</td>\n",
              "      <td>25.00</td>\n",
              "      <td>0.002500</td>\n",
              "      <td>25.00</td>\n",
              "    </tr>\n",
              "    <tr>\n",
              "      <th>mean</th>\n",
              "      <td>2019.000000</td>\n",
              "      <td>1.80</td>\n",
              "      <td>68.525552</td>\n",
              "      <td>290.56</td>\n",
              "    </tr>\n",
              "    <tr>\n",
              "      <th>std</th>\n",
              "      <td>1.443376</td>\n",
              "      <td>1.41</td>\n",
              "      <td>46.743890</td>\n",
              "      <td>97.35</td>\n",
              "    </tr>\n",
              "    <tr>\n",
              "      <th>min</th>\n",
              "      <td>2017.000000</td>\n",
              "      <td>0.00</td>\n",
              "      <td>20.096600</td>\n",
              "      <td>146.00</td>\n",
              "    </tr>\n",
              "    <tr>\n",
              "      <th>25%</th>\n",
              "      <td>2018.000000</td>\n",
              "      <td>1.00</td>\n",
              "      <td>36.383900</td>\n",
              "      <td>212.00</td>\n",
              "    </tr>\n",
              "    <tr>\n",
              "      <th>50%</th>\n",
              "      <td>2019.000000</td>\n",
              "      <td>2.00</td>\n",
              "      <td>55.961400</td>\n",
              "      <td>269.00</td>\n",
              "    </tr>\n",
              "    <tr>\n",
              "      <th>75%</th>\n",
              "      <td>2020.000000</td>\n",
              "      <td>3.00</td>\n",
              "      <td>70.687100</td>\n",
              "      <td>364.00</td>\n",
              "    </tr>\n",
              "    <tr>\n",
              "      <th>max</th>\n",
              "      <td>2021.000000</td>\n",
              "      <td>5.00</td>\n",
              "      <td>167.768100</td>\n",
              "      <td>502.00</td>\n",
              "    </tr>\n",
              "  </tbody>\n",
              "</table>\n",
              "</div>\n",
              "    <div class=\"colab-df-buttons\">\n",
              "\n",
              "  <div class=\"colab-df-container\">\n",
              "    <button class=\"colab-df-convert\" onclick=\"convertToInteractive('df-4ac7d720-6dcf-4c21-bf50-a0814c613f33')\"\n",
              "            title=\"Convert this dataframe to an interactive table.\"\n",
              "            style=\"display:none;\">\n",
              "\n",
              "  <svg xmlns=\"http://www.w3.org/2000/svg\" height=\"24px\" viewBox=\"0 -960 960 960\">\n",
              "    <path d=\"M120-120v-720h720v720H120Zm60-500h600v-160H180v160Zm220 220h160v-160H400v160Zm0 220h160v-160H400v160ZM180-400h160v-160H180v160Zm440 0h160v-160H620v160ZM180-180h160v-160H180v160Zm440 0h160v-160H620v160Z\"/>\n",
              "  </svg>\n",
              "    </button>\n",
              "\n",
              "  <style>\n",
              "    .colab-df-container {\n",
              "      display:flex;\n",
              "      gap: 12px;\n",
              "    }\n",
              "\n",
              "    .colab-df-convert {\n",
              "      background-color: #E8F0FE;\n",
              "      border: none;\n",
              "      border-radius: 50%;\n",
              "      cursor: pointer;\n",
              "      display: none;\n",
              "      fill: #1967D2;\n",
              "      height: 32px;\n",
              "      padding: 0 0 0 0;\n",
              "      width: 32px;\n",
              "    }\n",
              "\n",
              "    .colab-df-convert:hover {\n",
              "      background-color: #E2EBFA;\n",
              "      box-shadow: 0px 1px 2px rgba(60, 64, 67, 0.3), 0px 1px 3px 1px rgba(60, 64, 67, 0.15);\n",
              "      fill: #174EA6;\n",
              "    }\n",
              "\n",
              "    .colab-df-buttons div {\n",
              "      margin-bottom: 4px;\n",
              "    }\n",
              "\n",
              "    [theme=dark] .colab-df-convert {\n",
              "      background-color: #3B4455;\n",
              "      fill: #D2E3FC;\n",
              "    }\n",
              "\n",
              "    [theme=dark] .colab-df-convert:hover {\n",
              "      background-color: #434B5C;\n",
              "      box-shadow: 0px 1px 3px 1px rgba(0, 0, 0, 0.15);\n",
              "      filter: drop-shadow(0px 1px 2px rgba(0, 0, 0, 0.3));\n",
              "      fill: #FFFFFF;\n",
              "    }\n",
              "  </style>\n",
              "\n",
              "    <script>\n",
              "      const buttonEl =\n",
              "        document.querySelector('#df-4ac7d720-6dcf-4c21-bf50-a0814c613f33 button.colab-df-convert');\n",
              "      buttonEl.style.display =\n",
              "        google.colab.kernel.accessAllowed ? 'block' : 'none';\n",
              "\n",
              "      async function convertToInteractive(key) {\n",
              "        const element = document.querySelector('#df-4ac7d720-6dcf-4c21-bf50-a0814c613f33');\n",
              "        const dataTable =\n",
              "          await google.colab.kernel.invokeFunction('convertToInteractive',\n",
              "                                                    [key], {});\n",
              "        if (!dataTable) return;\n",
              "\n",
              "        const docLinkHtml = 'Like what you see? Visit the ' +\n",
              "          '<a target=\"_blank\" href=https://colab.research.google.com/notebooks/data_table.ipynb>data table notebook</a>'\n",
              "          + ' to learn more about interactive tables.';\n",
              "        element.innerHTML = '';\n",
              "        dataTable['output_type'] = 'display_data';\n",
              "        await google.colab.output.renderOutput(dataTable, element);\n",
              "        const docLink = document.createElement('div');\n",
              "        docLink.innerHTML = docLinkHtml;\n",
              "        element.appendChild(docLink);\n",
              "      }\n",
              "    </script>\n",
              "  </div>\n",
              "\n",
              "\n",
              "<div id=\"df-9697cf08-dc5d-4d8c-aad6-63db75a1cc8f\">\n",
              "  <button class=\"colab-df-quickchart\" onclick=\"quickchart('df-9697cf08-dc5d-4d8c-aad6-63db75a1cc8f')\"\n",
              "            title=\"Suggest charts\"\n",
              "            style=\"display:none;\">\n",
              "\n",
              "<svg xmlns=\"http://www.w3.org/2000/svg\" height=\"24px\"viewBox=\"0 0 24 24\"\n",
              "     width=\"24px\">\n",
              "    <g>\n",
              "        <path d=\"M19 3H5c-1.1 0-2 .9-2 2v14c0 1.1.9 2 2 2h14c1.1 0 2-.9 2-2V5c0-1.1-.9-2-2-2zM9 17H7v-7h2v7zm4 0h-2V7h2v10zm4 0h-2v-4h2v4z\"/>\n",
              "    </g>\n",
              "</svg>\n",
              "  </button>\n",
              "\n",
              "<style>\n",
              "  .colab-df-quickchart {\n",
              "      --bg-color: #E8F0FE;\n",
              "      --fill-color: #1967D2;\n",
              "      --hover-bg-color: #E2EBFA;\n",
              "      --hover-fill-color: #174EA6;\n",
              "      --disabled-fill-color: #AAA;\n",
              "      --disabled-bg-color: #DDD;\n",
              "  }\n",
              "\n",
              "  [theme=dark] .colab-df-quickchart {\n",
              "      --bg-color: #3B4455;\n",
              "      --fill-color: #D2E3FC;\n",
              "      --hover-bg-color: #434B5C;\n",
              "      --hover-fill-color: #FFFFFF;\n",
              "      --disabled-bg-color: #3B4455;\n",
              "      --disabled-fill-color: #666;\n",
              "  }\n",
              "\n",
              "  .colab-df-quickchart {\n",
              "    background-color: var(--bg-color);\n",
              "    border: none;\n",
              "    border-radius: 50%;\n",
              "    cursor: pointer;\n",
              "    display: none;\n",
              "    fill: var(--fill-color);\n",
              "    height: 32px;\n",
              "    padding: 0;\n",
              "    width: 32px;\n",
              "  }\n",
              "\n",
              "  .colab-df-quickchart:hover {\n",
              "    background-color: var(--hover-bg-color);\n",
              "    box-shadow: 0 1px 2px rgba(60, 64, 67, 0.3), 0 1px 3px 1px rgba(60, 64, 67, 0.15);\n",
              "    fill: var(--button-hover-fill-color);\n",
              "  }\n",
              "\n",
              "  .colab-df-quickchart-complete:disabled,\n",
              "  .colab-df-quickchart-complete:disabled:hover {\n",
              "    background-color: var(--disabled-bg-color);\n",
              "    fill: var(--disabled-fill-color);\n",
              "    box-shadow: none;\n",
              "  }\n",
              "\n",
              "  .colab-df-spinner {\n",
              "    border: 2px solid var(--fill-color);\n",
              "    border-color: transparent;\n",
              "    border-bottom-color: var(--fill-color);\n",
              "    animation:\n",
              "      spin 1s steps(1) infinite;\n",
              "  }\n",
              "\n",
              "  @keyframes spin {\n",
              "    0% {\n",
              "      border-color: transparent;\n",
              "      border-bottom-color: var(--fill-color);\n",
              "      border-left-color: var(--fill-color);\n",
              "    }\n",
              "    20% {\n",
              "      border-color: transparent;\n",
              "      border-left-color: var(--fill-color);\n",
              "      border-top-color: var(--fill-color);\n",
              "    }\n",
              "    30% {\n",
              "      border-color: transparent;\n",
              "      border-left-color: var(--fill-color);\n",
              "      border-top-color: var(--fill-color);\n",
              "      border-right-color: var(--fill-color);\n",
              "    }\n",
              "    40% {\n",
              "      border-color: transparent;\n",
              "      border-right-color: var(--fill-color);\n",
              "      border-top-color: var(--fill-color);\n",
              "    }\n",
              "    60% {\n",
              "      border-color: transparent;\n",
              "      border-right-color: var(--fill-color);\n",
              "    }\n",
              "    80% {\n",
              "      border-color: transparent;\n",
              "      border-right-color: var(--fill-color);\n",
              "      border-bottom-color: var(--fill-color);\n",
              "    }\n",
              "    90% {\n",
              "      border-color: transparent;\n",
              "      border-bottom-color: var(--fill-color);\n",
              "    }\n",
              "  }\n",
              "</style>\n",
              "\n",
              "  <script>\n",
              "    async function quickchart(key) {\n",
              "      const quickchartButtonEl =\n",
              "        document.querySelector('#' + key + ' button');\n",
              "      quickchartButtonEl.disabled = true;  // To prevent multiple clicks.\n",
              "      quickchartButtonEl.classList.add('colab-df-spinner');\n",
              "      try {\n",
              "        const charts = await google.colab.kernel.invokeFunction(\n",
              "            'suggestCharts', [key], {});\n",
              "      } catch (error) {\n",
              "        console.error('Error during call to suggestCharts:', error);\n",
              "      }\n",
              "      quickchartButtonEl.classList.remove('colab-df-spinner');\n",
              "      quickchartButtonEl.classList.add('colab-df-quickchart-complete');\n",
              "    }\n",
              "    (() => {\n",
              "      let quickchartButtonEl =\n",
              "        document.querySelector('#df-9697cf08-dc5d-4d8c-aad6-63db75a1cc8f button');\n",
              "      quickchartButtonEl.style.display =\n",
              "        google.colab.kernel.accessAllowed ? 'block' : 'none';\n",
              "    })();\n",
              "  </script>\n",
              "</div>\n",
              "\n",
              "  <div id=\"id_e89dbfc4-d0ce-4b54-9c35-eca1e285f061\">\n",
              "    <style>\n",
              "      .colab-df-generate {\n",
              "        background-color: #E8F0FE;\n",
              "        border: none;\n",
              "        border-radius: 50%;\n",
              "        cursor: pointer;\n",
              "        display: none;\n",
              "        fill: #1967D2;\n",
              "        height: 32px;\n",
              "        padding: 0 0 0 0;\n",
              "        width: 32px;\n",
              "      }\n",
              "\n",
              "      .colab-df-generate:hover {\n",
              "        background-color: #E2EBFA;\n",
              "        box-shadow: 0px 1px 2px rgba(60, 64, 67, 0.3), 0px 1px 3px 1px rgba(60, 64, 67, 0.15);\n",
              "        fill: #174EA6;\n",
              "      }\n",
              "\n",
              "      [theme=dark] .colab-df-generate {\n",
              "        background-color: #3B4455;\n",
              "        fill: #D2E3FC;\n",
              "      }\n",
              "\n",
              "      [theme=dark] .colab-df-generate:hover {\n",
              "        background-color: #434B5C;\n",
              "        box-shadow: 0px 1px 3px 1px rgba(0, 0, 0, 0.15);\n",
              "        filter: drop-shadow(0px 1px 2px rgba(0, 0, 0, 0.3));\n",
              "        fill: #FFFFFF;\n",
              "      }\n",
              "    </style>\n",
              "    <button class=\"colab-df-generate\" onclick=\"generateWithVariable('df_summ')\"\n",
              "            title=\"Generate code using this dataframe.\"\n",
              "            style=\"display:none;\">\n",
              "\n",
              "  <svg xmlns=\"http://www.w3.org/2000/svg\" height=\"24px\"viewBox=\"0 0 24 24\"\n",
              "       width=\"24px\">\n",
              "    <path d=\"M7,19H8.4L18.45,9,17,7.55,7,17.6ZM5,21V16.75L18.45,3.32a2,2,0,0,1,2.83,0l1.4,1.43a1.91,1.91,0,0,1,.58,1.4,1.91,1.91,0,0,1-.58,1.4L9.25,21ZM18.45,9,17,7.55Zm-12,3A5.31,5.31,0,0,0,4.9,8.1,5.31,5.31,0,0,0,1,6.5,5.31,5.31,0,0,0,4.9,4.9,5.31,5.31,0,0,0,6.5,1,5.31,5.31,0,0,0,8.1,4.9,5.31,5.31,0,0,0,12,6.5,5.46,5.46,0,0,0,6.5,12Z\"/>\n",
              "  </svg>\n",
              "    </button>\n",
              "    <script>\n",
              "      (() => {\n",
              "      const buttonEl =\n",
              "        document.querySelector('#id_e89dbfc4-d0ce-4b54-9c35-eca1e285f061 button.colab-df-generate');\n",
              "      buttonEl.style.display =\n",
              "        google.colab.kernel.accessAllowed ? 'block' : 'none';\n",
              "\n",
              "      buttonEl.onclick = () => {\n",
              "        google.colab.notebook.generateWithVariable('df_summ');\n",
              "      }\n",
              "      })();\n",
              "    </script>\n",
              "  </div>\n",
              "\n",
              "    </div>\n",
              "  </div>\n"
            ],
            "application/vnd.google.colaboratory.intrinsic+json": {
              "type": "dataframe",
              "variable_name": "df_summ",
              "summary": "{\n  \"name\": \"df_summ\",\n  \"rows\": 8,\n  \"fields\": [\n    {\n      \"column\": \"\\ud654\\uc7ac\\ubc1c\\uc0dd\\uc5f0\\ub3c4\",\n      \"properties\": {\n        \"dtype\": \"number\",\n        \"std\": 928.5170522007589,\n        \"min\": 1.4433756729740645,\n        \"max\": 2021.0,\n        \"num_unique_values\": 7,\n        \"samples\": [\n          25.0,\n          2019.0,\n          2020.0\n        ],\n        \"semantic_type\": \"\",\n        \"description\": \"\"\n      }\n    },\n    {\n      \"column\": \"\\uc0ac\\ub9dd\\uc790\\uc218\",\n      \"properties\": {\n        \"dtype\": \"number\",\n        \"std\": 8.255302084115396,\n        \"min\": 0.0,\n        \"max\": 25.0,\n        \"num_unique_values\": 8,\n        \"samples\": [\n          1.8,\n          2.0,\n          25.0\n        ],\n        \"semantic_type\": \"\",\n        \"description\": \"\"\n      }\n    },\n    {\n      \"column\": \"\\uc7ac\\uc0b0\\ud53c\\ud574\\uae08\\uc561\",\n      \"properties\": {\n        \"dtype\": \"number\",\n        \"std\": 50.31143983295493,\n        \"min\": 0.0025,\n        \"max\": 167.7681,\n        \"num_unique_values\": 8,\n        \"samples\": [\n          68.525552,\n          55.9614,\n          0.0025\n        ],\n        \"semantic_type\": \"\",\n        \"description\": \"\"\n      }\n    },\n    {\n      \"column\": \"\\ucd9c\\ub3d9\\ud69f\\uc218\",\n      \"properties\": {\n        \"dtype\": \"number\",\n        \"std\": 152.8708699185128,\n        \"min\": 25.0,\n        \"max\": 502.0,\n        \"num_unique_values\": 8,\n        \"samples\": [\n          290.56,\n          269.0,\n          25.0\n        ],\n        \"semantic_type\": \"\",\n        \"description\": \"\"\n      }\n    }\n  ]\n}"
            }
          },
          "metadata": {},
          "execution_count": 138
        }
      ],
      "source": [
        "df_summ['재산피해금액'] = df_summ['재산피해금액'] / 10000\n",
        "df_summ"
      ]
    },
    {
      "cell_type": "markdown",
      "metadata": {
        "id": "f1701a74"
      },
      "source": [
        "- `재산피해금액`도 소수점 조정을 한다. 이 경우 소수점 4째 자리에서  하였다."
      ]
    },
    {
      "cell_type": "code",
      "execution_count": null,
      "metadata": {
        "colab": {
          "base_uri": "https://localhost:8080/",
          "height": 300
        },
        "id": "8d79984b",
        "outputId": "1faf4ad3-bdcd-4a31-ed34-f96c18c5288e"
      },
      "outputs": [
        {
          "output_type": "execute_result",
          "data": {
            "text/plain": [
              "            화재발생연도   사망자수    재산피해금액    출동횟수\n",
              "count    25.000000  25.00    0.0025   25.00\n",
              "mean   2019.000000   1.80   68.5256  290.56\n",
              "std       1.443376   1.41   46.7439   97.35\n",
              "min    2017.000000   0.00   20.0966  146.00\n",
              "25%    2018.000000   1.00   36.3839  212.00\n",
              "50%    2019.000000   2.00   55.9614  269.00\n",
              "75%    2020.000000   3.00   70.6871  364.00\n",
              "max    2021.000000   5.00  167.7681  502.00"
            ],
            "text/html": [
              "\n",
              "  <div id=\"df-14de24d9-a7ab-434e-b8be-a25fdd960076\" class=\"colab-df-container\">\n",
              "    <div>\n",
              "<style scoped>\n",
              "    .dataframe tbody tr th:only-of-type {\n",
              "        vertical-align: middle;\n",
              "    }\n",
              "\n",
              "    .dataframe tbody tr th {\n",
              "        vertical-align: top;\n",
              "    }\n",
              "\n",
              "    .dataframe thead th {\n",
              "        text-align: right;\n",
              "    }\n",
              "</style>\n",
              "<table border=\"1\" class=\"dataframe\">\n",
              "  <thead>\n",
              "    <tr style=\"text-align: right;\">\n",
              "      <th></th>\n",
              "      <th>화재발생연도</th>\n",
              "      <th>사망자수</th>\n",
              "      <th>재산피해금액</th>\n",
              "      <th>출동횟수</th>\n",
              "    </tr>\n",
              "  </thead>\n",
              "  <tbody>\n",
              "    <tr>\n",
              "      <th>count</th>\n",
              "      <td>25.000000</td>\n",
              "      <td>25.00</td>\n",
              "      <td>0.0025</td>\n",
              "      <td>25.00</td>\n",
              "    </tr>\n",
              "    <tr>\n",
              "      <th>mean</th>\n",
              "      <td>2019.000000</td>\n",
              "      <td>1.80</td>\n",
              "      <td>68.5256</td>\n",
              "      <td>290.56</td>\n",
              "    </tr>\n",
              "    <tr>\n",
              "      <th>std</th>\n",
              "      <td>1.443376</td>\n",
              "      <td>1.41</td>\n",
              "      <td>46.7439</td>\n",
              "      <td>97.35</td>\n",
              "    </tr>\n",
              "    <tr>\n",
              "      <th>min</th>\n",
              "      <td>2017.000000</td>\n",
              "      <td>0.00</td>\n",
              "      <td>20.0966</td>\n",
              "      <td>146.00</td>\n",
              "    </tr>\n",
              "    <tr>\n",
              "      <th>25%</th>\n",
              "      <td>2018.000000</td>\n",
              "      <td>1.00</td>\n",
              "      <td>36.3839</td>\n",
              "      <td>212.00</td>\n",
              "    </tr>\n",
              "    <tr>\n",
              "      <th>50%</th>\n",
              "      <td>2019.000000</td>\n",
              "      <td>2.00</td>\n",
              "      <td>55.9614</td>\n",
              "      <td>269.00</td>\n",
              "    </tr>\n",
              "    <tr>\n",
              "      <th>75%</th>\n",
              "      <td>2020.000000</td>\n",
              "      <td>3.00</td>\n",
              "      <td>70.6871</td>\n",
              "      <td>364.00</td>\n",
              "    </tr>\n",
              "    <tr>\n",
              "      <th>max</th>\n",
              "      <td>2021.000000</td>\n",
              "      <td>5.00</td>\n",
              "      <td>167.7681</td>\n",
              "      <td>502.00</td>\n",
              "    </tr>\n",
              "  </tbody>\n",
              "</table>\n",
              "</div>\n",
              "    <div class=\"colab-df-buttons\">\n",
              "\n",
              "  <div class=\"colab-df-container\">\n",
              "    <button class=\"colab-df-convert\" onclick=\"convertToInteractive('df-14de24d9-a7ab-434e-b8be-a25fdd960076')\"\n",
              "            title=\"Convert this dataframe to an interactive table.\"\n",
              "            style=\"display:none;\">\n",
              "\n",
              "  <svg xmlns=\"http://www.w3.org/2000/svg\" height=\"24px\" viewBox=\"0 -960 960 960\">\n",
              "    <path d=\"M120-120v-720h720v720H120Zm60-500h600v-160H180v160Zm220 220h160v-160H400v160Zm0 220h160v-160H400v160ZM180-400h160v-160H180v160Zm440 0h160v-160H620v160ZM180-180h160v-160H180v160Zm440 0h160v-160H620v160Z\"/>\n",
              "  </svg>\n",
              "    </button>\n",
              "\n",
              "  <style>\n",
              "    .colab-df-container {\n",
              "      display:flex;\n",
              "      gap: 12px;\n",
              "    }\n",
              "\n",
              "    .colab-df-convert {\n",
              "      background-color: #E8F0FE;\n",
              "      border: none;\n",
              "      border-radius: 50%;\n",
              "      cursor: pointer;\n",
              "      display: none;\n",
              "      fill: #1967D2;\n",
              "      height: 32px;\n",
              "      padding: 0 0 0 0;\n",
              "      width: 32px;\n",
              "    }\n",
              "\n",
              "    .colab-df-convert:hover {\n",
              "      background-color: #E2EBFA;\n",
              "      box-shadow: 0px 1px 2px rgba(60, 64, 67, 0.3), 0px 1px 3px 1px rgba(60, 64, 67, 0.15);\n",
              "      fill: #174EA6;\n",
              "    }\n",
              "\n",
              "    .colab-df-buttons div {\n",
              "      margin-bottom: 4px;\n",
              "    }\n",
              "\n",
              "    [theme=dark] .colab-df-convert {\n",
              "      background-color: #3B4455;\n",
              "      fill: #D2E3FC;\n",
              "    }\n",
              "\n",
              "    [theme=dark] .colab-df-convert:hover {\n",
              "      background-color: #434B5C;\n",
              "      box-shadow: 0px 1px 3px 1px rgba(0, 0, 0, 0.15);\n",
              "      filter: drop-shadow(0px 1px 2px rgba(0, 0, 0, 0.3));\n",
              "      fill: #FFFFFF;\n",
              "    }\n",
              "  </style>\n",
              "\n",
              "    <script>\n",
              "      const buttonEl =\n",
              "        document.querySelector('#df-14de24d9-a7ab-434e-b8be-a25fdd960076 button.colab-df-convert');\n",
              "      buttonEl.style.display =\n",
              "        google.colab.kernel.accessAllowed ? 'block' : 'none';\n",
              "\n",
              "      async function convertToInteractive(key) {\n",
              "        const element = document.querySelector('#df-14de24d9-a7ab-434e-b8be-a25fdd960076');\n",
              "        const dataTable =\n",
              "          await google.colab.kernel.invokeFunction('convertToInteractive',\n",
              "                                                    [key], {});\n",
              "        if (!dataTable) return;\n",
              "\n",
              "        const docLinkHtml = 'Like what you see? Visit the ' +\n",
              "          '<a target=\"_blank\" href=https://colab.research.google.com/notebooks/data_table.ipynb>data table notebook</a>'\n",
              "          + ' to learn more about interactive tables.';\n",
              "        element.innerHTML = '';\n",
              "        dataTable['output_type'] = 'display_data';\n",
              "        await google.colab.output.renderOutput(dataTable, element);\n",
              "        const docLink = document.createElement('div');\n",
              "        docLink.innerHTML = docLinkHtml;\n",
              "        element.appendChild(docLink);\n",
              "      }\n",
              "    </script>\n",
              "  </div>\n",
              "\n",
              "\n",
              "<div id=\"df-a5679929-04de-403b-a1ba-4eea1c0e342f\">\n",
              "  <button class=\"colab-df-quickchart\" onclick=\"quickchart('df-a5679929-04de-403b-a1ba-4eea1c0e342f')\"\n",
              "            title=\"Suggest charts\"\n",
              "            style=\"display:none;\">\n",
              "\n",
              "<svg xmlns=\"http://www.w3.org/2000/svg\" height=\"24px\"viewBox=\"0 0 24 24\"\n",
              "     width=\"24px\">\n",
              "    <g>\n",
              "        <path d=\"M19 3H5c-1.1 0-2 .9-2 2v14c0 1.1.9 2 2 2h14c1.1 0 2-.9 2-2V5c0-1.1-.9-2-2-2zM9 17H7v-7h2v7zm4 0h-2V7h2v10zm4 0h-2v-4h2v4z\"/>\n",
              "    </g>\n",
              "</svg>\n",
              "  </button>\n",
              "\n",
              "<style>\n",
              "  .colab-df-quickchart {\n",
              "      --bg-color: #E8F0FE;\n",
              "      --fill-color: #1967D2;\n",
              "      --hover-bg-color: #E2EBFA;\n",
              "      --hover-fill-color: #174EA6;\n",
              "      --disabled-fill-color: #AAA;\n",
              "      --disabled-bg-color: #DDD;\n",
              "  }\n",
              "\n",
              "  [theme=dark] .colab-df-quickchart {\n",
              "      --bg-color: #3B4455;\n",
              "      --fill-color: #D2E3FC;\n",
              "      --hover-bg-color: #434B5C;\n",
              "      --hover-fill-color: #FFFFFF;\n",
              "      --disabled-bg-color: #3B4455;\n",
              "      --disabled-fill-color: #666;\n",
              "  }\n",
              "\n",
              "  .colab-df-quickchart {\n",
              "    background-color: var(--bg-color);\n",
              "    border: none;\n",
              "    border-radius: 50%;\n",
              "    cursor: pointer;\n",
              "    display: none;\n",
              "    fill: var(--fill-color);\n",
              "    height: 32px;\n",
              "    padding: 0;\n",
              "    width: 32px;\n",
              "  }\n",
              "\n",
              "  .colab-df-quickchart:hover {\n",
              "    background-color: var(--hover-bg-color);\n",
              "    box-shadow: 0 1px 2px rgba(60, 64, 67, 0.3), 0 1px 3px 1px rgba(60, 64, 67, 0.15);\n",
              "    fill: var(--button-hover-fill-color);\n",
              "  }\n",
              "\n",
              "  .colab-df-quickchart-complete:disabled,\n",
              "  .colab-df-quickchart-complete:disabled:hover {\n",
              "    background-color: var(--disabled-bg-color);\n",
              "    fill: var(--disabled-fill-color);\n",
              "    box-shadow: none;\n",
              "  }\n",
              "\n",
              "  .colab-df-spinner {\n",
              "    border: 2px solid var(--fill-color);\n",
              "    border-color: transparent;\n",
              "    border-bottom-color: var(--fill-color);\n",
              "    animation:\n",
              "      spin 1s steps(1) infinite;\n",
              "  }\n",
              "\n",
              "  @keyframes spin {\n",
              "    0% {\n",
              "      border-color: transparent;\n",
              "      border-bottom-color: var(--fill-color);\n",
              "      border-left-color: var(--fill-color);\n",
              "    }\n",
              "    20% {\n",
              "      border-color: transparent;\n",
              "      border-left-color: var(--fill-color);\n",
              "      border-top-color: var(--fill-color);\n",
              "    }\n",
              "    30% {\n",
              "      border-color: transparent;\n",
              "      border-left-color: var(--fill-color);\n",
              "      border-top-color: var(--fill-color);\n",
              "      border-right-color: var(--fill-color);\n",
              "    }\n",
              "    40% {\n",
              "      border-color: transparent;\n",
              "      border-right-color: var(--fill-color);\n",
              "      border-top-color: var(--fill-color);\n",
              "    }\n",
              "    60% {\n",
              "      border-color: transparent;\n",
              "      border-right-color: var(--fill-color);\n",
              "    }\n",
              "    80% {\n",
              "      border-color: transparent;\n",
              "      border-right-color: var(--fill-color);\n",
              "      border-bottom-color: var(--fill-color);\n",
              "    }\n",
              "    90% {\n",
              "      border-color: transparent;\n",
              "      border-bottom-color: var(--fill-color);\n",
              "    }\n",
              "  }\n",
              "</style>\n",
              "\n",
              "  <script>\n",
              "    async function quickchart(key) {\n",
              "      const quickchartButtonEl =\n",
              "        document.querySelector('#' + key + ' button');\n",
              "      quickchartButtonEl.disabled = true;  // To prevent multiple clicks.\n",
              "      quickchartButtonEl.classList.add('colab-df-spinner');\n",
              "      try {\n",
              "        const charts = await google.colab.kernel.invokeFunction(\n",
              "            'suggestCharts', [key], {});\n",
              "      } catch (error) {\n",
              "        console.error('Error during call to suggestCharts:', error);\n",
              "      }\n",
              "      quickchartButtonEl.classList.remove('colab-df-spinner');\n",
              "      quickchartButtonEl.classList.add('colab-df-quickchart-complete');\n",
              "    }\n",
              "    (() => {\n",
              "      let quickchartButtonEl =\n",
              "        document.querySelector('#df-a5679929-04de-403b-a1ba-4eea1c0e342f button');\n",
              "      quickchartButtonEl.style.display =\n",
              "        google.colab.kernel.accessAllowed ? 'block' : 'none';\n",
              "    })();\n",
              "  </script>\n",
              "</div>\n",
              "\n",
              "  <div id=\"id_eb90fbe4-f704-4fbe-b6d9-6c4e34861fed\">\n",
              "    <style>\n",
              "      .colab-df-generate {\n",
              "        background-color: #E8F0FE;\n",
              "        border: none;\n",
              "        border-radius: 50%;\n",
              "        cursor: pointer;\n",
              "        display: none;\n",
              "        fill: #1967D2;\n",
              "        height: 32px;\n",
              "        padding: 0 0 0 0;\n",
              "        width: 32px;\n",
              "      }\n",
              "\n",
              "      .colab-df-generate:hover {\n",
              "        background-color: #E2EBFA;\n",
              "        box-shadow: 0px 1px 2px rgba(60, 64, 67, 0.3), 0px 1px 3px 1px rgba(60, 64, 67, 0.15);\n",
              "        fill: #174EA6;\n",
              "      }\n",
              "\n",
              "      [theme=dark] .colab-df-generate {\n",
              "        background-color: #3B4455;\n",
              "        fill: #D2E3FC;\n",
              "      }\n",
              "\n",
              "      [theme=dark] .colab-df-generate:hover {\n",
              "        background-color: #434B5C;\n",
              "        box-shadow: 0px 1px 3px 1px rgba(0, 0, 0, 0.15);\n",
              "        filter: drop-shadow(0px 1px 2px rgba(0, 0, 0, 0.3));\n",
              "        fill: #FFFFFF;\n",
              "      }\n",
              "    </style>\n",
              "    <button class=\"colab-df-generate\" onclick=\"generateWithVariable('df_summ')\"\n",
              "            title=\"Generate code using this dataframe.\"\n",
              "            style=\"display:none;\">\n",
              "\n",
              "  <svg xmlns=\"http://www.w3.org/2000/svg\" height=\"24px\"viewBox=\"0 0 24 24\"\n",
              "       width=\"24px\">\n",
              "    <path d=\"M7,19H8.4L18.45,9,17,7.55,7,17.6ZM5,21V16.75L18.45,3.32a2,2,0,0,1,2.83,0l1.4,1.43a1.91,1.91,0,0,1,.58,1.4,1.91,1.91,0,0,1-.58,1.4L9.25,21ZM18.45,9,17,7.55Zm-12,3A5.31,5.31,0,0,0,4.9,8.1,5.31,5.31,0,0,0,1,6.5,5.31,5.31,0,0,0,4.9,4.9,5.31,5.31,0,0,0,6.5,1,5.31,5.31,0,0,0,8.1,4.9,5.31,5.31,0,0,0,12,6.5,5.46,5.46,0,0,0,6.5,12Z\"/>\n",
              "  </svg>\n",
              "    </button>\n",
              "    <script>\n",
              "      (() => {\n",
              "      const buttonEl =\n",
              "        document.querySelector('#id_eb90fbe4-f704-4fbe-b6d9-6c4e34861fed button.colab-df-generate');\n",
              "      buttonEl.style.display =\n",
              "        google.colab.kernel.accessAllowed ? 'block' : 'none';\n",
              "\n",
              "      buttonEl.onclick = () => {\n",
              "        google.colab.notebook.generateWithVariable('df_summ');\n",
              "      }\n",
              "      })();\n",
              "    </script>\n",
              "  </div>\n",
              "\n",
              "    </div>\n",
              "  </div>\n"
            ],
            "application/vnd.google.colaboratory.intrinsic+json": {
              "type": "dataframe",
              "variable_name": "df_summ",
              "summary": "{\n  \"name\": \"df_summ\",\n  \"rows\": 8,\n  \"fields\": [\n    {\n      \"column\": \"\\ud654\\uc7ac\\ubc1c\\uc0dd\\uc5f0\\ub3c4\",\n      \"properties\": {\n        \"dtype\": \"number\",\n        \"std\": 928.5170522007589,\n        \"min\": 1.4433756729740645,\n        \"max\": 2021.0,\n        \"num_unique_values\": 7,\n        \"samples\": [\n          25.0,\n          2019.0,\n          2020.0\n        ],\n        \"semantic_type\": \"\",\n        \"description\": \"\"\n      }\n    },\n    {\n      \"column\": \"\\uc0ac\\ub9dd\\uc790\\uc218\",\n      \"properties\": {\n        \"dtype\": \"number\",\n        \"std\": 8.255302084115396,\n        \"min\": 0.0,\n        \"max\": 25.0,\n        \"num_unique_values\": 8,\n        \"samples\": [\n          1.8,\n          2.0,\n          25.0\n        ],\n        \"semantic_type\": \"\",\n        \"description\": \"\"\n      }\n    },\n    {\n      \"column\": \"\\uc7ac\\uc0b0\\ud53c\\ud574\\uae08\\uc561\",\n      \"properties\": {\n        \"dtype\": \"number\",\n        \"std\": 50.311440915871714,\n        \"min\": 0.0025,\n        \"max\": 167.7681,\n        \"num_unique_values\": 8,\n        \"samples\": [\n          68.5256,\n          55.9614,\n          0.0025\n        ],\n        \"semantic_type\": \"\",\n        \"description\": \"\"\n      }\n    },\n    {\n      \"column\": \"\\ucd9c\\ub3d9\\ud69f\\uc218\",\n      \"properties\": {\n        \"dtype\": \"number\",\n        \"std\": 152.8708699185128,\n        \"min\": 25.0,\n        \"max\": 502.0,\n        \"num_unique_values\": 8,\n        \"samples\": [\n          290.56,\n          269.0,\n          25.0\n        ],\n        \"semantic_type\": \"\",\n        \"description\": \"\"\n      }\n    }\n  ]\n}"
            }
          },
          "metadata": {},
          "execution_count": 139
        }
      ],
      "source": [
        "df_summ['재산피해금액'] = df_summ['재산피해금액'].round(4)\n",
        "df_summ"
      ]
    },
    {
      "cell_type": "markdown",
      "metadata": {
        "id": "c24fd797"
      },
      "source": [
        "- 열 이름에 단위를 추가하여 표현해준다."
      ]
    },
    {
      "cell_type": "code",
      "execution_count": null,
      "metadata": {
        "id": "7e6524c1",
        "colab": {
          "base_uri": "https://localhost:8080/",
          "height": 300
        },
        "outputId": "c93ad11c-08e4-42dd-fedc-ac7fd2641fe9"
      },
      "outputs": [
        {
          "output_type": "execute_result",
          "data": {
            "text/plain": [
              "            화재발생연도   사망자수  재산피해금액(만원)    출동횟수\n",
              "count    25.000000  25.00      0.0025   25.00\n",
              "mean   2019.000000   1.80     68.5256  290.56\n",
              "std       1.443376   1.41     46.7439   97.35\n",
              "min    2017.000000   0.00     20.0966  146.00\n",
              "25%    2018.000000   1.00     36.3839  212.00\n",
              "50%    2019.000000   2.00     55.9614  269.00\n",
              "75%    2020.000000   3.00     70.6871  364.00\n",
              "max    2021.000000   5.00    167.7681  502.00"
            ],
            "text/html": [
              "\n",
              "  <div id=\"df-92c10d35-e2d1-4797-a3d0-d4f1541df7fa\" class=\"colab-df-container\">\n",
              "    <div>\n",
              "<style scoped>\n",
              "    .dataframe tbody tr th:only-of-type {\n",
              "        vertical-align: middle;\n",
              "    }\n",
              "\n",
              "    .dataframe tbody tr th {\n",
              "        vertical-align: top;\n",
              "    }\n",
              "\n",
              "    .dataframe thead th {\n",
              "        text-align: right;\n",
              "    }\n",
              "</style>\n",
              "<table border=\"1\" class=\"dataframe\">\n",
              "  <thead>\n",
              "    <tr style=\"text-align: right;\">\n",
              "      <th></th>\n",
              "      <th>화재발생연도</th>\n",
              "      <th>사망자수</th>\n",
              "      <th>재산피해금액(만원)</th>\n",
              "      <th>출동횟수</th>\n",
              "    </tr>\n",
              "  </thead>\n",
              "  <tbody>\n",
              "    <tr>\n",
              "      <th>count</th>\n",
              "      <td>25.000000</td>\n",
              "      <td>25.00</td>\n",
              "      <td>0.0025</td>\n",
              "      <td>25.00</td>\n",
              "    </tr>\n",
              "    <tr>\n",
              "      <th>mean</th>\n",
              "      <td>2019.000000</td>\n",
              "      <td>1.80</td>\n",
              "      <td>68.5256</td>\n",
              "      <td>290.56</td>\n",
              "    </tr>\n",
              "    <tr>\n",
              "      <th>std</th>\n",
              "      <td>1.443376</td>\n",
              "      <td>1.41</td>\n",
              "      <td>46.7439</td>\n",
              "      <td>97.35</td>\n",
              "    </tr>\n",
              "    <tr>\n",
              "      <th>min</th>\n",
              "      <td>2017.000000</td>\n",
              "      <td>0.00</td>\n",
              "      <td>20.0966</td>\n",
              "      <td>146.00</td>\n",
              "    </tr>\n",
              "    <tr>\n",
              "      <th>25%</th>\n",
              "      <td>2018.000000</td>\n",
              "      <td>1.00</td>\n",
              "      <td>36.3839</td>\n",
              "      <td>212.00</td>\n",
              "    </tr>\n",
              "    <tr>\n",
              "      <th>50%</th>\n",
              "      <td>2019.000000</td>\n",
              "      <td>2.00</td>\n",
              "      <td>55.9614</td>\n",
              "      <td>269.00</td>\n",
              "    </tr>\n",
              "    <tr>\n",
              "      <th>75%</th>\n",
              "      <td>2020.000000</td>\n",
              "      <td>3.00</td>\n",
              "      <td>70.6871</td>\n",
              "      <td>364.00</td>\n",
              "    </tr>\n",
              "    <tr>\n",
              "      <th>max</th>\n",
              "      <td>2021.000000</td>\n",
              "      <td>5.00</td>\n",
              "      <td>167.7681</td>\n",
              "      <td>502.00</td>\n",
              "    </tr>\n",
              "  </tbody>\n",
              "</table>\n",
              "</div>\n",
              "    <div class=\"colab-df-buttons\">\n",
              "\n",
              "  <div class=\"colab-df-container\">\n",
              "    <button class=\"colab-df-convert\" onclick=\"convertToInteractive('df-92c10d35-e2d1-4797-a3d0-d4f1541df7fa')\"\n",
              "            title=\"Convert this dataframe to an interactive table.\"\n",
              "            style=\"display:none;\">\n",
              "\n",
              "  <svg xmlns=\"http://www.w3.org/2000/svg\" height=\"24px\" viewBox=\"0 -960 960 960\">\n",
              "    <path d=\"M120-120v-720h720v720H120Zm60-500h600v-160H180v160Zm220 220h160v-160H400v160Zm0 220h160v-160H400v160ZM180-400h160v-160H180v160Zm440 0h160v-160H620v160ZM180-180h160v-160H180v160Zm440 0h160v-160H620v160Z\"/>\n",
              "  </svg>\n",
              "    </button>\n",
              "\n",
              "  <style>\n",
              "    .colab-df-container {\n",
              "      display:flex;\n",
              "      gap: 12px;\n",
              "    }\n",
              "\n",
              "    .colab-df-convert {\n",
              "      background-color: #E8F0FE;\n",
              "      border: none;\n",
              "      border-radius: 50%;\n",
              "      cursor: pointer;\n",
              "      display: none;\n",
              "      fill: #1967D2;\n",
              "      height: 32px;\n",
              "      padding: 0 0 0 0;\n",
              "      width: 32px;\n",
              "    }\n",
              "\n",
              "    .colab-df-convert:hover {\n",
              "      background-color: #E2EBFA;\n",
              "      box-shadow: 0px 1px 2px rgba(60, 64, 67, 0.3), 0px 1px 3px 1px rgba(60, 64, 67, 0.15);\n",
              "      fill: #174EA6;\n",
              "    }\n",
              "\n",
              "    .colab-df-buttons div {\n",
              "      margin-bottom: 4px;\n",
              "    }\n",
              "\n",
              "    [theme=dark] .colab-df-convert {\n",
              "      background-color: #3B4455;\n",
              "      fill: #D2E3FC;\n",
              "    }\n",
              "\n",
              "    [theme=dark] .colab-df-convert:hover {\n",
              "      background-color: #434B5C;\n",
              "      box-shadow: 0px 1px 3px 1px rgba(0, 0, 0, 0.15);\n",
              "      filter: drop-shadow(0px 1px 2px rgba(0, 0, 0, 0.3));\n",
              "      fill: #FFFFFF;\n",
              "    }\n",
              "  </style>\n",
              "\n",
              "    <script>\n",
              "      const buttonEl =\n",
              "        document.querySelector('#df-92c10d35-e2d1-4797-a3d0-d4f1541df7fa button.colab-df-convert');\n",
              "      buttonEl.style.display =\n",
              "        google.colab.kernel.accessAllowed ? 'block' : 'none';\n",
              "\n",
              "      async function convertToInteractive(key) {\n",
              "        const element = document.querySelector('#df-92c10d35-e2d1-4797-a3d0-d4f1541df7fa');\n",
              "        const dataTable =\n",
              "          await google.colab.kernel.invokeFunction('convertToInteractive',\n",
              "                                                    [key], {});\n",
              "        if (!dataTable) return;\n",
              "\n",
              "        const docLinkHtml = 'Like what you see? Visit the ' +\n",
              "          '<a target=\"_blank\" href=https://colab.research.google.com/notebooks/data_table.ipynb>data table notebook</a>'\n",
              "          + ' to learn more about interactive tables.';\n",
              "        element.innerHTML = '';\n",
              "        dataTable['output_type'] = 'display_data';\n",
              "        await google.colab.output.renderOutput(dataTable, element);\n",
              "        const docLink = document.createElement('div');\n",
              "        docLink.innerHTML = docLinkHtml;\n",
              "        element.appendChild(docLink);\n",
              "      }\n",
              "    </script>\n",
              "  </div>\n",
              "\n",
              "\n",
              "<div id=\"df-2937aea3-92d7-43c8-a094-4482ec9c3e9a\">\n",
              "  <button class=\"colab-df-quickchart\" onclick=\"quickchart('df-2937aea3-92d7-43c8-a094-4482ec9c3e9a')\"\n",
              "            title=\"Suggest charts\"\n",
              "            style=\"display:none;\">\n",
              "\n",
              "<svg xmlns=\"http://www.w3.org/2000/svg\" height=\"24px\"viewBox=\"0 0 24 24\"\n",
              "     width=\"24px\">\n",
              "    <g>\n",
              "        <path d=\"M19 3H5c-1.1 0-2 .9-2 2v14c0 1.1.9 2 2 2h14c1.1 0 2-.9 2-2V5c0-1.1-.9-2-2-2zM9 17H7v-7h2v7zm4 0h-2V7h2v10zm4 0h-2v-4h2v4z\"/>\n",
              "    </g>\n",
              "</svg>\n",
              "  </button>\n",
              "\n",
              "<style>\n",
              "  .colab-df-quickchart {\n",
              "      --bg-color: #E8F0FE;\n",
              "      --fill-color: #1967D2;\n",
              "      --hover-bg-color: #E2EBFA;\n",
              "      --hover-fill-color: #174EA6;\n",
              "      --disabled-fill-color: #AAA;\n",
              "      --disabled-bg-color: #DDD;\n",
              "  }\n",
              "\n",
              "  [theme=dark] .colab-df-quickchart {\n",
              "      --bg-color: #3B4455;\n",
              "      --fill-color: #D2E3FC;\n",
              "      --hover-bg-color: #434B5C;\n",
              "      --hover-fill-color: #FFFFFF;\n",
              "      --disabled-bg-color: #3B4455;\n",
              "      --disabled-fill-color: #666;\n",
              "  }\n",
              "\n",
              "  .colab-df-quickchart {\n",
              "    background-color: var(--bg-color);\n",
              "    border: none;\n",
              "    border-radius: 50%;\n",
              "    cursor: pointer;\n",
              "    display: none;\n",
              "    fill: var(--fill-color);\n",
              "    height: 32px;\n",
              "    padding: 0;\n",
              "    width: 32px;\n",
              "  }\n",
              "\n",
              "  .colab-df-quickchart:hover {\n",
              "    background-color: var(--hover-bg-color);\n",
              "    box-shadow: 0 1px 2px rgba(60, 64, 67, 0.3), 0 1px 3px 1px rgba(60, 64, 67, 0.15);\n",
              "    fill: var(--button-hover-fill-color);\n",
              "  }\n",
              "\n",
              "  .colab-df-quickchart-complete:disabled,\n",
              "  .colab-df-quickchart-complete:disabled:hover {\n",
              "    background-color: var(--disabled-bg-color);\n",
              "    fill: var(--disabled-fill-color);\n",
              "    box-shadow: none;\n",
              "  }\n",
              "\n",
              "  .colab-df-spinner {\n",
              "    border: 2px solid var(--fill-color);\n",
              "    border-color: transparent;\n",
              "    border-bottom-color: var(--fill-color);\n",
              "    animation:\n",
              "      spin 1s steps(1) infinite;\n",
              "  }\n",
              "\n",
              "  @keyframes spin {\n",
              "    0% {\n",
              "      border-color: transparent;\n",
              "      border-bottom-color: var(--fill-color);\n",
              "      border-left-color: var(--fill-color);\n",
              "    }\n",
              "    20% {\n",
              "      border-color: transparent;\n",
              "      border-left-color: var(--fill-color);\n",
              "      border-top-color: var(--fill-color);\n",
              "    }\n",
              "    30% {\n",
              "      border-color: transparent;\n",
              "      border-left-color: var(--fill-color);\n",
              "      border-top-color: var(--fill-color);\n",
              "      border-right-color: var(--fill-color);\n",
              "    }\n",
              "    40% {\n",
              "      border-color: transparent;\n",
              "      border-right-color: var(--fill-color);\n",
              "      border-top-color: var(--fill-color);\n",
              "    }\n",
              "    60% {\n",
              "      border-color: transparent;\n",
              "      border-right-color: var(--fill-color);\n",
              "    }\n",
              "    80% {\n",
              "      border-color: transparent;\n",
              "      border-right-color: var(--fill-color);\n",
              "      border-bottom-color: var(--fill-color);\n",
              "    }\n",
              "    90% {\n",
              "      border-color: transparent;\n",
              "      border-bottom-color: var(--fill-color);\n",
              "    }\n",
              "  }\n",
              "</style>\n",
              "\n",
              "  <script>\n",
              "    async function quickchart(key) {\n",
              "      const quickchartButtonEl =\n",
              "        document.querySelector('#' + key + ' button');\n",
              "      quickchartButtonEl.disabled = true;  // To prevent multiple clicks.\n",
              "      quickchartButtonEl.classList.add('colab-df-spinner');\n",
              "      try {\n",
              "        const charts = await google.colab.kernel.invokeFunction(\n",
              "            'suggestCharts', [key], {});\n",
              "      } catch (error) {\n",
              "        console.error('Error during call to suggestCharts:', error);\n",
              "      }\n",
              "      quickchartButtonEl.classList.remove('colab-df-spinner');\n",
              "      quickchartButtonEl.classList.add('colab-df-quickchart-complete');\n",
              "    }\n",
              "    (() => {\n",
              "      let quickchartButtonEl =\n",
              "        document.querySelector('#df-2937aea3-92d7-43c8-a094-4482ec9c3e9a button');\n",
              "      quickchartButtonEl.style.display =\n",
              "        google.colab.kernel.accessAllowed ? 'block' : 'none';\n",
              "    })();\n",
              "  </script>\n",
              "</div>\n",
              "\n",
              "  <div id=\"id_5d2fb274-0fe9-462f-aebd-a84f29f5044b\">\n",
              "    <style>\n",
              "      .colab-df-generate {\n",
              "        background-color: #E8F0FE;\n",
              "        border: none;\n",
              "        border-radius: 50%;\n",
              "        cursor: pointer;\n",
              "        display: none;\n",
              "        fill: #1967D2;\n",
              "        height: 32px;\n",
              "        padding: 0 0 0 0;\n",
              "        width: 32px;\n",
              "      }\n",
              "\n",
              "      .colab-df-generate:hover {\n",
              "        background-color: #E2EBFA;\n",
              "        box-shadow: 0px 1px 2px rgba(60, 64, 67, 0.3), 0px 1px 3px 1px rgba(60, 64, 67, 0.15);\n",
              "        fill: #174EA6;\n",
              "      }\n",
              "\n",
              "      [theme=dark] .colab-df-generate {\n",
              "        background-color: #3B4455;\n",
              "        fill: #D2E3FC;\n",
              "      }\n",
              "\n",
              "      [theme=dark] .colab-df-generate:hover {\n",
              "        background-color: #434B5C;\n",
              "        box-shadow: 0px 1px 3px 1px rgba(0, 0, 0, 0.15);\n",
              "        filter: drop-shadow(0px 1px 2px rgba(0, 0, 0, 0.3));\n",
              "        fill: #FFFFFF;\n",
              "      }\n",
              "    </style>\n",
              "    <button class=\"colab-df-generate\" onclick=\"generateWithVariable('df_summ')\"\n",
              "            title=\"Generate code using this dataframe.\"\n",
              "            style=\"display:none;\">\n",
              "\n",
              "  <svg xmlns=\"http://www.w3.org/2000/svg\" height=\"24px\"viewBox=\"0 0 24 24\"\n",
              "       width=\"24px\">\n",
              "    <path d=\"M7,19H8.4L18.45,9,17,7.55,7,17.6ZM5,21V16.75L18.45,3.32a2,2,0,0,1,2.83,0l1.4,1.43a1.91,1.91,0,0,1,.58,1.4,1.91,1.91,0,0,1-.58,1.4L9.25,21ZM18.45,9,17,7.55Zm-12,3A5.31,5.31,0,0,0,4.9,8.1,5.31,5.31,0,0,0,1,6.5,5.31,5.31,0,0,0,4.9,4.9,5.31,5.31,0,0,0,6.5,1,5.31,5.31,0,0,0,8.1,4.9,5.31,5.31,0,0,0,12,6.5,5.46,5.46,0,0,0,6.5,12Z\"/>\n",
              "  </svg>\n",
              "    </button>\n",
              "    <script>\n",
              "      (() => {\n",
              "      const buttonEl =\n",
              "        document.querySelector('#id_5d2fb274-0fe9-462f-aebd-a84f29f5044b button.colab-df-generate');\n",
              "      buttonEl.style.display =\n",
              "        google.colab.kernel.accessAllowed ? 'block' : 'none';\n",
              "\n",
              "      buttonEl.onclick = () => {\n",
              "        google.colab.notebook.generateWithVariable('df_summ');\n",
              "      }\n",
              "      })();\n",
              "    </script>\n",
              "  </div>\n",
              "\n",
              "    </div>\n",
              "  </div>\n"
            ],
            "application/vnd.google.colaboratory.intrinsic+json": {
              "type": "dataframe",
              "variable_name": "df_summ",
              "summary": "{\n  \"name\": \"df_summ\",\n  \"rows\": 8,\n  \"fields\": [\n    {\n      \"column\": \"\\ud654\\uc7ac\\ubc1c\\uc0dd\\uc5f0\\ub3c4\",\n      \"properties\": {\n        \"dtype\": \"number\",\n        \"std\": 928.5170522007589,\n        \"min\": 1.4433756729740645,\n        \"max\": 2021.0,\n        \"num_unique_values\": 7,\n        \"samples\": [\n          25.0,\n          2019.0,\n          2020.0\n        ],\n        \"semantic_type\": \"\",\n        \"description\": \"\"\n      }\n    },\n    {\n      \"column\": \"\\uc0ac\\ub9dd\\uc790\\uc218\",\n      \"properties\": {\n        \"dtype\": \"number\",\n        \"std\": 8.255302084115396,\n        \"min\": 0.0,\n        \"max\": 25.0,\n        \"num_unique_values\": 8,\n        \"samples\": [\n          1.8,\n          2.0,\n          25.0\n        ],\n        \"semantic_type\": \"\",\n        \"description\": \"\"\n      }\n    },\n    {\n      \"column\": \"\\uc7ac\\uc0b0\\ud53c\\ud574\\uae08\\uc561(\\ub9cc\\uc6d0)\",\n      \"properties\": {\n        \"dtype\": \"number\",\n        \"std\": 50.311440915871714,\n        \"min\": 0.0025,\n        \"max\": 167.7681,\n        \"num_unique_values\": 8,\n        \"samples\": [\n          68.5256,\n          55.9614,\n          0.0025\n        ],\n        \"semantic_type\": \"\",\n        \"description\": \"\"\n      }\n    },\n    {\n      \"column\": \"\\ucd9c\\ub3d9\\ud69f\\uc218\",\n      \"properties\": {\n        \"dtype\": \"number\",\n        \"std\": 152.8708699185128,\n        \"min\": 25.0,\n        \"max\": 502.0,\n        \"num_unique_values\": 8,\n        \"samples\": [\n          290.56,\n          269.0,\n          25.0\n        ],\n        \"semantic_type\": \"\",\n        \"description\": \"\"\n      }\n    }\n  ]\n}"
            }
          },
          "metadata": {},
          "execution_count": 140
        }
      ],
      "source": [
        "df_summ.columns = ['화재발생연도', '사망자수', '재산피해금액(만원)', '출동횟수']\n",
        "df_summ"
      ]
    },
    {
      "cell_type": "markdown",
      "metadata": {
        "id": "002bcdf3"
      },
      "source": [
        "- 마지막으로 `화재발생연도`를 제거하였다."
      ]
    },
    {
      "cell_type": "code",
      "execution_count": null,
      "metadata": {
        "colab": {
          "base_uri": "https://localhost:8080/",
          "height": 300
        },
        "id": "23006801",
        "outputId": "9e1ed638-e3d1-4aca-c048-ec8655c21603"
      },
      "outputs": [
        {
          "output_type": "execute_result",
          "data": {
            "text/plain": [
              "        사망자수  재산피해금액(만원)    출동횟수\n",
              "count  25.00      0.0025   25.00\n",
              "mean    1.80     68.5256  290.56\n",
              "std     1.41     46.7439   97.35\n",
              "min     0.00     20.0966  146.00\n",
              "25%     1.00     36.3839  212.00\n",
              "50%     2.00     55.9614  269.00\n",
              "75%     3.00     70.6871  364.00\n",
              "max     5.00    167.7681  502.00"
            ],
            "text/html": [
              "\n",
              "  <div id=\"df-359b3fcc-9d7a-4ea5-8d94-43061acc30c1\" class=\"colab-df-container\">\n",
              "    <div>\n",
              "<style scoped>\n",
              "    .dataframe tbody tr th:only-of-type {\n",
              "        vertical-align: middle;\n",
              "    }\n",
              "\n",
              "    .dataframe tbody tr th {\n",
              "        vertical-align: top;\n",
              "    }\n",
              "\n",
              "    .dataframe thead th {\n",
              "        text-align: right;\n",
              "    }\n",
              "</style>\n",
              "<table border=\"1\" class=\"dataframe\">\n",
              "  <thead>\n",
              "    <tr style=\"text-align: right;\">\n",
              "      <th></th>\n",
              "      <th>사망자수</th>\n",
              "      <th>재산피해금액(만원)</th>\n",
              "      <th>출동횟수</th>\n",
              "    </tr>\n",
              "  </thead>\n",
              "  <tbody>\n",
              "    <tr>\n",
              "      <th>count</th>\n",
              "      <td>25.00</td>\n",
              "      <td>0.0025</td>\n",
              "      <td>25.00</td>\n",
              "    </tr>\n",
              "    <tr>\n",
              "      <th>mean</th>\n",
              "      <td>1.80</td>\n",
              "      <td>68.5256</td>\n",
              "      <td>290.56</td>\n",
              "    </tr>\n",
              "    <tr>\n",
              "      <th>std</th>\n",
              "      <td>1.41</td>\n",
              "      <td>46.7439</td>\n",
              "      <td>97.35</td>\n",
              "    </tr>\n",
              "    <tr>\n",
              "      <th>min</th>\n",
              "      <td>0.00</td>\n",
              "      <td>20.0966</td>\n",
              "      <td>146.00</td>\n",
              "    </tr>\n",
              "    <tr>\n",
              "      <th>25%</th>\n",
              "      <td>1.00</td>\n",
              "      <td>36.3839</td>\n",
              "      <td>212.00</td>\n",
              "    </tr>\n",
              "    <tr>\n",
              "      <th>50%</th>\n",
              "      <td>2.00</td>\n",
              "      <td>55.9614</td>\n",
              "      <td>269.00</td>\n",
              "    </tr>\n",
              "    <tr>\n",
              "      <th>75%</th>\n",
              "      <td>3.00</td>\n",
              "      <td>70.6871</td>\n",
              "      <td>364.00</td>\n",
              "    </tr>\n",
              "    <tr>\n",
              "      <th>max</th>\n",
              "      <td>5.00</td>\n",
              "      <td>167.7681</td>\n",
              "      <td>502.00</td>\n",
              "    </tr>\n",
              "  </tbody>\n",
              "</table>\n",
              "</div>\n",
              "    <div class=\"colab-df-buttons\">\n",
              "\n",
              "  <div class=\"colab-df-container\">\n",
              "    <button class=\"colab-df-convert\" onclick=\"convertToInteractive('df-359b3fcc-9d7a-4ea5-8d94-43061acc30c1')\"\n",
              "            title=\"Convert this dataframe to an interactive table.\"\n",
              "            style=\"display:none;\">\n",
              "\n",
              "  <svg xmlns=\"http://www.w3.org/2000/svg\" height=\"24px\" viewBox=\"0 -960 960 960\">\n",
              "    <path d=\"M120-120v-720h720v720H120Zm60-500h600v-160H180v160Zm220 220h160v-160H400v160Zm0 220h160v-160H400v160ZM180-400h160v-160H180v160Zm440 0h160v-160H620v160ZM180-180h160v-160H180v160Zm440 0h160v-160H620v160Z\"/>\n",
              "  </svg>\n",
              "    </button>\n",
              "\n",
              "  <style>\n",
              "    .colab-df-container {\n",
              "      display:flex;\n",
              "      gap: 12px;\n",
              "    }\n",
              "\n",
              "    .colab-df-convert {\n",
              "      background-color: #E8F0FE;\n",
              "      border: none;\n",
              "      border-radius: 50%;\n",
              "      cursor: pointer;\n",
              "      display: none;\n",
              "      fill: #1967D2;\n",
              "      height: 32px;\n",
              "      padding: 0 0 0 0;\n",
              "      width: 32px;\n",
              "    }\n",
              "\n",
              "    .colab-df-convert:hover {\n",
              "      background-color: #E2EBFA;\n",
              "      box-shadow: 0px 1px 2px rgba(60, 64, 67, 0.3), 0px 1px 3px 1px rgba(60, 64, 67, 0.15);\n",
              "      fill: #174EA6;\n",
              "    }\n",
              "\n",
              "    .colab-df-buttons div {\n",
              "      margin-bottom: 4px;\n",
              "    }\n",
              "\n",
              "    [theme=dark] .colab-df-convert {\n",
              "      background-color: #3B4455;\n",
              "      fill: #D2E3FC;\n",
              "    }\n",
              "\n",
              "    [theme=dark] .colab-df-convert:hover {\n",
              "      background-color: #434B5C;\n",
              "      box-shadow: 0px 1px 3px 1px rgba(0, 0, 0, 0.15);\n",
              "      filter: drop-shadow(0px 1px 2px rgba(0, 0, 0, 0.3));\n",
              "      fill: #FFFFFF;\n",
              "    }\n",
              "  </style>\n",
              "\n",
              "    <script>\n",
              "      const buttonEl =\n",
              "        document.querySelector('#df-359b3fcc-9d7a-4ea5-8d94-43061acc30c1 button.colab-df-convert');\n",
              "      buttonEl.style.display =\n",
              "        google.colab.kernel.accessAllowed ? 'block' : 'none';\n",
              "\n",
              "      async function convertToInteractive(key) {\n",
              "        const element = document.querySelector('#df-359b3fcc-9d7a-4ea5-8d94-43061acc30c1');\n",
              "        const dataTable =\n",
              "          await google.colab.kernel.invokeFunction('convertToInteractive',\n",
              "                                                    [key], {});\n",
              "        if (!dataTable) return;\n",
              "\n",
              "        const docLinkHtml = 'Like what you see? Visit the ' +\n",
              "          '<a target=\"_blank\" href=https://colab.research.google.com/notebooks/data_table.ipynb>data table notebook</a>'\n",
              "          + ' to learn more about interactive tables.';\n",
              "        element.innerHTML = '';\n",
              "        dataTable['output_type'] = 'display_data';\n",
              "        await google.colab.output.renderOutput(dataTable, element);\n",
              "        const docLink = document.createElement('div');\n",
              "        docLink.innerHTML = docLinkHtml;\n",
              "        element.appendChild(docLink);\n",
              "      }\n",
              "    </script>\n",
              "  </div>\n",
              "\n",
              "\n",
              "<div id=\"df-0c836d68-5018-4b26-8827-32837a42b371\">\n",
              "  <button class=\"colab-df-quickchart\" onclick=\"quickchart('df-0c836d68-5018-4b26-8827-32837a42b371')\"\n",
              "            title=\"Suggest charts\"\n",
              "            style=\"display:none;\">\n",
              "\n",
              "<svg xmlns=\"http://www.w3.org/2000/svg\" height=\"24px\"viewBox=\"0 0 24 24\"\n",
              "     width=\"24px\">\n",
              "    <g>\n",
              "        <path d=\"M19 3H5c-1.1 0-2 .9-2 2v14c0 1.1.9 2 2 2h14c1.1 0 2-.9 2-2V5c0-1.1-.9-2-2-2zM9 17H7v-7h2v7zm4 0h-2V7h2v10zm4 0h-2v-4h2v4z\"/>\n",
              "    </g>\n",
              "</svg>\n",
              "  </button>\n",
              "\n",
              "<style>\n",
              "  .colab-df-quickchart {\n",
              "      --bg-color: #E8F0FE;\n",
              "      --fill-color: #1967D2;\n",
              "      --hover-bg-color: #E2EBFA;\n",
              "      --hover-fill-color: #174EA6;\n",
              "      --disabled-fill-color: #AAA;\n",
              "      --disabled-bg-color: #DDD;\n",
              "  }\n",
              "\n",
              "  [theme=dark] .colab-df-quickchart {\n",
              "      --bg-color: #3B4455;\n",
              "      --fill-color: #D2E3FC;\n",
              "      --hover-bg-color: #434B5C;\n",
              "      --hover-fill-color: #FFFFFF;\n",
              "      --disabled-bg-color: #3B4455;\n",
              "      --disabled-fill-color: #666;\n",
              "  }\n",
              "\n",
              "  .colab-df-quickchart {\n",
              "    background-color: var(--bg-color);\n",
              "    border: none;\n",
              "    border-radius: 50%;\n",
              "    cursor: pointer;\n",
              "    display: none;\n",
              "    fill: var(--fill-color);\n",
              "    height: 32px;\n",
              "    padding: 0;\n",
              "    width: 32px;\n",
              "  }\n",
              "\n",
              "  .colab-df-quickchart:hover {\n",
              "    background-color: var(--hover-bg-color);\n",
              "    box-shadow: 0 1px 2px rgba(60, 64, 67, 0.3), 0 1px 3px 1px rgba(60, 64, 67, 0.15);\n",
              "    fill: var(--button-hover-fill-color);\n",
              "  }\n",
              "\n",
              "  .colab-df-quickchart-complete:disabled,\n",
              "  .colab-df-quickchart-complete:disabled:hover {\n",
              "    background-color: var(--disabled-bg-color);\n",
              "    fill: var(--disabled-fill-color);\n",
              "    box-shadow: none;\n",
              "  }\n",
              "\n",
              "  .colab-df-spinner {\n",
              "    border: 2px solid var(--fill-color);\n",
              "    border-color: transparent;\n",
              "    border-bottom-color: var(--fill-color);\n",
              "    animation:\n",
              "      spin 1s steps(1) infinite;\n",
              "  }\n",
              "\n",
              "  @keyframes spin {\n",
              "    0% {\n",
              "      border-color: transparent;\n",
              "      border-bottom-color: var(--fill-color);\n",
              "      border-left-color: var(--fill-color);\n",
              "    }\n",
              "    20% {\n",
              "      border-color: transparent;\n",
              "      border-left-color: var(--fill-color);\n",
              "      border-top-color: var(--fill-color);\n",
              "    }\n",
              "    30% {\n",
              "      border-color: transparent;\n",
              "      border-left-color: var(--fill-color);\n",
              "      border-top-color: var(--fill-color);\n",
              "      border-right-color: var(--fill-color);\n",
              "    }\n",
              "    40% {\n",
              "      border-color: transparent;\n",
              "      border-right-color: var(--fill-color);\n",
              "      border-top-color: var(--fill-color);\n",
              "    }\n",
              "    60% {\n",
              "      border-color: transparent;\n",
              "      border-right-color: var(--fill-color);\n",
              "    }\n",
              "    80% {\n",
              "      border-color: transparent;\n",
              "      border-right-color: var(--fill-color);\n",
              "      border-bottom-color: var(--fill-color);\n",
              "    }\n",
              "    90% {\n",
              "      border-color: transparent;\n",
              "      border-bottom-color: var(--fill-color);\n",
              "    }\n",
              "  }\n",
              "</style>\n",
              "\n",
              "  <script>\n",
              "    async function quickchart(key) {\n",
              "      const quickchartButtonEl =\n",
              "        document.querySelector('#' + key + ' button');\n",
              "      quickchartButtonEl.disabled = true;  // To prevent multiple clicks.\n",
              "      quickchartButtonEl.classList.add('colab-df-spinner');\n",
              "      try {\n",
              "        const charts = await google.colab.kernel.invokeFunction(\n",
              "            'suggestCharts', [key], {});\n",
              "      } catch (error) {\n",
              "        console.error('Error during call to suggestCharts:', error);\n",
              "      }\n",
              "      quickchartButtonEl.classList.remove('colab-df-spinner');\n",
              "      quickchartButtonEl.classList.add('colab-df-quickchart-complete');\n",
              "    }\n",
              "    (() => {\n",
              "      let quickchartButtonEl =\n",
              "        document.querySelector('#df-0c836d68-5018-4b26-8827-32837a42b371 button');\n",
              "      quickchartButtonEl.style.display =\n",
              "        google.colab.kernel.accessAllowed ? 'block' : 'none';\n",
              "    })();\n",
              "  </script>\n",
              "</div>\n",
              "\n",
              "  <div id=\"id_7926b4e2-124e-4383-8a36-e558bd460ffc\">\n",
              "    <style>\n",
              "      .colab-df-generate {\n",
              "        background-color: #E8F0FE;\n",
              "        border: none;\n",
              "        border-radius: 50%;\n",
              "        cursor: pointer;\n",
              "        display: none;\n",
              "        fill: #1967D2;\n",
              "        height: 32px;\n",
              "        padding: 0 0 0 0;\n",
              "        width: 32px;\n",
              "      }\n",
              "\n",
              "      .colab-df-generate:hover {\n",
              "        background-color: #E2EBFA;\n",
              "        box-shadow: 0px 1px 2px rgba(60, 64, 67, 0.3), 0px 1px 3px 1px rgba(60, 64, 67, 0.15);\n",
              "        fill: #174EA6;\n",
              "      }\n",
              "\n",
              "      [theme=dark] .colab-df-generate {\n",
              "        background-color: #3B4455;\n",
              "        fill: #D2E3FC;\n",
              "      }\n",
              "\n",
              "      [theme=dark] .colab-df-generate:hover {\n",
              "        background-color: #434B5C;\n",
              "        box-shadow: 0px 1px 3px 1px rgba(0, 0, 0, 0.15);\n",
              "        filter: drop-shadow(0px 1px 2px rgba(0, 0, 0, 0.3));\n",
              "        fill: #FFFFFF;\n",
              "      }\n",
              "    </style>\n",
              "    <button class=\"colab-df-generate\" onclick=\"generateWithVariable('df_summ')\"\n",
              "            title=\"Generate code using this dataframe.\"\n",
              "            style=\"display:none;\">\n",
              "\n",
              "  <svg xmlns=\"http://www.w3.org/2000/svg\" height=\"24px\"viewBox=\"0 0 24 24\"\n",
              "       width=\"24px\">\n",
              "    <path d=\"M7,19H8.4L18.45,9,17,7.55,7,17.6ZM5,21V16.75L18.45,3.32a2,2,0,0,1,2.83,0l1.4,1.43a1.91,1.91,0,0,1,.58,1.4,1.91,1.91,0,0,1-.58,1.4L9.25,21ZM18.45,9,17,7.55Zm-12,3A5.31,5.31,0,0,0,4.9,8.1,5.31,5.31,0,0,0,1,6.5,5.31,5.31,0,0,0,4.9,4.9,5.31,5.31,0,0,0,6.5,1,5.31,5.31,0,0,0,8.1,4.9,5.31,5.31,0,0,0,12,6.5,5.46,5.46,0,0,0,6.5,12Z\"/>\n",
              "  </svg>\n",
              "    </button>\n",
              "    <script>\n",
              "      (() => {\n",
              "      const buttonEl =\n",
              "        document.querySelector('#id_7926b4e2-124e-4383-8a36-e558bd460ffc button.colab-df-generate');\n",
              "      buttonEl.style.display =\n",
              "        google.colab.kernel.accessAllowed ? 'block' : 'none';\n",
              "\n",
              "      buttonEl.onclick = () => {\n",
              "        google.colab.notebook.generateWithVariable('df_summ');\n",
              "      }\n",
              "      })();\n",
              "    </script>\n",
              "  </div>\n",
              "\n",
              "    </div>\n",
              "  </div>\n"
            ],
            "application/vnd.google.colaboratory.intrinsic+json": {
              "type": "dataframe",
              "variable_name": "df_summ",
              "summary": "{\n  \"name\": \"df_summ\",\n  \"rows\": 8,\n  \"fields\": [\n    {\n      \"column\": \"\\uc0ac\\ub9dd\\uc790\\uc218\",\n      \"properties\": {\n        \"dtype\": \"number\",\n        \"std\": 8.255302084115396,\n        \"min\": 0.0,\n        \"max\": 25.0,\n        \"num_unique_values\": 8,\n        \"samples\": [\n          1.8,\n          2.0,\n          25.0\n        ],\n        \"semantic_type\": \"\",\n        \"description\": \"\"\n      }\n    },\n    {\n      \"column\": \"\\uc7ac\\uc0b0\\ud53c\\ud574\\uae08\\uc561(\\ub9cc\\uc6d0)\",\n      \"properties\": {\n        \"dtype\": \"number\",\n        \"std\": 50.311440915871714,\n        \"min\": 0.0025,\n        \"max\": 167.7681,\n        \"num_unique_values\": 8,\n        \"samples\": [\n          68.5256,\n          55.9614,\n          0.0025\n        ],\n        \"semantic_type\": \"\",\n        \"description\": \"\"\n      }\n    },\n    {\n      \"column\": \"\\ucd9c\\ub3d9\\ud69f\\uc218\",\n      \"properties\": {\n        \"dtype\": \"number\",\n        \"std\": 152.8708699185128,\n        \"min\": 25.0,\n        \"max\": 502.0,\n        \"num_unique_values\": 8,\n        \"samples\": [\n          290.56,\n          269.0,\n          25.0\n        ],\n        \"semantic_type\": \"\",\n        \"description\": \"\"\n      }\n    }\n  ]\n}"
            }
          },
          "metadata": {},
          "execution_count": 141
        }
      ],
      "source": [
        "df_summ = df_summ.drop(columns = '화재발생연도')\n",
        "df_summ"
      ]
    },
    {
      "cell_type": "markdown",
      "metadata": {
        "id": "d0252828"
      },
      "source": [
        "## 해당 연도 요약 통계\n",
        "- 위에서는 모든 연도에 대해 데이터를 요약해보았다. 이번에는 범주별 `연도` 혹은 `시군구`의 자료를 각각 요약해보자.\n",
        "\n",
        "- 2017년 부터 2021년 5년간의 자료가 있다. 이 중, 2021년 자료만 뽑기 위해 논리연산자를 이용한다."
      ]
    },
    {
      "cell_type": "code",
      "execution_count": null,
      "metadata": {
        "colab": {
          "base_uri": "https://localhost:8080/",
          "height": 206
        },
        "id": "8efc7e14",
        "outputId": "38eba31f-bae9-4019-da7c-b276812cba11"
      },
      "outputs": [
        {
          "output_type": "execute_result",
          "data": {
            "text/plain": [
              "    화재발생연도  시군구  사망자수   재산피해금액  출동횟수\n",
              "20    2021  강남구   2.0  1354949   391\n",
              "21    2021  강동구   1.0   346741   211\n",
              "22    2021  강북구   5.0   410205   146\n",
              "23    2021  강서구   2.0   559614   223\n",
              "24    2021  관악구   2.0   562294   259"
            ],
            "text/html": [
              "\n",
              "  <div id=\"df-e2daba0e-fad9-4552-b6ff-aaa3e8a80e56\" class=\"colab-df-container\">\n",
              "    <div>\n",
              "<style scoped>\n",
              "    .dataframe tbody tr th:only-of-type {\n",
              "        vertical-align: middle;\n",
              "    }\n",
              "\n",
              "    .dataframe tbody tr th {\n",
              "        vertical-align: top;\n",
              "    }\n",
              "\n",
              "    .dataframe thead th {\n",
              "        text-align: right;\n",
              "    }\n",
              "</style>\n",
              "<table border=\"1\" class=\"dataframe\">\n",
              "  <thead>\n",
              "    <tr style=\"text-align: right;\">\n",
              "      <th></th>\n",
              "      <th>화재발생연도</th>\n",
              "      <th>시군구</th>\n",
              "      <th>사망자수</th>\n",
              "      <th>재산피해금액</th>\n",
              "      <th>출동횟수</th>\n",
              "    </tr>\n",
              "  </thead>\n",
              "  <tbody>\n",
              "    <tr>\n",
              "      <th>20</th>\n",
              "      <td>2021</td>\n",
              "      <td>강남구</td>\n",
              "      <td>2.0</td>\n",
              "      <td>1354949</td>\n",
              "      <td>391</td>\n",
              "    </tr>\n",
              "    <tr>\n",
              "      <th>21</th>\n",
              "      <td>2021</td>\n",
              "      <td>강동구</td>\n",
              "      <td>1.0</td>\n",
              "      <td>346741</td>\n",
              "      <td>211</td>\n",
              "    </tr>\n",
              "    <tr>\n",
              "      <th>22</th>\n",
              "      <td>2021</td>\n",
              "      <td>강북구</td>\n",
              "      <td>5.0</td>\n",
              "      <td>410205</td>\n",
              "      <td>146</td>\n",
              "    </tr>\n",
              "    <tr>\n",
              "      <th>23</th>\n",
              "      <td>2021</td>\n",
              "      <td>강서구</td>\n",
              "      <td>2.0</td>\n",
              "      <td>559614</td>\n",
              "      <td>223</td>\n",
              "    </tr>\n",
              "    <tr>\n",
              "      <th>24</th>\n",
              "      <td>2021</td>\n",
              "      <td>관악구</td>\n",
              "      <td>2.0</td>\n",
              "      <td>562294</td>\n",
              "      <td>259</td>\n",
              "    </tr>\n",
              "  </tbody>\n",
              "</table>\n",
              "</div>\n",
              "    <div class=\"colab-df-buttons\">\n",
              "\n",
              "  <div class=\"colab-df-container\">\n",
              "    <button class=\"colab-df-convert\" onclick=\"convertToInteractive('df-e2daba0e-fad9-4552-b6ff-aaa3e8a80e56')\"\n",
              "            title=\"Convert this dataframe to an interactive table.\"\n",
              "            style=\"display:none;\">\n",
              "\n",
              "  <svg xmlns=\"http://www.w3.org/2000/svg\" height=\"24px\" viewBox=\"0 -960 960 960\">\n",
              "    <path d=\"M120-120v-720h720v720H120Zm60-500h600v-160H180v160Zm220 220h160v-160H400v160Zm0 220h160v-160H400v160ZM180-400h160v-160H180v160Zm440 0h160v-160H620v160ZM180-180h160v-160H180v160Zm440 0h160v-160H620v160Z\"/>\n",
              "  </svg>\n",
              "    </button>\n",
              "\n",
              "  <style>\n",
              "    .colab-df-container {\n",
              "      display:flex;\n",
              "      gap: 12px;\n",
              "    }\n",
              "\n",
              "    .colab-df-convert {\n",
              "      background-color: #E8F0FE;\n",
              "      border: none;\n",
              "      border-radius: 50%;\n",
              "      cursor: pointer;\n",
              "      display: none;\n",
              "      fill: #1967D2;\n",
              "      height: 32px;\n",
              "      padding: 0 0 0 0;\n",
              "      width: 32px;\n",
              "    }\n",
              "\n",
              "    .colab-df-convert:hover {\n",
              "      background-color: #E2EBFA;\n",
              "      box-shadow: 0px 1px 2px rgba(60, 64, 67, 0.3), 0px 1px 3px 1px rgba(60, 64, 67, 0.15);\n",
              "      fill: #174EA6;\n",
              "    }\n",
              "\n",
              "    .colab-df-buttons div {\n",
              "      margin-bottom: 4px;\n",
              "    }\n",
              "\n",
              "    [theme=dark] .colab-df-convert {\n",
              "      background-color: #3B4455;\n",
              "      fill: #D2E3FC;\n",
              "    }\n",
              "\n",
              "    [theme=dark] .colab-df-convert:hover {\n",
              "      background-color: #434B5C;\n",
              "      box-shadow: 0px 1px 3px 1px rgba(0, 0, 0, 0.15);\n",
              "      filter: drop-shadow(0px 1px 2px rgba(0, 0, 0, 0.3));\n",
              "      fill: #FFFFFF;\n",
              "    }\n",
              "  </style>\n",
              "\n",
              "    <script>\n",
              "      const buttonEl =\n",
              "        document.querySelector('#df-e2daba0e-fad9-4552-b6ff-aaa3e8a80e56 button.colab-df-convert');\n",
              "      buttonEl.style.display =\n",
              "        google.colab.kernel.accessAllowed ? 'block' : 'none';\n",
              "\n",
              "      async function convertToInteractive(key) {\n",
              "        const element = document.querySelector('#df-e2daba0e-fad9-4552-b6ff-aaa3e8a80e56');\n",
              "        const dataTable =\n",
              "          await google.colab.kernel.invokeFunction('convertToInteractive',\n",
              "                                                    [key], {});\n",
              "        if (!dataTable) return;\n",
              "\n",
              "        const docLinkHtml = 'Like what you see? Visit the ' +\n",
              "          '<a target=\"_blank\" href=https://colab.research.google.com/notebooks/data_table.ipynb>data table notebook</a>'\n",
              "          + ' to learn more about interactive tables.';\n",
              "        element.innerHTML = '';\n",
              "        dataTable['output_type'] = 'display_data';\n",
              "        await google.colab.output.renderOutput(dataTable, element);\n",
              "        const docLink = document.createElement('div');\n",
              "        docLink.innerHTML = docLinkHtml;\n",
              "        element.appendChild(docLink);\n",
              "      }\n",
              "    </script>\n",
              "  </div>\n",
              "\n",
              "\n",
              "<div id=\"df-99438cef-303e-4803-bb26-a0aa0968e82a\">\n",
              "  <button class=\"colab-df-quickchart\" onclick=\"quickchart('df-99438cef-303e-4803-bb26-a0aa0968e82a')\"\n",
              "            title=\"Suggest charts\"\n",
              "            style=\"display:none;\">\n",
              "\n",
              "<svg xmlns=\"http://www.w3.org/2000/svg\" height=\"24px\"viewBox=\"0 0 24 24\"\n",
              "     width=\"24px\">\n",
              "    <g>\n",
              "        <path d=\"M19 3H5c-1.1 0-2 .9-2 2v14c0 1.1.9 2 2 2h14c1.1 0 2-.9 2-2V5c0-1.1-.9-2-2-2zM9 17H7v-7h2v7zm4 0h-2V7h2v10zm4 0h-2v-4h2v4z\"/>\n",
              "    </g>\n",
              "</svg>\n",
              "  </button>\n",
              "\n",
              "<style>\n",
              "  .colab-df-quickchart {\n",
              "      --bg-color: #E8F0FE;\n",
              "      --fill-color: #1967D2;\n",
              "      --hover-bg-color: #E2EBFA;\n",
              "      --hover-fill-color: #174EA6;\n",
              "      --disabled-fill-color: #AAA;\n",
              "      --disabled-bg-color: #DDD;\n",
              "  }\n",
              "\n",
              "  [theme=dark] .colab-df-quickchart {\n",
              "      --bg-color: #3B4455;\n",
              "      --fill-color: #D2E3FC;\n",
              "      --hover-bg-color: #434B5C;\n",
              "      --hover-fill-color: #FFFFFF;\n",
              "      --disabled-bg-color: #3B4455;\n",
              "      --disabled-fill-color: #666;\n",
              "  }\n",
              "\n",
              "  .colab-df-quickchart {\n",
              "    background-color: var(--bg-color);\n",
              "    border: none;\n",
              "    border-radius: 50%;\n",
              "    cursor: pointer;\n",
              "    display: none;\n",
              "    fill: var(--fill-color);\n",
              "    height: 32px;\n",
              "    padding: 0;\n",
              "    width: 32px;\n",
              "  }\n",
              "\n",
              "  .colab-df-quickchart:hover {\n",
              "    background-color: var(--hover-bg-color);\n",
              "    box-shadow: 0 1px 2px rgba(60, 64, 67, 0.3), 0 1px 3px 1px rgba(60, 64, 67, 0.15);\n",
              "    fill: var(--button-hover-fill-color);\n",
              "  }\n",
              "\n",
              "  .colab-df-quickchart-complete:disabled,\n",
              "  .colab-df-quickchart-complete:disabled:hover {\n",
              "    background-color: var(--disabled-bg-color);\n",
              "    fill: var(--disabled-fill-color);\n",
              "    box-shadow: none;\n",
              "  }\n",
              "\n",
              "  .colab-df-spinner {\n",
              "    border: 2px solid var(--fill-color);\n",
              "    border-color: transparent;\n",
              "    border-bottom-color: var(--fill-color);\n",
              "    animation:\n",
              "      spin 1s steps(1) infinite;\n",
              "  }\n",
              "\n",
              "  @keyframes spin {\n",
              "    0% {\n",
              "      border-color: transparent;\n",
              "      border-bottom-color: var(--fill-color);\n",
              "      border-left-color: var(--fill-color);\n",
              "    }\n",
              "    20% {\n",
              "      border-color: transparent;\n",
              "      border-left-color: var(--fill-color);\n",
              "      border-top-color: var(--fill-color);\n",
              "    }\n",
              "    30% {\n",
              "      border-color: transparent;\n",
              "      border-left-color: var(--fill-color);\n",
              "      border-top-color: var(--fill-color);\n",
              "      border-right-color: var(--fill-color);\n",
              "    }\n",
              "    40% {\n",
              "      border-color: transparent;\n",
              "      border-right-color: var(--fill-color);\n",
              "      border-top-color: var(--fill-color);\n",
              "    }\n",
              "    60% {\n",
              "      border-color: transparent;\n",
              "      border-right-color: var(--fill-color);\n",
              "    }\n",
              "    80% {\n",
              "      border-color: transparent;\n",
              "      border-right-color: var(--fill-color);\n",
              "      border-bottom-color: var(--fill-color);\n",
              "    }\n",
              "    90% {\n",
              "      border-color: transparent;\n",
              "      border-bottom-color: var(--fill-color);\n",
              "    }\n",
              "  }\n",
              "</style>\n",
              "\n",
              "  <script>\n",
              "    async function quickchart(key) {\n",
              "      const quickchartButtonEl =\n",
              "        document.querySelector('#' + key + ' button');\n",
              "      quickchartButtonEl.disabled = true;  // To prevent multiple clicks.\n",
              "      quickchartButtonEl.classList.add('colab-df-spinner');\n",
              "      try {\n",
              "        const charts = await google.colab.kernel.invokeFunction(\n",
              "            'suggestCharts', [key], {});\n",
              "      } catch (error) {\n",
              "        console.error('Error during call to suggestCharts:', error);\n",
              "      }\n",
              "      quickchartButtonEl.classList.remove('colab-df-spinner');\n",
              "      quickchartButtonEl.classList.add('colab-df-quickchart-complete');\n",
              "    }\n",
              "    (() => {\n",
              "      let quickchartButtonEl =\n",
              "        document.querySelector('#df-99438cef-303e-4803-bb26-a0aa0968e82a button');\n",
              "      quickchartButtonEl.style.display =\n",
              "        google.colab.kernel.accessAllowed ? 'block' : 'none';\n",
              "    })();\n",
              "  </script>\n",
              "</div>\n",
              "\n",
              "  <div id=\"id_c85f77c7-77c7-4d50-98c8-f16f6226a65b\">\n",
              "    <style>\n",
              "      .colab-df-generate {\n",
              "        background-color: #E8F0FE;\n",
              "        border: none;\n",
              "        border-radius: 50%;\n",
              "        cursor: pointer;\n",
              "        display: none;\n",
              "        fill: #1967D2;\n",
              "        height: 32px;\n",
              "        padding: 0 0 0 0;\n",
              "        width: 32px;\n",
              "      }\n",
              "\n",
              "      .colab-df-generate:hover {\n",
              "        background-color: #E2EBFA;\n",
              "        box-shadow: 0px 1px 2px rgba(60, 64, 67, 0.3), 0px 1px 3px 1px rgba(60, 64, 67, 0.15);\n",
              "        fill: #174EA6;\n",
              "      }\n",
              "\n",
              "      [theme=dark] .colab-df-generate {\n",
              "        background-color: #3B4455;\n",
              "        fill: #D2E3FC;\n",
              "      }\n",
              "\n",
              "      [theme=dark] .colab-df-generate:hover {\n",
              "        background-color: #434B5C;\n",
              "        box-shadow: 0px 1px 3px 1px rgba(0, 0, 0, 0.15);\n",
              "        filter: drop-shadow(0px 1px 2px rgba(0, 0, 0, 0.3));\n",
              "        fill: #FFFFFF;\n",
              "      }\n",
              "    </style>\n",
              "    <button class=\"colab-df-generate\" onclick=\"generateWithVariable('df_2021')\"\n",
              "            title=\"Generate code using this dataframe.\"\n",
              "            style=\"display:none;\">\n",
              "\n",
              "  <svg xmlns=\"http://www.w3.org/2000/svg\" height=\"24px\"viewBox=\"0 0 24 24\"\n",
              "       width=\"24px\">\n",
              "    <path d=\"M7,19H8.4L18.45,9,17,7.55,7,17.6ZM5,21V16.75L18.45,3.32a2,2,0,0,1,2.83,0l1.4,1.43a1.91,1.91,0,0,1,.58,1.4,1.91,1.91,0,0,1-.58,1.4L9.25,21ZM18.45,9,17,7.55Zm-12,3A5.31,5.31,0,0,0,4.9,8.1,5.31,5.31,0,0,0,1,6.5,5.31,5.31,0,0,0,4.9,4.9,5.31,5.31,0,0,0,6.5,1,5.31,5.31,0,0,0,8.1,4.9,5.31,5.31,0,0,0,12,6.5,5.46,5.46,0,0,0,6.5,12Z\"/>\n",
              "  </svg>\n",
              "    </button>\n",
              "    <script>\n",
              "      (() => {\n",
              "      const buttonEl =\n",
              "        document.querySelector('#id_c85f77c7-77c7-4d50-98c8-f16f6226a65b button.colab-df-generate');\n",
              "      buttonEl.style.display =\n",
              "        google.colab.kernel.accessAllowed ? 'block' : 'none';\n",
              "\n",
              "      buttonEl.onclick = () => {\n",
              "        google.colab.notebook.generateWithVariable('df_2021');\n",
              "      }\n",
              "      })();\n",
              "    </script>\n",
              "  </div>\n",
              "\n",
              "    </div>\n",
              "  </div>\n"
            ],
            "application/vnd.google.colaboratory.intrinsic+json": {
              "type": "dataframe",
              "variable_name": "df_2021",
              "summary": "{\n  \"name\": \"df_2021\",\n  \"rows\": 5,\n  \"fields\": [\n    {\n      \"column\": \"\\ud654\\uc7ac\\ubc1c\\uc0dd\\uc5f0\\ub3c4\",\n      \"properties\": {\n        \"dtype\": \"number\",\n        \"std\": 0,\n        \"min\": 2021,\n        \"max\": 2021,\n        \"num_unique_values\": 1,\n        \"samples\": [\n          2021\n        ],\n        \"semantic_type\": \"\",\n        \"description\": \"\"\n      }\n    },\n    {\n      \"column\": \"\\uc2dc\\uad70\\uad6c\",\n      \"properties\": {\n        \"dtype\": \"string\",\n        \"num_unique_values\": 5,\n        \"samples\": [\n          \"\\uac15\\ub3d9\\uad6c\"\n        ],\n        \"semantic_type\": \"\",\n        \"description\": \"\"\n      }\n    },\n    {\n      \"column\": \"\\uc0ac\\ub9dd\\uc790\\uc218\",\n      \"properties\": {\n        \"dtype\": \"number\",\n        \"std\": 1.5165750888103102,\n        \"min\": 1.0,\n        \"max\": 5.0,\n        \"num_unique_values\": 3,\n        \"samples\": [\n          2.0\n        ],\n        \"semantic_type\": \"\",\n        \"description\": \"\"\n      }\n    },\n    {\n      \"column\": \"\\uc7ac\\uc0b0\\ud53c\\ud574\\uae08\\uc561\",\n      \"properties\": {\n        \"dtype\": \"number\",\n        \"std\": 406887,\n        \"min\": 346741,\n        \"max\": 1354949,\n        \"num_unique_values\": 5,\n        \"samples\": [\n          346741\n        ],\n        \"semantic_type\": \"\",\n        \"description\": \"\"\n      }\n    },\n    {\n      \"column\": \"\\ucd9c\\ub3d9\\ud69f\\uc218\",\n      \"properties\": {\n        \"dtype\": \"number\",\n        \"std\": 90,\n        \"min\": 146,\n        \"max\": 391,\n        \"num_unique_values\": 5,\n        \"samples\": [\n          211\n        ],\n        \"semantic_type\": \"\",\n        \"description\": \"\"\n      }\n    }\n  ]\n}"
            }
          },
          "metadata": {},
          "execution_count": 144
        }
      ],
      "source": [
        "df_2021 = df[df['화재발생연도']==2021]\n",
        "df_2021"
      ]
    },
    {
      "cell_type": "markdown",
      "metadata": {
        "id": "f10e4693"
      },
      "source": [
        "- `describe` method로 자료를 요약한다. 이 때 표현방식을 바꾸고싶다면 위의 과정을 동일하게 거치면 된다."
      ]
    },
    {
      "cell_type": "code",
      "execution_count": null,
      "metadata": {
        "colab": {
          "base_uri": "https://localhost:8080/",
          "height": 300
        },
        "id": "a7df4fc7",
        "outputId": "4d9f2844-498e-424e-c656-4496b7eff38d"
      },
      "outputs": [
        {
          "output_type": "execute_result",
          "data": {
            "text/plain": [
              "       화재발생연도      사망자수        재산피해금액       출동횟수\n",
              "count     5.0  5.000000  5.000000e+00    5.00000\n",
              "mean   2021.0  2.400000  6.467606e+05  246.00000\n",
              "std       0.0  1.516575  4.068877e+05   90.75792\n",
              "min    2021.0  1.000000  3.467410e+05  146.00000\n",
              "25%    2021.0  2.000000  4.102050e+05  211.00000\n",
              "50%    2021.0  2.000000  5.596140e+05  223.00000\n",
              "75%    2021.0  2.000000  5.622940e+05  259.00000\n",
              "max    2021.0  5.000000  1.354949e+06  391.00000"
            ],
            "text/html": [
              "\n",
              "  <div id=\"df-0f6933ae-dbe0-4101-bffc-1161f2004e89\" class=\"colab-df-container\">\n",
              "    <div>\n",
              "<style scoped>\n",
              "    .dataframe tbody tr th:only-of-type {\n",
              "        vertical-align: middle;\n",
              "    }\n",
              "\n",
              "    .dataframe tbody tr th {\n",
              "        vertical-align: top;\n",
              "    }\n",
              "\n",
              "    .dataframe thead th {\n",
              "        text-align: right;\n",
              "    }\n",
              "</style>\n",
              "<table border=\"1\" class=\"dataframe\">\n",
              "  <thead>\n",
              "    <tr style=\"text-align: right;\">\n",
              "      <th></th>\n",
              "      <th>화재발생연도</th>\n",
              "      <th>사망자수</th>\n",
              "      <th>재산피해금액</th>\n",
              "      <th>출동횟수</th>\n",
              "    </tr>\n",
              "  </thead>\n",
              "  <tbody>\n",
              "    <tr>\n",
              "      <th>count</th>\n",
              "      <td>5.0</td>\n",
              "      <td>5.000000</td>\n",
              "      <td>5.000000e+00</td>\n",
              "      <td>5.00000</td>\n",
              "    </tr>\n",
              "    <tr>\n",
              "      <th>mean</th>\n",
              "      <td>2021.0</td>\n",
              "      <td>2.400000</td>\n",
              "      <td>6.467606e+05</td>\n",
              "      <td>246.00000</td>\n",
              "    </tr>\n",
              "    <tr>\n",
              "      <th>std</th>\n",
              "      <td>0.0</td>\n",
              "      <td>1.516575</td>\n",
              "      <td>4.068877e+05</td>\n",
              "      <td>90.75792</td>\n",
              "    </tr>\n",
              "    <tr>\n",
              "      <th>min</th>\n",
              "      <td>2021.0</td>\n",
              "      <td>1.000000</td>\n",
              "      <td>3.467410e+05</td>\n",
              "      <td>146.00000</td>\n",
              "    </tr>\n",
              "    <tr>\n",
              "      <th>25%</th>\n",
              "      <td>2021.0</td>\n",
              "      <td>2.000000</td>\n",
              "      <td>4.102050e+05</td>\n",
              "      <td>211.00000</td>\n",
              "    </tr>\n",
              "    <tr>\n",
              "      <th>50%</th>\n",
              "      <td>2021.0</td>\n",
              "      <td>2.000000</td>\n",
              "      <td>5.596140e+05</td>\n",
              "      <td>223.00000</td>\n",
              "    </tr>\n",
              "    <tr>\n",
              "      <th>75%</th>\n",
              "      <td>2021.0</td>\n",
              "      <td>2.000000</td>\n",
              "      <td>5.622940e+05</td>\n",
              "      <td>259.00000</td>\n",
              "    </tr>\n",
              "    <tr>\n",
              "      <th>max</th>\n",
              "      <td>2021.0</td>\n",
              "      <td>5.000000</td>\n",
              "      <td>1.354949e+06</td>\n",
              "      <td>391.00000</td>\n",
              "    </tr>\n",
              "  </tbody>\n",
              "</table>\n",
              "</div>\n",
              "    <div class=\"colab-df-buttons\">\n",
              "\n",
              "  <div class=\"colab-df-container\">\n",
              "    <button class=\"colab-df-convert\" onclick=\"convertToInteractive('df-0f6933ae-dbe0-4101-bffc-1161f2004e89')\"\n",
              "            title=\"Convert this dataframe to an interactive table.\"\n",
              "            style=\"display:none;\">\n",
              "\n",
              "  <svg xmlns=\"http://www.w3.org/2000/svg\" height=\"24px\" viewBox=\"0 -960 960 960\">\n",
              "    <path d=\"M120-120v-720h720v720H120Zm60-500h600v-160H180v160Zm220 220h160v-160H400v160Zm0 220h160v-160H400v160ZM180-400h160v-160H180v160Zm440 0h160v-160H620v160ZM180-180h160v-160H180v160Zm440 0h160v-160H620v160Z\"/>\n",
              "  </svg>\n",
              "    </button>\n",
              "\n",
              "  <style>\n",
              "    .colab-df-container {\n",
              "      display:flex;\n",
              "      gap: 12px;\n",
              "    }\n",
              "\n",
              "    .colab-df-convert {\n",
              "      background-color: #E8F0FE;\n",
              "      border: none;\n",
              "      border-radius: 50%;\n",
              "      cursor: pointer;\n",
              "      display: none;\n",
              "      fill: #1967D2;\n",
              "      height: 32px;\n",
              "      padding: 0 0 0 0;\n",
              "      width: 32px;\n",
              "    }\n",
              "\n",
              "    .colab-df-convert:hover {\n",
              "      background-color: #E2EBFA;\n",
              "      box-shadow: 0px 1px 2px rgba(60, 64, 67, 0.3), 0px 1px 3px 1px rgba(60, 64, 67, 0.15);\n",
              "      fill: #174EA6;\n",
              "    }\n",
              "\n",
              "    .colab-df-buttons div {\n",
              "      margin-bottom: 4px;\n",
              "    }\n",
              "\n",
              "    [theme=dark] .colab-df-convert {\n",
              "      background-color: #3B4455;\n",
              "      fill: #D2E3FC;\n",
              "    }\n",
              "\n",
              "    [theme=dark] .colab-df-convert:hover {\n",
              "      background-color: #434B5C;\n",
              "      box-shadow: 0px 1px 3px 1px rgba(0, 0, 0, 0.15);\n",
              "      filter: drop-shadow(0px 1px 2px rgba(0, 0, 0, 0.3));\n",
              "      fill: #FFFFFF;\n",
              "    }\n",
              "  </style>\n",
              "\n",
              "    <script>\n",
              "      const buttonEl =\n",
              "        document.querySelector('#df-0f6933ae-dbe0-4101-bffc-1161f2004e89 button.colab-df-convert');\n",
              "      buttonEl.style.display =\n",
              "        google.colab.kernel.accessAllowed ? 'block' : 'none';\n",
              "\n",
              "      async function convertToInteractive(key) {\n",
              "        const element = document.querySelector('#df-0f6933ae-dbe0-4101-bffc-1161f2004e89');\n",
              "        const dataTable =\n",
              "          await google.colab.kernel.invokeFunction('convertToInteractive',\n",
              "                                                    [key], {});\n",
              "        if (!dataTable) return;\n",
              "\n",
              "        const docLinkHtml = 'Like what you see? Visit the ' +\n",
              "          '<a target=\"_blank\" href=https://colab.research.google.com/notebooks/data_table.ipynb>data table notebook</a>'\n",
              "          + ' to learn more about interactive tables.';\n",
              "        element.innerHTML = '';\n",
              "        dataTable['output_type'] = 'display_data';\n",
              "        await google.colab.output.renderOutput(dataTable, element);\n",
              "        const docLink = document.createElement('div');\n",
              "        docLink.innerHTML = docLinkHtml;\n",
              "        element.appendChild(docLink);\n",
              "      }\n",
              "    </script>\n",
              "  </div>\n",
              "\n",
              "\n",
              "<div id=\"df-c594d2e2-6814-4064-9c5d-c7457042d24a\">\n",
              "  <button class=\"colab-df-quickchart\" onclick=\"quickchart('df-c594d2e2-6814-4064-9c5d-c7457042d24a')\"\n",
              "            title=\"Suggest charts\"\n",
              "            style=\"display:none;\">\n",
              "\n",
              "<svg xmlns=\"http://www.w3.org/2000/svg\" height=\"24px\"viewBox=\"0 0 24 24\"\n",
              "     width=\"24px\">\n",
              "    <g>\n",
              "        <path d=\"M19 3H5c-1.1 0-2 .9-2 2v14c0 1.1.9 2 2 2h14c1.1 0 2-.9 2-2V5c0-1.1-.9-2-2-2zM9 17H7v-7h2v7zm4 0h-2V7h2v10zm4 0h-2v-4h2v4z\"/>\n",
              "    </g>\n",
              "</svg>\n",
              "  </button>\n",
              "\n",
              "<style>\n",
              "  .colab-df-quickchart {\n",
              "      --bg-color: #E8F0FE;\n",
              "      --fill-color: #1967D2;\n",
              "      --hover-bg-color: #E2EBFA;\n",
              "      --hover-fill-color: #174EA6;\n",
              "      --disabled-fill-color: #AAA;\n",
              "      --disabled-bg-color: #DDD;\n",
              "  }\n",
              "\n",
              "  [theme=dark] .colab-df-quickchart {\n",
              "      --bg-color: #3B4455;\n",
              "      --fill-color: #D2E3FC;\n",
              "      --hover-bg-color: #434B5C;\n",
              "      --hover-fill-color: #FFFFFF;\n",
              "      --disabled-bg-color: #3B4455;\n",
              "      --disabled-fill-color: #666;\n",
              "  }\n",
              "\n",
              "  .colab-df-quickchart {\n",
              "    background-color: var(--bg-color);\n",
              "    border: none;\n",
              "    border-radius: 50%;\n",
              "    cursor: pointer;\n",
              "    display: none;\n",
              "    fill: var(--fill-color);\n",
              "    height: 32px;\n",
              "    padding: 0;\n",
              "    width: 32px;\n",
              "  }\n",
              "\n",
              "  .colab-df-quickchart:hover {\n",
              "    background-color: var(--hover-bg-color);\n",
              "    box-shadow: 0 1px 2px rgba(60, 64, 67, 0.3), 0 1px 3px 1px rgba(60, 64, 67, 0.15);\n",
              "    fill: var(--button-hover-fill-color);\n",
              "  }\n",
              "\n",
              "  .colab-df-quickchart-complete:disabled,\n",
              "  .colab-df-quickchart-complete:disabled:hover {\n",
              "    background-color: var(--disabled-bg-color);\n",
              "    fill: var(--disabled-fill-color);\n",
              "    box-shadow: none;\n",
              "  }\n",
              "\n",
              "  .colab-df-spinner {\n",
              "    border: 2px solid var(--fill-color);\n",
              "    border-color: transparent;\n",
              "    border-bottom-color: var(--fill-color);\n",
              "    animation:\n",
              "      spin 1s steps(1) infinite;\n",
              "  }\n",
              "\n",
              "  @keyframes spin {\n",
              "    0% {\n",
              "      border-color: transparent;\n",
              "      border-bottom-color: var(--fill-color);\n",
              "      border-left-color: var(--fill-color);\n",
              "    }\n",
              "    20% {\n",
              "      border-color: transparent;\n",
              "      border-left-color: var(--fill-color);\n",
              "      border-top-color: var(--fill-color);\n",
              "    }\n",
              "    30% {\n",
              "      border-color: transparent;\n",
              "      border-left-color: var(--fill-color);\n",
              "      border-top-color: var(--fill-color);\n",
              "      border-right-color: var(--fill-color);\n",
              "    }\n",
              "    40% {\n",
              "      border-color: transparent;\n",
              "      border-right-color: var(--fill-color);\n",
              "      border-top-color: var(--fill-color);\n",
              "    }\n",
              "    60% {\n",
              "      border-color: transparent;\n",
              "      border-right-color: var(--fill-color);\n",
              "    }\n",
              "    80% {\n",
              "      border-color: transparent;\n",
              "      border-right-color: var(--fill-color);\n",
              "      border-bottom-color: var(--fill-color);\n",
              "    }\n",
              "    90% {\n",
              "      border-color: transparent;\n",
              "      border-bottom-color: var(--fill-color);\n",
              "    }\n",
              "  }\n",
              "</style>\n",
              "\n",
              "  <script>\n",
              "    async function quickchart(key) {\n",
              "      const quickchartButtonEl =\n",
              "        document.querySelector('#' + key + ' button');\n",
              "      quickchartButtonEl.disabled = true;  // To prevent multiple clicks.\n",
              "      quickchartButtonEl.classList.add('colab-df-spinner');\n",
              "      try {\n",
              "        const charts = await google.colab.kernel.invokeFunction(\n",
              "            'suggestCharts', [key], {});\n",
              "      } catch (error) {\n",
              "        console.error('Error during call to suggestCharts:', error);\n",
              "      }\n",
              "      quickchartButtonEl.classList.remove('colab-df-spinner');\n",
              "      quickchartButtonEl.classList.add('colab-df-quickchart-complete');\n",
              "    }\n",
              "    (() => {\n",
              "      let quickchartButtonEl =\n",
              "        document.querySelector('#df-c594d2e2-6814-4064-9c5d-c7457042d24a button');\n",
              "      quickchartButtonEl.style.display =\n",
              "        google.colab.kernel.accessAllowed ? 'block' : 'none';\n",
              "    })();\n",
              "  </script>\n",
              "</div>\n",
              "\n",
              "    </div>\n",
              "  </div>\n"
            ],
            "application/vnd.google.colaboratory.intrinsic+json": {
              "type": "dataframe",
              "summary": "{\n  \"name\": \"df_2021\",\n  \"rows\": 8,\n  \"fields\": [\n    {\n      \"column\": \"\\ud654\\uc7ac\\ubc1c\\uc0dd\\uc5f0\\ub3c4\",\n      \"properties\": {\n        \"dtype\": \"number\",\n        \"std\": 934.3848912519936,\n        \"min\": 0.0,\n        \"max\": 2021.0,\n        \"num_unique_values\": 3,\n        \"samples\": [\n          5.0,\n          2021.0,\n          0.0\n        ],\n        \"semantic_type\": \"\",\n        \"description\": \"\"\n      }\n    },\n    {\n      \"column\": \"\\uc0ac\\ub9dd\\uc790\\uc218\",\n      \"properties\": {\n        \"dtype\": \"number\",\n        \"std\": 1.52933742979809,\n        \"min\": 1.0,\n        \"max\": 5.0,\n        \"num_unique_values\": 5,\n        \"samples\": [\n          2.4,\n          2.0,\n          1.5165750888103102\n        ],\n        \"semantic_type\": \"\",\n        \"description\": \"\"\n      }\n    },\n    {\n      \"column\": \"\\uc7ac\\uc0b0\\ud53c\\ud574\\uae08\\uc561\",\n      \"properties\": {\n        \"dtype\": \"number\",\n        \"std\": 385412.2694466154,\n        \"min\": 5.0,\n        \"max\": 1354949.0,\n        \"num_unique_values\": 8,\n        \"samples\": [\n          646760.6,\n          559614.0,\n          5.0\n        ],\n        \"semantic_type\": \"\",\n        \"description\": \"\"\n      }\n    },\n    {\n      \"column\": \"\\ucd9c\\ub3d9\\ud69f\\uc218\",\n      \"properties\": {\n        \"dtype\": \"number\",\n        \"std\": 116.80455605543567,\n        \"min\": 5.0,\n        \"max\": 391.0,\n        \"num_unique_values\": 8,\n        \"samples\": [\n          246.0,\n          223.0,\n          5.0\n        ],\n        \"semantic_type\": \"\",\n        \"description\": \"\"\n      }\n    }\n  ]\n}"
            }
          },
          "metadata": {},
          "execution_count": 145
        }
      ],
      "source": [
        "df_2021.describe()"
      ]
    },
    {
      "cell_type": "markdown",
      "metadata": {
        "id": "490f09ff"
      },
      "source": [
        "- 2021년 중에 출동 횟수가 많은 지역구대로 정렬 해보자.\n",
        "\n",
        "- 정렬하기 위해서는 `sort_values()` method를 사용한다. 기본적으로 오름차순 정렬한다."
      ]
    },
    {
      "cell_type": "code",
      "execution_count": null,
      "metadata": {
        "colab": {
          "base_uri": "https://localhost:8080/",
          "height": 206
        },
        "id": "9c0a76db",
        "outputId": "14e76533-ac90-4c08-c47d-242593ae281e"
      },
      "outputs": [
        {
          "output_type": "execute_result",
          "data": {
            "text/plain": [
              "    화재발생연도  시군구  사망자수   재산피해금액  출동횟수\n",
              "22    2021  강북구   5.0   410205   146\n",
              "21    2021  강동구   1.0   346741   211\n",
              "23    2021  강서구   2.0   559614   223\n",
              "24    2021  관악구   2.0   562294   259\n",
              "20    2021  강남구   2.0  1354949   391"
            ],
            "text/html": [
              "\n",
              "  <div id=\"df-6e35d96a-54e4-45a1-bfb0-aa3923ce0532\" class=\"colab-df-container\">\n",
              "    <div>\n",
              "<style scoped>\n",
              "    .dataframe tbody tr th:only-of-type {\n",
              "        vertical-align: middle;\n",
              "    }\n",
              "\n",
              "    .dataframe tbody tr th {\n",
              "        vertical-align: top;\n",
              "    }\n",
              "\n",
              "    .dataframe thead th {\n",
              "        text-align: right;\n",
              "    }\n",
              "</style>\n",
              "<table border=\"1\" class=\"dataframe\">\n",
              "  <thead>\n",
              "    <tr style=\"text-align: right;\">\n",
              "      <th></th>\n",
              "      <th>화재발생연도</th>\n",
              "      <th>시군구</th>\n",
              "      <th>사망자수</th>\n",
              "      <th>재산피해금액</th>\n",
              "      <th>출동횟수</th>\n",
              "    </tr>\n",
              "  </thead>\n",
              "  <tbody>\n",
              "    <tr>\n",
              "      <th>22</th>\n",
              "      <td>2021</td>\n",
              "      <td>강북구</td>\n",
              "      <td>5.0</td>\n",
              "      <td>410205</td>\n",
              "      <td>146</td>\n",
              "    </tr>\n",
              "    <tr>\n",
              "      <th>21</th>\n",
              "      <td>2021</td>\n",
              "      <td>강동구</td>\n",
              "      <td>1.0</td>\n",
              "      <td>346741</td>\n",
              "      <td>211</td>\n",
              "    </tr>\n",
              "    <tr>\n",
              "      <th>23</th>\n",
              "      <td>2021</td>\n",
              "      <td>강서구</td>\n",
              "      <td>2.0</td>\n",
              "      <td>559614</td>\n",
              "      <td>223</td>\n",
              "    </tr>\n",
              "    <tr>\n",
              "      <th>24</th>\n",
              "      <td>2021</td>\n",
              "      <td>관악구</td>\n",
              "      <td>2.0</td>\n",
              "      <td>562294</td>\n",
              "      <td>259</td>\n",
              "    </tr>\n",
              "    <tr>\n",
              "      <th>20</th>\n",
              "      <td>2021</td>\n",
              "      <td>강남구</td>\n",
              "      <td>2.0</td>\n",
              "      <td>1354949</td>\n",
              "      <td>391</td>\n",
              "    </tr>\n",
              "  </tbody>\n",
              "</table>\n",
              "</div>\n",
              "    <div class=\"colab-df-buttons\">\n",
              "\n",
              "  <div class=\"colab-df-container\">\n",
              "    <button class=\"colab-df-convert\" onclick=\"convertToInteractive('df-6e35d96a-54e4-45a1-bfb0-aa3923ce0532')\"\n",
              "            title=\"Convert this dataframe to an interactive table.\"\n",
              "            style=\"display:none;\">\n",
              "\n",
              "  <svg xmlns=\"http://www.w3.org/2000/svg\" height=\"24px\" viewBox=\"0 -960 960 960\">\n",
              "    <path d=\"M120-120v-720h720v720H120Zm60-500h600v-160H180v160Zm220 220h160v-160H400v160Zm0 220h160v-160H400v160ZM180-400h160v-160H180v160Zm440 0h160v-160H620v160ZM180-180h160v-160H180v160Zm440 0h160v-160H620v160Z\"/>\n",
              "  </svg>\n",
              "    </button>\n",
              "\n",
              "  <style>\n",
              "    .colab-df-container {\n",
              "      display:flex;\n",
              "      gap: 12px;\n",
              "    }\n",
              "\n",
              "    .colab-df-convert {\n",
              "      background-color: #E8F0FE;\n",
              "      border: none;\n",
              "      border-radius: 50%;\n",
              "      cursor: pointer;\n",
              "      display: none;\n",
              "      fill: #1967D2;\n",
              "      height: 32px;\n",
              "      padding: 0 0 0 0;\n",
              "      width: 32px;\n",
              "    }\n",
              "\n",
              "    .colab-df-convert:hover {\n",
              "      background-color: #E2EBFA;\n",
              "      box-shadow: 0px 1px 2px rgba(60, 64, 67, 0.3), 0px 1px 3px 1px rgba(60, 64, 67, 0.15);\n",
              "      fill: #174EA6;\n",
              "    }\n",
              "\n",
              "    .colab-df-buttons div {\n",
              "      margin-bottom: 4px;\n",
              "    }\n",
              "\n",
              "    [theme=dark] .colab-df-convert {\n",
              "      background-color: #3B4455;\n",
              "      fill: #D2E3FC;\n",
              "    }\n",
              "\n",
              "    [theme=dark] .colab-df-convert:hover {\n",
              "      background-color: #434B5C;\n",
              "      box-shadow: 0px 1px 3px 1px rgba(0, 0, 0, 0.15);\n",
              "      filter: drop-shadow(0px 1px 2px rgba(0, 0, 0, 0.3));\n",
              "      fill: #FFFFFF;\n",
              "    }\n",
              "  </style>\n",
              "\n",
              "    <script>\n",
              "      const buttonEl =\n",
              "        document.querySelector('#df-6e35d96a-54e4-45a1-bfb0-aa3923ce0532 button.colab-df-convert');\n",
              "      buttonEl.style.display =\n",
              "        google.colab.kernel.accessAllowed ? 'block' : 'none';\n",
              "\n",
              "      async function convertToInteractive(key) {\n",
              "        const element = document.querySelector('#df-6e35d96a-54e4-45a1-bfb0-aa3923ce0532');\n",
              "        const dataTable =\n",
              "          await google.colab.kernel.invokeFunction('convertToInteractive',\n",
              "                                                    [key], {});\n",
              "        if (!dataTable) return;\n",
              "\n",
              "        const docLinkHtml = 'Like what you see? Visit the ' +\n",
              "          '<a target=\"_blank\" href=https://colab.research.google.com/notebooks/data_table.ipynb>data table notebook</a>'\n",
              "          + ' to learn more about interactive tables.';\n",
              "        element.innerHTML = '';\n",
              "        dataTable['output_type'] = 'display_data';\n",
              "        await google.colab.output.renderOutput(dataTable, element);\n",
              "        const docLink = document.createElement('div');\n",
              "        docLink.innerHTML = docLinkHtml;\n",
              "        element.appendChild(docLink);\n",
              "      }\n",
              "    </script>\n",
              "  </div>\n",
              "\n",
              "\n",
              "<div id=\"df-90120c1f-d8cc-42bc-b4c2-2e0a13fd1ed8\">\n",
              "  <button class=\"colab-df-quickchart\" onclick=\"quickchart('df-90120c1f-d8cc-42bc-b4c2-2e0a13fd1ed8')\"\n",
              "            title=\"Suggest charts\"\n",
              "            style=\"display:none;\">\n",
              "\n",
              "<svg xmlns=\"http://www.w3.org/2000/svg\" height=\"24px\"viewBox=\"0 0 24 24\"\n",
              "     width=\"24px\">\n",
              "    <g>\n",
              "        <path d=\"M19 3H5c-1.1 0-2 .9-2 2v14c0 1.1.9 2 2 2h14c1.1 0 2-.9 2-2V5c0-1.1-.9-2-2-2zM9 17H7v-7h2v7zm4 0h-2V7h2v10zm4 0h-2v-4h2v4z\"/>\n",
              "    </g>\n",
              "</svg>\n",
              "  </button>\n",
              "\n",
              "<style>\n",
              "  .colab-df-quickchart {\n",
              "      --bg-color: #E8F0FE;\n",
              "      --fill-color: #1967D2;\n",
              "      --hover-bg-color: #E2EBFA;\n",
              "      --hover-fill-color: #174EA6;\n",
              "      --disabled-fill-color: #AAA;\n",
              "      --disabled-bg-color: #DDD;\n",
              "  }\n",
              "\n",
              "  [theme=dark] .colab-df-quickchart {\n",
              "      --bg-color: #3B4455;\n",
              "      --fill-color: #D2E3FC;\n",
              "      --hover-bg-color: #434B5C;\n",
              "      --hover-fill-color: #FFFFFF;\n",
              "      --disabled-bg-color: #3B4455;\n",
              "      --disabled-fill-color: #666;\n",
              "  }\n",
              "\n",
              "  .colab-df-quickchart {\n",
              "    background-color: var(--bg-color);\n",
              "    border: none;\n",
              "    border-radius: 50%;\n",
              "    cursor: pointer;\n",
              "    display: none;\n",
              "    fill: var(--fill-color);\n",
              "    height: 32px;\n",
              "    padding: 0;\n",
              "    width: 32px;\n",
              "  }\n",
              "\n",
              "  .colab-df-quickchart:hover {\n",
              "    background-color: var(--hover-bg-color);\n",
              "    box-shadow: 0 1px 2px rgba(60, 64, 67, 0.3), 0 1px 3px 1px rgba(60, 64, 67, 0.15);\n",
              "    fill: var(--button-hover-fill-color);\n",
              "  }\n",
              "\n",
              "  .colab-df-quickchart-complete:disabled,\n",
              "  .colab-df-quickchart-complete:disabled:hover {\n",
              "    background-color: var(--disabled-bg-color);\n",
              "    fill: var(--disabled-fill-color);\n",
              "    box-shadow: none;\n",
              "  }\n",
              "\n",
              "  .colab-df-spinner {\n",
              "    border: 2px solid var(--fill-color);\n",
              "    border-color: transparent;\n",
              "    border-bottom-color: var(--fill-color);\n",
              "    animation:\n",
              "      spin 1s steps(1) infinite;\n",
              "  }\n",
              "\n",
              "  @keyframes spin {\n",
              "    0% {\n",
              "      border-color: transparent;\n",
              "      border-bottom-color: var(--fill-color);\n",
              "      border-left-color: var(--fill-color);\n",
              "    }\n",
              "    20% {\n",
              "      border-color: transparent;\n",
              "      border-left-color: var(--fill-color);\n",
              "      border-top-color: var(--fill-color);\n",
              "    }\n",
              "    30% {\n",
              "      border-color: transparent;\n",
              "      border-left-color: var(--fill-color);\n",
              "      border-top-color: var(--fill-color);\n",
              "      border-right-color: var(--fill-color);\n",
              "    }\n",
              "    40% {\n",
              "      border-color: transparent;\n",
              "      border-right-color: var(--fill-color);\n",
              "      border-top-color: var(--fill-color);\n",
              "    }\n",
              "    60% {\n",
              "      border-color: transparent;\n",
              "      border-right-color: var(--fill-color);\n",
              "    }\n",
              "    80% {\n",
              "      border-color: transparent;\n",
              "      border-right-color: var(--fill-color);\n",
              "      border-bottom-color: var(--fill-color);\n",
              "    }\n",
              "    90% {\n",
              "      border-color: transparent;\n",
              "      border-bottom-color: var(--fill-color);\n",
              "    }\n",
              "  }\n",
              "</style>\n",
              "\n",
              "  <script>\n",
              "    async function quickchart(key) {\n",
              "      const quickchartButtonEl =\n",
              "        document.querySelector('#' + key + ' button');\n",
              "      quickchartButtonEl.disabled = true;  // To prevent multiple clicks.\n",
              "      quickchartButtonEl.classList.add('colab-df-spinner');\n",
              "      try {\n",
              "        const charts = await google.colab.kernel.invokeFunction(\n",
              "            'suggestCharts', [key], {});\n",
              "      } catch (error) {\n",
              "        console.error('Error during call to suggestCharts:', error);\n",
              "      }\n",
              "      quickchartButtonEl.classList.remove('colab-df-spinner');\n",
              "      quickchartButtonEl.classList.add('colab-df-quickchart-complete');\n",
              "    }\n",
              "    (() => {\n",
              "      let quickchartButtonEl =\n",
              "        document.querySelector('#df-90120c1f-d8cc-42bc-b4c2-2e0a13fd1ed8 button');\n",
              "      quickchartButtonEl.style.display =\n",
              "        google.colab.kernel.accessAllowed ? 'block' : 'none';\n",
              "    })();\n",
              "  </script>\n",
              "</div>\n",
              "\n",
              "    </div>\n",
              "  </div>\n"
            ],
            "application/vnd.google.colaboratory.intrinsic+json": {
              "type": "dataframe",
              "summary": "{\n  \"name\": \"df_2021\",\n  \"rows\": 5,\n  \"fields\": [\n    {\n      \"column\": \"\\ud654\\uc7ac\\ubc1c\\uc0dd\\uc5f0\\ub3c4\",\n      \"properties\": {\n        \"dtype\": \"number\",\n        \"std\": 0,\n        \"min\": 2021,\n        \"max\": 2021,\n        \"num_unique_values\": 1,\n        \"samples\": [\n          2021\n        ],\n        \"semantic_type\": \"\",\n        \"description\": \"\"\n      }\n    },\n    {\n      \"column\": \"\\uc2dc\\uad70\\uad6c\",\n      \"properties\": {\n        \"dtype\": \"string\",\n        \"num_unique_values\": 5,\n        \"samples\": [\n          \"\\uac15\\ub3d9\\uad6c\"\n        ],\n        \"semantic_type\": \"\",\n        \"description\": \"\"\n      }\n    },\n    {\n      \"column\": \"\\uc0ac\\ub9dd\\uc790\\uc218\",\n      \"properties\": {\n        \"dtype\": \"number\",\n        \"std\": 1.5165750888103102,\n        \"min\": 1.0,\n        \"max\": 5.0,\n        \"num_unique_values\": 3,\n        \"samples\": [\n          5.0\n        ],\n        \"semantic_type\": \"\",\n        \"description\": \"\"\n      }\n    },\n    {\n      \"column\": \"\\uc7ac\\uc0b0\\ud53c\\ud574\\uae08\\uc561\",\n      \"properties\": {\n        \"dtype\": \"number\",\n        \"std\": 406887,\n        \"min\": 346741,\n        \"max\": 1354949,\n        \"num_unique_values\": 5,\n        \"samples\": [\n          346741\n        ],\n        \"semantic_type\": \"\",\n        \"description\": \"\"\n      }\n    },\n    {\n      \"column\": \"\\ucd9c\\ub3d9\\ud69f\\uc218\",\n      \"properties\": {\n        \"dtype\": \"number\",\n        \"std\": 90,\n        \"min\": 146,\n        \"max\": 391,\n        \"num_unique_values\": 5,\n        \"samples\": [\n          211\n        ],\n        \"semantic_type\": \"\",\n        \"description\": \"\"\n      }\n    }\n  ]\n}"
            }
          },
          "metadata": {},
          "execution_count": 146
        }
      ],
      "source": [
        "df_2021.sort_values(by=\"출동횟수\")"
      ]
    },
    {
      "cell_type": "markdown",
      "metadata": {
        "id": "5ff1ca19"
      },
      "source": [
        "- `ascending=False` 옵션을 추가하면 출동 횟수가 많은 순으로 내림차순 정렬을 한다."
      ]
    },
    {
      "cell_type": "code",
      "execution_count": null,
      "metadata": {
        "colab": {
          "base_uri": "https://localhost:8080/",
          "height": 206
        },
        "id": "b05534e9",
        "outputId": "37a98f41-134f-4100-c7b4-c31c91d30dfd"
      },
      "outputs": [
        {
          "output_type": "execute_result",
          "data": {
            "text/plain": [
              "    화재발생연도  시군구  사망자수   재산피해금액  출동횟수\n",
              "20    2021  강남구   2.0  1354949   391\n",
              "24    2021  관악구   2.0   562294   259\n",
              "23    2021  강서구   2.0   559614   223\n",
              "21    2021  강동구   1.0   346741   211\n",
              "22    2021  강북구   5.0   410205   146"
            ],
            "text/html": [
              "\n",
              "  <div id=\"df-b5901dc7-7f29-4444-90f5-35601e021358\" class=\"colab-df-container\">\n",
              "    <div>\n",
              "<style scoped>\n",
              "    .dataframe tbody tr th:only-of-type {\n",
              "        vertical-align: middle;\n",
              "    }\n",
              "\n",
              "    .dataframe tbody tr th {\n",
              "        vertical-align: top;\n",
              "    }\n",
              "\n",
              "    .dataframe thead th {\n",
              "        text-align: right;\n",
              "    }\n",
              "</style>\n",
              "<table border=\"1\" class=\"dataframe\">\n",
              "  <thead>\n",
              "    <tr style=\"text-align: right;\">\n",
              "      <th></th>\n",
              "      <th>화재발생연도</th>\n",
              "      <th>시군구</th>\n",
              "      <th>사망자수</th>\n",
              "      <th>재산피해금액</th>\n",
              "      <th>출동횟수</th>\n",
              "    </tr>\n",
              "  </thead>\n",
              "  <tbody>\n",
              "    <tr>\n",
              "      <th>20</th>\n",
              "      <td>2021</td>\n",
              "      <td>강남구</td>\n",
              "      <td>2.0</td>\n",
              "      <td>1354949</td>\n",
              "      <td>391</td>\n",
              "    </tr>\n",
              "    <tr>\n",
              "      <th>24</th>\n",
              "      <td>2021</td>\n",
              "      <td>관악구</td>\n",
              "      <td>2.0</td>\n",
              "      <td>562294</td>\n",
              "      <td>259</td>\n",
              "    </tr>\n",
              "    <tr>\n",
              "      <th>23</th>\n",
              "      <td>2021</td>\n",
              "      <td>강서구</td>\n",
              "      <td>2.0</td>\n",
              "      <td>559614</td>\n",
              "      <td>223</td>\n",
              "    </tr>\n",
              "    <tr>\n",
              "      <th>21</th>\n",
              "      <td>2021</td>\n",
              "      <td>강동구</td>\n",
              "      <td>1.0</td>\n",
              "      <td>346741</td>\n",
              "      <td>211</td>\n",
              "    </tr>\n",
              "    <tr>\n",
              "      <th>22</th>\n",
              "      <td>2021</td>\n",
              "      <td>강북구</td>\n",
              "      <td>5.0</td>\n",
              "      <td>410205</td>\n",
              "      <td>146</td>\n",
              "    </tr>\n",
              "  </tbody>\n",
              "</table>\n",
              "</div>\n",
              "    <div class=\"colab-df-buttons\">\n",
              "\n",
              "  <div class=\"colab-df-container\">\n",
              "    <button class=\"colab-df-convert\" onclick=\"convertToInteractive('df-b5901dc7-7f29-4444-90f5-35601e021358')\"\n",
              "            title=\"Convert this dataframe to an interactive table.\"\n",
              "            style=\"display:none;\">\n",
              "\n",
              "  <svg xmlns=\"http://www.w3.org/2000/svg\" height=\"24px\" viewBox=\"0 -960 960 960\">\n",
              "    <path d=\"M120-120v-720h720v720H120Zm60-500h600v-160H180v160Zm220 220h160v-160H400v160Zm0 220h160v-160H400v160ZM180-400h160v-160H180v160Zm440 0h160v-160H620v160ZM180-180h160v-160H180v160Zm440 0h160v-160H620v160Z\"/>\n",
              "  </svg>\n",
              "    </button>\n",
              "\n",
              "  <style>\n",
              "    .colab-df-container {\n",
              "      display:flex;\n",
              "      gap: 12px;\n",
              "    }\n",
              "\n",
              "    .colab-df-convert {\n",
              "      background-color: #E8F0FE;\n",
              "      border: none;\n",
              "      border-radius: 50%;\n",
              "      cursor: pointer;\n",
              "      display: none;\n",
              "      fill: #1967D2;\n",
              "      height: 32px;\n",
              "      padding: 0 0 0 0;\n",
              "      width: 32px;\n",
              "    }\n",
              "\n",
              "    .colab-df-convert:hover {\n",
              "      background-color: #E2EBFA;\n",
              "      box-shadow: 0px 1px 2px rgba(60, 64, 67, 0.3), 0px 1px 3px 1px rgba(60, 64, 67, 0.15);\n",
              "      fill: #174EA6;\n",
              "    }\n",
              "\n",
              "    .colab-df-buttons div {\n",
              "      margin-bottom: 4px;\n",
              "    }\n",
              "\n",
              "    [theme=dark] .colab-df-convert {\n",
              "      background-color: #3B4455;\n",
              "      fill: #D2E3FC;\n",
              "    }\n",
              "\n",
              "    [theme=dark] .colab-df-convert:hover {\n",
              "      background-color: #434B5C;\n",
              "      box-shadow: 0px 1px 3px 1px rgba(0, 0, 0, 0.15);\n",
              "      filter: drop-shadow(0px 1px 2px rgba(0, 0, 0, 0.3));\n",
              "      fill: #FFFFFF;\n",
              "    }\n",
              "  </style>\n",
              "\n",
              "    <script>\n",
              "      const buttonEl =\n",
              "        document.querySelector('#df-b5901dc7-7f29-4444-90f5-35601e021358 button.colab-df-convert');\n",
              "      buttonEl.style.display =\n",
              "        google.colab.kernel.accessAllowed ? 'block' : 'none';\n",
              "\n",
              "      async function convertToInteractive(key) {\n",
              "        const element = document.querySelector('#df-b5901dc7-7f29-4444-90f5-35601e021358');\n",
              "        const dataTable =\n",
              "          await google.colab.kernel.invokeFunction('convertToInteractive',\n",
              "                                                    [key], {});\n",
              "        if (!dataTable) return;\n",
              "\n",
              "        const docLinkHtml = 'Like what you see? Visit the ' +\n",
              "          '<a target=\"_blank\" href=https://colab.research.google.com/notebooks/data_table.ipynb>data table notebook</a>'\n",
              "          + ' to learn more about interactive tables.';\n",
              "        element.innerHTML = '';\n",
              "        dataTable['output_type'] = 'display_data';\n",
              "        await google.colab.output.renderOutput(dataTable, element);\n",
              "        const docLink = document.createElement('div');\n",
              "        docLink.innerHTML = docLinkHtml;\n",
              "        element.appendChild(docLink);\n",
              "      }\n",
              "    </script>\n",
              "  </div>\n",
              "\n",
              "\n",
              "<div id=\"df-504ba1ba-b948-4f50-afbf-47d519f8b2e0\">\n",
              "  <button class=\"colab-df-quickchart\" onclick=\"quickchart('df-504ba1ba-b948-4f50-afbf-47d519f8b2e0')\"\n",
              "            title=\"Suggest charts\"\n",
              "            style=\"display:none;\">\n",
              "\n",
              "<svg xmlns=\"http://www.w3.org/2000/svg\" height=\"24px\"viewBox=\"0 0 24 24\"\n",
              "     width=\"24px\">\n",
              "    <g>\n",
              "        <path d=\"M19 3H5c-1.1 0-2 .9-2 2v14c0 1.1.9 2 2 2h14c1.1 0 2-.9 2-2V5c0-1.1-.9-2-2-2zM9 17H7v-7h2v7zm4 0h-2V7h2v10zm4 0h-2v-4h2v4z\"/>\n",
              "    </g>\n",
              "</svg>\n",
              "  </button>\n",
              "\n",
              "<style>\n",
              "  .colab-df-quickchart {\n",
              "      --bg-color: #E8F0FE;\n",
              "      --fill-color: #1967D2;\n",
              "      --hover-bg-color: #E2EBFA;\n",
              "      --hover-fill-color: #174EA6;\n",
              "      --disabled-fill-color: #AAA;\n",
              "      --disabled-bg-color: #DDD;\n",
              "  }\n",
              "\n",
              "  [theme=dark] .colab-df-quickchart {\n",
              "      --bg-color: #3B4455;\n",
              "      --fill-color: #D2E3FC;\n",
              "      --hover-bg-color: #434B5C;\n",
              "      --hover-fill-color: #FFFFFF;\n",
              "      --disabled-bg-color: #3B4455;\n",
              "      --disabled-fill-color: #666;\n",
              "  }\n",
              "\n",
              "  .colab-df-quickchart {\n",
              "    background-color: var(--bg-color);\n",
              "    border: none;\n",
              "    border-radius: 50%;\n",
              "    cursor: pointer;\n",
              "    display: none;\n",
              "    fill: var(--fill-color);\n",
              "    height: 32px;\n",
              "    padding: 0;\n",
              "    width: 32px;\n",
              "  }\n",
              "\n",
              "  .colab-df-quickchart:hover {\n",
              "    background-color: var(--hover-bg-color);\n",
              "    box-shadow: 0 1px 2px rgba(60, 64, 67, 0.3), 0 1px 3px 1px rgba(60, 64, 67, 0.15);\n",
              "    fill: var(--button-hover-fill-color);\n",
              "  }\n",
              "\n",
              "  .colab-df-quickchart-complete:disabled,\n",
              "  .colab-df-quickchart-complete:disabled:hover {\n",
              "    background-color: var(--disabled-bg-color);\n",
              "    fill: var(--disabled-fill-color);\n",
              "    box-shadow: none;\n",
              "  }\n",
              "\n",
              "  .colab-df-spinner {\n",
              "    border: 2px solid var(--fill-color);\n",
              "    border-color: transparent;\n",
              "    border-bottom-color: var(--fill-color);\n",
              "    animation:\n",
              "      spin 1s steps(1) infinite;\n",
              "  }\n",
              "\n",
              "  @keyframes spin {\n",
              "    0% {\n",
              "      border-color: transparent;\n",
              "      border-bottom-color: var(--fill-color);\n",
              "      border-left-color: var(--fill-color);\n",
              "    }\n",
              "    20% {\n",
              "      border-color: transparent;\n",
              "      border-left-color: var(--fill-color);\n",
              "      border-top-color: var(--fill-color);\n",
              "    }\n",
              "    30% {\n",
              "      border-color: transparent;\n",
              "      border-left-color: var(--fill-color);\n",
              "      border-top-color: var(--fill-color);\n",
              "      border-right-color: var(--fill-color);\n",
              "    }\n",
              "    40% {\n",
              "      border-color: transparent;\n",
              "      border-right-color: var(--fill-color);\n",
              "      border-top-color: var(--fill-color);\n",
              "    }\n",
              "    60% {\n",
              "      border-color: transparent;\n",
              "      border-right-color: var(--fill-color);\n",
              "    }\n",
              "    80% {\n",
              "      border-color: transparent;\n",
              "      border-right-color: var(--fill-color);\n",
              "      border-bottom-color: var(--fill-color);\n",
              "    }\n",
              "    90% {\n",
              "      border-color: transparent;\n",
              "      border-bottom-color: var(--fill-color);\n",
              "    }\n",
              "  }\n",
              "</style>\n",
              "\n",
              "  <script>\n",
              "    async function quickchart(key) {\n",
              "      const quickchartButtonEl =\n",
              "        document.querySelector('#' + key + ' button');\n",
              "      quickchartButtonEl.disabled = true;  // To prevent multiple clicks.\n",
              "      quickchartButtonEl.classList.add('colab-df-spinner');\n",
              "      try {\n",
              "        const charts = await google.colab.kernel.invokeFunction(\n",
              "            'suggestCharts', [key], {});\n",
              "      } catch (error) {\n",
              "        console.error('Error during call to suggestCharts:', error);\n",
              "      }\n",
              "      quickchartButtonEl.classList.remove('colab-df-spinner');\n",
              "      quickchartButtonEl.classList.add('colab-df-quickchart-complete');\n",
              "    }\n",
              "    (() => {\n",
              "      let quickchartButtonEl =\n",
              "        document.querySelector('#df-504ba1ba-b948-4f50-afbf-47d519f8b2e0 button');\n",
              "      quickchartButtonEl.style.display =\n",
              "        google.colab.kernel.accessAllowed ? 'block' : 'none';\n",
              "    })();\n",
              "  </script>\n",
              "</div>\n",
              "\n",
              "    </div>\n",
              "  </div>\n"
            ],
            "application/vnd.google.colaboratory.intrinsic+json": {
              "type": "dataframe",
              "summary": "{\n  \"name\": \"df_2021\",\n  \"rows\": 5,\n  \"fields\": [\n    {\n      \"column\": \"\\ud654\\uc7ac\\ubc1c\\uc0dd\\uc5f0\\ub3c4\",\n      \"properties\": {\n        \"dtype\": \"number\",\n        \"std\": 0,\n        \"min\": 2021,\n        \"max\": 2021,\n        \"num_unique_values\": 1,\n        \"samples\": [\n          2021\n        ],\n        \"semantic_type\": \"\",\n        \"description\": \"\"\n      }\n    },\n    {\n      \"column\": \"\\uc2dc\\uad70\\uad6c\",\n      \"properties\": {\n        \"dtype\": \"string\",\n        \"num_unique_values\": 5,\n        \"samples\": [\n          \"\\uad00\\uc545\\uad6c\"\n        ],\n        \"semantic_type\": \"\",\n        \"description\": \"\"\n      }\n    },\n    {\n      \"column\": \"\\uc0ac\\ub9dd\\uc790\\uc218\",\n      \"properties\": {\n        \"dtype\": \"number\",\n        \"std\": 1.51657508881031,\n        \"min\": 1.0,\n        \"max\": 5.0,\n        \"num_unique_values\": 3,\n        \"samples\": [\n          2.0\n        ],\n        \"semantic_type\": \"\",\n        \"description\": \"\"\n      }\n    },\n    {\n      \"column\": \"\\uc7ac\\uc0b0\\ud53c\\ud574\\uae08\\uc561\",\n      \"properties\": {\n        \"dtype\": \"number\",\n        \"std\": 406887,\n        \"min\": 346741,\n        \"max\": 1354949,\n        \"num_unique_values\": 5,\n        \"samples\": [\n          562294\n        ],\n        \"semantic_type\": \"\",\n        \"description\": \"\"\n      }\n    },\n    {\n      \"column\": \"\\ucd9c\\ub3d9\\ud69f\\uc218\",\n      \"properties\": {\n        \"dtype\": \"number\",\n        \"std\": 90,\n        \"min\": 146,\n        \"max\": 391,\n        \"num_unique_values\": 5,\n        \"samples\": [\n          259\n        ],\n        \"semantic_type\": \"\",\n        \"description\": \"\"\n      }\n    }\n  ]\n}"
            }
          },
          "metadata": {},
          "execution_count": 147
        }
      ],
      "source": [
        "df_2021.sort_values(by=\"출동횟수\", ascending=False)"
      ]
    },
    {
      "cell_type": "markdown",
      "metadata": {
        "id": "5033f5c2"
      },
      "source": [
        "## 시군구 통계\n",
        "- 강남구의 자료를 보자."
      ]
    },
    {
      "cell_type": "code",
      "execution_count": 3,
      "metadata": {
        "colab": {
          "base_uri": "https://localhost:8080/",
          "height": 206
        },
        "id": "df176d60",
        "outputId": "bba98e94-bcea-4f38-d989-722f837d14c9"
      },
      "outputs": [
        {
          "output_type": "execute_result",
          "data": {
            "text/plain": [
              "    화재발생연도  시군구  사망자수   재산피해금액  출동횟수\n",
              "0     2017  강남구   0.0  1565258   502\n",
              "5     2018  강남구   0.0  1624983   436\n",
              "10    2019  강남구   1.0  1677681   456\n",
              "15    2020  강남구   1.0  1451556   387\n",
              "20    2021  강남구   2.0  1354949   391"
            ],
            "text/html": [
              "\n",
              "  <div id=\"df-cf4cff8b-1663-487e-afa6-e8f7de93583b\" class=\"colab-df-container\">\n",
              "    <div>\n",
              "<style scoped>\n",
              "    .dataframe tbody tr th:only-of-type {\n",
              "        vertical-align: middle;\n",
              "    }\n",
              "\n",
              "    .dataframe tbody tr th {\n",
              "        vertical-align: top;\n",
              "    }\n",
              "\n",
              "    .dataframe thead th {\n",
              "        text-align: right;\n",
              "    }\n",
              "</style>\n",
              "<table border=\"1\" class=\"dataframe\">\n",
              "  <thead>\n",
              "    <tr style=\"text-align: right;\">\n",
              "      <th></th>\n",
              "      <th>화재발생연도</th>\n",
              "      <th>시군구</th>\n",
              "      <th>사망자수</th>\n",
              "      <th>재산피해금액</th>\n",
              "      <th>출동횟수</th>\n",
              "    </tr>\n",
              "  </thead>\n",
              "  <tbody>\n",
              "    <tr>\n",
              "      <th>0</th>\n",
              "      <td>2017</td>\n",
              "      <td>강남구</td>\n",
              "      <td>0.0</td>\n",
              "      <td>1565258</td>\n",
              "      <td>502</td>\n",
              "    </tr>\n",
              "    <tr>\n",
              "      <th>5</th>\n",
              "      <td>2018</td>\n",
              "      <td>강남구</td>\n",
              "      <td>0.0</td>\n",
              "      <td>1624983</td>\n",
              "      <td>436</td>\n",
              "    </tr>\n",
              "    <tr>\n",
              "      <th>10</th>\n",
              "      <td>2019</td>\n",
              "      <td>강남구</td>\n",
              "      <td>1.0</td>\n",
              "      <td>1677681</td>\n",
              "      <td>456</td>\n",
              "    </tr>\n",
              "    <tr>\n",
              "      <th>15</th>\n",
              "      <td>2020</td>\n",
              "      <td>강남구</td>\n",
              "      <td>1.0</td>\n",
              "      <td>1451556</td>\n",
              "      <td>387</td>\n",
              "    </tr>\n",
              "    <tr>\n",
              "      <th>20</th>\n",
              "      <td>2021</td>\n",
              "      <td>강남구</td>\n",
              "      <td>2.0</td>\n",
              "      <td>1354949</td>\n",
              "      <td>391</td>\n",
              "    </tr>\n",
              "  </tbody>\n",
              "</table>\n",
              "</div>\n",
              "    <div class=\"colab-df-buttons\">\n",
              "\n",
              "  <div class=\"colab-df-container\">\n",
              "    <button class=\"colab-df-convert\" onclick=\"convertToInteractive('df-cf4cff8b-1663-487e-afa6-e8f7de93583b')\"\n",
              "            title=\"Convert this dataframe to an interactive table.\"\n",
              "            style=\"display:none;\">\n",
              "\n",
              "  <svg xmlns=\"http://www.w3.org/2000/svg\" height=\"24px\" viewBox=\"0 -960 960 960\">\n",
              "    <path d=\"M120-120v-720h720v720H120Zm60-500h600v-160H180v160Zm220 220h160v-160H400v160Zm0 220h160v-160H400v160ZM180-400h160v-160H180v160Zm440 0h160v-160H620v160ZM180-180h160v-160H180v160Zm440 0h160v-160H620v160Z\"/>\n",
              "  </svg>\n",
              "    </button>\n",
              "\n",
              "  <style>\n",
              "    .colab-df-container {\n",
              "      display:flex;\n",
              "      gap: 12px;\n",
              "    }\n",
              "\n",
              "    .colab-df-convert {\n",
              "      background-color: #E8F0FE;\n",
              "      border: none;\n",
              "      border-radius: 50%;\n",
              "      cursor: pointer;\n",
              "      display: none;\n",
              "      fill: #1967D2;\n",
              "      height: 32px;\n",
              "      padding: 0 0 0 0;\n",
              "      width: 32px;\n",
              "    }\n",
              "\n",
              "    .colab-df-convert:hover {\n",
              "      background-color: #E2EBFA;\n",
              "      box-shadow: 0px 1px 2px rgba(60, 64, 67, 0.3), 0px 1px 3px 1px rgba(60, 64, 67, 0.15);\n",
              "      fill: #174EA6;\n",
              "    }\n",
              "\n",
              "    .colab-df-buttons div {\n",
              "      margin-bottom: 4px;\n",
              "    }\n",
              "\n",
              "    [theme=dark] .colab-df-convert {\n",
              "      background-color: #3B4455;\n",
              "      fill: #D2E3FC;\n",
              "    }\n",
              "\n",
              "    [theme=dark] .colab-df-convert:hover {\n",
              "      background-color: #434B5C;\n",
              "      box-shadow: 0px 1px 3px 1px rgba(0, 0, 0, 0.15);\n",
              "      filter: drop-shadow(0px 1px 2px rgba(0, 0, 0, 0.3));\n",
              "      fill: #FFFFFF;\n",
              "    }\n",
              "  </style>\n",
              "\n",
              "    <script>\n",
              "      const buttonEl =\n",
              "        document.querySelector('#df-cf4cff8b-1663-487e-afa6-e8f7de93583b button.colab-df-convert');\n",
              "      buttonEl.style.display =\n",
              "        google.colab.kernel.accessAllowed ? 'block' : 'none';\n",
              "\n",
              "      async function convertToInteractive(key) {\n",
              "        const element = document.querySelector('#df-cf4cff8b-1663-487e-afa6-e8f7de93583b');\n",
              "        const dataTable =\n",
              "          await google.colab.kernel.invokeFunction('convertToInteractive',\n",
              "                                                    [key], {});\n",
              "        if (!dataTable) return;\n",
              "\n",
              "        const docLinkHtml = 'Like what you see? Visit the ' +\n",
              "          '<a target=\"_blank\" href=https://colab.research.google.com/notebooks/data_table.ipynb>data table notebook</a>'\n",
              "          + ' to learn more about interactive tables.';\n",
              "        element.innerHTML = '';\n",
              "        dataTable['output_type'] = 'display_data';\n",
              "        await google.colab.output.renderOutput(dataTable, element);\n",
              "        const docLink = document.createElement('div');\n",
              "        docLink.innerHTML = docLinkHtml;\n",
              "        element.appendChild(docLink);\n",
              "      }\n",
              "    </script>\n",
              "  </div>\n",
              "\n",
              "\n",
              "<div id=\"df-f7305e40-a933-4cf0-be37-46c6c59fe5bf\">\n",
              "  <button class=\"colab-df-quickchart\" onclick=\"quickchart('df-f7305e40-a933-4cf0-be37-46c6c59fe5bf')\"\n",
              "            title=\"Suggest charts\"\n",
              "            style=\"display:none;\">\n",
              "\n",
              "<svg xmlns=\"http://www.w3.org/2000/svg\" height=\"24px\"viewBox=\"0 0 24 24\"\n",
              "     width=\"24px\">\n",
              "    <g>\n",
              "        <path d=\"M19 3H5c-1.1 0-2 .9-2 2v14c0 1.1.9 2 2 2h14c1.1 0 2-.9 2-2V5c0-1.1-.9-2-2-2zM9 17H7v-7h2v7zm4 0h-2V7h2v10zm4 0h-2v-4h2v4z\"/>\n",
              "    </g>\n",
              "</svg>\n",
              "  </button>\n",
              "\n",
              "<style>\n",
              "  .colab-df-quickchart {\n",
              "      --bg-color: #E8F0FE;\n",
              "      --fill-color: #1967D2;\n",
              "      --hover-bg-color: #E2EBFA;\n",
              "      --hover-fill-color: #174EA6;\n",
              "      --disabled-fill-color: #AAA;\n",
              "      --disabled-bg-color: #DDD;\n",
              "  }\n",
              "\n",
              "  [theme=dark] .colab-df-quickchart {\n",
              "      --bg-color: #3B4455;\n",
              "      --fill-color: #D2E3FC;\n",
              "      --hover-bg-color: #434B5C;\n",
              "      --hover-fill-color: #FFFFFF;\n",
              "      --disabled-bg-color: #3B4455;\n",
              "      --disabled-fill-color: #666;\n",
              "  }\n",
              "\n",
              "  .colab-df-quickchart {\n",
              "    background-color: var(--bg-color);\n",
              "    border: none;\n",
              "    border-radius: 50%;\n",
              "    cursor: pointer;\n",
              "    display: none;\n",
              "    fill: var(--fill-color);\n",
              "    height: 32px;\n",
              "    padding: 0;\n",
              "    width: 32px;\n",
              "  }\n",
              "\n",
              "  .colab-df-quickchart:hover {\n",
              "    background-color: var(--hover-bg-color);\n",
              "    box-shadow: 0 1px 2px rgba(60, 64, 67, 0.3), 0 1px 3px 1px rgba(60, 64, 67, 0.15);\n",
              "    fill: var(--button-hover-fill-color);\n",
              "  }\n",
              "\n",
              "  .colab-df-quickchart-complete:disabled,\n",
              "  .colab-df-quickchart-complete:disabled:hover {\n",
              "    background-color: var(--disabled-bg-color);\n",
              "    fill: var(--disabled-fill-color);\n",
              "    box-shadow: none;\n",
              "  }\n",
              "\n",
              "  .colab-df-spinner {\n",
              "    border: 2px solid var(--fill-color);\n",
              "    border-color: transparent;\n",
              "    border-bottom-color: var(--fill-color);\n",
              "    animation:\n",
              "      spin 1s steps(1) infinite;\n",
              "  }\n",
              "\n",
              "  @keyframes spin {\n",
              "    0% {\n",
              "      border-color: transparent;\n",
              "      border-bottom-color: var(--fill-color);\n",
              "      border-left-color: var(--fill-color);\n",
              "    }\n",
              "    20% {\n",
              "      border-color: transparent;\n",
              "      border-left-color: var(--fill-color);\n",
              "      border-top-color: var(--fill-color);\n",
              "    }\n",
              "    30% {\n",
              "      border-color: transparent;\n",
              "      border-left-color: var(--fill-color);\n",
              "      border-top-color: var(--fill-color);\n",
              "      border-right-color: var(--fill-color);\n",
              "    }\n",
              "    40% {\n",
              "      border-color: transparent;\n",
              "      border-right-color: var(--fill-color);\n",
              "      border-top-color: var(--fill-color);\n",
              "    }\n",
              "    60% {\n",
              "      border-color: transparent;\n",
              "      border-right-color: var(--fill-color);\n",
              "    }\n",
              "    80% {\n",
              "      border-color: transparent;\n",
              "      border-right-color: var(--fill-color);\n",
              "      border-bottom-color: var(--fill-color);\n",
              "    }\n",
              "    90% {\n",
              "      border-color: transparent;\n",
              "      border-bottom-color: var(--fill-color);\n",
              "    }\n",
              "  }\n",
              "</style>\n",
              "\n",
              "  <script>\n",
              "    async function quickchart(key) {\n",
              "      const quickchartButtonEl =\n",
              "        document.querySelector('#' + key + ' button');\n",
              "      quickchartButtonEl.disabled = true;  // To prevent multiple clicks.\n",
              "      quickchartButtonEl.classList.add('colab-df-spinner');\n",
              "      try {\n",
              "        const charts = await google.colab.kernel.invokeFunction(\n",
              "            'suggestCharts', [key], {});\n",
              "      } catch (error) {\n",
              "        console.error('Error during call to suggestCharts:', error);\n",
              "      }\n",
              "      quickchartButtonEl.classList.remove('colab-df-spinner');\n",
              "      quickchartButtonEl.classList.add('colab-df-quickchart-complete');\n",
              "    }\n",
              "    (() => {\n",
              "      let quickchartButtonEl =\n",
              "        document.querySelector('#df-f7305e40-a933-4cf0-be37-46c6c59fe5bf button');\n",
              "      quickchartButtonEl.style.display =\n",
              "        google.colab.kernel.accessAllowed ? 'block' : 'none';\n",
              "    })();\n",
              "  </script>\n",
              "</div>\n",
              "\n",
              "  <div id=\"id_ce2a7e55-5046-4c11-87b7-2a32d4308062\">\n",
              "    <style>\n",
              "      .colab-df-generate {\n",
              "        background-color: #E8F0FE;\n",
              "        border: none;\n",
              "        border-radius: 50%;\n",
              "        cursor: pointer;\n",
              "        display: none;\n",
              "        fill: #1967D2;\n",
              "        height: 32px;\n",
              "        padding: 0 0 0 0;\n",
              "        width: 32px;\n",
              "      }\n",
              "\n",
              "      .colab-df-generate:hover {\n",
              "        background-color: #E2EBFA;\n",
              "        box-shadow: 0px 1px 2px rgba(60, 64, 67, 0.3), 0px 1px 3px 1px rgba(60, 64, 67, 0.15);\n",
              "        fill: #174EA6;\n",
              "      }\n",
              "\n",
              "      [theme=dark] .colab-df-generate {\n",
              "        background-color: #3B4455;\n",
              "        fill: #D2E3FC;\n",
              "      }\n",
              "\n",
              "      [theme=dark] .colab-df-generate:hover {\n",
              "        background-color: #434B5C;\n",
              "        box-shadow: 0px 1px 3px 1px rgba(0, 0, 0, 0.15);\n",
              "        filter: drop-shadow(0px 1px 2px rgba(0, 0, 0, 0.3));\n",
              "        fill: #FFFFFF;\n",
              "      }\n",
              "    </style>\n",
              "    <button class=\"colab-df-generate\" onclick=\"generateWithVariable('df_강남구')\"\n",
              "            title=\"Generate code using this dataframe.\"\n",
              "            style=\"display:none;\">\n",
              "\n",
              "  <svg xmlns=\"http://www.w3.org/2000/svg\" height=\"24px\"viewBox=\"0 0 24 24\"\n",
              "       width=\"24px\">\n",
              "    <path d=\"M7,19H8.4L18.45,9,17,7.55,7,17.6ZM5,21V16.75L18.45,3.32a2,2,0,0,1,2.83,0l1.4,1.43a1.91,1.91,0,0,1,.58,1.4,1.91,1.91,0,0,1-.58,1.4L9.25,21ZM18.45,9,17,7.55Zm-12,3A5.31,5.31,0,0,0,4.9,8.1,5.31,5.31,0,0,0,1,6.5,5.31,5.31,0,0,0,4.9,4.9,5.31,5.31,0,0,0,6.5,1,5.31,5.31,0,0,0,8.1,4.9,5.31,5.31,0,0,0,12,6.5,5.46,5.46,0,0,0,6.5,12Z\"/>\n",
              "  </svg>\n",
              "    </button>\n",
              "    <script>\n",
              "      (() => {\n",
              "      const buttonEl =\n",
              "        document.querySelector('#id_ce2a7e55-5046-4c11-87b7-2a32d4308062 button.colab-df-generate');\n",
              "      buttonEl.style.display =\n",
              "        google.colab.kernel.accessAllowed ? 'block' : 'none';\n",
              "\n",
              "      buttonEl.onclick = () => {\n",
              "        google.colab.notebook.generateWithVariable('df_강남구');\n",
              "      }\n",
              "      })();\n",
              "    </script>\n",
              "  </div>\n",
              "\n",
              "    </div>\n",
              "  </div>\n"
            ],
            "application/vnd.google.colaboratory.intrinsic+json": {
              "type": "dataframe",
              "variable_name": "df_강남구",
              "summary": "{\n  \"name\": \"df_\\uac15\\ub0a8\\uad6c\",\n  \"rows\": 5,\n  \"fields\": [\n    {\n      \"column\": \"\\ud654\\uc7ac\\ubc1c\\uc0dd\\uc5f0\\ub3c4\",\n      \"properties\": {\n        \"dtype\": \"number\",\n        \"std\": 1,\n        \"min\": 2017,\n        \"max\": 2021,\n        \"num_unique_values\": 5,\n        \"samples\": [\n          2018,\n          2021,\n          2019\n        ],\n        \"semantic_type\": \"\",\n        \"description\": \"\"\n      }\n    },\n    {\n      \"column\": \"\\uc2dc\\uad70\\uad6c\",\n      \"properties\": {\n        \"dtype\": \"category\",\n        \"num_unique_values\": 1,\n        \"samples\": [\n          \"\\uac15\\ub0a8\\uad6c\"\n        ],\n        \"semantic_type\": \"\",\n        \"description\": \"\"\n      }\n    },\n    {\n      \"column\": \"\\uc0ac\\ub9dd\\uc790\\uc218\",\n      \"properties\": {\n        \"dtype\": \"number\",\n        \"std\": 0.8366600265340756,\n        \"min\": 0.0,\n        \"max\": 2.0,\n        \"num_unique_values\": 3,\n        \"samples\": [\n          0.0\n        ],\n        \"semantic_type\": \"\",\n        \"description\": \"\"\n      }\n    },\n    {\n      \"column\": \"\\uc7ac\\uc0b0\\ud53c\\ud574\\uae08\\uc561\",\n      \"properties\": {\n        \"dtype\": \"number\",\n        \"std\": 131102,\n        \"min\": 1354949,\n        \"max\": 1677681,\n        \"num_unique_values\": 5,\n        \"samples\": [\n          1624983\n        ],\n        \"semantic_type\": \"\",\n        \"description\": \"\"\n      }\n    },\n    {\n      \"column\": \"\\ucd9c\\ub3d9\\ud69f\\uc218\",\n      \"properties\": {\n        \"dtype\": \"number\",\n        \"std\": 47,\n        \"min\": 387,\n        \"max\": 502,\n        \"num_unique_values\": 5,\n        \"samples\": [\n          436\n        ],\n        \"semantic_type\": \"\",\n        \"description\": \"\"\n      }\n    }\n  ]\n}"
            }
          },
          "metadata": {},
          "execution_count": 3
        }
      ],
      "source": [
        "df_강남구 = df[df['시군구']==\"강남구\"]\n",
        "df_강남구"
      ]
    },
    {
      "cell_type": "markdown",
      "metadata": {
        "id": "45c39862"
      },
      "source": [
        "- `describe` method를 이용하면 5년간 강남구의 기초통계량을 출력한다."
      ]
    },
    {
      "cell_type": "code",
      "execution_count": 4,
      "metadata": {
        "colab": {
          "base_uri": "https://localhost:8080/",
          "height": 300
        },
        "id": "5cff284f",
        "outputId": "cd4403d4-c4e4-474c-8445-476c8282965c"
      },
      "outputs": [
        {
          "output_type": "execute_result",
          "data": {
            "text/plain": [
              "            화재발생연도     사망자수        재산피해금액       출동횟수\n",
              "count     5.000000  5.00000  5.000000e+00    5.00000\n",
              "mean   2019.000000  0.80000  1.534885e+06  434.40000\n",
              "std       1.581139  0.83666  1.311026e+05   47.87797\n",
              "min    2017.000000  0.00000  1.354949e+06  387.00000\n",
              "25%    2018.000000  0.00000  1.451556e+06  391.00000\n",
              "50%    2019.000000  1.00000  1.565258e+06  436.00000\n",
              "75%    2020.000000  1.00000  1.624983e+06  456.00000\n",
              "max    2021.000000  2.00000  1.677681e+06  502.00000"
            ],
            "text/html": [
              "\n",
              "  <div id=\"df-9fe8d7d7-0126-49b5-a371-c2d92cca824d\" class=\"colab-df-container\">\n",
              "    <div>\n",
              "<style scoped>\n",
              "    .dataframe tbody tr th:only-of-type {\n",
              "        vertical-align: middle;\n",
              "    }\n",
              "\n",
              "    .dataframe tbody tr th {\n",
              "        vertical-align: top;\n",
              "    }\n",
              "\n",
              "    .dataframe thead th {\n",
              "        text-align: right;\n",
              "    }\n",
              "</style>\n",
              "<table border=\"1\" class=\"dataframe\">\n",
              "  <thead>\n",
              "    <tr style=\"text-align: right;\">\n",
              "      <th></th>\n",
              "      <th>화재발생연도</th>\n",
              "      <th>사망자수</th>\n",
              "      <th>재산피해금액</th>\n",
              "      <th>출동횟수</th>\n",
              "    </tr>\n",
              "  </thead>\n",
              "  <tbody>\n",
              "    <tr>\n",
              "      <th>count</th>\n",
              "      <td>5.000000</td>\n",
              "      <td>5.00000</td>\n",
              "      <td>5.000000e+00</td>\n",
              "      <td>5.00000</td>\n",
              "    </tr>\n",
              "    <tr>\n",
              "      <th>mean</th>\n",
              "      <td>2019.000000</td>\n",
              "      <td>0.80000</td>\n",
              "      <td>1.534885e+06</td>\n",
              "      <td>434.40000</td>\n",
              "    </tr>\n",
              "    <tr>\n",
              "      <th>std</th>\n",
              "      <td>1.581139</td>\n",
              "      <td>0.83666</td>\n",
              "      <td>1.311026e+05</td>\n",
              "      <td>47.87797</td>\n",
              "    </tr>\n",
              "    <tr>\n",
              "      <th>min</th>\n",
              "      <td>2017.000000</td>\n",
              "      <td>0.00000</td>\n",
              "      <td>1.354949e+06</td>\n",
              "      <td>387.00000</td>\n",
              "    </tr>\n",
              "    <tr>\n",
              "      <th>25%</th>\n",
              "      <td>2018.000000</td>\n",
              "      <td>0.00000</td>\n",
              "      <td>1.451556e+06</td>\n",
              "      <td>391.00000</td>\n",
              "    </tr>\n",
              "    <tr>\n",
              "      <th>50%</th>\n",
              "      <td>2019.000000</td>\n",
              "      <td>1.00000</td>\n",
              "      <td>1.565258e+06</td>\n",
              "      <td>436.00000</td>\n",
              "    </tr>\n",
              "    <tr>\n",
              "      <th>75%</th>\n",
              "      <td>2020.000000</td>\n",
              "      <td>1.00000</td>\n",
              "      <td>1.624983e+06</td>\n",
              "      <td>456.00000</td>\n",
              "    </tr>\n",
              "    <tr>\n",
              "      <th>max</th>\n",
              "      <td>2021.000000</td>\n",
              "      <td>2.00000</td>\n",
              "      <td>1.677681e+06</td>\n",
              "      <td>502.00000</td>\n",
              "    </tr>\n",
              "  </tbody>\n",
              "</table>\n",
              "</div>\n",
              "    <div class=\"colab-df-buttons\">\n",
              "\n",
              "  <div class=\"colab-df-container\">\n",
              "    <button class=\"colab-df-convert\" onclick=\"convertToInteractive('df-9fe8d7d7-0126-49b5-a371-c2d92cca824d')\"\n",
              "            title=\"Convert this dataframe to an interactive table.\"\n",
              "            style=\"display:none;\">\n",
              "\n",
              "  <svg xmlns=\"http://www.w3.org/2000/svg\" height=\"24px\" viewBox=\"0 -960 960 960\">\n",
              "    <path d=\"M120-120v-720h720v720H120Zm60-500h600v-160H180v160Zm220 220h160v-160H400v160Zm0 220h160v-160H400v160ZM180-400h160v-160H180v160Zm440 0h160v-160H620v160ZM180-180h160v-160H180v160Zm440 0h160v-160H620v160Z\"/>\n",
              "  </svg>\n",
              "    </button>\n",
              "\n",
              "  <style>\n",
              "    .colab-df-container {\n",
              "      display:flex;\n",
              "      gap: 12px;\n",
              "    }\n",
              "\n",
              "    .colab-df-convert {\n",
              "      background-color: #E8F0FE;\n",
              "      border: none;\n",
              "      border-radius: 50%;\n",
              "      cursor: pointer;\n",
              "      display: none;\n",
              "      fill: #1967D2;\n",
              "      height: 32px;\n",
              "      padding: 0 0 0 0;\n",
              "      width: 32px;\n",
              "    }\n",
              "\n",
              "    .colab-df-convert:hover {\n",
              "      background-color: #E2EBFA;\n",
              "      box-shadow: 0px 1px 2px rgba(60, 64, 67, 0.3), 0px 1px 3px 1px rgba(60, 64, 67, 0.15);\n",
              "      fill: #174EA6;\n",
              "    }\n",
              "\n",
              "    .colab-df-buttons div {\n",
              "      margin-bottom: 4px;\n",
              "    }\n",
              "\n",
              "    [theme=dark] .colab-df-convert {\n",
              "      background-color: #3B4455;\n",
              "      fill: #D2E3FC;\n",
              "    }\n",
              "\n",
              "    [theme=dark] .colab-df-convert:hover {\n",
              "      background-color: #434B5C;\n",
              "      box-shadow: 0px 1px 3px 1px rgba(0, 0, 0, 0.15);\n",
              "      filter: drop-shadow(0px 1px 2px rgba(0, 0, 0, 0.3));\n",
              "      fill: #FFFFFF;\n",
              "    }\n",
              "  </style>\n",
              "\n",
              "    <script>\n",
              "      const buttonEl =\n",
              "        document.querySelector('#df-9fe8d7d7-0126-49b5-a371-c2d92cca824d button.colab-df-convert');\n",
              "      buttonEl.style.display =\n",
              "        google.colab.kernel.accessAllowed ? 'block' : 'none';\n",
              "\n",
              "      async function convertToInteractive(key) {\n",
              "        const element = document.querySelector('#df-9fe8d7d7-0126-49b5-a371-c2d92cca824d');\n",
              "        const dataTable =\n",
              "          await google.colab.kernel.invokeFunction('convertToInteractive',\n",
              "                                                    [key], {});\n",
              "        if (!dataTable) return;\n",
              "\n",
              "        const docLinkHtml = 'Like what you see? Visit the ' +\n",
              "          '<a target=\"_blank\" href=https://colab.research.google.com/notebooks/data_table.ipynb>data table notebook</a>'\n",
              "          + ' to learn more about interactive tables.';\n",
              "        element.innerHTML = '';\n",
              "        dataTable['output_type'] = 'display_data';\n",
              "        await google.colab.output.renderOutput(dataTable, element);\n",
              "        const docLink = document.createElement('div');\n",
              "        docLink.innerHTML = docLinkHtml;\n",
              "        element.appendChild(docLink);\n",
              "      }\n",
              "    </script>\n",
              "  </div>\n",
              "\n",
              "\n",
              "<div id=\"df-f7ce069d-b336-4e06-9801-04fa151cadf8\">\n",
              "  <button class=\"colab-df-quickchart\" onclick=\"quickchart('df-f7ce069d-b336-4e06-9801-04fa151cadf8')\"\n",
              "            title=\"Suggest charts\"\n",
              "            style=\"display:none;\">\n",
              "\n",
              "<svg xmlns=\"http://www.w3.org/2000/svg\" height=\"24px\"viewBox=\"0 0 24 24\"\n",
              "     width=\"24px\">\n",
              "    <g>\n",
              "        <path d=\"M19 3H5c-1.1 0-2 .9-2 2v14c0 1.1.9 2 2 2h14c1.1 0 2-.9 2-2V5c0-1.1-.9-2-2-2zM9 17H7v-7h2v7zm4 0h-2V7h2v10zm4 0h-2v-4h2v4z\"/>\n",
              "    </g>\n",
              "</svg>\n",
              "  </button>\n",
              "\n",
              "<style>\n",
              "  .colab-df-quickchart {\n",
              "      --bg-color: #E8F0FE;\n",
              "      --fill-color: #1967D2;\n",
              "      --hover-bg-color: #E2EBFA;\n",
              "      --hover-fill-color: #174EA6;\n",
              "      --disabled-fill-color: #AAA;\n",
              "      --disabled-bg-color: #DDD;\n",
              "  }\n",
              "\n",
              "  [theme=dark] .colab-df-quickchart {\n",
              "      --bg-color: #3B4455;\n",
              "      --fill-color: #D2E3FC;\n",
              "      --hover-bg-color: #434B5C;\n",
              "      --hover-fill-color: #FFFFFF;\n",
              "      --disabled-bg-color: #3B4455;\n",
              "      --disabled-fill-color: #666;\n",
              "  }\n",
              "\n",
              "  .colab-df-quickchart {\n",
              "    background-color: var(--bg-color);\n",
              "    border: none;\n",
              "    border-radius: 50%;\n",
              "    cursor: pointer;\n",
              "    display: none;\n",
              "    fill: var(--fill-color);\n",
              "    height: 32px;\n",
              "    padding: 0;\n",
              "    width: 32px;\n",
              "  }\n",
              "\n",
              "  .colab-df-quickchart:hover {\n",
              "    background-color: var(--hover-bg-color);\n",
              "    box-shadow: 0 1px 2px rgba(60, 64, 67, 0.3), 0 1px 3px 1px rgba(60, 64, 67, 0.15);\n",
              "    fill: var(--button-hover-fill-color);\n",
              "  }\n",
              "\n",
              "  .colab-df-quickchart-complete:disabled,\n",
              "  .colab-df-quickchart-complete:disabled:hover {\n",
              "    background-color: var(--disabled-bg-color);\n",
              "    fill: var(--disabled-fill-color);\n",
              "    box-shadow: none;\n",
              "  }\n",
              "\n",
              "  .colab-df-spinner {\n",
              "    border: 2px solid var(--fill-color);\n",
              "    border-color: transparent;\n",
              "    border-bottom-color: var(--fill-color);\n",
              "    animation:\n",
              "      spin 1s steps(1) infinite;\n",
              "  }\n",
              "\n",
              "  @keyframes spin {\n",
              "    0% {\n",
              "      border-color: transparent;\n",
              "      border-bottom-color: var(--fill-color);\n",
              "      border-left-color: var(--fill-color);\n",
              "    }\n",
              "    20% {\n",
              "      border-color: transparent;\n",
              "      border-left-color: var(--fill-color);\n",
              "      border-top-color: var(--fill-color);\n",
              "    }\n",
              "    30% {\n",
              "      border-color: transparent;\n",
              "      border-left-color: var(--fill-color);\n",
              "      border-top-color: var(--fill-color);\n",
              "      border-right-color: var(--fill-color);\n",
              "    }\n",
              "    40% {\n",
              "      border-color: transparent;\n",
              "      border-right-color: var(--fill-color);\n",
              "      border-top-color: var(--fill-color);\n",
              "    }\n",
              "    60% {\n",
              "      border-color: transparent;\n",
              "      border-right-color: var(--fill-color);\n",
              "    }\n",
              "    80% {\n",
              "      border-color: transparent;\n",
              "      border-right-color: var(--fill-color);\n",
              "      border-bottom-color: var(--fill-color);\n",
              "    }\n",
              "    90% {\n",
              "      border-color: transparent;\n",
              "      border-bottom-color: var(--fill-color);\n",
              "    }\n",
              "  }\n",
              "</style>\n",
              "\n",
              "  <script>\n",
              "    async function quickchart(key) {\n",
              "      const quickchartButtonEl =\n",
              "        document.querySelector('#' + key + ' button');\n",
              "      quickchartButtonEl.disabled = true;  // To prevent multiple clicks.\n",
              "      quickchartButtonEl.classList.add('colab-df-spinner');\n",
              "      try {\n",
              "        const charts = await google.colab.kernel.invokeFunction(\n",
              "            'suggestCharts', [key], {});\n",
              "      } catch (error) {\n",
              "        console.error('Error during call to suggestCharts:', error);\n",
              "      }\n",
              "      quickchartButtonEl.classList.remove('colab-df-spinner');\n",
              "      quickchartButtonEl.classList.add('colab-df-quickchart-complete');\n",
              "    }\n",
              "    (() => {\n",
              "      let quickchartButtonEl =\n",
              "        document.querySelector('#df-f7ce069d-b336-4e06-9801-04fa151cadf8 button');\n",
              "      quickchartButtonEl.style.display =\n",
              "        google.colab.kernel.accessAllowed ? 'block' : 'none';\n",
              "    })();\n",
              "  </script>\n",
              "</div>\n",
              "\n",
              "    </div>\n",
              "  </div>\n"
            ],
            "application/vnd.google.colaboratory.intrinsic+json": {
              "type": "dataframe",
              "summary": "{\n  \"name\": \"df_\\uac15\\ub0a8\\uad6c\",\n  \"rows\": 8,\n  \"fields\": [\n    {\n      \"column\": \"\\ud654\\uc7ac\\ubc1c\\uc0dd\\uc5f0\\ub3c4\",\n      \"properties\": {\n        \"dtype\": \"number\",\n        \"std\": 933.0933659553775,\n        \"min\": 1.5811388300841898,\n        \"max\": 2021.0,\n        \"num_unique_values\": 7,\n        \"samples\": [\n          5.0,\n          2019.0,\n          2020.0\n        ],\n        \"semantic_type\": \"\",\n        \"description\": \"\"\n      }\n    },\n    {\n      \"column\": \"\\uc0ac\\ub9dd\\uc790\\uc218\",\n      \"properties\": {\n        \"dtype\": \"number\",\n        \"std\": 1.6123489047700172,\n        \"min\": 0.0,\n        \"max\": 5.0,\n        \"num_unique_values\": 6,\n        \"samples\": [\n          5.0,\n          0.8,\n          2.0\n        ],\n        \"semantic_type\": \"\",\n        \"description\": \"\"\n      }\n    },\n    {\n      \"column\": \"\\uc7ac\\uc0b0\\ud53c\\ud574\\uae08\\uc561\",\n      \"properties\": {\n        \"dtype\": \"number\",\n        \"std\": 688242.8866628519,\n        \"min\": 5.0,\n        \"max\": 1677681.0,\n        \"num_unique_values\": 8,\n        \"samples\": [\n          1534885.4,\n          1565258.0,\n          5.0\n        ],\n        \"semantic_type\": \"\",\n        \"description\": \"\"\n      }\n    },\n    {\n      \"column\": \"\\ucd9c\\ub3d9\\ud69f\\uc218\",\n      \"properties\": {\n        \"dtype\": \"number\",\n        \"std\": 192.62722877645766,\n        \"min\": 5.0,\n        \"max\": 502.0,\n        \"num_unique_values\": 8,\n        \"samples\": [\n          434.4,\n          436.0,\n          5.0\n        ],\n        \"semantic_type\": \"\",\n        \"description\": \"\"\n      }\n    }\n  ]\n}"
            }
          },
          "metadata": {},
          "execution_count": 4
        }
      ],
      "source": [
        "df_강남구.describe()"
      ]
    },
    {
      "cell_type": "markdown",
      "metadata": {
        "id": "22d9105a"
      },
      "source": [
        "- 5년간 강남구의 `출동횟수`가 많은 순으로 출력해보자."
      ]
    },
    {
      "cell_type": "code",
      "execution_count": null,
      "metadata": {
        "colab": {
          "base_uri": "https://localhost:8080/",
          "height": 206
        },
        "id": "4b94ccac",
        "outputId": "add1781a-2212-4fe3-dbb4-4ba8f8554192"
      },
      "outputs": [
        {
          "output_type": "execute_result",
          "data": {
            "text/plain": [
              "    화재발생연도  시군구  사망자수   재산피해금액  출동횟수\n",
              "0     2017  강남구   0.0  1565258   502\n",
              "10    2019  강남구   1.0  1677681   456\n",
              "5     2018  강남구   0.0  1624983   436\n",
              "20    2021  강남구   2.0  1354949   391\n",
              "15    2020  강남구   1.0  1451556   387"
            ],
            "text/html": [
              "\n",
              "  <div id=\"df-69f58ebb-a0cc-4221-93f3-6126cf4bd697\" class=\"colab-df-container\">\n",
              "    <div>\n",
              "<style scoped>\n",
              "    .dataframe tbody tr th:only-of-type {\n",
              "        vertical-align: middle;\n",
              "    }\n",
              "\n",
              "    .dataframe tbody tr th {\n",
              "        vertical-align: top;\n",
              "    }\n",
              "\n",
              "    .dataframe thead th {\n",
              "        text-align: right;\n",
              "    }\n",
              "</style>\n",
              "<table border=\"1\" class=\"dataframe\">\n",
              "  <thead>\n",
              "    <tr style=\"text-align: right;\">\n",
              "      <th></th>\n",
              "      <th>화재발생연도</th>\n",
              "      <th>시군구</th>\n",
              "      <th>사망자수</th>\n",
              "      <th>재산피해금액</th>\n",
              "      <th>출동횟수</th>\n",
              "    </tr>\n",
              "  </thead>\n",
              "  <tbody>\n",
              "    <tr>\n",
              "      <th>0</th>\n",
              "      <td>2017</td>\n",
              "      <td>강남구</td>\n",
              "      <td>0.0</td>\n",
              "      <td>1565258</td>\n",
              "      <td>502</td>\n",
              "    </tr>\n",
              "    <tr>\n",
              "      <th>10</th>\n",
              "      <td>2019</td>\n",
              "      <td>강남구</td>\n",
              "      <td>1.0</td>\n",
              "      <td>1677681</td>\n",
              "      <td>456</td>\n",
              "    </tr>\n",
              "    <tr>\n",
              "      <th>5</th>\n",
              "      <td>2018</td>\n",
              "      <td>강남구</td>\n",
              "      <td>0.0</td>\n",
              "      <td>1624983</td>\n",
              "      <td>436</td>\n",
              "    </tr>\n",
              "    <tr>\n",
              "      <th>20</th>\n",
              "      <td>2021</td>\n",
              "      <td>강남구</td>\n",
              "      <td>2.0</td>\n",
              "      <td>1354949</td>\n",
              "      <td>391</td>\n",
              "    </tr>\n",
              "    <tr>\n",
              "      <th>15</th>\n",
              "      <td>2020</td>\n",
              "      <td>강남구</td>\n",
              "      <td>1.0</td>\n",
              "      <td>1451556</td>\n",
              "      <td>387</td>\n",
              "    </tr>\n",
              "  </tbody>\n",
              "</table>\n",
              "</div>\n",
              "    <div class=\"colab-df-buttons\">\n",
              "\n",
              "  <div class=\"colab-df-container\">\n",
              "    <button class=\"colab-df-convert\" onclick=\"convertToInteractive('df-69f58ebb-a0cc-4221-93f3-6126cf4bd697')\"\n",
              "            title=\"Convert this dataframe to an interactive table.\"\n",
              "            style=\"display:none;\">\n",
              "\n",
              "  <svg xmlns=\"http://www.w3.org/2000/svg\" height=\"24px\" viewBox=\"0 -960 960 960\">\n",
              "    <path d=\"M120-120v-720h720v720H120Zm60-500h600v-160H180v160Zm220 220h160v-160H400v160Zm0 220h160v-160H400v160ZM180-400h160v-160H180v160Zm440 0h160v-160H620v160ZM180-180h160v-160H180v160Zm440 0h160v-160H620v160Z\"/>\n",
              "  </svg>\n",
              "    </button>\n",
              "\n",
              "  <style>\n",
              "    .colab-df-container {\n",
              "      display:flex;\n",
              "      gap: 12px;\n",
              "    }\n",
              "\n",
              "    .colab-df-convert {\n",
              "      background-color: #E8F0FE;\n",
              "      border: none;\n",
              "      border-radius: 50%;\n",
              "      cursor: pointer;\n",
              "      display: none;\n",
              "      fill: #1967D2;\n",
              "      height: 32px;\n",
              "      padding: 0 0 0 0;\n",
              "      width: 32px;\n",
              "    }\n",
              "\n",
              "    .colab-df-convert:hover {\n",
              "      background-color: #E2EBFA;\n",
              "      box-shadow: 0px 1px 2px rgba(60, 64, 67, 0.3), 0px 1px 3px 1px rgba(60, 64, 67, 0.15);\n",
              "      fill: #174EA6;\n",
              "    }\n",
              "\n",
              "    .colab-df-buttons div {\n",
              "      margin-bottom: 4px;\n",
              "    }\n",
              "\n",
              "    [theme=dark] .colab-df-convert {\n",
              "      background-color: #3B4455;\n",
              "      fill: #D2E3FC;\n",
              "    }\n",
              "\n",
              "    [theme=dark] .colab-df-convert:hover {\n",
              "      background-color: #434B5C;\n",
              "      box-shadow: 0px 1px 3px 1px rgba(0, 0, 0, 0.15);\n",
              "      filter: drop-shadow(0px 1px 2px rgba(0, 0, 0, 0.3));\n",
              "      fill: #FFFFFF;\n",
              "    }\n",
              "  </style>\n",
              "\n",
              "    <script>\n",
              "      const buttonEl =\n",
              "        document.querySelector('#df-69f58ebb-a0cc-4221-93f3-6126cf4bd697 button.colab-df-convert');\n",
              "      buttonEl.style.display =\n",
              "        google.colab.kernel.accessAllowed ? 'block' : 'none';\n",
              "\n",
              "      async function convertToInteractive(key) {\n",
              "        const element = document.querySelector('#df-69f58ebb-a0cc-4221-93f3-6126cf4bd697');\n",
              "        const dataTable =\n",
              "          await google.colab.kernel.invokeFunction('convertToInteractive',\n",
              "                                                    [key], {});\n",
              "        if (!dataTable) return;\n",
              "\n",
              "        const docLinkHtml = 'Like what you see? Visit the ' +\n",
              "          '<a target=\"_blank\" href=https://colab.research.google.com/notebooks/data_table.ipynb>data table notebook</a>'\n",
              "          + ' to learn more about interactive tables.';\n",
              "        element.innerHTML = '';\n",
              "        dataTable['output_type'] = 'display_data';\n",
              "        await google.colab.output.renderOutput(dataTable, element);\n",
              "        const docLink = document.createElement('div');\n",
              "        docLink.innerHTML = docLinkHtml;\n",
              "        element.appendChild(docLink);\n",
              "      }\n",
              "    </script>\n",
              "  </div>\n",
              "\n",
              "\n",
              "<div id=\"df-de132e5c-5c04-46d4-bb72-376f75863c42\">\n",
              "  <button class=\"colab-df-quickchart\" onclick=\"quickchart('df-de132e5c-5c04-46d4-bb72-376f75863c42')\"\n",
              "            title=\"Suggest charts\"\n",
              "            style=\"display:none;\">\n",
              "\n",
              "<svg xmlns=\"http://www.w3.org/2000/svg\" height=\"24px\"viewBox=\"0 0 24 24\"\n",
              "     width=\"24px\">\n",
              "    <g>\n",
              "        <path d=\"M19 3H5c-1.1 0-2 .9-2 2v14c0 1.1.9 2 2 2h14c1.1 0 2-.9 2-2V5c0-1.1-.9-2-2-2zM9 17H7v-7h2v7zm4 0h-2V7h2v10zm4 0h-2v-4h2v4z\"/>\n",
              "    </g>\n",
              "</svg>\n",
              "  </button>\n",
              "\n",
              "<style>\n",
              "  .colab-df-quickchart {\n",
              "      --bg-color: #E8F0FE;\n",
              "      --fill-color: #1967D2;\n",
              "      --hover-bg-color: #E2EBFA;\n",
              "      --hover-fill-color: #174EA6;\n",
              "      --disabled-fill-color: #AAA;\n",
              "      --disabled-bg-color: #DDD;\n",
              "  }\n",
              "\n",
              "  [theme=dark] .colab-df-quickchart {\n",
              "      --bg-color: #3B4455;\n",
              "      --fill-color: #D2E3FC;\n",
              "      --hover-bg-color: #434B5C;\n",
              "      --hover-fill-color: #FFFFFF;\n",
              "      --disabled-bg-color: #3B4455;\n",
              "      --disabled-fill-color: #666;\n",
              "  }\n",
              "\n",
              "  .colab-df-quickchart {\n",
              "    background-color: var(--bg-color);\n",
              "    border: none;\n",
              "    border-radius: 50%;\n",
              "    cursor: pointer;\n",
              "    display: none;\n",
              "    fill: var(--fill-color);\n",
              "    height: 32px;\n",
              "    padding: 0;\n",
              "    width: 32px;\n",
              "  }\n",
              "\n",
              "  .colab-df-quickchart:hover {\n",
              "    background-color: var(--hover-bg-color);\n",
              "    box-shadow: 0 1px 2px rgba(60, 64, 67, 0.3), 0 1px 3px 1px rgba(60, 64, 67, 0.15);\n",
              "    fill: var(--button-hover-fill-color);\n",
              "  }\n",
              "\n",
              "  .colab-df-quickchart-complete:disabled,\n",
              "  .colab-df-quickchart-complete:disabled:hover {\n",
              "    background-color: var(--disabled-bg-color);\n",
              "    fill: var(--disabled-fill-color);\n",
              "    box-shadow: none;\n",
              "  }\n",
              "\n",
              "  .colab-df-spinner {\n",
              "    border: 2px solid var(--fill-color);\n",
              "    border-color: transparent;\n",
              "    border-bottom-color: var(--fill-color);\n",
              "    animation:\n",
              "      spin 1s steps(1) infinite;\n",
              "  }\n",
              "\n",
              "  @keyframes spin {\n",
              "    0% {\n",
              "      border-color: transparent;\n",
              "      border-bottom-color: var(--fill-color);\n",
              "      border-left-color: var(--fill-color);\n",
              "    }\n",
              "    20% {\n",
              "      border-color: transparent;\n",
              "      border-left-color: var(--fill-color);\n",
              "      border-top-color: var(--fill-color);\n",
              "    }\n",
              "    30% {\n",
              "      border-color: transparent;\n",
              "      border-left-color: var(--fill-color);\n",
              "      border-top-color: var(--fill-color);\n",
              "      border-right-color: var(--fill-color);\n",
              "    }\n",
              "    40% {\n",
              "      border-color: transparent;\n",
              "      border-right-color: var(--fill-color);\n",
              "      border-top-color: var(--fill-color);\n",
              "    }\n",
              "    60% {\n",
              "      border-color: transparent;\n",
              "      border-right-color: var(--fill-color);\n",
              "    }\n",
              "    80% {\n",
              "      border-color: transparent;\n",
              "      border-right-color: var(--fill-color);\n",
              "      border-bottom-color: var(--fill-color);\n",
              "    }\n",
              "    90% {\n",
              "      border-color: transparent;\n",
              "      border-bottom-color: var(--fill-color);\n",
              "    }\n",
              "  }\n",
              "</style>\n",
              "\n",
              "  <script>\n",
              "    async function quickchart(key) {\n",
              "      const quickchartButtonEl =\n",
              "        document.querySelector('#' + key + ' button');\n",
              "      quickchartButtonEl.disabled = true;  // To prevent multiple clicks.\n",
              "      quickchartButtonEl.classList.add('colab-df-spinner');\n",
              "      try {\n",
              "        const charts = await google.colab.kernel.invokeFunction(\n",
              "            'suggestCharts', [key], {});\n",
              "      } catch (error) {\n",
              "        console.error('Error during call to suggestCharts:', error);\n",
              "      }\n",
              "      quickchartButtonEl.classList.remove('colab-df-spinner');\n",
              "      quickchartButtonEl.classList.add('colab-df-quickchart-complete');\n",
              "    }\n",
              "    (() => {\n",
              "      let quickchartButtonEl =\n",
              "        document.querySelector('#df-de132e5c-5c04-46d4-bb72-376f75863c42 button');\n",
              "      quickchartButtonEl.style.display =\n",
              "        google.colab.kernel.accessAllowed ? 'block' : 'none';\n",
              "    })();\n",
              "  </script>\n",
              "</div>\n",
              "\n",
              "    </div>\n",
              "  </div>\n"
            ],
            "application/vnd.google.colaboratory.intrinsic+json": {
              "type": "dataframe",
              "summary": "{\n  \"name\": \"df_\\uac15\\ub0a8\\uad6c\",\n  \"rows\": 5,\n  \"fields\": [\n    {\n      \"column\": \"\\ud654\\uc7ac\\ubc1c\\uc0dd\\uc5f0\\ub3c4\",\n      \"properties\": {\n        \"dtype\": \"number\",\n        \"std\": 1,\n        \"min\": 2017,\n        \"max\": 2021,\n        \"num_unique_values\": 5,\n        \"samples\": [\n          2019,\n          2020,\n          2018\n        ],\n        \"semantic_type\": \"\",\n        \"description\": \"\"\n      }\n    },\n    {\n      \"column\": \"\\uc2dc\\uad70\\uad6c\",\n      \"properties\": {\n        \"dtype\": \"category\",\n        \"num_unique_values\": 1,\n        \"samples\": [\n          \"\\uac15\\ub0a8\\uad6c\"\n        ],\n        \"semantic_type\": \"\",\n        \"description\": \"\"\n      }\n    },\n    {\n      \"column\": \"\\uc0ac\\ub9dd\\uc790\\uc218\",\n      \"properties\": {\n        \"dtype\": \"number\",\n        \"std\": 0.8366600265340756,\n        \"min\": 0.0,\n        \"max\": 2.0,\n        \"num_unique_values\": 3,\n        \"samples\": [\n          0.0\n        ],\n        \"semantic_type\": \"\",\n        \"description\": \"\"\n      }\n    },\n    {\n      \"column\": \"\\uc7ac\\uc0b0\\ud53c\\ud574\\uae08\\uc561\",\n      \"properties\": {\n        \"dtype\": \"number\",\n        \"std\": 131102,\n        \"min\": 1354949,\n        \"max\": 1677681,\n        \"num_unique_values\": 5,\n        \"samples\": [\n          1677681\n        ],\n        \"semantic_type\": \"\",\n        \"description\": \"\"\n      }\n    },\n    {\n      \"column\": \"\\ucd9c\\ub3d9\\ud69f\\uc218\",\n      \"properties\": {\n        \"dtype\": \"number\",\n        \"std\": 47,\n        \"min\": 387,\n        \"max\": 502,\n        \"num_unique_values\": 5,\n        \"samples\": [\n          456\n        ],\n        \"semantic_type\": \"\",\n        \"description\": \"\"\n      }\n    }\n  ]\n}"
            }
          },
          "metadata": {},
          "execution_count": 150
        }
      ],
      "source": [
        "df_강남구.sort_values(by=\"출동횟수\", ascending=False)"
      ]
    },
    {
      "cell_type": "markdown",
      "metadata": {
        "id": "fb6ec96a"
      },
      "source": [
        "# 외부 파일로 저장\n",
        "\n",
        "- 데이터프레임은 구조가 기본적으로 엑셀과 동일하다. 그러므로, 저장 역시 엑셀 또는 CSV파일로 저장한다.\n",
        "\n",
        "- 2021년 요약데이터를 CSV파일로 내보내보자. 그러기 위해 `to_csv` method를 이용하고 저장위치를 지정해 준다.\n"
      ]
    },
    {
      "cell_type": "code",
      "execution_count": null,
      "metadata": {
        "id": "235078c9"
      },
      "outputs": [],
      "source": [
        "summary2021 = df_2021.describe()\n",
        "\n",
        "summary2021.to_csv(\"2021년요약.csv\", encoding = 'cp949')"
      ]
    },
    {
      "cell_type": "markdown",
      "metadata": {
        "id": "217b1538"
      },
      "source": [
        "- 엑셀 파일로 내보낼수도 있다. 만약 시트 이름을 바꾸고 싶다면 `sheet_name`옵션을 이용한다."
      ]
    },
    {
      "cell_type": "code",
      "execution_count": null,
      "metadata": {
        "id": "fe691360"
      },
      "outputs": [],
      "source": [
        "summary2021.to_excel(\"2021년요약.xlsx\")"
      ]
    },
    {
      "cell_type": "code",
      "execution_count": null,
      "metadata": {
        "id": "9f88b2af"
      },
      "outputs": [],
      "source": [
        "summary2021.to_excel(\"2021년요약.xlsx\", sheet_name='Sheet_name_1')"
      ]
    },
    {
      "cell_type": "markdown",
      "metadata": {
        "id": "8a2a4824"
      },
      "source": [
        "- 여러개의 데이터프레임을 여러개 시트로 저장하는 방법은 다음과 같다."
      ]
    },
    {
      "cell_type": "code",
      "execution_count": null,
      "metadata": {
        "id": "6dc02594"
      },
      "outputs": [],
      "source": [
        "with pd.ExcelWriter(\"요약표 작업.xlsx\") as writer:\n",
        "    summary2021.to_excel(writer, sheet_name='2021년도 요약표')\n",
        "    df_강남구.to_excel(writer, sheet_name='강남구 요약표')"
      ]
    },
    {
      "cell_type": "markdown",
      "metadata": {
        "id": "dadd6862"
      },
      "source": [
        "- 저장했던 데이터를 다시 불러와보자. 특정 시트를 지정해주지 않으면 기본적으로 첫 번째 시트를 불러온다."
      ]
    },
    {
      "cell_type": "code",
      "execution_count": null,
      "metadata": {
        "colab": {
          "base_uri": "https://localhost:8080/",
          "height": 300
        },
        "id": "d88192a8",
        "outputId": "5cb766d9-5525-4f78-9f2d-e3f873807088"
      },
      "outputs": [
        {
          "output_type": "execute_result",
          "data": {
            "text/plain": [
              "  Unnamed: 0  화재발생연도      사망자수        재산피해금액       출동횟수\n",
              "0      count       5  5.000000  5.000000e+00    5.00000\n",
              "1       mean    2021  2.400000  6.467606e+05  246.00000\n",
              "2        std       0  1.516575  4.068877e+05   90.75792\n",
              "3        min    2021  1.000000  3.467410e+05  146.00000\n",
              "4        25%    2021  2.000000  4.102050e+05  211.00000\n",
              "5        50%    2021  2.000000  5.596140e+05  223.00000\n",
              "6        75%    2021  2.000000  5.622940e+05  259.00000\n",
              "7        max    2021  5.000000  1.354949e+06  391.00000"
            ],
            "text/html": [
              "\n",
              "  <div id=\"df-5ffb9395-06af-4577-86a0-3f006bc9184a\" class=\"colab-df-container\">\n",
              "    <div>\n",
              "<style scoped>\n",
              "    .dataframe tbody tr th:only-of-type {\n",
              "        vertical-align: middle;\n",
              "    }\n",
              "\n",
              "    .dataframe tbody tr th {\n",
              "        vertical-align: top;\n",
              "    }\n",
              "\n",
              "    .dataframe thead th {\n",
              "        text-align: right;\n",
              "    }\n",
              "</style>\n",
              "<table border=\"1\" class=\"dataframe\">\n",
              "  <thead>\n",
              "    <tr style=\"text-align: right;\">\n",
              "      <th></th>\n",
              "      <th>Unnamed: 0</th>\n",
              "      <th>화재발생연도</th>\n",
              "      <th>사망자수</th>\n",
              "      <th>재산피해금액</th>\n",
              "      <th>출동횟수</th>\n",
              "    </tr>\n",
              "  </thead>\n",
              "  <tbody>\n",
              "    <tr>\n",
              "      <th>0</th>\n",
              "      <td>count</td>\n",
              "      <td>5</td>\n",
              "      <td>5.000000</td>\n",
              "      <td>5.000000e+00</td>\n",
              "      <td>5.00000</td>\n",
              "    </tr>\n",
              "    <tr>\n",
              "      <th>1</th>\n",
              "      <td>mean</td>\n",
              "      <td>2021</td>\n",
              "      <td>2.400000</td>\n",
              "      <td>6.467606e+05</td>\n",
              "      <td>246.00000</td>\n",
              "    </tr>\n",
              "    <tr>\n",
              "      <th>2</th>\n",
              "      <td>std</td>\n",
              "      <td>0</td>\n",
              "      <td>1.516575</td>\n",
              "      <td>4.068877e+05</td>\n",
              "      <td>90.75792</td>\n",
              "    </tr>\n",
              "    <tr>\n",
              "      <th>3</th>\n",
              "      <td>min</td>\n",
              "      <td>2021</td>\n",
              "      <td>1.000000</td>\n",
              "      <td>3.467410e+05</td>\n",
              "      <td>146.00000</td>\n",
              "    </tr>\n",
              "    <tr>\n",
              "      <th>4</th>\n",
              "      <td>25%</td>\n",
              "      <td>2021</td>\n",
              "      <td>2.000000</td>\n",
              "      <td>4.102050e+05</td>\n",
              "      <td>211.00000</td>\n",
              "    </tr>\n",
              "    <tr>\n",
              "      <th>5</th>\n",
              "      <td>50%</td>\n",
              "      <td>2021</td>\n",
              "      <td>2.000000</td>\n",
              "      <td>5.596140e+05</td>\n",
              "      <td>223.00000</td>\n",
              "    </tr>\n",
              "    <tr>\n",
              "      <th>6</th>\n",
              "      <td>75%</td>\n",
              "      <td>2021</td>\n",
              "      <td>2.000000</td>\n",
              "      <td>5.622940e+05</td>\n",
              "      <td>259.00000</td>\n",
              "    </tr>\n",
              "    <tr>\n",
              "      <th>7</th>\n",
              "      <td>max</td>\n",
              "      <td>2021</td>\n",
              "      <td>5.000000</td>\n",
              "      <td>1.354949e+06</td>\n",
              "      <td>391.00000</td>\n",
              "    </tr>\n",
              "  </tbody>\n",
              "</table>\n",
              "</div>\n",
              "    <div class=\"colab-df-buttons\">\n",
              "\n",
              "  <div class=\"colab-df-container\">\n",
              "    <button class=\"colab-df-convert\" onclick=\"convertToInteractive('df-5ffb9395-06af-4577-86a0-3f006bc9184a')\"\n",
              "            title=\"Convert this dataframe to an interactive table.\"\n",
              "            style=\"display:none;\">\n",
              "\n",
              "  <svg xmlns=\"http://www.w3.org/2000/svg\" height=\"24px\" viewBox=\"0 -960 960 960\">\n",
              "    <path d=\"M120-120v-720h720v720H120Zm60-500h600v-160H180v160Zm220 220h160v-160H400v160Zm0 220h160v-160H400v160ZM180-400h160v-160H180v160Zm440 0h160v-160H620v160ZM180-180h160v-160H180v160Zm440 0h160v-160H620v160Z\"/>\n",
              "  </svg>\n",
              "    </button>\n",
              "\n",
              "  <style>\n",
              "    .colab-df-container {\n",
              "      display:flex;\n",
              "      gap: 12px;\n",
              "    }\n",
              "\n",
              "    .colab-df-convert {\n",
              "      background-color: #E8F0FE;\n",
              "      border: none;\n",
              "      border-radius: 50%;\n",
              "      cursor: pointer;\n",
              "      display: none;\n",
              "      fill: #1967D2;\n",
              "      height: 32px;\n",
              "      padding: 0 0 0 0;\n",
              "      width: 32px;\n",
              "    }\n",
              "\n",
              "    .colab-df-convert:hover {\n",
              "      background-color: #E2EBFA;\n",
              "      box-shadow: 0px 1px 2px rgba(60, 64, 67, 0.3), 0px 1px 3px 1px rgba(60, 64, 67, 0.15);\n",
              "      fill: #174EA6;\n",
              "    }\n",
              "\n",
              "    .colab-df-buttons div {\n",
              "      margin-bottom: 4px;\n",
              "    }\n",
              "\n",
              "    [theme=dark] .colab-df-convert {\n",
              "      background-color: #3B4455;\n",
              "      fill: #D2E3FC;\n",
              "    }\n",
              "\n",
              "    [theme=dark] .colab-df-convert:hover {\n",
              "      background-color: #434B5C;\n",
              "      box-shadow: 0px 1px 3px 1px rgba(0, 0, 0, 0.15);\n",
              "      filter: drop-shadow(0px 1px 2px rgba(0, 0, 0, 0.3));\n",
              "      fill: #FFFFFF;\n",
              "    }\n",
              "  </style>\n",
              "\n",
              "    <script>\n",
              "      const buttonEl =\n",
              "        document.querySelector('#df-5ffb9395-06af-4577-86a0-3f006bc9184a button.colab-df-convert');\n",
              "      buttonEl.style.display =\n",
              "        google.colab.kernel.accessAllowed ? 'block' : 'none';\n",
              "\n",
              "      async function convertToInteractive(key) {\n",
              "        const element = document.querySelector('#df-5ffb9395-06af-4577-86a0-3f006bc9184a');\n",
              "        const dataTable =\n",
              "          await google.colab.kernel.invokeFunction('convertToInteractive',\n",
              "                                                    [key], {});\n",
              "        if (!dataTable) return;\n",
              "\n",
              "        const docLinkHtml = 'Like what you see? Visit the ' +\n",
              "          '<a target=\"_blank\" href=https://colab.research.google.com/notebooks/data_table.ipynb>data table notebook</a>'\n",
              "          + ' to learn more about interactive tables.';\n",
              "        element.innerHTML = '';\n",
              "        dataTable['output_type'] = 'display_data';\n",
              "        await google.colab.output.renderOutput(dataTable, element);\n",
              "        const docLink = document.createElement('div');\n",
              "        docLink.innerHTML = docLinkHtml;\n",
              "        element.appendChild(docLink);\n",
              "      }\n",
              "    </script>\n",
              "  </div>\n",
              "\n",
              "\n",
              "<div id=\"df-29d230fe-9e7b-40c4-a115-01030c1b0ec7\">\n",
              "  <button class=\"colab-df-quickchart\" onclick=\"quickchart('df-29d230fe-9e7b-40c4-a115-01030c1b0ec7')\"\n",
              "            title=\"Suggest charts\"\n",
              "            style=\"display:none;\">\n",
              "\n",
              "<svg xmlns=\"http://www.w3.org/2000/svg\" height=\"24px\"viewBox=\"0 0 24 24\"\n",
              "     width=\"24px\">\n",
              "    <g>\n",
              "        <path d=\"M19 3H5c-1.1 0-2 .9-2 2v14c0 1.1.9 2 2 2h14c1.1 0 2-.9 2-2V5c0-1.1-.9-2-2-2zM9 17H7v-7h2v7zm4 0h-2V7h2v10zm4 0h-2v-4h2v4z\"/>\n",
              "    </g>\n",
              "</svg>\n",
              "  </button>\n",
              "\n",
              "<style>\n",
              "  .colab-df-quickchart {\n",
              "      --bg-color: #E8F0FE;\n",
              "      --fill-color: #1967D2;\n",
              "      --hover-bg-color: #E2EBFA;\n",
              "      --hover-fill-color: #174EA6;\n",
              "      --disabled-fill-color: #AAA;\n",
              "      --disabled-bg-color: #DDD;\n",
              "  }\n",
              "\n",
              "  [theme=dark] .colab-df-quickchart {\n",
              "      --bg-color: #3B4455;\n",
              "      --fill-color: #D2E3FC;\n",
              "      --hover-bg-color: #434B5C;\n",
              "      --hover-fill-color: #FFFFFF;\n",
              "      --disabled-bg-color: #3B4455;\n",
              "      --disabled-fill-color: #666;\n",
              "  }\n",
              "\n",
              "  .colab-df-quickchart {\n",
              "    background-color: var(--bg-color);\n",
              "    border: none;\n",
              "    border-radius: 50%;\n",
              "    cursor: pointer;\n",
              "    display: none;\n",
              "    fill: var(--fill-color);\n",
              "    height: 32px;\n",
              "    padding: 0;\n",
              "    width: 32px;\n",
              "  }\n",
              "\n",
              "  .colab-df-quickchart:hover {\n",
              "    background-color: var(--hover-bg-color);\n",
              "    box-shadow: 0 1px 2px rgba(60, 64, 67, 0.3), 0 1px 3px 1px rgba(60, 64, 67, 0.15);\n",
              "    fill: var(--button-hover-fill-color);\n",
              "  }\n",
              "\n",
              "  .colab-df-quickchart-complete:disabled,\n",
              "  .colab-df-quickchart-complete:disabled:hover {\n",
              "    background-color: var(--disabled-bg-color);\n",
              "    fill: var(--disabled-fill-color);\n",
              "    box-shadow: none;\n",
              "  }\n",
              "\n",
              "  .colab-df-spinner {\n",
              "    border: 2px solid var(--fill-color);\n",
              "    border-color: transparent;\n",
              "    border-bottom-color: var(--fill-color);\n",
              "    animation:\n",
              "      spin 1s steps(1) infinite;\n",
              "  }\n",
              "\n",
              "  @keyframes spin {\n",
              "    0% {\n",
              "      border-color: transparent;\n",
              "      border-bottom-color: var(--fill-color);\n",
              "      border-left-color: var(--fill-color);\n",
              "    }\n",
              "    20% {\n",
              "      border-color: transparent;\n",
              "      border-left-color: var(--fill-color);\n",
              "      border-top-color: var(--fill-color);\n",
              "    }\n",
              "    30% {\n",
              "      border-color: transparent;\n",
              "      border-left-color: var(--fill-color);\n",
              "      border-top-color: var(--fill-color);\n",
              "      border-right-color: var(--fill-color);\n",
              "    }\n",
              "    40% {\n",
              "      border-color: transparent;\n",
              "      border-right-color: var(--fill-color);\n",
              "      border-top-color: var(--fill-color);\n",
              "    }\n",
              "    60% {\n",
              "      border-color: transparent;\n",
              "      border-right-color: var(--fill-color);\n",
              "    }\n",
              "    80% {\n",
              "      border-color: transparent;\n",
              "      border-right-color: var(--fill-color);\n",
              "      border-bottom-color: var(--fill-color);\n",
              "    }\n",
              "    90% {\n",
              "      border-color: transparent;\n",
              "      border-bottom-color: var(--fill-color);\n",
              "    }\n",
              "  }\n",
              "</style>\n",
              "\n",
              "  <script>\n",
              "    async function quickchart(key) {\n",
              "      const quickchartButtonEl =\n",
              "        document.querySelector('#' + key + ' button');\n",
              "      quickchartButtonEl.disabled = true;  // To prevent multiple clicks.\n",
              "      quickchartButtonEl.classList.add('colab-df-spinner');\n",
              "      try {\n",
              "        const charts = await google.colab.kernel.invokeFunction(\n",
              "            'suggestCharts', [key], {});\n",
              "      } catch (error) {\n",
              "        console.error('Error during call to suggestCharts:', error);\n",
              "      }\n",
              "      quickchartButtonEl.classList.remove('colab-df-spinner');\n",
              "      quickchartButtonEl.classList.add('colab-df-quickchart-complete');\n",
              "    }\n",
              "    (() => {\n",
              "      let quickchartButtonEl =\n",
              "        document.querySelector('#df-29d230fe-9e7b-40c4-a115-01030c1b0ec7 button');\n",
              "      quickchartButtonEl.style.display =\n",
              "        google.colab.kernel.accessAllowed ? 'block' : 'none';\n",
              "    })();\n",
              "  </script>\n",
              "</div>\n",
              "\n",
              "  <div id=\"id_e4671571-b0a0-42ad-9b65-14c26fededdd\">\n",
              "    <style>\n",
              "      .colab-df-generate {\n",
              "        background-color: #E8F0FE;\n",
              "        border: none;\n",
              "        border-radius: 50%;\n",
              "        cursor: pointer;\n",
              "        display: none;\n",
              "        fill: #1967D2;\n",
              "        height: 32px;\n",
              "        padding: 0 0 0 0;\n",
              "        width: 32px;\n",
              "      }\n",
              "\n",
              "      .colab-df-generate:hover {\n",
              "        background-color: #E2EBFA;\n",
              "        box-shadow: 0px 1px 2px rgba(60, 64, 67, 0.3), 0px 1px 3px 1px rgba(60, 64, 67, 0.15);\n",
              "        fill: #174EA6;\n",
              "      }\n",
              "\n",
              "      [theme=dark] .colab-df-generate {\n",
              "        background-color: #3B4455;\n",
              "        fill: #D2E3FC;\n",
              "      }\n",
              "\n",
              "      [theme=dark] .colab-df-generate:hover {\n",
              "        background-color: #434B5C;\n",
              "        box-shadow: 0px 1px 3px 1px rgba(0, 0, 0, 0.15);\n",
              "        filter: drop-shadow(0px 1px 2px rgba(0, 0, 0, 0.3));\n",
              "        fill: #FFFFFF;\n",
              "      }\n",
              "    </style>\n",
              "    <button class=\"colab-df-generate\" onclick=\"generateWithVariable('excel_1')\"\n",
              "            title=\"Generate code using this dataframe.\"\n",
              "            style=\"display:none;\">\n",
              "\n",
              "  <svg xmlns=\"http://www.w3.org/2000/svg\" height=\"24px\"viewBox=\"0 0 24 24\"\n",
              "       width=\"24px\">\n",
              "    <path d=\"M7,19H8.4L18.45,9,17,7.55,7,17.6ZM5,21V16.75L18.45,3.32a2,2,0,0,1,2.83,0l1.4,1.43a1.91,1.91,0,0,1,.58,1.4,1.91,1.91,0,0,1-.58,1.4L9.25,21ZM18.45,9,17,7.55Zm-12,3A5.31,5.31,0,0,0,4.9,8.1,5.31,5.31,0,0,0,1,6.5,5.31,5.31,0,0,0,4.9,4.9,5.31,5.31,0,0,0,6.5,1,5.31,5.31,0,0,0,8.1,4.9,5.31,5.31,0,0,0,12,6.5,5.46,5.46,0,0,0,6.5,12Z\"/>\n",
              "  </svg>\n",
              "    </button>\n",
              "    <script>\n",
              "      (() => {\n",
              "      const buttonEl =\n",
              "        document.querySelector('#id_e4671571-b0a0-42ad-9b65-14c26fededdd button.colab-df-generate');\n",
              "      buttonEl.style.display =\n",
              "        google.colab.kernel.accessAllowed ? 'block' : 'none';\n",
              "\n",
              "      buttonEl.onclick = () => {\n",
              "        google.colab.notebook.generateWithVariable('excel_1');\n",
              "      }\n",
              "      })();\n",
              "    </script>\n",
              "  </div>\n",
              "\n",
              "    </div>\n",
              "  </div>\n"
            ],
            "application/vnd.google.colaboratory.intrinsic+json": {
              "type": "dataframe",
              "variable_name": "excel_1",
              "summary": "{\n  \"name\": \"excel_1\",\n  \"rows\": 8,\n  \"fields\": [\n    {\n      \"column\": \"Unnamed: 0\",\n      \"properties\": {\n        \"dtype\": \"string\",\n        \"num_unique_values\": 8,\n        \"samples\": [\n          \"mean\",\n          \"50%\",\n          \"count\"\n        ],\n        \"semantic_type\": \"\",\n        \"description\": \"\"\n      }\n    },\n    {\n      \"column\": \"\\ud654\\uc7ac\\ubc1c\\uc0dd\\uc5f0\\ub3c4\",\n      \"properties\": {\n        \"dtype\": \"number\",\n        \"std\": 934,\n        \"min\": 0,\n        \"max\": 2021,\n        \"num_unique_values\": 3,\n        \"samples\": [\n          5,\n          2021,\n          0\n        ],\n        \"semantic_type\": \"\",\n        \"description\": \"\"\n      }\n    },\n    {\n      \"column\": \"\\uc0ac\\ub9dd\\uc790\\uc218\",\n      \"properties\": {\n        \"dtype\": \"number\",\n        \"std\": 1.52933742979809,\n        \"min\": 1.0,\n        \"max\": 5.0,\n        \"num_unique_values\": 5,\n        \"samples\": [\n          2.4,\n          2.0,\n          1.51657508881031\n        ],\n        \"semantic_type\": \"\",\n        \"description\": \"\"\n      }\n    },\n    {\n      \"column\": \"\\uc7ac\\uc0b0\\ud53c\\ud574\\uae08\\uc561\",\n      \"properties\": {\n        \"dtype\": \"number\",\n        \"std\": 385412.2694466154,\n        \"min\": 5.0,\n        \"max\": 1354949.0,\n        \"num_unique_values\": 8,\n        \"samples\": [\n          646760.6,\n          559614.0,\n          5.0\n        ],\n        \"semantic_type\": \"\",\n        \"description\": \"\"\n      }\n    },\n    {\n      \"column\": \"\\ucd9c\\ub3d9\\ud69f\\uc218\",\n      \"properties\": {\n        \"dtype\": \"number\",\n        \"std\": 116.80455605543567,\n        \"min\": 5.0,\n        \"max\": 391.0,\n        \"num_unique_values\": 8,\n        \"samples\": [\n          246.0,\n          223.0,\n          5.0\n        ],\n        \"semantic_type\": \"\",\n        \"description\": \"\"\n      }\n    }\n  ]\n}"
            }
          },
          "metadata": {},
          "execution_count": 155
        }
      ],
      "source": [
        "excel_1 = pd.read_excel(\"요약표 작업.xlsx\")\n",
        "excel_1"
      ]
    },
    {
      "cell_type": "markdown",
      "metadata": {
        "id": "27b10282"
      },
      "source": [
        "- 특정 시트를 불러오고 싶다면 `sheet_name` 옵션으로 시트명이나 시트번호를 입력한다."
      ]
    },
    {
      "cell_type": "code",
      "execution_count": null,
      "metadata": {
        "colab": {
          "base_uri": "https://localhost:8080/",
          "height": 300
        },
        "id": "6885be92",
        "outputId": "edd6486d-f394-43c8-ebb2-47c99ecf6c88"
      },
      "outputs": [
        {
          "output_type": "execute_result",
          "data": {
            "text/plain": [
              "  Unnamed: 0  화재발생연도      사망자수        재산피해금액       출동횟수\n",
              "0      count       5  5.000000  5.000000e+00    5.00000\n",
              "1       mean    2021  2.400000  6.467606e+05  246.00000\n",
              "2        std       0  1.516575  4.068877e+05   90.75792\n",
              "3        min    2021  1.000000  3.467410e+05  146.00000\n",
              "4        25%    2021  2.000000  4.102050e+05  211.00000\n",
              "5        50%    2021  2.000000  5.596140e+05  223.00000\n",
              "6        75%    2021  2.000000  5.622940e+05  259.00000\n",
              "7        max    2021  5.000000  1.354949e+06  391.00000"
            ],
            "text/html": [
              "\n",
              "  <div id=\"df-304e7eae-dea6-4236-aad4-968b15e467be\" class=\"colab-df-container\">\n",
              "    <div>\n",
              "<style scoped>\n",
              "    .dataframe tbody tr th:only-of-type {\n",
              "        vertical-align: middle;\n",
              "    }\n",
              "\n",
              "    .dataframe tbody tr th {\n",
              "        vertical-align: top;\n",
              "    }\n",
              "\n",
              "    .dataframe thead th {\n",
              "        text-align: right;\n",
              "    }\n",
              "</style>\n",
              "<table border=\"1\" class=\"dataframe\">\n",
              "  <thead>\n",
              "    <tr style=\"text-align: right;\">\n",
              "      <th></th>\n",
              "      <th>Unnamed: 0</th>\n",
              "      <th>화재발생연도</th>\n",
              "      <th>사망자수</th>\n",
              "      <th>재산피해금액</th>\n",
              "      <th>출동횟수</th>\n",
              "    </tr>\n",
              "  </thead>\n",
              "  <tbody>\n",
              "    <tr>\n",
              "      <th>0</th>\n",
              "      <td>count</td>\n",
              "      <td>5</td>\n",
              "      <td>5.000000</td>\n",
              "      <td>5.000000e+00</td>\n",
              "      <td>5.00000</td>\n",
              "    </tr>\n",
              "    <tr>\n",
              "      <th>1</th>\n",
              "      <td>mean</td>\n",
              "      <td>2021</td>\n",
              "      <td>2.400000</td>\n",
              "      <td>6.467606e+05</td>\n",
              "      <td>246.00000</td>\n",
              "    </tr>\n",
              "    <tr>\n",
              "      <th>2</th>\n",
              "      <td>std</td>\n",
              "      <td>0</td>\n",
              "      <td>1.516575</td>\n",
              "      <td>4.068877e+05</td>\n",
              "      <td>90.75792</td>\n",
              "    </tr>\n",
              "    <tr>\n",
              "      <th>3</th>\n",
              "      <td>min</td>\n",
              "      <td>2021</td>\n",
              "      <td>1.000000</td>\n",
              "      <td>3.467410e+05</td>\n",
              "      <td>146.00000</td>\n",
              "    </tr>\n",
              "    <tr>\n",
              "      <th>4</th>\n",
              "      <td>25%</td>\n",
              "      <td>2021</td>\n",
              "      <td>2.000000</td>\n",
              "      <td>4.102050e+05</td>\n",
              "      <td>211.00000</td>\n",
              "    </tr>\n",
              "    <tr>\n",
              "      <th>5</th>\n",
              "      <td>50%</td>\n",
              "      <td>2021</td>\n",
              "      <td>2.000000</td>\n",
              "      <td>5.596140e+05</td>\n",
              "      <td>223.00000</td>\n",
              "    </tr>\n",
              "    <tr>\n",
              "      <th>6</th>\n",
              "      <td>75%</td>\n",
              "      <td>2021</td>\n",
              "      <td>2.000000</td>\n",
              "      <td>5.622940e+05</td>\n",
              "      <td>259.00000</td>\n",
              "    </tr>\n",
              "    <tr>\n",
              "      <th>7</th>\n",
              "      <td>max</td>\n",
              "      <td>2021</td>\n",
              "      <td>5.000000</td>\n",
              "      <td>1.354949e+06</td>\n",
              "      <td>391.00000</td>\n",
              "    </tr>\n",
              "  </tbody>\n",
              "</table>\n",
              "</div>\n",
              "    <div class=\"colab-df-buttons\">\n",
              "\n",
              "  <div class=\"colab-df-container\">\n",
              "    <button class=\"colab-df-convert\" onclick=\"convertToInteractive('df-304e7eae-dea6-4236-aad4-968b15e467be')\"\n",
              "            title=\"Convert this dataframe to an interactive table.\"\n",
              "            style=\"display:none;\">\n",
              "\n",
              "  <svg xmlns=\"http://www.w3.org/2000/svg\" height=\"24px\" viewBox=\"0 -960 960 960\">\n",
              "    <path d=\"M120-120v-720h720v720H120Zm60-500h600v-160H180v160Zm220 220h160v-160H400v160Zm0 220h160v-160H400v160ZM180-400h160v-160H180v160Zm440 0h160v-160H620v160ZM180-180h160v-160H180v160Zm440 0h160v-160H620v160Z\"/>\n",
              "  </svg>\n",
              "    </button>\n",
              "\n",
              "  <style>\n",
              "    .colab-df-container {\n",
              "      display:flex;\n",
              "      gap: 12px;\n",
              "    }\n",
              "\n",
              "    .colab-df-convert {\n",
              "      background-color: #E8F0FE;\n",
              "      border: none;\n",
              "      border-radius: 50%;\n",
              "      cursor: pointer;\n",
              "      display: none;\n",
              "      fill: #1967D2;\n",
              "      height: 32px;\n",
              "      padding: 0 0 0 0;\n",
              "      width: 32px;\n",
              "    }\n",
              "\n",
              "    .colab-df-convert:hover {\n",
              "      background-color: #E2EBFA;\n",
              "      box-shadow: 0px 1px 2px rgba(60, 64, 67, 0.3), 0px 1px 3px 1px rgba(60, 64, 67, 0.15);\n",
              "      fill: #174EA6;\n",
              "    }\n",
              "\n",
              "    .colab-df-buttons div {\n",
              "      margin-bottom: 4px;\n",
              "    }\n",
              "\n",
              "    [theme=dark] .colab-df-convert {\n",
              "      background-color: #3B4455;\n",
              "      fill: #D2E3FC;\n",
              "    }\n",
              "\n",
              "    [theme=dark] .colab-df-convert:hover {\n",
              "      background-color: #434B5C;\n",
              "      box-shadow: 0px 1px 3px 1px rgba(0, 0, 0, 0.15);\n",
              "      filter: drop-shadow(0px 1px 2px rgba(0, 0, 0, 0.3));\n",
              "      fill: #FFFFFF;\n",
              "    }\n",
              "  </style>\n",
              "\n",
              "    <script>\n",
              "      const buttonEl =\n",
              "        document.querySelector('#df-304e7eae-dea6-4236-aad4-968b15e467be button.colab-df-convert');\n",
              "      buttonEl.style.display =\n",
              "        google.colab.kernel.accessAllowed ? 'block' : 'none';\n",
              "\n",
              "      async function convertToInteractive(key) {\n",
              "        const element = document.querySelector('#df-304e7eae-dea6-4236-aad4-968b15e467be');\n",
              "        const dataTable =\n",
              "          await google.colab.kernel.invokeFunction('convertToInteractive',\n",
              "                                                    [key], {});\n",
              "        if (!dataTable) return;\n",
              "\n",
              "        const docLinkHtml = 'Like what you see? Visit the ' +\n",
              "          '<a target=\"_blank\" href=https://colab.research.google.com/notebooks/data_table.ipynb>data table notebook</a>'\n",
              "          + ' to learn more about interactive tables.';\n",
              "        element.innerHTML = '';\n",
              "        dataTable['output_type'] = 'display_data';\n",
              "        await google.colab.output.renderOutput(dataTable, element);\n",
              "        const docLink = document.createElement('div');\n",
              "        docLink.innerHTML = docLinkHtml;\n",
              "        element.appendChild(docLink);\n",
              "      }\n",
              "    </script>\n",
              "  </div>\n",
              "\n",
              "\n",
              "<div id=\"df-c6701c2f-c663-435a-8736-1efa52641014\">\n",
              "  <button class=\"colab-df-quickchart\" onclick=\"quickchart('df-c6701c2f-c663-435a-8736-1efa52641014')\"\n",
              "            title=\"Suggest charts\"\n",
              "            style=\"display:none;\">\n",
              "\n",
              "<svg xmlns=\"http://www.w3.org/2000/svg\" height=\"24px\"viewBox=\"0 0 24 24\"\n",
              "     width=\"24px\">\n",
              "    <g>\n",
              "        <path d=\"M19 3H5c-1.1 0-2 .9-2 2v14c0 1.1.9 2 2 2h14c1.1 0 2-.9 2-2V5c0-1.1-.9-2-2-2zM9 17H7v-7h2v7zm4 0h-2V7h2v10zm4 0h-2v-4h2v4z\"/>\n",
              "    </g>\n",
              "</svg>\n",
              "  </button>\n",
              "\n",
              "<style>\n",
              "  .colab-df-quickchart {\n",
              "      --bg-color: #E8F0FE;\n",
              "      --fill-color: #1967D2;\n",
              "      --hover-bg-color: #E2EBFA;\n",
              "      --hover-fill-color: #174EA6;\n",
              "      --disabled-fill-color: #AAA;\n",
              "      --disabled-bg-color: #DDD;\n",
              "  }\n",
              "\n",
              "  [theme=dark] .colab-df-quickchart {\n",
              "      --bg-color: #3B4455;\n",
              "      --fill-color: #D2E3FC;\n",
              "      --hover-bg-color: #434B5C;\n",
              "      --hover-fill-color: #FFFFFF;\n",
              "      --disabled-bg-color: #3B4455;\n",
              "      --disabled-fill-color: #666;\n",
              "  }\n",
              "\n",
              "  .colab-df-quickchart {\n",
              "    background-color: var(--bg-color);\n",
              "    border: none;\n",
              "    border-radius: 50%;\n",
              "    cursor: pointer;\n",
              "    display: none;\n",
              "    fill: var(--fill-color);\n",
              "    height: 32px;\n",
              "    padding: 0;\n",
              "    width: 32px;\n",
              "  }\n",
              "\n",
              "  .colab-df-quickchart:hover {\n",
              "    background-color: var(--hover-bg-color);\n",
              "    box-shadow: 0 1px 2px rgba(60, 64, 67, 0.3), 0 1px 3px 1px rgba(60, 64, 67, 0.15);\n",
              "    fill: var(--button-hover-fill-color);\n",
              "  }\n",
              "\n",
              "  .colab-df-quickchart-complete:disabled,\n",
              "  .colab-df-quickchart-complete:disabled:hover {\n",
              "    background-color: var(--disabled-bg-color);\n",
              "    fill: var(--disabled-fill-color);\n",
              "    box-shadow: none;\n",
              "  }\n",
              "\n",
              "  .colab-df-spinner {\n",
              "    border: 2px solid var(--fill-color);\n",
              "    border-color: transparent;\n",
              "    border-bottom-color: var(--fill-color);\n",
              "    animation:\n",
              "      spin 1s steps(1) infinite;\n",
              "  }\n",
              "\n",
              "  @keyframes spin {\n",
              "    0% {\n",
              "      border-color: transparent;\n",
              "      border-bottom-color: var(--fill-color);\n",
              "      border-left-color: var(--fill-color);\n",
              "    }\n",
              "    20% {\n",
              "      border-color: transparent;\n",
              "      border-left-color: var(--fill-color);\n",
              "      border-top-color: var(--fill-color);\n",
              "    }\n",
              "    30% {\n",
              "      border-color: transparent;\n",
              "      border-left-color: var(--fill-color);\n",
              "      border-top-color: var(--fill-color);\n",
              "      border-right-color: var(--fill-color);\n",
              "    }\n",
              "    40% {\n",
              "      border-color: transparent;\n",
              "      border-right-color: var(--fill-color);\n",
              "      border-top-color: var(--fill-color);\n",
              "    }\n",
              "    60% {\n",
              "      border-color: transparent;\n",
              "      border-right-color: var(--fill-color);\n",
              "    }\n",
              "    80% {\n",
              "      border-color: transparent;\n",
              "      border-right-color: var(--fill-color);\n",
              "      border-bottom-color: var(--fill-color);\n",
              "    }\n",
              "    90% {\n",
              "      border-color: transparent;\n",
              "      border-bottom-color: var(--fill-color);\n",
              "    }\n",
              "  }\n",
              "</style>\n",
              "\n",
              "  <script>\n",
              "    async function quickchart(key) {\n",
              "      const quickchartButtonEl =\n",
              "        document.querySelector('#' + key + ' button');\n",
              "      quickchartButtonEl.disabled = true;  // To prevent multiple clicks.\n",
              "      quickchartButtonEl.classList.add('colab-df-spinner');\n",
              "      try {\n",
              "        const charts = await google.colab.kernel.invokeFunction(\n",
              "            'suggestCharts', [key], {});\n",
              "      } catch (error) {\n",
              "        console.error('Error during call to suggestCharts:', error);\n",
              "      }\n",
              "      quickchartButtonEl.classList.remove('colab-df-spinner');\n",
              "      quickchartButtonEl.classList.add('colab-df-quickchart-complete');\n",
              "    }\n",
              "    (() => {\n",
              "      let quickchartButtonEl =\n",
              "        document.querySelector('#df-c6701c2f-c663-435a-8736-1efa52641014 button');\n",
              "      quickchartButtonEl.style.display =\n",
              "        google.colab.kernel.accessAllowed ? 'block' : 'none';\n",
              "    })();\n",
              "  </script>\n",
              "</div>\n",
              "\n",
              "  <div id=\"id_25a26035-68b9-4eae-b7e4-4f8529ad3608\">\n",
              "    <style>\n",
              "      .colab-df-generate {\n",
              "        background-color: #E8F0FE;\n",
              "        border: none;\n",
              "        border-radius: 50%;\n",
              "        cursor: pointer;\n",
              "        display: none;\n",
              "        fill: #1967D2;\n",
              "        height: 32px;\n",
              "        padding: 0 0 0 0;\n",
              "        width: 32px;\n",
              "      }\n",
              "\n",
              "      .colab-df-generate:hover {\n",
              "        background-color: #E2EBFA;\n",
              "        box-shadow: 0px 1px 2px rgba(60, 64, 67, 0.3), 0px 1px 3px 1px rgba(60, 64, 67, 0.15);\n",
              "        fill: #174EA6;\n",
              "      }\n",
              "\n",
              "      [theme=dark] .colab-df-generate {\n",
              "        background-color: #3B4455;\n",
              "        fill: #D2E3FC;\n",
              "      }\n",
              "\n",
              "      [theme=dark] .colab-df-generate:hover {\n",
              "        background-color: #434B5C;\n",
              "        box-shadow: 0px 1px 3px 1px rgba(0, 0, 0, 0.15);\n",
              "        filter: drop-shadow(0px 1px 2px rgba(0, 0, 0, 0.3));\n",
              "        fill: #FFFFFF;\n",
              "      }\n",
              "    </style>\n",
              "    <button class=\"colab-df-generate\" onclick=\"generateWithVariable('excel_2')\"\n",
              "            title=\"Generate code using this dataframe.\"\n",
              "            style=\"display:none;\">\n",
              "\n",
              "  <svg xmlns=\"http://www.w3.org/2000/svg\" height=\"24px\"viewBox=\"0 0 24 24\"\n",
              "       width=\"24px\">\n",
              "    <path d=\"M7,19H8.4L18.45,9,17,7.55,7,17.6ZM5,21V16.75L18.45,3.32a2,2,0,0,1,2.83,0l1.4,1.43a1.91,1.91,0,0,1,.58,1.4,1.91,1.91,0,0,1-.58,1.4L9.25,21ZM18.45,9,17,7.55Zm-12,3A5.31,5.31,0,0,0,4.9,8.1,5.31,5.31,0,0,0,1,6.5,5.31,5.31,0,0,0,4.9,4.9,5.31,5.31,0,0,0,6.5,1,5.31,5.31,0,0,0,8.1,4.9,5.31,5.31,0,0,0,12,6.5,5.46,5.46,0,0,0,6.5,12Z\"/>\n",
              "  </svg>\n",
              "    </button>\n",
              "    <script>\n",
              "      (() => {\n",
              "      const buttonEl =\n",
              "        document.querySelector('#id_25a26035-68b9-4eae-b7e4-4f8529ad3608 button.colab-df-generate');\n",
              "      buttonEl.style.display =\n",
              "        google.colab.kernel.accessAllowed ? 'block' : 'none';\n",
              "\n",
              "      buttonEl.onclick = () => {\n",
              "        google.colab.notebook.generateWithVariable('excel_2');\n",
              "      }\n",
              "      })();\n",
              "    </script>\n",
              "  </div>\n",
              "\n",
              "    </div>\n",
              "  </div>\n"
            ],
            "application/vnd.google.colaboratory.intrinsic+json": {
              "type": "dataframe",
              "variable_name": "excel_2",
              "summary": "{\n  \"name\": \"excel_2\",\n  \"rows\": 8,\n  \"fields\": [\n    {\n      \"column\": \"Unnamed: 0\",\n      \"properties\": {\n        \"dtype\": \"string\",\n        \"num_unique_values\": 8,\n        \"samples\": [\n          \"mean\",\n          \"50%\",\n          \"count\"\n        ],\n        \"semantic_type\": \"\",\n        \"description\": \"\"\n      }\n    },\n    {\n      \"column\": \"\\ud654\\uc7ac\\ubc1c\\uc0dd\\uc5f0\\ub3c4\",\n      \"properties\": {\n        \"dtype\": \"number\",\n        \"std\": 934,\n        \"min\": 0,\n        \"max\": 2021,\n        \"num_unique_values\": 3,\n        \"samples\": [\n          5,\n          2021,\n          0\n        ],\n        \"semantic_type\": \"\",\n        \"description\": \"\"\n      }\n    },\n    {\n      \"column\": \"\\uc0ac\\ub9dd\\uc790\\uc218\",\n      \"properties\": {\n        \"dtype\": \"number\",\n        \"std\": 1.52933742979809,\n        \"min\": 1.0,\n        \"max\": 5.0,\n        \"num_unique_values\": 5,\n        \"samples\": [\n          2.4,\n          2.0,\n          1.51657508881031\n        ],\n        \"semantic_type\": \"\",\n        \"description\": \"\"\n      }\n    },\n    {\n      \"column\": \"\\uc7ac\\uc0b0\\ud53c\\ud574\\uae08\\uc561\",\n      \"properties\": {\n        \"dtype\": \"number\",\n        \"std\": 385412.2694466154,\n        \"min\": 5.0,\n        \"max\": 1354949.0,\n        \"num_unique_values\": 8,\n        \"samples\": [\n          646760.6,\n          559614.0,\n          5.0\n        ],\n        \"semantic_type\": \"\",\n        \"description\": \"\"\n      }\n    },\n    {\n      \"column\": \"\\ucd9c\\ub3d9\\ud69f\\uc218\",\n      \"properties\": {\n        \"dtype\": \"number\",\n        \"std\": 116.80455605543567,\n        \"min\": 5.0,\n        \"max\": 391.0,\n        \"num_unique_values\": 8,\n        \"samples\": [\n          246.0,\n          223.0,\n          5.0\n        ],\n        \"semantic_type\": \"\",\n        \"description\": \"\"\n      }\n    }\n  ]\n}"
            }
          },
          "metadata": {},
          "execution_count": 156
        }
      ],
      "source": [
        "excel_2 = pd.read_excel(\"요약표 작업.xlsx\", sheet_name = '2021년도 요약표')\n",
        "excel_2"
      ]
    },
    {
      "cell_type": "code",
      "execution_count": null,
      "metadata": {
        "colab": {
          "base_uri": "https://localhost:8080/",
          "height": 300
        },
        "id": "2ae94ab8",
        "outputId": "0ee87856-5dee-45bc-e333-18046bcafe4c"
      },
      "outputs": [
        {
          "output_type": "execute_result",
          "data": {
            "text/plain": [
              "  Unnamed: 0  화재발생연도      사망자수        재산피해금액       출동횟수\n",
              "0      count       5  5.000000  5.000000e+00    5.00000\n",
              "1       mean    2021  2.400000  6.467606e+05  246.00000\n",
              "2        std       0  1.516575  4.068877e+05   90.75792\n",
              "3        min    2021  1.000000  3.467410e+05  146.00000\n",
              "4        25%    2021  2.000000  4.102050e+05  211.00000\n",
              "5        50%    2021  2.000000  5.596140e+05  223.00000\n",
              "6        75%    2021  2.000000  5.622940e+05  259.00000\n",
              "7        max    2021  5.000000  1.354949e+06  391.00000"
            ],
            "text/html": [
              "\n",
              "  <div id=\"df-7084ba38-2683-4fb8-a301-be81304daa4a\" class=\"colab-df-container\">\n",
              "    <div>\n",
              "<style scoped>\n",
              "    .dataframe tbody tr th:only-of-type {\n",
              "        vertical-align: middle;\n",
              "    }\n",
              "\n",
              "    .dataframe tbody tr th {\n",
              "        vertical-align: top;\n",
              "    }\n",
              "\n",
              "    .dataframe thead th {\n",
              "        text-align: right;\n",
              "    }\n",
              "</style>\n",
              "<table border=\"1\" class=\"dataframe\">\n",
              "  <thead>\n",
              "    <tr style=\"text-align: right;\">\n",
              "      <th></th>\n",
              "      <th>Unnamed: 0</th>\n",
              "      <th>화재발생연도</th>\n",
              "      <th>사망자수</th>\n",
              "      <th>재산피해금액</th>\n",
              "      <th>출동횟수</th>\n",
              "    </tr>\n",
              "  </thead>\n",
              "  <tbody>\n",
              "    <tr>\n",
              "      <th>0</th>\n",
              "      <td>count</td>\n",
              "      <td>5</td>\n",
              "      <td>5.000000</td>\n",
              "      <td>5.000000e+00</td>\n",
              "      <td>5.00000</td>\n",
              "    </tr>\n",
              "    <tr>\n",
              "      <th>1</th>\n",
              "      <td>mean</td>\n",
              "      <td>2021</td>\n",
              "      <td>2.400000</td>\n",
              "      <td>6.467606e+05</td>\n",
              "      <td>246.00000</td>\n",
              "    </tr>\n",
              "    <tr>\n",
              "      <th>2</th>\n",
              "      <td>std</td>\n",
              "      <td>0</td>\n",
              "      <td>1.516575</td>\n",
              "      <td>4.068877e+05</td>\n",
              "      <td>90.75792</td>\n",
              "    </tr>\n",
              "    <tr>\n",
              "      <th>3</th>\n",
              "      <td>min</td>\n",
              "      <td>2021</td>\n",
              "      <td>1.000000</td>\n",
              "      <td>3.467410e+05</td>\n",
              "      <td>146.00000</td>\n",
              "    </tr>\n",
              "    <tr>\n",
              "      <th>4</th>\n",
              "      <td>25%</td>\n",
              "      <td>2021</td>\n",
              "      <td>2.000000</td>\n",
              "      <td>4.102050e+05</td>\n",
              "      <td>211.00000</td>\n",
              "    </tr>\n",
              "    <tr>\n",
              "      <th>5</th>\n",
              "      <td>50%</td>\n",
              "      <td>2021</td>\n",
              "      <td>2.000000</td>\n",
              "      <td>5.596140e+05</td>\n",
              "      <td>223.00000</td>\n",
              "    </tr>\n",
              "    <tr>\n",
              "      <th>6</th>\n",
              "      <td>75%</td>\n",
              "      <td>2021</td>\n",
              "      <td>2.000000</td>\n",
              "      <td>5.622940e+05</td>\n",
              "      <td>259.00000</td>\n",
              "    </tr>\n",
              "    <tr>\n",
              "      <th>7</th>\n",
              "      <td>max</td>\n",
              "      <td>2021</td>\n",
              "      <td>5.000000</td>\n",
              "      <td>1.354949e+06</td>\n",
              "      <td>391.00000</td>\n",
              "    </tr>\n",
              "  </tbody>\n",
              "</table>\n",
              "</div>\n",
              "    <div class=\"colab-df-buttons\">\n",
              "\n",
              "  <div class=\"colab-df-container\">\n",
              "    <button class=\"colab-df-convert\" onclick=\"convertToInteractive('df-7084ba38-2683-4fb8-a301-be81304daa4a')\"\n",
              "            title=\"Convert this dataframe to an interactive table.\"\n",
              "            style=\"display:none;\">\n",
              "\n",
              "  <svg xmlns=\"http://www.w3.org/2000/svg\" height=\"24px\" viewBox=\"0 -960 960 960\">\n",
              "    <path d=\"M120-120v-720h720v720H120Zm60-500h600v-160H180v160Zm220 220h160v-160H400v160Zm0 220h160v-160H400v160ZM180-400h160v-160H180v160Zm440 0h160v-160H620v160ZM180-180h160v-160H180v160Zm440 0h160v-160H620v160Z\"/>\n",
              "  </svg>\n",
              "    </button>\n",
              "\n",
              "  <style>\n",
              "    .colab-df-container {\n",
              "      display:flex;\n",
              "      gap: 12px;\n",
              "    }\n",
              "\n",
              "    .colab-df-convert {\n",
              "      background-color: #E8F0FE;\n",
              "      border: none;\n",
              "      border-radius: 50%;\n",
              "      cursor: pointer;\n",
              "      display: none;\n",
              "      fill: #1967D2;\n",
              "      height: 32px;\n",
              "      padding: 0 0 0 0;\n",
              "      width: 32px;\n",
              "    }\n",
              "\n",
              "    .colab-df-convert:hover {\n",
              "      background-color: #E2EBFA;\n",
              "      box-shadow: 0px 1px 2px rgba(60, 64, 67, 0.3), 0px 1px 3px 1px rgba(60, 64, 67, 0.15);\n",
              "      fill: #174EA6;\n",
              "    }\n",
              "\n",
              "    .colab-df-buttons div {\n",
              "      margin-bottom: 4px;\n",
              "    }\n",
              "\n",
              "    [theme=dark] .colab-df-convert {\n",
              "      background-color: #3B4455;\n",
              "      fill: #D2E3FC;\n",
              "    }\n",
              "\n",
              "    [theme=dark] .colab-df-convert:hover {\n",
              "      background-color: #434B5C;\n",
              "      box-shadow: 0px 1px 3px 1px rgba(0, 0, 0, 0.15);\n",
              "      filter: drop-shadow(0px 1px 2px rgba(0, 0, 0, 0.3));\n",
              "      fill: #FFFFFF;\n",
              "    }\n",
              "  </style>\n",
              "\n",
              "    <script>\n",
              "      const buttonEl =\n",
              "        document.querySelector('#df-7084ba38-2683-4fb8-a301-be81304daa4a button.colab-df-convert');\n",
              "      buttonEl.style.display =\n",
              "        google.colab.kernel.accessAllowed ? 'block' : 'none';\n",
              "\n",
              "      async function convertToInteractive(key) {\n",
              "        const element = document.querySelector('#df-7084ba38-2683-4fb8-a301-be81304daa4a');\n",
              "        const dataTable =\n",
              "          await google.colab.kernel.invokeFunction('convertToInteractive',\n",
              "                                                    [key], {});\n",
              "        if (!dataTable) return;\n",
              "\n",
              "        const docLinkHtml = 'Like what you see? Visit the ' +\n",
              "          '<a target=\"_blank\" href=https://colab.research.google.com/notebooks/data_table.ipynb>data table notebook</a>'\n",
              "          + ' to learn more about interactive tables.';\n",
              "        element.innerHTML = '';\n",
              "        dataTable['output_type'] = 'display_data';\n",
              "        await google.colab.output.renderOutput(dataTable, element);\n",
              "        const docLink = document.createElement('div');\n",
              "        docLink.innerHTML = docLinkHtml;\n",
              "        element.appendChild(docLink);\n",
              "      }\n",
              "    </script>\n",
              "  </div>\n",
              "\n",
              "\n",
              "<div id=\"df-5d8b543e-c778-491d-88e0-82cf6933e2a7\">\n",
              "  <button class=\"colab-df-quickchart\" onclick=\"quickchart('df-5d8b543e-c778-491d-88e0-82cf6933e2a7')\"\n",
              "            title=\"Suggest charts\"\n",
              "            style=\"display:none;\">\n",
              "\n",
              "<svg xmlns=\"http://www.w3.org/2000/svg\" height=\"24px\"viewBox=\"0 0 24 24\"\n",
              "     width=\"24px\">\n",
              "    <g>\n",
              "        <path d=\"M19 3H5c-1.1 0-2 .9-2 2v14c0 1.1.9 2 2 2h14c1.1 0 2-.9 2-2V5c0-1.1-.9-2-2-2zM9 17H7v-7h2v7zm4 0h-2V7h2v10zm4 0h-2v-4h2v4z\"/>\n",
              "    </g>\n",
              "</svg>\n",
              "  </button>\n",
              "\n",
              "<style>\n",
              "  .colab-df-quickchart {\n",
              "      --bg-color: #E8F0FE;\n",
              "      --fill-color: #1967D2;\n",
              "      --hover-bg-color: #E2EBFA;\n",
              "      --hover-fill-color: #174EA6;\n",
              "      --disabled-fill-color: #AAA;\n",
              "      --disabled-bg-color: #DDD;\n",
              "  }\n",
              "\n",
              "  [theme=dark] .colab-df-quickchart {\n",
              "      --bg-color: #3B4455;\n",
              "      --fill-color: #D2E3FC;\n",
              "      --hover-bg-color: #434B5C;\n",
              "      --hover-fill-color: #FFFFFF;\n",
              "      --disabled-bg-color: #3B4455;\n",
              "      --disabled-fill-color: #666;\n",
              "  }\n",
              "\n",
              "  .colab-df-quickchart {\n",
              "    background-color: var(--bg-color);\n",
              "    border: none;\n",
              "    border-radius: 50%;\n",
              "    cursor: pointer;\n",
              "    display: none;\n",
              "    fill: var(--fill-color);\n",
              "    height: 32px;\n",
              "    padding: 0;\n",
              "    width: 32px;\n",
              "  }\n",
              "\n",
              "  .colab-df-quickchart:hover {\n",
              "    background-color: var(--hover-bg-color);\n",
              "    box-shadow: 0 1px 2px rgba(60, 64, 67, 0.3), 0 1px 3px 1px rgba(60, 64, 67, 0.15);\n",
              "    fill: var(--button-hover-fill-color);\n",
              "  }\n",
              "\n",
              "  .colab-df-quickchart-complete:disabled,\n",
              "  .colab-df-quickchart-complete:disabled:hover {\n",
              "    background-color: var(--disabled-bg-color);\n",
              "    fill: var(--disabled-fill-color);\n",
              "    box-shadow: none;\n",
              "  }\n",
              "\n",
              "  .colab-df-spinner {\n",
              "    border: 2px solid var(--fill-color);\n",
              "    border-color: transparent;\n",
              "    border-bottom-color: var(--fill-color);\n",
              "    animation:\n",
              "      spin 1s steps(1) infinite;\n",
              "  }\n",
              "\n",
              "  @keyframes spin {\n",
              "    0% {\n",
              "      border-color: transparent;\n",
              "      border-bottom-color: var(--fill-color);\n",
              "      border-left-color: var(--fill-color);\n",
              "    }\n",
              "    20% {\n",
              "      border-color: transparent;\n",
              "      border-left-color: var(--fill-color);\n",
              "      border-top-color: var(--fill-color);\n",
              "    }\n",
              "    30% {\n",
              "      border-color: transparent;\n",
              "      border-left-color: var(--fill-color);\n",
              "      border-top-color: var(--fill-color);\n",
              "      border-right-color: var(--fill-color);\n",
              "    }\n",
              "    40% {\n",
              "      border-color: transparent;\n",
              "      border-right-color: var(--fill-color);\n",
              "      border-top-color: var(--fill-color);\n",
              "    }\n",
              "    60% {\n",
              "      border-color: transparent;\n",
              "      border-right-color: var(--fill-color);\n",
              "    }\n",
              "    80% {\n",
              "      border-color: transparent;\n",
              "      border-right-color: var(--fill-color);\n",
              "      border-bottom-color: var(--fill-color);\n",
              "    }\n",
              "    90% {\n",
              "      border-color: transparent;\n",
              "      border-bottom-color: var(--fill-color);\n",
              "    }\n",
              "  }\n",
              "</style>\n",
              "\n",
              "  <script>\n",
              "    async function quickchart(key) {\n",
              "      const quickchartButtonEl =\n",
              "        document.querySelector('#' + key + ' button');\n",
              "      quickchartButtonEl.disabled = true;  // To prevent multiple clicks.\n",
              "      quickchartButtonEl.classList.add('colab-df-spinner');\n",
              "      try {\n",
              "        const charts = await google.colab.kernel.invokeFunction(\n",
              "            'suggestCharts', [key], {});\n",
              "      } catch (error) {\n",
              "        console.error('Error during call to suggestCharts:', error);\n",
              "      }\n",
              "      quickchartButtonEl.classList.remove('colab-df-spinner');\n",
              "      quickchartButtonEl.classList.add('colab-df-quickchart-complete');\n",
              "    }\n",
              "    (() => {\n",
              "      let quickchartButtonEl =\n",
              "        document.querySelector('#df-5d8b543e-c778-491d-88e0-82cf6933e2a7 button');\n",
              "      quickchartButtonEl.style.display =\n",
              "        google.colab.kernel.accessAllowed ? 'block' : 'none';\n",
              "    })();\n",
              "  </script>\n",
              "</div>\n",
              "\n",
              "  <div id=\"id_5d15f4db-7628-4a3e-8741-398fd02acce5\">\n",
              "    <style>\n",
              "      .colab-df-generate {\n",
              "        background-color: #E8F0FE;\n",
              "        border: none;\n",
              "        border-radius: 50%;\n",
              "        cursor: pointer;\n",
              "        display: none;\n",
              "        fill: #1967D2;\n",
              "        height: 32px;\n",
              "        padding: 0 0 0 0;\n",
              "        width: 32px;\n",
              "      }\n",
              "\n",
              "      .colab-df-generate:hover {\n",
              "        background-color: #E2EBFA;\n",
              "        box-shadow: 0px 1px 2px rgba(60, 64, 67, 0.3), 0px 1px 3px 1px rgba(60, 64, 67, 0.15);\n",
              "        fill: #174EA6;\n",
              "      }\n",
              "\n",
              "      [theme=dark] .colab-df-generate {\n",
              "        background-color: #3B4455;\n",
              "        fill: #D2E3FC;\n",
              "      }\n",
              "\n",
              "      [theme=dark] .colab-df-generate:hover {\n",
              "        background-color: #434B5C;\n",
              "        box-shadow: 0px 1px 3px 1px rgba(0, 0, 0, 0.15);\n",
              "        filter: drop-shadow(0px 1px 2px rgba(0, 0, 0, 0.3));\n",
              "        fill: #FFFFFF;\n",
              "      }\n",
              "    </style>\n",
              "    <button class=\"colab-df-generate\" onclick=\"generateWithVariable('excel_3')\"\n",
              "            title=\"Generate code using this dataframe.\"\n",
              "            style=\"display:none;\">\n",
              "\n",
              "  <svg xmlns=\"http://www.w3.org/2000/svg\" height=\"24px\"viewBox=\"0 0 24 24\"\n",
              "       width=\"24px\">\n",
              "    <path d=\"M7,19H8.4L18.45,9,17,7.55,7,17.6ZM5,21V16.75L18.45,3.32a2,2,0,0,1,2.83,0l1.4,1.43a1.91,1.91,0,0,1,.58,1.4,1.91,1.91,0,0,1-.58,1.4L9.25,21ZM18.45,9,17,7.55Zm-12,3A5.31,5.31,0,0,0,4.9,8.1,5.31,5.31,0,0,0,1,6.5,5.31,5.31,0,0,0,4.9,4.9,5.31,5.31,0,0,0,6.5,1,5.31,5.31,0,0,0,8.1,4.9,5.31,5.31,0,0,0,12,6.5,5.46,5.46,0,0,0,6.5,12Z\"/>\n",
              "  </svg>\n",
              "    </button>\n",
              "    <script>\n",
              "      (() => {\n",
              "      const buttonEl =\n",
              "        document.querySelector('#id_5d15f4db-7628-4a3e-8741-398fd02acce5 button.colab-df-generate');\n",
              "      buttonEl.style.display =\n",
              "        google.colab.kernel.accessAllowed ? 'block' : 'none';\n",
              "\n",
              "      buttonEl.onclick = () => {\n",
              "        google.colab.notebook.generateWithVariable('excel_3');\n",
              "      }\n",
              "      })();\n",
              "    </script>\n",
              "  </div>\n",
              "\n",
              "    </div>\n",
              "  </div>\n"
            ],
            "application/vnd.google.colaboratory.intrinsic+json": {
              "type": "dataframe",
              "variable_name": "excel_3",
              "summary": "{\n  \"name\": \"excel_3\",\n  \"rows\": 8,\n  \"fields\": [\n    {\n      \"column\": \"Unnamed: 0\",\n      \"properties\": {\n        \"dtype\": \"string\",\n        \"num_unique_values\": 8,\n        \"samples\": [\n          \"mean\",\n          \"50%\",\n          \"count\"\n        ],\n        \"semantic_type\": \"\",\n        \"description\": \"\"\n      }\n    },\n    {\n      \"column\": \"\\ud654\\uc7ac\\ubc1c\\uc0dd\\uc5f0\\ub3c4\",\n      \"properties\": {\n        \"dtype\": \"number\",\n        \"std\": 934,\n        \"min\": 0,\n        \"max\": 2021,\n        \"num_unique_values\": 3,\n        \"samples\": [\n          5,\n          2021,\n          0\n        ],\n        \"semantic_type\": \"\",\n        \"description\": \"\"\n      }\n    },\n    {\n      \"column\": \"\\uc0ac\\ub9dd\\uc790\\uc218\",\n      \"properties\": {\n        \"dtype\": \"number\",\n        \"std\": 1.52933742979809,\n        \"min\": 1.0,\n        \"max\": 5.0,\n        \"num_unique_values\": 5,\n        \"samples\": [\n          2.4,\n          2.0,\n          1.51657508881031\n        ],\n        \"semantic_type\": \"\",\n        \"description\": \"\"\n      }\n    },\n    {\n      \"column\": \"\\uc7ac\\uc0b0\\ud53c\\ud574\\uae08\\uc561\",\n      \"properties\": {\n        \"dtype\": \"number\",\n        \"std\": 385412.2694466154,\n        \"min\": 5.0,\n        \"max\": 1354949.0,\n        \"num_unique_values\": 8,\n        \"samples\": [\n          646760.6,\n          559614.0,\n          5.0\n        ],\n        \"semantic_type\": \"\",\n        \"description\": \"\"\n      }\n    },\n    {\n      \"column\": \"\\ucd9c\\ub3d9\\ud69f\\uc218\",\n      \"properties\": {\n        \"dtype\": \"number\",\n        \"std\": 116.80455605543567,\n        \"min\": 5.0,\n        \"max\": 391.0,\n        \"num_unique_values\": 8,\n        \"samples\": [\n          246.0,\n          223.0,\n          5.0\n        ],\n        \"semantic_type\": \"\",\n        \"description\": \"\"\n      }\n    }\n  ]\n}"
            }
          },
          "metadata": {},
          "execution_count": 157
        }
      ],
      "source": [
        "excel_3 = pd.read_excel(\"요약표 작업.xlsx\", sheet_name = 0)\n",
        "excel_3"
      ]
    },
    {
      "cell_type": "markdown",
      "metadata": {
        "id": "576b7c7c"
      },
      "source": [
        "- **함께해봅시다**\n",
        "  - 2017, 2018, 2019년도의 관악구, 강북구 자료를 각각 요약하고 그 결과를 비교해보자.\n",
        "\n",
        "<details>\n",
        "<summary>접기/펼치기</summary>\n",
        "\n",
        "> df_관악구 = df[df['시군구']==\"관악구\"]\n",
        ">\n",
        "> df_강북구 = df[df['시군구']==\"강북구\"]\n",
        "\n",
        "</details>\n",
        "\n",
        "\n",
        "\n",
        "  - 관악구, 강북구 자료를 각각 csv파일로 저장해보자.\n",
        "\n",
        "<details>\n",
        "<summary>접기/펼치기</summary>\n",
        "\n",
        "> df_관악구.to_csv(\"관악구_요약.csv\", encoding = 'cp949')\n",
        ">\n",
        "> df_강북구.to_csv(\"강북구_요약.csv\", encoding = 'cp949')\n",
        "\n",
        "\n",
        "</details>\n"
      ]
    }
  ],
  "metadata": {
    "colab": {
      "provenance": []
    },
    "kernelspec": {
      "display_name": "Python 3 (ipykernel)",
      "language": "python",
      "name": "python3"
    },
    "language_info": {
      "codemirror_mode": {
        "name": "ipython",
        "version": 3
      },
      "file_extension": ".py",
      "mimetype": "text/x-python",
      "name": "python",
      "nbconvert_exporter": "python",
      "pygments_lexer": "ipython3",
      "version": "3.12.4"
    }
  },
  "nbformat": 4,
  "nbformat_minor": 0
}